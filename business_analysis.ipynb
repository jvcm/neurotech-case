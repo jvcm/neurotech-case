{
 "cells": [
  {
   "cell_type": "code",
   "execution_count": 49,
   "metadata": {},
   "outputs": [],
   "source": [
    "import pandas as pd\n",
    "import numpy as np\n",
    "from datetime import *\n",
    "from dateutil.relativedelta import *\n",
    "import matplotlib.pyplot as plt\n",
    "from matplotlib import pylab\n",
    "import seaborn as sns\n",
    "sns.set()\n",
    "from matplotlib.pylab import rcParams\n",
    "fontsize = 16"
   ]
  },
  {
   "cell_type": "code",
   "execution_count": 50,
   "metadata": {},
   "outputs": [],
   "source": [
    "tabelao = pd.read_csv(\"TABELAO_FINAL.csv\")\n",
    "tabelao.DATA_NASCIMENTO = pd.to_datetime(tabelao.DATA_NASCIMENTO)"
   ]
  },
  {
   "cell_type": "code",
   "execution_count": 51,
   "metadata": {},
   "outputs": [],
   "source": [
    "# idade = tabelao['DATA_NASCIMENTO'].apply(lambda x: (datetime.now().year - x.year))\n",
    "# tabelao.insert(loc=2, column='IDADE', value=idade.fillna(0).astype(int))\n",
    "# tabelao.to_csv('TABELAO_FINAL.csv',index=False)"
   ]
  },
  {
   "cell_type": "code",
   "execution_count": 52,
   "metadata": {
    "scrolled": true
   },
   "outputs": [
    {
     "data": {
      "text/html": [
       "<div>\n",
       "<style scoped>\n",
       "    .dataframe tbody tr th:only-of-type {\n",
       "        vertical-align: middle;\n",
       "    }\n",
       "\n",
       "    .dataframe tbody tr th {\n",
       "        vertical-align: top;\n",
       "    }\n",
       "\n",
       "    .dataframe thead th {\n",
       "        text-align: right;\n",
       "    }\n",
       "</style>\n",
       "<table border=\"1\" class=\"dataframe\">\n",
       "  <thead>\n",
       "    <tr style=\"text-align: right;\">\n",
       "      <th></th>\n",
       "      <th>CODIGO_CLIENTE</th>\n",
       "      <th>DATA_NASCIMENTO</th>\n",
       "      <th>IDADE</th>\n",
       "      <th>SEXO</th>\n",
       "      <th>ESTADO_CIVIL</th>\n",
       "      <th>CIDADE</th>\n",
       "      <th>UF</th>\n",
       "      <th>BAIRRO</th>\n",
       "      <th>CEP</th>\n",
       "      <th>QTD_DEPENDENTES</th>\n",
       "      <th>...</th>\n",
       "      <th>CATEGORIAL_PROFISSAO</th>\n",
       "      <th>TIPO_RESIDENCIA</th>\n",
       "      <th>RENDA_TITULAR</th>\n",
       "      <th>RENDA_CJ</th>\n",
       "      <th>OUTRAS_RENDAS</th>\n",
       "      <th>QTD_CARTOES_ADICIONAIS</th>\n",
       "      <th>FLAG_CONTA_BANCO</th>\n",
       "      <th>VALOR_HISTORICO_COMPRAS</th>\n",
       "      <th>DATA_LIMITE</th>\n",
       "      <th>CLASS</th>\n",
       "    </tr>\n",
       "  </thead>\n",
       "  <tbody>\n",
       "    <tr>\n",
       "      <th>0</th>\n",
       "      <td>875</td>\n",
       "      <td>1974-03-03</td>\n",
       "      <td>46</td>\n",
       "      <td>F</td>\n",
       "      <td>SO</td>\n",
       "      <td>SANTO CRISTO</td>\n",
       "      <td>RS</td>\n",
       "      <td>PHILIPPSEN</td>\n",
       "      <td>98960000.0</td>\n",
       "      <td>0.0</td>\n",
       "      <td>...</td>\n",
       "      <td>AUT+NOMO</td>\n",
       "      <td>PR</td>\n",
       "      <td>1000.00</td>\n",
       "      <td>NaN</td>\n",
       "      <td>NaN</td>\n",
       "      <td>0</td>\n",
       "      <td>NaN</td>\n",
       "      <td>1225.73</td>\n",
       "      <td>2018-04-30</td>\n",
       "      <td>0</td>\n",
       "    </tr>\n",
       "    <tr>\n",
       "      <th>1</th>\n",
       "      <td>1689</td>\n",
       "      <td>1978-02-20</td>\n",
       "      <td>42</td>\n",
       "      <td>M</td>\n",
       "      <td>SO</td>\n",
       "      <td>TOLEDO</td>\n",
       "      <td>PR</td>\n",
       "      <td>JARDIM COOPAGRO</td>\n",
       "      <td>85903370.0</td>\n",
       "      <td>0.0</td>\n",
       "      <td>...</td>\n",
       "      <td>APOSENTADO</td>\n",
       "      <td>AL</td>\n",
       "      <td>1152.00</td>\n",
       "      <td>NaN</td>\n",
       "      <td>NaN</td>\n",
       "      <td>0</td>\n",
       "      <td>NaN</td>\n",
       "      <td>1045.04</td>\n",
       "      <td>2018-05-30</td>\n",
       "      <td>1</td>\n",
       "    </tr>\n",
       "    <tr>\n",
       "      <th>2</th>\n",
       "      <td>5140</td>\n",
       "      <td>1956-10-16</td>\n",
       "      <td>64</td>\n",
       "      <td>M</td>\n",
       "      <td>SO</td>\n",
       "      <td>SANTA ROSA</td>\n",
       "      <td>RS</td>\n",
       "      <td>CRUZEIRO</td>\n",
       "      <td>98900000.0</td>\n",
       "      <td>0.0</td>\n",
       "      <td>...</td>\n",
       "      <td>APOSENTADO</td>\n",
       "      <td>PR</td>\n",
       "      <td>1900.00</td>\n",
       "      <td>NaN</td>\n",
       "      <td>NaN</td>\n",
       "      <td>0</td>\n",
       "      <td>NaN</td>\n",
       "      <td>3280.56</td>\n",
       "      <td>2017-09-13</td>\n",
       "      <td>0</td>\n",
       "    </tr>\n",
       "    <tr>\n",
       "      <th>3</th>\n",
       "      <td>7376</td>\n",
       "      <td>1961-01-22</td>\n",
       "      <td>59</td>\n",
       "      <td>M</td>\n",
       "      <td>SE</td>\n",
       "      <td>SANTA ROSA</td>\n",
       "      <td>RS</td>\n",
       "      <td>AUXILIADORA</td>\n",
       "      <td>98796524.0</td>\n",
       "      <td>0.0</td>\n",
       "      <td>...</td>\n",
       "      <td>ASSALARIADO</td>\n",
       "      <td>PR</td>\n",
       "      <td>2182.00</td>\n",
       "      <td>NaN</td>\n",
       "      <td>NaN</td>\n",
       "      <td>0</td>\n",
       "      <td>S</td>\n",
       "      <td>1337.71</td>\n",
       "      <td>2018-05-14</td>\n",
       "      <td>0</td>\n",
       "    </tr>\n",
       "    <tr>\n",
       "      <th>4</th>\n",
       "      <td>9042</td>\n",
       "      <td>1968-08-22</td>\n",
       "      <td>52</td>\n",
       "      <td>F</td>\n",
       "      <td>CA</td>\n",
       "      <td>SANTA ROSA</td>\n",
       "      <td>RS</td>\n",
       "      <td>CENTRAL</td>\n",
       "      <td>98787404.0</td>\n",
       "      <td>0.0</td>\n",
       "      <td>...</td>\n",
       "      <td>ASSALARIADO</td>\n",
       "      <td>PR</td>\n",
       "      <td>3335.00</td>\n",
       "      <td>1800</td>\n",
       "      <td>NaN</td>\n",
       "      <td>0</td>\n",
       "      <td>NaN</td>\n",
       "      <td>5987.88</td>\n",
       "      <td>2017-08-20</td>\n",
       "      <td>1</td>\n",
       "    </tr>\n",
       "    <tr>\n",
       "      <th>5</th>\n",
       "      <td>9659</td>\n",
       "      <td>1959-11-30</td>\n",
       "      <td>61</td>\n",
       "      <td>M</td>\n",
       "      <td>CA</td>\n",
       "      <td>SANTA ROSA</td>\n",
       "      <td>RS</td>\n",
       "      <td>CENTRO</td>\n",
       "      <td>98900000.0</td>\n",
       "      <td>0.0</td>\n",
       "      <td>...</td>\n",
       "      <td>APOSENTADO</td>\n",
       "      <td>PR</td>\n",
       "      <td>2242.00</td>\n",
       "      <td>1000</td>\n",
       "      <td>1000</td>\n",
       "      <td>0</td>\n",
       "      <td>S</td>\n",
       "      <td>1345.55</td>\n",
       "      <td>2017-09-07</td>\n",
       "      <td>0</td>\n",
       "    </tr>\n",
       "    <tr>\n",
       "      <th>6</th>\n",
       "      <td>9945</td>\n",
       "      <td>1963-08-01</td>\n",
       "      <td>57</td>\n",
       "      <td>F</td>\n",
       "      <td>SE</td>\n",
       "      <td>SANTA ROSA</td>\n",
       "      <td>RS</td>\n",
       "      <td>TIMBAUVA</td>\n",
       "      <td>98781052.0</td>\n",
       "      <td>2.0</td>\n",
       "      <td>...</td>\n",
       "      <td>ASSALARIADO</td>\n",
       "      <td>PR</td>\n",
       "      <td>5900.00</td>\n",
       "      <td>NaN</td>\n",
       "      <td>NaN</td>\n",
       "      <td>0</td>\n",
       "      <td>NaN</td>\n",
       "      <td>5929.81</td>\n",
       "      <td>2018-04-11</td>\n",
       "      <td>0</td>\n",
       "    </tr>\n",
       "    <tr>\n",
       "      <th>7</th>\n",
       "      <td>10161</td>\n",
       "      <td>1960-06-07</td>\n",
       "      <td>60</td>\n",
       "      <td>M</td>\n",
       "      <td>CA</td>\n",
       "      <td>SANTA ROSA</td>\n",
       "      <td>RS</td>\n",
       "      <td>CENTRAL</td>\n",
       "      <td>98787518.0</td>\n",
       "      <td>0.0</td>\n",
       "      <td>...</td>\n",
       "      <td>APOSENTADO</td>\n",
       "      <td>PR</td>\n",
       "      <td>1100.00</td>\n",
       "      <td>NaN</td>\n",
       "      <td>NaN</td>\n",
       "      <td>0</td>\n",
       "      <td>NaN</td>\n",
       "      <td>6724.50</td>\n",
       "      <td>2017-08-01</td>\n",
       "      <td>0</td>\n",
       "    </tr>\n",
       "    <tr>\n",
       "      <th>8</th>\n",
       "      <td>10992</td>\n",
       "      <td>1978-02-09</td>\n",
       "      <td>42</td>\n",
       "      <td>M</td>\n",
       "      <td>CA</td>\n",
       "      <td>SANTA ROSA</td>\n",
       "      <td>RS</td>\n",
       "      <td>CRUZEIRO</td>\n",
       "      <td>98900000.0</td>\n",
       "      <td>0.0</td>\n",
       "      <td>...</td>\n",
       "      <td>AUT+NOMO</td>\n",
       "      <td>PR</td>\n",
       "      <td>3600.00</td>\n",
       "      <td>0</td>\n",
       "      <td>NaN</td>\n",
       "      <td>0</td>\n",
       "      <td>NaN</td>\n",
       "      <td>2570.25</td>\n",
       "      <td>2017-11-22</td>\n",
       "      <td>1</td>\n",
       "    </tr>\n",
       "    <tr>\n",
       "      <th>9</th>\n",
       "      <td>12400</td>\n",
       "      <td>1949-05-14</td>\n",
       "      <td>71</td>\n",
       "      <td>M</td>\n",
       "      <td>SE</td>\n",
       "      <td>SANTA ROSA</td>\n",
       "      <td>RS</td>\n",
       "      <td>CENTRAL</td>\n",
       "      <td>98787396.0</td>\n",
       "      <td>0.0</td>\n",
       "      <td>...</td>\n",
       "      <td>APOSENTADO</td>\n",
       "      <td>PR</td>\n",
       "      <td>2400.00</td>\n",
       "      <td>NaN</td>\n",
       "      <td>1</td>\n",
       "      <td>0</td>\n",
       "      <td>NaN</td>\n",
       "      <td>4664.40</td>\n",
       "      <td>2017-07-24</td>\n",
       "      <td>1</td>\n",
       "    </tr>\n",
       "    <tr>\n",
       "      <th>10</th>\n",
       "      <td>12926</td>\n",
       "      <td>1955-09-15</td>\n",
       "      <td>65</td>\n",
       "      <td>M</td>\n",
       "      <td>SE</td>\n",
       "      <td>SANTA ROSA</td>\n",
       "      <td>RS</td>\n",
       "      <td>TIMBAUVA</td>\n",
       "      <td>98900000.0</td>\n",
       "      <td>0.0</td>\n",
       "      <td>...</td>\n",
       "      <td>APOSENTADO</td>\n",
       "      <td>FA</td>\n",
       "      <td>4352.00</td>\n",
       "      <td>NaN</td>\n",
       "      <td>NaN</td>\n",
       "      <td>0</td>\n",
       "      <td>NaN</td>\n",
       "      <td>2697.00</td>\n",
       "      <td>2018-03-06</td>\n",
       "      <td>0</td>\n",
       "    </tr>\n",
       "    <tr>\n",
       "      <th>11</th>\n",
       "      <td>13316</td>\n",
       "      <td>1958-08-04</td>\n",
       "      <td>62</td>\n",
       "      <td>F</td>\n",
       "      <td>VI</td>\n",
       "      <td>SANTA ROSA</td>\n",
       "      <td>RS</td>\n",
       "      <td>CRUZEIRO</td>\n",
       "      <td>98789822.0</td>\n",
       "      <td>2.0</td>\n",
       "      <td>...</td>\n",
       "      <td>APOSENTADO</td>\n",
       "      <td>PR</td>\n",
       "      <td>937.00</td>\n",
       "      <td>NaN</td>\n",
       "      <td>NaN</td>\n",
       "      <td>0</td>\n",
       "      <td>NaN</td>\n",
       "      <td>1750.77</td>\n",
       "      <td>2018-05-22</td>\n",
       "      <td>0</td>\n",
       "    </tr>\n",
       "    <tr>\n",
       "      <th>12</th>\n",
       "      <td>15228</td>\n",
       "      <td>1959-11-11</td>\n",
       "      <td>61</td>\n",
       "      <td>M</td>\n",
       "      <td>CA</td>\n",
       "      <td>SANTA ROSA</td>\n",
       "      <td>RS</td>\n",
       "      <td>AGRICOLA</td>\n",
       "      <td>98900000.0</td>\n",
       "      <td>2.0</td>\n",
       "      <td>...</td>\n",
       "      <td>APOSENTADO</td>\n",
       "      <td>PR</td>\n",
       "      <td>937.00</td>\n",
       "      <td>0</td>\n",
       "      <td>NaN</td>\n",
       "      <td>0</td>\n",
       "      <td>S</td>\n",
       "      <td>1163.90</td>\n",
       "      <td>2017-11-16</td>\n",
       "      <td>0</td>\n",
       "    </tr>\n",
       "    <tr>\n",
       "      <th>13</th>\n",
       "      <td>15817</td>\n",
       "      <td>1960-01-25</td>\n",
       "      <td>60</td>\n",
       "      <td>F</td>\n",
       "      <td>CA</td>\n",
       "      <td>SANTA ROSA</td>\n",
       "      <td>RS</td>\n",
       "      <td>PLANALTO</td>\n",
       "      <td>98794132.0</td>\n",
       "      <td>0.0</td>\n",
       "      <td>...</td>\n",
       "      <td>AUT+NOMO</td>\n",
       "      <td>PR</td>\n",
       "      <td>1000.00</td>\n",
       "      <td>937</td>\n",
       "      <td>NaN</td>\n",
       "      <td>0</td>\n",
       "      <td>NaN</td>\n",
       "      <td>8647.77</td>\n",
       "      <td>2018-02-09</td>\n",
       "      <td>0</td>\n",
       "    </tr>\n",
       "    <tr>\n",
       "      <th>14</th>\n",
       "      <td>16007</td>\n",
       "      <td>1942-11-11</td>\n",
       "      <td>78</td>\n",
       "      <td>F</td>\n",
       "      <td>VI</td>\n",
       "      <td>GIRUA</td>\n",
       "      <td>RS</td>\n",
       "      <td>ZIMPEL</td>\n",
       "      <td>98870000.0</td>\n",
       "      <td>0.0</td>\n",
       "      <td>...</td>\n",
       "      <td>APOSENTADO</td>\n",
       "      <td>PR</td>\n",
       "      <td>1750.00</td>\n",
       "      <td>NaN</td>\n",
       "      <td>NaN</td>\n",
       "      <td>0</td>\n",
       "      <td>NaN</td>\n",
       "      <td>2160.46</td>\n",
       "      <td>2017-08-20</td>\n",
       "      <td>0</td>\n",
       "    </tr>\n",
       "    <tr>\n",
       "      <th>15</th>\n",
       "      <td>19314</td>\n",
       "      <td>1970-06-27</td>\n",
       "      <td>50</td>\n",
       "      <td>F</td>\n",
       "      <td>SO</td>\n",
       "      <td>SANTA ROSA</td>\n",
       "      <td>RS</td>\n",
       "      <td>CRUZEIRO</td>\n",
       "      <td>98789000.0</td>\n",
       "      <td>0.0</td>\n",
       "      <td>...</td>\n",
       "      <td>ASSALARIADO</td>\n",
       "      <td>PR</td>\n",
       "      <td>1999.00</td>\n",
       "      <td>NaN</td>\n",
       "      <td>NaN</td>\n",
       "      <td>0</td>\n",
       "      <td>NaN</td>\n",
       "      <td>13394.86</td>\n",
       "      <td>2017-09-02</td>\n",
       "      <td>1</td>\n",
       "    </tr>\n",
       "    <tr>\n",
       "      <th>16</th>\n",
       "      <td>20784</td>\n",
       "      <td>1976-06-12</td>\n",
       "      <td>44</td>\n",
       "      <td>M</td>\n",
       "      <td>CA</td>\n",
       "      <td>SANTA ROSA</td>\n",
       "      <td>RS</td>\n",
       "      <td>CRUZEIRO</td>\n",
       "      <td>98789326.0</td>\n",
       "      <td>0.0</td>\n",
       "      <td>...</td>\n",
       "      <td>ASSALARIADO</td>\n",
       "      <td>PR</td>\n",
       "      <td>2468.00</td>\n",
       "      <td>0</td>\n",
       "      <td>NaN</td>\n",
       "      <td>0</td>\n",
       "      <td>NaN</td>\n",
       "      <td>4932.80</td>\n",
       "      <td>2018-06-30</td>\n",
       "      <td>1</td>\n",
       "    </tr>\n",
       "    <tr>\n",
       "      <th>17</th>\n",
       "      <td>21142</td>\n",
       "      <td>1963-04-17</td>\n",
       "      <td>57</td>\n",
       "      <td>F</td>\n",
       "      <td>SO</td>\n",
       "      <td>SANTA ROSA</td>\n",
       "      <td>RS</td>\n",
       "      <td>CRUZEIRO</td>\n",
       "      <td>98789514.0</td>\n",
       "      <td>0.0</td>\n",
       "      <td>...</td>\n",
       "      <td>APOSENTADO</td>\n",
       "      <td>PR</td>\n",
       "      <td>937.00</td>\n",
       "      <td>NaN</td>\n",
       "      <td>NaN</td>\n",
       "      <td>0</td>\n",
       "      <td>NaN</td>\n",
       "      <td>474.86</td>\n",
       "      <td>2018-05-13</td>\n",
       "      <td>1</td>\n",
       "    </tr>\n",
       "    <tr>\n",
       "      <th>18</th>\n",
       "      <td>21364</td>\n",
       "      <td>1959-12-11</td>\n",
       "      <td>61</td>\n",
       "      <td>M</td>\n",
       "      <td>SO</td>\n",
       "      <td>SANTA ROSA</td>\n",
       "      <td>RS</td>\n",
       "      <td>SULINA</td>\n",
       "      <td>98796240.0</td>\n",
       "      <td>0.0</td>\n",
       "      <td>...</td>\n",
       "      <td>APOSENTADO</td>\n",
       "      <td>PR</td>\n",
       "      <td>4000.00</td>\n",
       "      <td>NaN</td>\n",
       "      <td>980</td>\n",
       "      <td>0</td>\n",
       "      <td>NaN</td>\n",
       "      <td>7657.96</td>\n",
       "      <td>2017-10-04</td>\n",
       "      <td>0</td>\n",
       "    </tr>\n",
       "    <tr>\n",
       "      <th>19</th>\n",
       "      <td>22742</td>\n",
       "      <td>1965-11-01</td>\n",
       "      <td>55</td>\n",
       "      <td>F</td>\n",
       "      <td>CA</td>\n",
       "      <td>SANTA ROSA</td>\n",
       "      <td>RS</td>\n",
       "      <td>GLORIA</td>\n",
       "      <td>98785350.0</td>\n",
       "      <td>1.0</td>\n",
       "      <td>...</td>\n",
       "      <td>APOSENTADO</td>\n",
       "      <td>AL</td>\n",
       "      <td>1249.34</td>\n",
       "      <td>450</td>\n",
       "      <td>NaN</td>\n",
       "      <td>0</td>\n",
       "      <td>NaN</td>\n",
       "      <td>759.64</td>\n",
       "      <td>2018-05-22</td>\n",
       "      <td>0</td>\n",
       "    </tr>\n",
       "  </tbody>\n",
       "</table>\n",
       "<p>20 rows × 22 columns</p>\n",
       "</div>"
      ],
      "text/plain": [
       "    CODIGO_CLIENTE DATA_NASCIMENTO  IDADE SEXO ESTADO_CIVIL        CIDADE  UF  \\\n",
       "0              875      1974-03-03     46    F           SO  SANTO CRISTO  RS   \n",
       "1             1689      1978-02-20     42    M           SO        TOLEDO  PR   \n",
       "2             5140      1956-10-16     64    M           SO    SANTA ROSA  RS   \n",
       "3             7376      1961-01-22     59    M           SE    SANTA ROSA  RS   \n",
       "4             9042      1968-08-22     52    F           CA    SANTA ROSA  RS   \n",
       "5             9659      1959-11-30     61    M           CA    SANTA ROSA  RS   \n",
       "6             9945      1963-08-01     57    F           SE    SANTA ROSA  RS   \n",
       "7            10161      1960-06-07     60    M           CA    SANTA ROSA  RS   \n",
       "8            10992      1978-02-09     42    M           CA    SANTA ROSA  RS   \n",
       "9            12400      1949-05-14     71    M           SE    SANTA ROSA  RS   \n",
       "10           12926      1955-09-15     65    M           SE    SANTA ROSA  RS   \n",
       "11           13316      1958-08-04     62    F           VI    SANTA ROSA  RS   \n",
       "12           15228      1959-11-11     61    M           CA    SANTA ROSA  RS   \n",
       "13           15817      1960-01-25     60    F           CA    SANTA ROSA  RS   \n",
       "14           16007      1942-11-11     78    F           VI         GIRUA  RS   \n",
       "15           19314      1970-06-27     50    F           SO    SANTA ROSA  RS   \n",
       "16           20784      1976-06-12     44    M           CA    SANTA ROSA  RS   \n",
       "17           21142      1963-04-17     57    F           SO    SANTA ROSA  RS   \n",
       "18           21364      1959-12-11     61    M           SO    SANTA ROSA  RS   \n",
       "19           22742      1965-11-01     55    F           CA    SANTA ROSA  RS   \n",
       "\n",
       "             BAIRRO         CEP  QTD_DEPENDENTES  ... CATEGORIAL_PROFISSAO  \\\n",
       "0        PHILIPPSEN  98960000.0              0.0  ...             AUT+NOMO   \n",
       "1   JARDIM COOPAGRO  85903370.0              0.0  ...           APOSENTADO   \n",
       "2          CRUZEIRO  98900000.0              0.0  ...           APOSENTADO   \n",
       "3       AUXILIADORA  98796524.0              0.0  ...          ASSALARIADO   \n",
       "4           CENTRAL  98787404.0              0.0  ...          ASSALARIADO   \n",
       "5            CENTRO  98900000.0              0.0  ...           APOSENTADO   \n",
       "6          TIMBAUVA  98781052.0              2.0  ...          ASSALARIADO   \n",
       "7           CENTRAL  98787518.0              0.0  ...           APOSENTADO   \n",
       "8          CRUZEIRO  98900000.0              0.0  ...             AUT+NOMO   \n",
       "9           CENTRAL  98787396.0              0.0  ...           APOSENTADO   \n",
       "10         TIMBAUVA  98900000.0              0.0  ...           APOSENTADO   \n",
       "11         CRUZEIRO  98789822.0              2.0  ...           APOSENTADO   \n",
       "12         AGRICOLA  98900000.0              2.0  ...           APOSENTADO   \n",
       "13         PLANALTO  98794132.0              0.0  ...             AUT+NOMO   \n",
       "14           ZIMPEL  98870000.0              0.0  ...           APOSENTADO   \n",
       "15         CRUZEIRO  98789000.0              0.0  ...          ASSALARIADO   \n",
       "16         CRUZEIRO  98789326.0              0.0  ...          ASSALARIADO   \n",
       "17         CRUZEIRO  98789514.0              0.0  ...           APOSENTADO   \n",
       "18           SULINA  98796240.0              0.0  ...           APOSENTADO   \n",
       "19           GLORIA  98785350.0              1.0  ...           APOSENTADO   \n",
       "\n",
       "   TIPO_RESIDENCIA RENDA_TITULAR RENDA_CJ  OUTRAS_RENDAS  \\\n",
       "0               PR       1000.00      NaN            NaN   \n",
       "1               AL       1152.00      NaN            NaN   \n",
       "2               PR       1900.00      NaN            NaN   \n",
       "3               PR       2182.00      NaN            NaN   \n",
       "4               PR       3335.00     1800            NaN   \n",
       "5               PR       2242.00     1000           1000   \n",
       "6               PR       5900.00      NaN            NaN   \n",
       "7               PR       1100.00      NaN            NaN   \n",
       "8               PR       3600.00        0            NaN   \n",
       "9               PR       2400.00      NaN              1   \n",
       "10              FA       4352.00      NaN            NaN   \n",
       "11              PR        937.00      NaN            NaN   \n",
       "12              PR        937.00        0            NaN   \n",
       "13              PR       1000.00      937            NaN   \n",
       "14              PR       1750.00      NaN            NaN   \n",
       "15              PR       1999.00      NaN            NaN   \n",
       "16              PR       2468.00        0            NaN   \n",
       "17              PR        937.00      NaN            NaN   \n",
       "18              PR       4000.00      NaN            980   \n",
       "19              AL       1249.34      450            NaN   \n",
       "\n",
       "   QTD_CARTOES_ADICIONAIS FLAG_CONTA_BANCO  VALOR_HISTORICO_COMPRAS  \\\n",
       "0                       0              NaN                  1225.73   \n",
       "1                       0              NaN                  1045.04   \n",
       "2                       0              NaN                  3280.56   \n",
       "3                       0                S                  1337.71   \n",
       "4                       0              NaN                  5987.88   \n",
       "5                       0                S                  1345.55   \n",
       "6                       0              NaN                  5929.81   \n",
       "7                       0              NaN                  6724.50   \n",
       "8                       0              NaN                  2570.25   \n",
       "9                       0              NaN                  4664.40   \n",
       "10                      0              NaN                  2697.00   \n",
       "11                      0              NaN                  1750.77   \n",
       "12                      0                S                  1163.90   \n",
       "13                      0              NaN                  8647.77   \n",
       "14                      0              NaN                  2160.46   \n",
       "15                      0              NaN                 13394.86   \n",
       "16                      0              NaN                  4932.80   \n",
       "17                      0              NaN                   474.86   \n",
       "18                      0              NaN                  7657.96   \n",
       "19                      0              NaN                   759.64   \n",
       "\n",
       "   DATA_LIMITE  CLASS  \n",
       "0   2018-04-30      0  \n",
       "1   2018-05-30      1  \n",
       "2   2017-09-13      0  \n",
       "3   2018-05-14      0  \n",
       "4   2017-08-20      1  \n",
       "5   2017-09-07      0  \n",
       "6   2018-04-11      0  \n",
       "7   2017-08-01      0  \n",
       "8   2017-11-22      1  \n",
       "9   2017-07-24      1  \n",
       "10  2018-03-06      0  \n",
       "11  2018-05-22      0  \n",
       "12  2017-11-16      0  \n",
       "13  2018-02-09      0  \n",
       "14  2017-08-20      0  \n",
       "15  2017-09-02      1  \n",
       "16  2018-06-30      1  \n",
       "17  2018-05-13      1  \n",
       "18  2017-10-04      0  \n",
       "19  2018-05-22      0  \n",
       "\n",
       "[20 rows x 22 columns]"
      ]
     },
     "execution_count": 52,
     "metadata": {},
     "output_type": "execute_result"
    }
   ],
   "source": [
    "tabelao.head(20)"
   ]
  },
  {
   "cell_type": "code",
   "execution_count": 53,
   "metadata": {},
   "outputs": [
    {
     "name": "stdout",
     "output_type": "stream",
     "text": [
      "<class 'pandas.core.frame.DataFrame'>\n",
      "RangeIndex: 102419 entries, 0 to 102418\n",
      "Data columns (total 22 columns):\n",
      " #   Column                   Non-Null Count   Dtype         \n",
      "---  ------                   --------------   -----         \n",
      " 0   CODIGO_CLIENTE           102419 non-null  int64         \n",
      " 1   DATA_NASCIMENTO          102415 non-null  datetime64[ns]\n",
      " 2   IDADE                    102419 non-null  int64         \n",
      " 3   SEXO                     102418 non-null  object        \n",
      " 4   ESTADO_CIVIL             102418 non-null  object        \n",
      " 5   CIDADE                   102419 non-null  object        \n",
      " 6   UF                       102419 non-null  object        \n",
      " 7   BAIRRO                   102419 non-null  object        \n",
      " 8   CEP                      102419 non-null  float64       \n",
      " 9   QTD_DEPENDENTES          102417 non-null  float64       \n",
      " 10  DATA_CADASTRO            102419 non-null  object        \n",
      " 11  DATA_ADMISSAO            55297 non-null   object        \n",
      " 12  CATEGORIAL_PROFISSAO     100611 non-null  object        \n",
      " 13  TIPO_RESIDENCIA          101416 non-null  object        \n",
      " 14  RENDA_TITULAR            102413 non-null  float64       \n",
      " 15  RENDA_CJ                 4619 non-null    object        \n",
      " 16  OUTRAS_RENDAS            11607 non-null   object        \n",
      " 17  QTD_CARTOES_ADICIONAIS   102419 non-null  int64         \n",
      " 18  FLAG_CONTA_BANCO         8276 non-null    object        \n",
      " 19  VALOR_HISTORICO_COMPRAS  102419 non-null  float64       \n",
      " 20  DATA_LIMITE              102419 non-null  object        \n",
      " 21  CLASS                    102419 non-null  int64         \n",
      "dtypes: datetime64[ns](1), float64(4), int64(4), object(13)\n",
      "memory usage: 17.2+ MB\n"
     ]
    }
   ],
   "source": [
    "tabelao.info()"
   ]
  },
  {
   "cell_type": "code",
   "execution_count": 54,
   "metadata": {},
   "outputs": [],
   "source": [
    "good = tabelao[tabelao.CLASS == 0]\n",
    "bad = tabelao[tabelao.CLASS == 1]"
   ]
  },
  {
   "cell_type": "markdown",
   "metadata": {},
   "source": [
    "# Classificação"
   ]
  },
  {
   "cell_type": "code",
   "execution_count": 63,
   "metadata": {},
   "outputs": [
    {
     "data": {
      "image/png": "[encoded data removed]",
      "text/plain": [
       "<Figure size 576x360 with 1 Axes>"
      ]
     },
     "metadata": {},
     "output_type": "display_data"
    }
   ],
   "source": [
    "# Data to plot\n",
    "import matplotlib as mpl\n",
    "mpl.rcParams['font.size'] = fontsize\n",
    "\n",
    "labels = ['Bom', 'Mau']\n",
    "sizes = [len(good), len(bad)]\n",
    "explode = (0.02,0.02)\n",
    "# colors = [ '#99ff99','#ff6666']\n",
    "\n",
    "title = 'Classificação da base'\n",
    "# Plot\n",
    "plt.figure(figsize=(8,5))\n",
    "# plt.figure(0)\n",
    "plt.pie(sizes, radius=0.75,startangle=90,explode=explode,autopct='%1.1f%%')\n",
    "\n",
    "# Draw white circle in the middle\n",
    "# centre_circle = plt.Circle((0,0),0.40,fc='white')\n",
    "# fig = plt.gcf()\n",
    "# fig.gca().add_artist(centre_circle)\n",
    "\n",
    "# Axis\n",
    "plt.axis('equal')\n",
    "plt.tight_layout()\n",
    "pylab.title(title, fontsize= fontsize)\n",
    "plt.legend(labels, fontsize= fontsize)\n",
    "plt.savefig('./results/proporcao_classes.png', bbox_inches = 'tight',\n",
    "        pad_inches = 0 )"
   ]
  },
  {
   "cell_type": "markdown",
   "metadata": {},
   "source": [
    "## Idade"
   ]
  },
  {
   "cell_type": "markdown",
   "metadata": {},
   "source": [
    "Faixa de idade:"
   ]
  },
  {
   "cell_type": "code",
   "execution_count": 9,
   "metadata": {
    "scrolled": true
   },
   "outputs": [],
   "source": [
    "a = good.groupby('IDADE').size()"
   ]
  },
  {
   "cell_type": "code",
   "execution_count": 10,
   "metadata": {},
   "outputs": [],
   "source": [
    "good_age = [a[(a.index > 0) & (a.index <= 25)].sum(), \n",
    "        a[(a.index > 25) & (a.index <= 35)].sum(), \n",
    "        a[(a.index > 35) & (a.index <= 45)].sum(),\n",
    "        a[(a.index > 45) & (a.index <= 55)].sum(),\n",
    "        a[(a.index > 55) & (a.index <= 65)].sum(),\n",
    "        a[(a.index > 65)].sum()]\n",
    "good_age = np.array(good_age)"
   ]
  },
  {
   "cell_type": "code",
   "execution_count": 11,
   "metadata": {},
   "outputs": [],
   "source": [
    "b = bad.groupby('IDADE').size()"
   ]
  },
  {
   "cell_type": "code",
   "execution_count": 12,
   "metadata": {},
   "outputs": [],
   "source": [
    "bad_age = [b[(b.index > 0) & (b.index <= 25)].sum(), \n",
    "        b[(b.index > 25) & (b.index <= 35)].sum(), \n",
    "        b[(b.index > 35) & (b.index <= 45)].sum(),\n",
    "        b[(b.index > 45) & (b.index <= 55)].sum(),\n",
    "        b[(b.index > 55) & (b.index <= 65)].sum(),\n",
    "        b[(b.index > 65)].sum()]\n",
    "bad_age = np.array(bad_age)"
   ]
  },
  {
   "cell_type": "markdown",
   "metadata": {},
   "source": [
    "Gráfico:"
   ]
  },
  {
   "cell_type": "code",
   "execution_count": 68,
   "metadata": {},
   "outputs": [
    {
     "data": {
      "image/png": "[encoded data removed]",
      "text/plain": [
       "<Figure size 576x360 with 1 Axes>"
      ]
     },
     "metadata": {},
     "output_type": "display_data"
    }
   ],
   "source": [
    "rcParams['figure.figsize'] = 8, 5\n",
    "# set width of bar\n",
    "barWidth = 0.3\n",
    "x = ['Até 25', '25 - 35', '35 - 45', '45 - 55', '55 - 65', 'Mais de 65']\n",
    "x_pos = [i + 0.5*barWidth for i, _ in enumerate(x)]\n",
    "\n",
    "# Set position of bar on X axis\n",
    "r1 = np.arange(len(good_age))\n",
    "r2 = [x + barWidth for x in r1]\n",
    " \n",
    "# Make the plot\n",
    "plt.bar(r1, 100*good_age/(good_age.sum()), width=barWidth, edgecolor='white', label='Bom')\n",
    "plt.bar(r2, 100*bad_age/(bad_age.sum()), width=barWidth, edgecolor='white', label='Mau')\n",
    " \n",
    "# Add xticks on the middle of the group bars\n",
    "pylab.xlabel('Faixa Etária (anos)', fontsize= fontsize)\n",
    "pylab.ylabel('Proporção de Classes (%)', fontsize= fontsize)\n",
    "pylab.ylim((0, 40))\n",
    "plt.title('Classificação por Idade', fontsize= fontsize)\n",
    "plt.xticks(x_pos, x)\n",
    " \n",
    "# Create legend & Show graphic\n",
    "plt.legend(fontsize= fontsize)\n",
    "plt.savefig('./results/idade.png', bbox_inches = 'tight',\n",
    "        pad_inches = 0)"
   ]
  },
  {
   "cell_type": "markdown",
   "metadata": {},
   "source": [
    "## Sexo"
   ]
  },
  {
   "cell_type": "code",
   "execution_count": 14,
   "metadata": {},
   "outputs": [
    {
     "name": "stdout",
     "output_type": "stream",
     "text": [
      "Mulher: 0.516203 \n",
      "Homem: 0.483787\n"
     ]
    },
    {
     "data": {
      "text/plain": [
       "F    52869\n",
       "M    49549\n",
       "Name: SEXO, dtype: int64"
      ]
     },
     "execution_count": 14,
     "metadata": {},
     "output_type": "execute_result"
    }
   ],
   "source": [
    "print('Mulher: %f' %(tabelao.SEXO.value_counts()[0]/len(tabelao.SEXO)),\n",
    "      '\\nHomem: %f' %(tabelao.SEXO.value_counts()[1]/len(tabelao.SEXO)))\n",
    "tabelao.SEXO.value_counts()"
   ]
  },
  {
   "cell_type": "code",
   "execution_count": 15,
   "metadata": {},
   "outputs": [],
   "source": [
    "c = good.groupby('SEXO').size()\n",
    "d = bad.groupby('SEXO').size()"
   ]
  },
  {
   "cell_type": "markdown",
   "metadata": {},
   "source": [
    "Gráficos:"
   ]
  },
  {
   "cell_type": "code",
   "execution_count": 66,
   "metadata": {},
   "outputs": [
    {
     "data": {
      "image/png": "[encoded data removed]",
      "text/plain": [
       "<Figure size 576x360 with 1 Axes>"
      ]
     },
     "metadata": {},
     "output_type": "display_data"
    },
    {
     "data": {
      "image/png": "[encoded data removed]",
      "text/plain": [
       "<Figure size 576x360 with 1 Axes>"
      ]
     },
     "metadata": {},
     "output_type": "display_data"
    }
   ],
   "source": [
    "rcParams['figure.figsize'] = 8, 5\n",
    "\n",
    "# Data to plot\n",
    "labels = ['Mulher', 'Homem']\n",
    "sizes = [c.values, d.values]\n",
    "explode = (0.02,0.02)\n",
    "colors = ['#ff6666', '#99ff99']\n",
    "\n",
    "titles = ['Bons Pagadores', 'Maus Pagadores']\n",
    "for i, title in enumerate(titles):\n",
    "    # Plot\n",
    "    plt.figure(0)\n",
    "    plt.pie(sizes[i], colors=colors, radius=0.75,startangle=90,explode=explode,autopct='%1.1f%%')\n",
    "    \n",
    "    # Draw white circle in the middle\n",
    "#     centre_circle = plt.Circle((0,0),0.40,fc='white')\n",
    "#     fig = plt.gcf()\n",
    "#     fig.gca().add_artist(centre_circle)\n",
    "    \n",
    "    # Axis\n",
    "    plt.axis('equal')\n",
    "    plt.tight_layout()\n",
    "    pylab.title(title, fontsize= fontsize)\n",
    "    plt.legend(labels=labels, fontsize= fontsize)\n",
    "    plt.savefig('./results/sexo_{}.png'.format(str(i)), bbox_inches = 'tight',\n",
    "        pad_inches = 0)\n",
    "    plt.show()\n",
    "\n"
   ]
  },
  {
   "cell_type": "markdown",
   "metadata": {},
   "source": [
    "## Renda titular"
   ]
  },
  {
   "cell_type": "code",
   "execution_count": 17,
   "metadata": {},
   "outputs": [
    {
     "data": {
      "text/plain": [
       "count    102413.000000\n",
       "mean       1684.106720\n",
       "std        1388.467019\n",
       "min         400.000000\n",
       "25%        1060.000000\n",
       "50%        1400.000000\n",
       "75%        1947.000000\n",
       "max      180000.000000\n",
       "Name: RENDA_TITULAR, dtype: float64"
      ]
     },
     "execution_count": 17,
     "metadata": {},
     "output_type": "execute_result"
    }
   ],
   "source": [
    "tabelao.RENDA_TITULAR.describe()"
   ]
  },
  {
   "cell_type": "code",
   "execution_count": 18,
   "metadata": {},
   "outputs": [],
   "source": [
    "base = 990.0"
   ]
  },
  {
   "cell_type": "code",
   "execution_count": 19,
   "metadata": {},
   "outputs": [],
   "source": [
    "e = good.groupby('RENDA_TITULAR').size()\n",
    "f = bad.groupby('RENDA_TITULAR').size()"
   ]
  },
  {
   "cell_type": "code",
   "execution_count": 20,
   "metadata": {},
   "outputs": [
    {
     "data": {
      "text/plain": [
       "[11323, 30533, 9740, 3046, 2704]"
      ]
     },
     "execution_count": 20,
     "metadata": {},
     "output_type": "execute_result"
    }
   ],
   "source": [
    "good_wage = [e[(e.index > 0) & (e.index <= base)].sum(), \n",
    "        e[(e.index > base) & (e.index <= 2*base)].sum(), \n",
    "        e[(e.index > 2*base) & (e.index <= 3*base)].sum(),\n",
    "        e[(e.index > 3*base) & (e.index <= 4*base)].sum(),\n",
    "        e[(e.index > 4*base)].sum()]\n",
    "good_wage"
   ]
  },
  {
   "cell_type": "code",
   "execution_count": 21,
   "metadata": {},
   "outputs": [
    {
     "data": {
      "text/plain": [
       "[8747, 26695, 6625, 1663, 1337]"
      ]
     },
     "execution_count": 21,
     "metadata": {},
     "output_type": "execute_result"
    }
   ],
   "source": [
    "bad_wage = [f[(f.index > 0) & (f.index <= base)].sum(), \n",
    "        f[(f.index > base) & (f.index <= 2*base)].sum(), \n",
    "        f[(f.index > 2*base) & (f.index <= 3*base)].sum(),\n",
    "        f[(f.index > 3*base) & (f.index <= 4*base)].sum(),\n",
    "        f[(f.index > 4*base)].sum()]\n",
    "bad_wage"
   ]
  },
  {
   "cell_type": "code",
   "execution_count": 22,
   "metadata": {},
   "outputs": [
    {
     "name": "stdout",
     "output_type": "stream",
     "text": [
      "good: [0.19745056 0.53243469 0.1698462  0.05311617 0.04715237] \n",
      "bad: [0.1940888  0.59234029 0.14700335 0.03690061 0.02966694]\n"
     ]
    }
   ],
   "source": [
    "gw = np.array(good_wage)\n",
    "bw = np.array(bad_wage)\n",
    "print('good:',gw/(gw.sum()),'\\nbad:',bw/(bw.sum()))"
   ]
  },
  {
   "cell_type": "code",
   "execution_count": 70,
   "metadata": {},
   "outputs": [
    {
     "data": {
      "image/png": "[encoded data removed]",
      "text/plain": [
       "<Figure size 576x360 with 1 Axes>"
      ]
     },
     "metadata": {},
     "output_type": "display_data"
    }
   ],
   "source": [
    "rcParams['figure.figsize'] = 8, 5\n",
    "# set width of bar\n",
    "barWidth = 0.3\n",
    "x = ['Até 1', '1 - 2', '2 - 3', '3 - 4', 'Acima de 4']\n",
    "x_pos = [i + 0.5*barWidth for i, _ in enumerate(x)]\n",
    "\n",
    "# Set position of bar on X axis\n",
    "r1 = np.arange(len(good_wage))\n",
    "r2 = [x + barWidth for x in r1]\n",
    " \n",
    "# Make the plot\n",
    "plt.bar(r1, gw/(gw.sum()), width=barWidth, edgecolor='white', label='Bom')\n",
    "plt.bar(r2, bw/(bw.sum()), width=barWidth, edgecolor='white', label='Mau')\n",
    " \n",
    "# Add xticks on the middle of the group bars\n",
    "pylab.xlabel('Renda Titular (salário mínimo)', fontsize= fontsize)\n",
    "pylab.ylabel('Proporção de Classes (%)', fontsize= fontsize)\n",
    "# pylab.ylim((0, 100))\n",
    "plt.title('Classificação por Renda', fontsize= fontsize)\n",
    "plt.xticks(x_pos, x)\n",
    " \n",
    "# Create legend & Show graphic\n",
    "plt.legend(fontsize= fontsize)\n",
    "plt.savefig('./results/salario.png', bbox_inches = 'tight',\n",
    "        pad_inches = 0)"
   ]
  },
  {
   "cell_type": "code",
   "execution_count": 24,
   "metadata": {},
   "outputs": [
    {
     "name": "stdout",
     "output_type": "stream",
     "text": [
      "all good: 0.5599449320926781 \n",
      "all bad: 0.4400550679073219\n"
     ]
    }
   ],
   "source": [
    "print('all good:', len(good)/(len(bad)+len(good)),'\\nall bad:',len(bad)/(len(bad)+len(good)))"
   ]
  },
  {
   "cell_type": "markdown",
   "metadata": {},
   "source": [
    "## Estado civil"
   ]
  },
  {
   "cell_type": "code",
   "execution_count": 25,
   "metadata": {},
   "outputs": [
    {
     "data": {
      "text/plain": [
       "ESTADO_CIVIL\n",
       "CA    27068\n",
       "CO    11420\n",
       "SE     5747\n",
       "SO    53046\n",
       "VI     5137\n",
       "dtype: int64"
      ]
     },
     "execution_count": 25,
     "metadata": {},
     "output_type": "execute_result"
    }
   ],
   "source": [
    "ec = tabelao.groupby('ESTADO_CIVIL').size()\n",
    "ec"
   ]
  },
  {
   "cell_type": "code",
   "execution_count": 26,
   "metadata": {},
   "outputs": [
    {
     "name": "stdout",
     "output_type": "stream",
     "text": [
      "Proporção natural da base:\n"
     ]
    },
    {
     "data": {
      "text/plain": [
       "array([0.26428948, 0.11150384, 0.05611318, 0.5179363 , 0.0501572 ])"
      ]
     },
     "execution_count": 26,
     "metadata": {},
     "output_type": "execute_result"
    }
   ],
   "source": [
    "print('Proporção natural da base:')\n",
    "ec.values/ec.sum()"
   ]
  },
  {
   "cell_type": "code",
   "execution_count": 27,
   "metadata": {},
   "outputs": [],
   "source": [
    "g = good.groupby('ESTADO_CIVIL').size()\n",
    "h = bad.groupby('ESTADO_CIVIL').size()"
   ]
  },
  {
   "cell_type": "code",
   "execution_count": 28,
   "metadata": {},
   "outputs": [],
   "source": [
    "ec_good = (g/(g.sum())).values"
   ]
  },
  {
   "cell_type": "code",
   "execution_count": 29,
   "metadata": {},
   "outputs": [],
   "source": [
    "ec_bad = (h/(h.sum())).values"
   ]
  },
  {
   "cell_type": "code",
   "execution_count": 71,
   "metadata": {},
   "outputs": [
    {
     "data": {
      "image/png": "[encoded data removed]",
      "text/plain": [
       "<Figure size 576x360 with 1 Axes>"
      ]
     },
     "metadata": {},
     "output_type": "display_data"
    }
   ],
   "source": [
    "rcParams['figure.figsize'] = 8, 5\n",
    "# set width of bar\n",
    "barWidth = 0.3\n",
    "x = ['CA', 'CO', 'SE', 'SO', 'VI']\n",
    "x_pos = [i + 0.5*barWidth for i, _ in enumerate(x)]\n",
    "\n",
    "# Set position of bar on X axis\n",
    "r1 = np.arange(len(ec_good))\n",
    "r2 = [x + barWidth for x in r1]\n",
    " \n",
    "# Make the plot\n",
    "plt.bar(r1, ec_good*100, width=barWidth, edgecolor='white', label='Bom')\n",
    "plt.bar(r2, ec_bad*100, width=barWidth, edgecolor='white', label='Mau')\n",
    " \n",
    "# Add xticks on the middle of the group bars\n",
    "pylab.xlabel('Estado Civil', fontsize= fontsize)\n",
    "pylab.ylabel('Proporção de Classes (%)', fontsize= fontsize)\n",
    "pylab.ylim((0, 80))\n",
    "plt.title('Classificação por Estado Civil', fontsize= fontsize)\n",
    "plt.xticks(x_pos, x)\n",
    "\n",
    "#Lines\n",
    "# pylab.axhline(0.2518*100, color='black', linestyle='--', linewidth = 1)\n",
    "# pylab.axhline(0.7481*100, color='black', linestyle='--', linewidth = 1)\n",
    " \n",
    "# Create legend & Show graphic\n",
    "plt.legend(fontsize= fontsize)\n",
    "plt.savefig('./results/estado_civil.png', bbox_inches = 'tight',\n",
    "        pad_inches = 0)"
   ]
  },
  {
   "cell_type": "markdown",
   "metadata": {},
   "source": [
    "## Profissão"
   ]
  },
  {
   "cell_type": "markdown",
   "metadata": {},
   "source": [
    "A categoria \"Liberal\" foi excluída da análise devido ao baixo número de instâncias."
   ]
  },
  {
   "cell_type": "code",
   "execution_count": 32,
   "metadata": {},
   "outputs": [
    {
     "data": {
      "text/plain": [
       "CATEGORIAL_PROFISSAO\n",
       "AGRICULTOR      3487\n",
       "APOSENTADO     20092\n",
       "ASSALARIADO    48900\n",
       "AUT+NOMO       27869\n",
       "dtype: int64"
      ]
     },
     "execution_count": 32,
     "metadata": {},
     "output_type": "execute_result"
    }
   ],
   "source": [
    "cp = tabelao.groupby('CATEGORIAL_PROFISSAO').size()[:-1]\n",
    "cp"
   ]
  },
  {
   "cell_type": "code",
   "execution_count": 33,
   "metadata": {},
   "outputs": [],
   "source": [
    "i = good.groupby('CATEGORIAL_PROFISSAO').size()[:-1]\n",
    "j = bad.groupby('CATEGORIAL_PROFISSAO').size()[:-1]"
   ]
  },
  {
   "cell_type": "code",
   "execution_count": 34,
   "metadata": {},
   "outputs": [],
   "source": [
    "cp_good = (i/(i.sum())).values\n",
    "cp_bad = (j/(j.sum())).values"
   ]
  },
  {
   "cell_type": "code",
   "execution_count": 72,
   "metadata": {},
   "outputs": [
    {
     "data": {
      "image/png": "[encoded data removed]",
      "text/plain": [
       "<Figure size 576x360 with 1 Axes>"
      ]
     },
     "metadata": {},
     "output_type": "display_data"
    }
   ],
   "source": [
    "rcParams['figure.figsize'] = 8, 5\n",
    "# set width of bar\n",
    "barWidth = 0.3\n",
    "x = ['Agricultor', 'Aposentado', 'Assalariado', 'Autônomo']\n",
    "x_pos = [i + 0.5*barWidth for i, _ in enumerate(x)]\n",
    "\n",
    "# Set position of bar on X axis\n",
    "r1 = np.arange(len(cp_good))\n",
    "r2 = [x + barWidth for x in r1]\n",
    " \n",
    "# Make the plot\n",
    "plt.bar(r1, cp_good*100, width=barWidth, edgecolor='white', label='Bom')\n",
    "plt.bar(r2, cp_bad*100, width=barWidth, edgecolor='white', label='Mau')\n",
    " \n",
    "# Add xticks on the middle of the group bars\n",
    "pylab.xlabel('Profissão', fontsize= fontsize)\n",
    "pylab.ylabel('Proporção de Classes (%)', fontsize= fontsize)\n",
    "pylab.ylim((0, 60))\n",
    "plt.title('Classificação por Profissão', fontsize= fontsize)\n",
    "plt.xticks(x_pos, x)\n",
    "\n",
    "#Lines\n",
    "# pylab.axhline(0.2518*100, color='black', linestyle='--', linewidth = 1)\n",
    "# pylab.axhline(0.7481*100, color='black', linestyle='--', linewidth = 1)\n",
    " \n",
    "# Create legend & Show graphic\n",
    "plt.legend(fontsize= fontsize)\n",
    "plt.savefig('./results/profissao.png', bbox_inches = 'tight',\n",
    "        pad_inches = 0)"
   ]
  },
  {
   "cell_type": "markdown",
   "metadata": {},
   "source": [
    "## Tipo de Residência"
   ]
  },
  {
   "cell_type": "markdown",
   "metadata": {},
   "source": [
    "As categorias \"FA\", \"FI\", \"SM\" foram excluídas da análise devido ao baixo número de instâncias."
   ]
  },
  {
   "cell_type": "code",
   "execution_count": 37,
   "metadata": {},
   "outputs": [
    {
     "data": {
      "text/plain": [
       "TIPO_RESIDENCIA\n",
       "AL    10131\n",
       "FA     2471\n",
       "FI     2076\n",
       "OU    24766\n",
       "PR    61809\n",
       "SM      163\n",
       "dtype: int64"
      ]
     },
     "execution_count": 37,
     "metadata": {},
     "output_type": "execute_result"
    }
   ],
   "source": [
    "tabelao.groupby('TIPO_RESIDENCIA').size()"
   ]
  },
  {
   "cell_type": "code",
   "execution_count": 38,
   "metadata": {},
   "outputs": [],
   "source": [
    "k = good.groupby('TIPO_RESIDENCIA').size()[['AL','OU', 'PR']]\n",
    "l = bad.groupby('TIPO_RESIDENCIA').size()[['AL','OU', 'PR']]"
   ]
  },
  {
   "cell_type": "code",
   "execution_count": 39,
   "metadata": {},
   "outputs": [],
   "source": [
    "tr_good = (k/k.sum()).values\n",
    "tr_bad = (l/l.sum()).values"
   ]
  },
  {
   "cell_type": "code",
   "execution_count": 75,
   "metadata": {},
   "outputs": [
    {
     "data": {
      "image/png": "[encoded data removed]",
      "text/plain": [
       "<Figure size 576x360 with 1 Axes>"
      ]
     },
     "metadata": {},
     "output_type": "display_data"
    }
   ],
   "source": [
    "rcParams['figure.figsize'] = 8, 5\n",
    "# set width of bar\n",
    "barWidth = 0.3\n",
    "x = ['AL', 'OU', 'PR']\n",
    "x_pos = [i + 0.5*barWidth for i, _ in enumerate(x)]\n",
    "\n",
    "# Set position of bar on X axis\n",
    "r1 = np.arange(len(tr_good))\n",
    "r2 = [x + barWidth for x in r1]\n",
    " \n",
    "# Make the plot\n",
    "plt.bar(r1, tr_good*100, width=barWidth, edgecolor='white', label='Bom')\n",
    "plt.bar(r2, tr_bad*100, width=barWidth, edgecolor='white', label='Mau')\n",
    " \n",
    "# Add xticks on the middle of the group bars\n",
    "pylab.xlabel('Tipo Residência', fontsize= fontsize)\n",
    "pylab.ylabel('Proporção de Classes (%)', fontsize= fontsize)\n",
    "pylab.ylim((0, 80))\n",
    "\n",
    "plt.title('Classificação por Tipo de Residência', fontsize= fontsize)\n",
    "plt.xticks(x_pos, ['Alugada', 'Outro', 'Própria'])\n",
    "\n",
    "#Lines\n",
    "# pylab.axhline(0.2518*100, color='black', linestyle='--', linewidth = 1)\n",
    "# pylab.axhline(0.7481*100, color='black', linestyle='--', linewidth = 1)\n",
    " \n",
    "# Create legend & Show graphic\n",
    "plt.legend(fontsize= fontsize)\n",
    "plt.savefig('./results/residencia.png', bbox_inches = 'tight',\n",
    "        pad_inches = 0)"
   ]
  },
  {
   "cell_type": "markdown",
   "metadata": {},
   "source": [
    "## Quantidade de dependentes"
   ]
  },
  {
   "cell_type": "code",
   "execution_count": 41,
   "metadata": {},
   "outputs": [
    {
     "data": {
      "text/plain": [
       "QTD_DEPENDENTES\n",
       "0.0     78312\n",
       "1.0     15345\n",
       "2.0      6350\n",
       "3.0      1752\n",
       "4.0       444\n",
       "5.0       124\n",
       "6.0        41\n",
       "7.0        14\n",
       "8.0        20\n",
       "9.0         4\n",
       "10.0       11\n",
       "dtype: int64"
      ]
     },
     "execution_count": 41,
     "metadata": {},
     "output_type": "execute_result"
    }
   ],
   "source": [
    "tabelao.groupby('QTD_DEPENDENTES').size()"
   ]
  },
  {
   "cell_type": "code",
   "execution_count": 42,
   "metadata": {},
   "outputs": [],
   "source": [
    "m = good.groupby('QTD_DEPENDENTES').size()\n",
    "n = bad.groupby('QTD_DEPENDENTES').size()"
   ]
  },
  {
   "cell_type": "code",
   "execution_count": 43,
   "metadata": {},
   "outputs": [
    {
     "data": {
      "text/plain": [
       "array([45190,  8057,  4100])"
      ]
     },
     "execution_count": 43,
     "metadata": {},
     "output_type": "execute_result"
    }
   ],
   "source": [
    "qtd_good = np.array([m[m.index == 0].sum(), \n",
    "        m[m.index == 1].sum(), \n",
    "        m[m.index >= 2].sum()])\n",
    "qtd_good"
   ]
  },
  {
   "cell_type": "code",
   "execution_count": 44,
   "metadata": {},
   "outputs": [
    {
     "data": {
      "text/plain": [
       "array([33122,  7288,  4660])"
      ]
     },
     "execution_count": 44,
     "metadata": {},
     "output_type": "execute_result"
    }
   ],
   "source": [
    "qtd_bad = np.array([n[n.index == 0].sum(), \n",
    "        n[n.index == 1].sum(), \n",
    "        n[n.index >= 2].sum()])\n",
    "qtd_bad"
   ]
  },
  {
   "cell_type": "code",
   "execution_count": 78,
   "metadata": {},
   "outputs": [
    {
     "data": {
      "image/png": "[encoded data removed]",
      "text/plain": [
       "<Figure size 576x360 with 1 Axes>"
      ]
     },
     "metadata": {},
     "output_type": "display_data"
    }
   ],
   "source": [
    "rcParams['figure.figsize'] = 8,5\n",
    "# set width of bar\n",
    "barWidth = 0.3\n",
    "x = ['0', '1', '> 1']\n",
    "x_pos = [i + 0.5*barWidth for i, _ in enumerate(x)]\n",
    "\n",
    "# Set position of bar on X axis\n",
    "r1 = np.arange(len(qtd_good))\n",
    "r2 = [x + barWidth for x in r1]\n",
    " \n",
    "# Make the plot\n",
    "plt.bar(r1, 100*qtd_good/qtd_good.sum(), width=barWidth, edgecolor='white', label='Bom')\n",
    "plt.bar(r2, 100*qtd_bad/qtd_bad.sum(), width=barWidth, edgecolor='white', label='Mau')\n",
    " \n",
    "# Add xticks on the middle of the group bars\n",
    "pylab.xlabel('Quantidade de Dependentes', fontsize= fontsize)\n",
    "pylab.ylabel('Proporção de Classes (%)', fontsize= fontsize)\n",
    "pylab.ylim((0, 100))\n",
    "\n",
    "plt.title('Classificação por Quantidade de Dependentes', fontsize= fontsize)\n",
    "plt.xticks(x_pos, x)\n",
    "\n",
    "#Lines\n",
    "# pylab.axhline(0.2518*100, color='black', linestyle='--', linewidth = 1)\n",
    "# pylab.axhline(0.7481*100, color='black', linestyle='--', linewidth = 1)\n",
    " \n",
    "# Create legend & Show graphic\n",
    "plt.legend(fontsize= fontsize)\n",
    "plt.savefig('./results/dependentes.png', bbox_inches = 'tight',\n",
    "        pad_inches = 0)"
   ]
  },
  {
   "cell_type": "markdown",
   "metadata": {},
   "source": [
    "## Correlação das Variáveis"
   ]
  },
  {
   "cell_type": "code",
   "execution_count": null,
   "metadata": {},
   "outputs": [],
   "source": [
    "# Compute the correlation matrix\n",
    "corr = tabelao.iloc[:,1:].corr()\n",
    "\n",
    "# Generate a mask for the upper triangle\n",
    "mask = np.zeros_like(corr, dtype=np.bool)\n",
    "mask[np.triu_indices_from(mask)] = True\n",
    "\n",
    "# Set up the matplotlib figure\n",
    "f, ax = plt.subplots(figsize=(11, 9))\n",
    "\n",
    "# Generate a custom diverging colormap\n",
    "cmap = sns.diverging_palette(220, 10, as_cmap=True)\n",
    "\n",
    "# Draw the heatmap with the mask and correct aspect ratio\n",
    "sns.heatmap(corr, mask=mask, cmap=cmap, vmax=.3, center=0,\n",
    "            square=True, linewidths=.5, cbar_kws={\"shrink\": .5})"
   ]
  },
  {
   "cell_type": "code",
   "execution_count": null,
   "metadata": {},
   "outputs": [],
   "source": []
  }
 ],
 "metadata": {
  "kernelspec": {
   "display_name": "Python 3",
   "language": "python",
   "name": "python3"
  },
  "language_info": {
   "codemirror_mode": {
    "name": "ipython",
    "version": 3
   },
   "file_extension": ".py",
   "mimetype": "text/x-python",
   "name": "python",
   "nbconvert_exporter": "python",
   "pygments_lexer": "ipython3",
   "version": "3.6.9"
  }
 },
 "nbformat": 4,
 "nbformat_minor": 2
}
