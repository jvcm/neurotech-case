{
 "cells": [
  {
   "cell_type": "code",
   "execution_count": 1,
   "metadata": {},
   "outputs": [],
   "source": [
    "import pandas as pd\n",
    "import numpy as np\n",
    "from datetime import *\n",
    "from dateutil.relativedelta import *\n",
    "import matplotlib.pyplot as plt\n",
    "from matplotlib import pylab\n",
    "import seaborn as sns\n",
    "sns.set()\n",
    "from matplotlib.pylab import rcParams"
   ]
  },
  {
   "cell_type": "code",
   "execution_count": 2,
   "metadata": {},
   "outputs": [],
   "source": [
    "tabelao = pd.read_csv(\"tabelao.csv\")\n",
    "tabelao = tabelao.drop('CODIGO_CLIENTE.1', axis=1)\n",
    "tabelao.DATA_NASCIMENTO = pd.to_datetime(tabelao.DATA_NASCIMENTO)"
   ]
  },
  {
   "cell_type": "code",
   "execution_count": 3,
   "metadata": {},
   "outputs": [],
   "source": [
    "idade = tabelao['DATA_NASCIMENTO'].apply(lambda x: (datetime.now().year - x.year))\n",
    "tabelao.insert(loc=2, column='IDADE', value=idade.fillna(0).astype(int))"
   ]
  },
  {
   "cell_type": "code",
   "execution_count": 4,
   "metadata": {
    "scrolled": true
   },
   "outputs": [
    {
     "data": {
      "text/html": [
       "<div>\n",
       "<style scoped>\n",
       "    .dataframe tbody tr th:only-of-type {\n",
       "        vertical-align: middle;\n",
       "    }\n",
       "\n",
       "    .dataframe tbody tr th {\n",
       "        vertical-align: top;\n",
       "    }\n",
       "\n",
       "    .dataframe thead th {\n",
       "        text-align: right;\n",
       "    }\n",
       "</style>\n",
       "<table border=\"1\" class=\"dataframe\">\n",
       "  <thead>\n",
       "    <tr style=\"text-align: right;\">\n",
       "      <th></th>\n",
       "      <th>CODIGO_CLIENTE</th>\n",
       "      <th>DATA_NASCIMENTO</th>\n",
       "      <th>IDADE</th>\n",
       "      <th>SEXO</th>\n",
       "      <th>ESTADO_CIVIL</th>\n",
       "      <th>CIDADE</th>\n",
       "      <th>UF</th>\n",
       "      <th>BAIRRO</th>\n",
       "      <th>CEP</th>\n",
       "      <th>QTD_DEPENDENTES</th>\n",
       "      <th>...</th>\n",
       "      <th>DATA_ADMISSAO</th>\n",
       "      <th>CATEGORIAL_PROFISSAO</th>\n",
       "      <th>TIPO_RESIDENCIA</th>\n",
       "      <th>RENDA_TITULAR</th>\n",
       "      <th>RENDA_CJ</th>\n",
       "      <th>OUTRAS_RENDAS</th>\n",
       "      <th>QTD_CARTOES_ADICIONAIS</th>\n",
       "      <th>FLAG_CONTA_BANCO</th>\n",
       "      <th>VALOR_HISTORICO_COMPRAS</th>\n",
       "      <th>CLASS</th>\n",
       "    </tr>\n",
       "  </thead>\n",
       "  <tbody>\n",
       "    <tr>\n",
       "      <th>0</th>\n",
       "      <td>1061056</td>\n",
       "      <td>1956-01-18</td>\n",
       "      <td>63</td>\n",
       "      <td>M</td>\n",
       "      <td>SO</td>\n",
       "      <td>BENTO GONCALVES</td>\n",
       "      <td>RS</td>\n",
       "      <td>VILA NOVA</td>\n",
       "      <td>95706046</td>\n",
       "      <td>0.0</td>\n",
       "      <td>...</td>\n",
       "      <td>1986/12/22 00:00:00.000000000</td>\n",
       "      <td>APOSENTADO</td>\n",
       "      <td>PR</td>\n",
       "      <td>2300.00</td>\n",
       "      <td>NaN</td>\n",
       "      <td>NaN</td>\n",
       "      <td>0</td>\n",
       "      <td>S</td>\n",
       "      <td>931.83</td>\n",
       "      <td>1</td>\n",
       "    </tr>\n",
       "    <tr>\n",
       "      <th>1</th>\n",
       "      <td>10680802</td>\n",
       "      <td>1968-07-27</td>\n",
       "      <td>51</td>\n",
       "      <td>M</td>\n",
       "      <td>CA</td>\n",
       "      <td>PELOTAS</td>\n",
       "      <td>RS</td>\n",
       "      <td>CENTRO</td>\n",
       "      <td>96020150</td>\n",
       "      <td>2.0</td>\n",
       "      <td>...</td>\n",
       "      <td>2013/03/01 00:00:00.000000000</td>\n",
       "      <td>ASSALARIADO</td>\n",
       "      <td>OU</td>\n",
       "      <td>1500.00</td>\n",
       "      <td>NaN</td>\n",
       "      <td>NaN</td>\n",
       "      <td>0</td>\n",
       "      <td>NaN</td>\n",
       "      <td>102.00</td>\n",
       "      <td>1</td>\n",
       "    </tr>\n",
       "    <tr>\n",
       "      <th>2</th>\n",
       "      <td>1068245</td>\n",
       "      <td>1989-11-05</td>\n",
       "      <td>30</td>\n",
       "      <td>M</td>\n",
       "      <td>SO</td>\n",
       "      <td>ALEGRETE</td>\n",
       "      <td>RS</td>\n",
       "      <td>AIRTON SENNA</td>\n",
       "      <td>97546137</td>\n",
       "      <td>0.0</td>\n",
       "      <td>...</td>\n",
       "      <td>2008/01/31 00:00:00.000000000</td>\n",
       "      <td>AUT+NOMO</td>\n",
       "      <td>PR</td>\n",
       "      <td>1000.00</td>\n",
       "      <td>NaN</td>\n",
       "      <td>NaN</td>\n",
       "      <td>0</td>\n",
       "      <td>NaN</td>\n",
       "      <td>0.00</td>\n",
       "      <td>1</td>\n",
       "    </tr>\n",
       "    <tr>\n",
       "      <th>3</th>\n",
       "      <td>10812385</td>\n",
       "      <td>1954-07-24</td>\n",
       "      <td>65</td>\n",
       "      <td>F</td>\n",
       "      <td>SO</td>\n",
       "      <td>GARIBALDI</td>\n",
       "      <td>RS</td>\n",
       "      <td>SAO FRANCISCO</td>\n",
       "      <td>95720000</td>\n",
       "      <td>0.0</td>\n",
       "      <td>...</td>\n",
       "      <td>NaN</td>\n",
       "      <td>APOSENTADO</td>\n",
       "      <td>OU</td>\n",
       "      <td>1050.00</td>\n",
       "      <td>NaN</td>\n",
       "      <td>NaN</td>\n",
       "      <td>0</td>\n",
       "      <td>NaN</td>\n",
       "      <td>2337.93</td>\n",
       "      <td>1</td>\n",
       "    </tr>\n",
       "    <tr>\n",
       "      <th>4</th>\n",
       "      <td>11126048</td>\n",
       "      <td>1957-07-14</td>\n",
       "      <td>62</td>\n",
       "      <td>F</td>\n",
       "      <td>SO</td>\n",
       "      <td>TRES PASSOS</td>\n",
       "      <td>RS</td>\n",
       "      <td>GLORIA</td>\n",
       "      <td>98600000</td>\n",
       "      <td>0.0</td>\n",
       "      <td>...</td>\n",
       "      <td>NaN</td>\n",
       "      <td>AUT+NOMO</td>\n",
       "      <td>PR</td>\n",
       "      <td>1200.00</td>\n",
       "      <td>NaN</td>\n",
       "      <td>NaN</td>\n",
       "      <td>0</td>\n",
       "      <td>NaN</td>\n",
       "      <td>1950.81</td>\n",
       "      <td>1</td>\n",
       "    </tr>\n",
       "    <tr>\n",
       "      <th>5</th>\n",
       "      <td>1114919</td>\n",
       "      <td>1985-04-27</td>\n",
       "      <td>34</td>\n",
       "      <td>M</td>\n",
       "      <td>SO</td>\n",
       "      <td>PALMEIRA DAS MISSOES</td>\n",
       "      <td>RS</td>\n",
       "      <td>LUTZ</td>\n",
       "      <td>98300000</td>\n",
       "      <td>0.0</td>\n",
       "      <td>...</td>\n",
       "      <td>2010/04/01 00:00:00.000000000</td>\n",
       "      <td>AUT+NOMO</td>\n",
       "      <td>OU</td>\n",
       "      <td>950.00</td>\n",
       "      <td>NaN</td>\n",
       "      <td>NaN</td>\n",
       "      <td>0</td>\n",
       "      <td>NaN</td>\n",
       "      <td>1017.10</td>\n",
       "      <td>0</td>\n",
       "    </tr>\n",
       "    <tr>\n",
       "      <th>6</th>\n",
       "      <td>11158644</td>\n",
       "      <td>1970-12-19</td>\n",
       "      <td>49</td>\n",
       "      <td>M</td>\n",
       "      <td>SO</td>\n",
       "      <td>SAO VICENTE DO SUL</td>\n",
       "      <td>RS</td>\n",
       "      <td>CENTRO</td>\n",
       "      <td>97420000</td>\n",
       "      <td>2.0</td>\n",
       "      <td>...</td>\n",
       "      <td>2015/10/01 00:00:00.000000000</td>\n",
       "      <td>ASSALARIADO</td>\n",
       "      <td>PR</td>\n",
       "      <td>1555.49</td>\n",
       "      <td>NaN</td>\n",
       "      <td>NaN</td>\n",
       "      <td>0</td>\n",
       "      <td>NaN</td>\n",
       "      <td>3118.53</td>\n",
       "      <td>1</td>\n",
       "    </tr>\n",
       "    <tr>\n",
       "      <th>7</th>\n",
       "      <td>11254267</td>\n",
       "      <td>1976-11-27</td>\n",
       "      <td>43</td>\n",
       "      <td>F</td>\n",
       "      <td>SO</td>\n",
       "      <td>SANTA ROSA</td>\n",
       "      <td>RS</td>\n",
       "      <td>CENTRO</td>\n",
       "      <td>98780756</td>\n",
       "      <td>0.0</td>\n",
       "      <td>...</td>\n",
       "      <td>2014/11/04 00:00:00.000000000</td>\n",
       "      <td>ASSALARIADO</td>\n",
       "      <td>PR</td>\n",
       "      <td>1500.00</td>\n",
       "      <td>NaN</td>\n",
       "      <td>NaN</td>\n",
       "      <td>0</td>\n",
       "      <td>NaN</td>\n",
       "      <td>4643.83</td>\n",
       "      <td>1</td>\n",
       "    </tr>\n",
       "    <tr>\n",
       "      <th>8</th>\n",
       "      <td>11336822</td>\n",
       "      <td>1981-08-12</td>\n",
       "      <td>38</td>\n",
       "      <td>M</td>\n",
       "      <td>SE</td>\n",
       "      <td>PASSO FUNDO</td>\n",
       "      <td>RS</td>\n",
       "      <td>SAO LUIZ GONZAGA</td>\n",
       "      <td>99054460</td>\n",
       "      <td>0.0</td>\n",
       "      <td>...</td>\n",
       "      <td>2005/10/28 00:00:00.000000000</td>\n",
       "      <td>ASSALARIADO</td>\n",
       "      <td>PR</td>\n",
       "      <td>2500.00</td>\n",
       "      <td>NaN</td>\n",
       "      <td>NaN</td>\n",
       "      <td>0</td>\n",
       "      <td>NaN</td>\n",
       "      <td>6980.63</td>\n",
       "      <td>1</td>\n",
       "    </tr>\n",
       "    <tr>\n",
       "      <th>9</th>\n",
       "      <td>11337289</td>\n",
       "      <td>1970-04-27</td>\n",
       "      <td>49</td>\n",
       "      <td>F</td>\n",
       "      <td>SO</td>\n",
       "      <td>JULIO DE CASTILHOS</td>\n",
       "      <td>RS</td>\n",
       "      <td>CENTRO</td>\n",
       "      <td>98130000</td>\n",
       "      <td>0.0</td>\n",
       "      <td>...</td>\n",
       "      <td>NaN</td>\n",
       "      <td>AUT+NOMO</td>\n",
       "      <td>PR</td>\n",
       "      <td>2000.00</td>\n",
       "      <td>NaN</td>\n",
       "      <td>NaN</td>\n",
       "      <td>0</td>\n",
       "      <td>NaN</td>\n",
       "      <td>413.48</td>\n",
       "      <td>1</td>\n",
       "    </tr>\n",
       "    <tr>\n",
       "      <th>10</th>\n",
       "      <td>11342640</td>\n",
       "      <td>1976-10-11</td>\n",
       "      <td>43</td>\n",
       "      <td>F</td>\n",
       "      <td>SO</td>\n",
       "      <td>ESPUMOSO</td>\n",
       "      <td>RS</td>\n",
       "      <td>SAO JORGE</td>\n",
       "      <td>99400000</td>\n",
       "      <td>0.0</td>\n",
       "      <td>...</td>\n",
       "      <td>2007/04/20 00:00:00.000000000</td>\n",
       "      <td>ASSALARIADO</td>\n",
       "      <td>AL</td>\n",
       "      <td>1400.00</td>\n",
       "      <td>NaN</td>\n",
       "      <td>NaN</td>\n",
       "      <td>0</td>\n",
       "      <td>NaN</td>\n",
       "      <td>2895.93</td>\n",
       "      <td>0</td>\n",
       "    </tr>\n",
       "    <tr>\n",
       "      <th>11</th>\n",
       "      <td>11346688</td>\n",
       "      <td>1969-11-02</td>\n",
       "      <td>50</td>\n",
       "      <td>F</td>\n",
       "      <td>CA</td>\n",
       "      <td>CANGUCU</td>\n",
       "      <td>RS</td>\n",
       "      <td>RINCAO DOS MAIA</td>\n",
       "      <td>96600000</td>\n",
       "      <td>0.0</td>\n",
       "      <td>...</td>\n",
       "      <td>NaN</td>\n",
       "      <td>AGRICULTOR</td>\n",
       "      <td>PR</td>\n",
       "      <td>800.00</td>\n",
       "      <td>800.0</td>\n",
       "      <td>800.0</td>\n",
       "      <td>0</td>\n",
       "      <td>NaN</td>\n",
       "      <td>2763.51</td>\n",
       "      <td>1</td>\n",
       "    </tr>\n",
       "    <tr>\n",
       "      <th>12</th>\n",
       "      <td>11363677</td>\n",
       "      <td>1972-09-26</td>\n",
       "      <td>47</td>\n",
       "      <td>M</td>\n",
       "      <td>SO</td>\n",
       "      <td>PIRATINI</td>\n",
       "      <td>RS</td>\n",
       "      <td>INTERIOR</td>\n",
       "      <td>96490000</td>\n",
       "      <td>1.0</td>\n",
       "      <td>...</td>\n",
       "      <td>NaN</td>\n",
       "      <td>AUT+NOMO</td>\n",
       "      <td>PR</td>\n",
       "      <td>937.00</td>\n",
       "      <td>NaN</td>\n",
       "      <td>NaN</td>\n",
       "      <td>0</td>\n",
       "      <td>NaN</td>\n",
       "      <td>1459.94</td>\n",
       "      <td>1</td>\n",
       "    </tr>\n",
       "    <tr>\n",
       "      <th>13</th>\n",
       "      <td>11440999</td>\n",
       "      <td>1961-07-28</td>\n",
       "      <td>58</td>\n",
       "      <td>M</td>\n",
       "      <td>CO</td>\n",
       "      <td>CANGUCU</td>\n",
       "      <td>RS</td>\n",
       "      <td>GLORIA</td>\n",
       "      <td>96600000</td>\n",
       "      <td>1.0</td>\n",
       "      <td>...</td>\n",
       "      <td>NaN</td>\n",
       "      <td>AGRICULTOR</td>\n",
       "      <td>PR</td>\n",
       "      <td>900.00</td>\n",
       "      <td>NaN</td>\n",
       "      <td>NaN</td>\n",
       "      <td>0</td>\n",
       "      <td>NaN</td>\n",
       "      <td>533.02</td>\n",
       "      <td>1</td>\n",
       "    </tr>\n",
       "    <tr>\n",
       "      <th>14</th>\n",
       "      <td>11481703</td>\n",
       "      <td>1983-04-11</td>\n",
       "      <td>36</td>\n",
       "      <td>F</td>\n",
       "      <td>CA</td>\n",
       "      <td>CAMPOS NOVOS</td>\n",
       "      <td>SC</td>\n",
       "      <td>SANTO ANTONIO</td>\n",
       "      <td>89620000</td>\n",
       "      <td>1.0</td>\n",
       "      <td>...</td>\n",
       "      <td>2016/11/01 00:00:00.000000000</td>\n",
       "      <td>ASSALARIADO</td>\n",
       "      <td>PR</td>\n",
       "      <td>1111.00</td>\n",
       "      <td>NaN</td>\n",
       "      <td>NaN</td>\n",
       "      <td>0</td>\n",
       "      <td>NaN</td>\n",
       "      <td>858.69</td>\n",
       "      <td>1</td>\n",
       "    </tr>\n",
       "    <tr>\n",
       "      <th>15</th>\n",
       "      <td>11551674</td>\n",
       "      <td>1970-07-21</td>\n",
       "      <td>49</td>\n",
       "      <td>M</td>\n",
       "      <td>CO</td>\n",
       "      <td>VERA CRUZ</td>\n",
       "      <td>RS</td>\n",
       "      <td>CENTRO</td>\n",
       "      <td>96880000</td>\n",
       "      <td>2.0</td>\n",
       "      <td>...</td>\n",
       "      <td>NaN</td>\n",
       "      <td>APOSENTADO</td>\n",
       "      <td>OU</td>\n",
       "      <td>4900.00</td>\n",
       "      <td>NaN</td>\n",
       "      <td>2800.0</td>\n",
       "      <td>0</td>\n",
       "      <td>NaN</td>\n",
       "      <td>8966.83</td>\n",
       "      <td>1</td>\n",
       "    </tr>\n",
       "    <tr>\n",
       "      <th>16</th>\n",
       "      <td>11568764</td>\n",
       "      <td>1967-10-18</td>\n",
       "      <td>52</td>\n",
       "      <td>M</td>\n",
       "      <td>CA</td>\n",
       "      <td>NOVO HAMBURGO</td>\n",
       "      <td>RS</td>\n",
       "      <td>CANUDOS</td>\n",
       "      <td>93546650</td>\n",
       "      <td>1.0</td>\n",
       "      <td>...</td>\n",
       "      <td>2008/03/11 00:00:00.000000000</td>\n",
       "      <td>ASSALARIADO</td>\n",
       "      <td>PR</td>\n",
       "      <td>1700.00</td>\n",
       "      <td>NaN</td>\n",
       "      <td>600.0</td>\n",
       "      <td>0</td>\n",
       "      <td>NaN</td>\n",
       "      <td>1458.88</td>\n",
       "      <td>1</td>\n",
       "    </tr>\n",
       "    <tr>\n",
       "      <th>17</th>\n",
       "      <td>11607643</td>\n",
       "      <td>1952-09-17</td>\n",
       "      <td>67</td>\n",
       "      <td>M</td>\n",
       "      <td>SO</td>\n",
       "      <td>GRAVATAI</td>\n",
       "      <td>RS</td>\n",
       "      <td>NOSSA CHACARA</td>\n",
       "      <td>94055070</td>\n",
       "      <td>0.0</td>\n",
       "      <td>...</td>\n",
       "      <td>NaN</td>\n",
       "      <td>APOSENTADO</td>\n",
       "      <td>PR</td>\n",
       "      <td>1050.00</td>\n",
       "      <td>NaN</td>\n",
       "      <td>NaN</td>\n",
       "      <td>0</td>\n",
       "      <td>S</td>\n",
       "      <td>2715.71</td>\n",
       "      <td>0</td>\n",
       "    </tr>\n",
       "    <tr>\n",
       "      <th>18</th>\n",
       "      <td>11682954</td>\n",
       "      <td>1963-01-16</td>\n",
       "      <td>56</td>\n",
       "      <td>F</td>\n",
       "      <td>CA</td>\n",
       "      <td>VIAMAO</td>\n",
       "      <td>RS</td>\n",
       "      <td>CENTRO</td>\n",
       "      <td>94760000</td>\n",
       "      <td>0.0</td>\n",
       "      <td>...</td>\n",
       "      <td>2014/01/09 00:00:00.000000000</td>\n",
       "      <td>AUT+NOMO</td>\n",
       "      <td>PR</td>\n",
       "      <td>1940.00</td>\n",
       "      <td>NaN</td>\n",
       "      <td>NaN</td>\n",
       "      <td>0</td>\n",
       "      <td>NaN</td>\n",
       "      <td>2756.58</td>\n",
       "      <td>1</td>\n",
       "    </tr>\n",
       "    <tr>\n",
       "      <th>19</th>\n",
       "      <td>11684700</td>\n",
       "      <td>1976-06-29</td>\n",
       "      <td>43</td>\n",
       "      <td>M</td>\n",
       "      <td>CO</td>\n",
       "      <td>PALMEIRA DAS MISSOES</td>\n",
       "      <td>RS</td>\n",
       "      <td>VISTA ALEGRE</td>\n",
       "      <td>98300000</td>\n",
       "      <td>2.0</td>\n",
       "      <td>...</td>\n",
       "      <td>2013/05/01 00:00:00.000000000</td>\n",
       "      <td>ASSALARIADO</td>\n",
       "      <td>PR</td>\n",
       "      <td>1775.00</td>\n",
       "      <td>500.0</td>\n",
       "      <td>NaN</td>\n",
       "      <td>0</td>\n",
       "      <td>NaN</td>\n",
       "      <td>2029.37</td>\n",
       "      <td>1</td>\n",
       "    </tr>\n",
       "  </tbody>\n",
       "</table>\n",
       "<p>20 rows × 21 columns</p>\n",
       "</div>"
      ],
      "text/plain": [
       "    CODIGO_CLIENTE DATA_NASCIMENTO  IDADE SEXO ESTADO_CIVIL  \\\n",
       "0          1061056      1956-01-18     63    M           SO   \n",
       "1         10680802      1968-07-27     51    M           CA   \n",
       "2          1068245      1989-11-05     30    M           SO   \n",
       "3         10812385      1954-07-24     65    F           SO   \n",
       "4         11126048      1957-07-14     62    F           SO   \n",
       "5          1114919      1985-04-27     34    M           SO   \n",
       "6         11158644      1970-12-19     49    M           SO   \n",
       "7         11254267      1976-11-27     43    F           SO   \n",
       "8         11336822      1981-08-12     38    M           SE   \n",
       "9         11337289      1970-04-27     49    F           SO   \n",
       "10        11342640      1976-10-11     43    F           SO   \n",
       "11        11346688      1969-11-02     50    F           CA   \n",
       "12        11363677      1972-09-26     47    M           SO   \n",
       "13        11440999      1961-07-28     58    M           CO   \n",
       "14        11481703      1983-04-11     36    F           CA   \n",
       "15        11551674      1970-07-21     49    M           CO   \n",
       "16        11568764      1967-10-18     52    M           CA   \n",
       "17        11607643      1952-09-17     67    M           SO   \n",
       "18        11682954      1963-01-16     56    F           CA   \n",
       "19        11684700      1976-06-29     43    M           CO   \n",
       "\n",
       "                  CIDADE  UF            BAIRRO       CEP  QTD_DEPENDENTES  \\\n",
       "0        BENTO GONCALVES  RS         VILA NOVA  95706046              0.0   \n",
       "1                PELOTAS  RS            CENTRO  96020150              2.0   \n",
       "2               ALEGRETE  RS      AIRTON SENNA  97546137              0.0   \n",
       "3              GARIBALDI  RS     SAO FRANCISCO  95720000              0.0   \n",
       "4            TRES PASSOS  RS            GLORIA  98600000              0.0   \n",
       "5   PALMEIRA DAS MISSOES  RS              LUTZ  98300000              0.0   \n",
       "6     SAO VICENTE DO SUL  RS            CENTRO  97420000              2.0   \n",
       "7             SANTA ROSA  RS            CENTRO  98780756              0.0   \n",
       "8            PASSO FUNDO  RS  SAO LUIZ GONZAGA  99054460              0.0   \n",
       "9     JULIO DE CASTILHOS  RS            CENTRO  98130000              0.0   \n",
       "10              ESPUMOSO  RS         SAO JORGE  99400000              0.0   \n",
       "11               CANGUCU  RS   RINCAO DOS MAIA  96600000              0.0   \n",
       "12              PIRATINI  RS          INTERIOR  96490000              1.0   \n",
       "13               CANGUCU  RS            GLORIA  96600000              1.0   \n",
       "14          CAMPOS NOVOS  SC     SANTO ANTONIO  89620000              1.0   \n",
       "15             VERA CRUZ  RS            CENTRO  96880000              2.0   \n",
       "16         NOVO HAMBURGO  RS           CANUDOS  93546650              1.0   \n",
       "17              GRAVATAI  RS     NOSSA CHACARA  94055070              0.0   \n",
       "18                VIAMAO  RS            CENTRO  94760000              0.0   \n",
       "19  PALMEIRA DAS MISSOES  RS      VISTA ALEGRE  98300000              2.0   \n",
       "\n",
       "    ...                    DATA_ADMISSAO CATEGORIAL_PROFISSAO TIPO_RESIDENCIA  \\\n",
       "0   ...    1986/12/22 00:00:00.000000000           APOSENTADO              PR   \n",
       "1   ...    2013/03/01 00:00:00.000000000          ASSALARIADO              OU   \n",
       "2   ...    2008/01/31 00:00:00.000000000             AUT+NOMO              PR   \n",
       "3   ...                              NaN           APOSENTADO              OU   \n",
       "4   ...                              NaN             AUT+NOMO              PR   \n",
       "5   ...    2010/04/01 00:00:00.000000000             AUT+NOMO              OU   \n",
       "6   ...    2015/10/01 00:00:00.000000000          ASSALARIADO              PR   \n",
       "7   ...    2014/11/04 00:00:00.000000000          ASSALARIADO              PR   \n",
       "8   ...    2005/10/28 00:00:00.000000000          ASSALARIADO              PR   \n",
       "9   ...                              NaN             AUT+NOMO              PR   \n",
       "10  ...    2007/04/20 00:00:00.000000000          ASSALARIADO              AL   \n",
       "11  ...                              NaN           AGRICULTOR              PR   \n",
       "12  ...                              NaN             AUT+NOMO              PR   \n",
       "13  ...                              NaN           AGRICULTOR              PR   \n",
       "14  ...    2016/11/01 00:00:00.000000000          ASSALARIADO              PR   \n",
       "15  ...                              NaN           APOSENTADO              OU   \n",
       "16  ...    2008/03/11 00:00:00.000000000          ASSALARIADO              PR   \n",
       "17  ...                              NaN           APOSENTADO              PR   \n",
       "18  ...    2014/01/09 00:00:00.000000000             AUT+NOMO              PR   \n",
       "19  ...    2013/05/01 00:00:00.000000000          ASSALARIADO              PR   \n",
       "\n",
       "   RENDA_TITULAR  RENDA_CJ  OUTRAS_RENDAS  QTD_CARTOES_ADICIONAIS  \\\n",
       "0        2300.00       NaN            NaN                       0   \n",
       "1        1500.00       NaN            NaN                       0   \n",
       "2        1000.00       NaN            NaN                       0   \n",
       "3        1050.00       NaN            NaN                       0   \n",
       "4        1200.00       NaN            NaN                       0   \n",
       "5         950.00       NaN            NaN                       0   \n",
       "6        1555.49       NaN            NaN                       0   \n",
       "7        1500.00       NaN            NaN                       0   \n",
       "8        2500.00       NaN            NaN                       0   \n",
       "9        2000.00       NaN            NaN                       0   \n",
       "10       1400.00       NaN            NaN                       0   \n",
       "11        800.00     800.0          800.0                       0   \n",
       "12        937.00       NaN            NaN                       0   \n",
       "13        900.00       NaN            NaN                       0   \n",
       "14       1111.00       NaN            NaN                       0   \n",
       "15       4900.00       NaN         2800.0                       0   \n",
       "16       1700.00       NaN          600.0                       0   \n",
       "17       1050.00       NaN            NaN                       0   \n",
       "18       1940.00       NaN            NaN                       0   \n",
       "19       1775.00     500.0            NaN                       0   \n",
       "\n",
       "    FLAG_CONTA_BANCO VALOR_HISTORICO_COMPRAS  CLASS  \n",
       "0                  S                  931.83      1  \n",
       "1                NaN                  102.00      1  \n",
       "2                NaN                    0.00      1  \n",
       "3                NaN                 2337.93      1  \n",
       "4                NaN                 1950.81      1  \n",
       "5                NaN                 1017.10      0  \n",
       "6                NaN                 3118.53      1  \n",
       "7                NaN                 4643.83      1  \n",
       "8                NaN                 6980.63      1  \n",
       "9                NaN                  413.48      1  \n",
       "10               NaN                 2895.93      0  \n",
       "11               NaN                 2763.51      1  \n",
       "12               NaN                 1459.94      1  \n",
       "13               NaN                  533.02      1  \n",
       "14               NaN                  858.69      1  \n",
       "15               NaN                 8966.83      1  \n",
       "16               NaN                 1458.88      1  \n",
       "17                 S                 2715.71      0  \n",
       "18               NaN                 2756.58      1  \n",
       "19               NaN                 2029.37      1  \n",
       "\n",
       "[20 rows x 21 columns]"
      ]
     },
     "execution_count": 4,
     "metadata": {},
     "output_type": "execute_result"
    }
   ],
   "source": [
    "tabelao.head(20)"
   ]
  },
  {
   "cell_type": "code",
   "execution_count": 5,
   "metadata": {},
   "outputs": [
    {
     "name": "stdout",
     "output_type": "stream",
     "text": [
      "<class 'pandas.core.frame.DataFrame'>\n",
      "RangeIndex: 96406 entries, 0 to 96405\n",
      "Data columns (total 21 columns):\n",
      "CODIGO_CLIENTE             96406 non-null int64\n",
      "DATA_NASCIMENTO            96403 non-null datetime64[ns]\n",
      "IDADE                      96406 non-null int64\n",
      "SEXO                       96405 non-null object\n",
      "ESTADO_CIVIL               96405 non-null object\n",
      "CIDADE                     96406 non-null object\n",
      "UF                         96406 non-null object\n",
      "BAIRRO                     96406 non-null object\n",
      "CEP                        96406 non-null int64\n",
      "QTD_DEPENDENTES            96405 non-null float64\n",
      "DATA_CADASTRO              96406 non-null object\n",
      "DATA_ADMISSAO              52050 non-null object\n",
      "CATEGORIAL_PROFISSAO       94690 non-null object\n",
      "TIPO_RESIDENCIA            95454 non-null object\n",
      "RENDA_TITULAR              96400 non-null float64\n",
      "RENDA_CJ                   4393 non-null float64\n",
      "OUTRAS_RENDAS              11070 non-null float64\n",
      "QTD_CARTOES_ADICIONAIS     96406 non-null int64\n",
      "FLAG_CONTA_BANCO           7951 non-null object\n",
      "VALOR_HISTORICO_COMPRAS    96406 non-null float64\n",
      "CLASS                      96406 non-null int64\n",
      "dtypes: datetime64[ns](1), float64(5), int64(5), object(10)\n",
      "memory usage: 15.4+ MB\n"
     ]
    }
   ],
   "source": [
    "tabelao.info()"
   ]
  },
  {
   "cell_type": "code",
   "execution_count": 6,
   "metadata": {},
   "outputs": [],
   "source": [
    "good = tabelao[tabelao.CLASS == 0]\n",
    "bad = tabelao[tabelao.CLASS == 1]"
   ]
  },
  {
   "cell_type": "markdown",
   "metadata": {},
   "source": [
    "## Idade"
   ]
  },
  {
   "cell_type": "markdown",
   "metadata": {},
   "source": [
    "Faixa de idade:"
   ]
  },
  {
   "cell_type": "code",
   "execution_count": 7,
   "metadata": {
    "scrolled": true
   },
   "outputs": [],
   "source": [
    "a = good.groupby('IDADE').size()"
   ]
  },
  {
   "cell_type": "code",
   "execution_count": 8,
   "metadata": {},
   "outputs": [],
   "source": [
    "good_age = [a[(a.index > 0) & (a.index <= 25)].sum(), \n",
    "        a[(a.index > 25) & (a.index <= 35)].sum(), \n",
    "        a[(a.index > 35) & (a.index <= 45)].sum(),\n",
    "        a[(a.index > 45) & (a.index <= 55)].sum(),\n",
    "        a[(a.index > 55) & (a.index <= 65)].sum(),\n",
    "        a[(a.index > 65)].sum()]\n",
    "good_age = np.array(good_age)"
   ]
  },
  {
   "cell_type": "code",
   "execution_count": 9,
   "metadata": {},
   "outputs": [],
   "source": [
    "b = bad.groupby('IDADE').size()"
   ]
  },
  {
   "cell_type": "code",
   "execution_count": 10,
   "metadata": {},
   "outputs": [],
   "source": [
    "bad_age = [b[(b.index > 0) & (b.index <= 25)].sum(), \n",
    "        b[(b.index > 25) & (b.index <= 35)].sum(), \n",
    "        b[(b.index > 35) & (b.index <= 45)].sum(),\n",
    "        b[(b.index > 45) & (b.index <= 55)].sum(),\n",
    "        b[(b.index > 55) & (b.index <= 65)].sum(),\n",
    "        b[(b.index > 65)].sum()]\n",
    "bad_age = np.array(bad_age)"
   ]
  },
  {
   "cell_type": "markdown",
   "metadata": {},
   "source": [
    "Gráfico:"
   ]
  },
  {
   "cell_type": "code",
   "execution_count": 11,
   "metadata": {},
   "outputs": [
    {
     "data": {
      "image/png": "[encoded data removed]",
      "text/plain": [
       "<Figure size 864x432 with 1 Axes>"
      ]
     },
     "metadata": {
      "needs_background": "light"
     },
     "output_type": "display_data"
    }
   ],
   "source": [
    "rcParams['figure.figsize'] = 12, 6\n",
    "# set width of bar\n",
    "barWidth = 0.3\n",
    "x = ['Até 25', '25 - 35', '35 - 45', '45 - 55', '55 - 65', 'Mais de 65']\n",
    "x_pos = [i + 0.5*barWidth for i, _ in enumerate(x)]\n",
    "\n",
    "# Set position of bar on X axis\n",
    "r1 = np.arange(len(good_age))\n",
    "r2 = [x + barWidth for x in r1]\n",
    " \n",
    "# Make the plot\n",
    "plt.bar(r1, 100*good_age/good_age.sum(), width=barWidth, edgecolor='white', label='Bom')\n",
    "plt.bar(r2, 100*bad_age/bad_age.sum(), width=barWidth, edgecolor='white', label='Mau')\n",
    " \n",
    "# Add xticks on the middle of the group bars\n",
    "pylab.xlabel('Faixa Etária (anos)')\n",
    "pylab.ylabel('Proporção de Classes (%)')\n",
    "pylab.ylim((0, 40))\n",
    "plt.title('Classificação por Idade')\n",
    "plt.xticks(x_pos, x)\n",
    " \n",
    "# Create legend & Show graphic\n",
    "plt.legend(frameon=True, shadow=True)\n",
    "plt.show()"
   ]
  },
  {
   "cell_type": "markdown",
   "metadata": {},
   "source": [
    "## Sexo"
   ]
  },
  {
   "cell_type": "code",
   "execution_count": 12,
   "metadata": {},
   "outputs": [
    {
     "name": "stdout",
     "output_type": "stream",
     "text": [
      "Mulher: 0.516783 \n",
      "Homem: 0.483206\n"
     ]
    },
    {
     "data": {
      "text/plain": [
       "F    49821\n",
       "M    46584\n",
       "Name: SEXO, dtype: int64"
      ]
     },
     "execution_count": 12,
     "metadata": {},
     "output_type": "execute_result"
    }
   ],
   "source": [
    "print('Mulher: %f' %(tabelao.SEXO.value_counts()[0]/len(tabelao.SEXO)),\n",
    "      '\\nHomem: %f' %(tabelao.SEXO.value_counts()[1]/len(tabelao.SEXO)))\n",
    "tabelao.SEXO.value_counts()"
   ]
  },
  {
   "cell_type": "code",
   "execution_count": 13,
   "metadata": {},
   "outputs": [],
   "source": [
    "c = good.groupby('SEXO').size()\n",
    "d = bad.groupby('SEXO').size()"
   ]
  },
  {
   "cell_type": "markdown",
   "metadata": {},
   "source": [
    "Gráficos:"
   ]
  },
  {
   "cell_type": "code",
   "execution_count": 14,
   "metadata": {},
   "outputs": [
    {
     "data": {
      "image/png": "[encoded data removed]",
      "text/plain": [
       "<Figure size 288x288 with 1 Axes>"
      ]
     },
     "metadata": {},
     "output_type": "display_data"
    },
    {
     "data": {
      "image/png": "[encoded data removed]",
      "text/plain": [
       "<Figure size 288x288 with 1 Axes>"
      ]
     },
     "metadata": {},
     "output_type": "display_data"
    }
   ],
   "source": [
    "rcParams['figure.figsize'] = 4, 4\n",
    "\n",
    "# Data to plot\n",
    "labels = ['Mulher', 'Homem']\n",
    "sizes = [c.values, d.values]\n",
    "explode = (0.02,0.02)\n",
    "colors = ['#ff6666', '#99ff99']\n",
    "\n",
    "titles = ['Bons Pagadores', 'Maus Pagadores']\n",
    "for i, title in enumerate(titles):\n",
    "    # Plot\n",
    "    plt.figure(0)\n",
    "    plt.pie(sizes[i], labels=labels, colors=colors, radius=0.75,startangle=90,explode=explode,autopct='%1.1f%%')\n",
    "    \n",
    "    # Draw white circle in the middle\n",
    "    centre_circle = plt.Circle((0,0),0.40,fc='white')\n",
    "    fig = plt.gcf()\n",
    "    fig.gca().add_artist(centre_circle)\n",
    "    \n",
    "    # Axis\n",
    "    plt.axis('equal')\n",
    "    plt.tight_layout()\n",
    "    pylab.title(title)\n",
    "    plt.show()\n",
    "\n"
   ]
  },
  {
   "cell_type": "markdown",
   "metadata": {},
   "source": [
    "## Renda titular"
   ]
  },
  {
   "cell_type": "code",
   "execution_count": 15,
   "metadata": {},
   "outputs": [
    {
     "data": {
      "text/plain": [
       "count     96400.000000\n",
       "mean       1683.132580\n",
       "std        1400.804795\n",
       "min         400.000000\n",
       "25%        1060.000000\n",
       "50%        1400.000000\n",
       "75%        1940.000000\n",
       "max      180000.000000\n",
       "Name: RENDA_TITULAR, dtype: float64"
      ]
     },
     "execution_count": 15,
     "metadata": {},
     "output_type": "execute_result"
    }
   ],
   "source": [
    "tabelao.RENDA_TITULAR.describe()"
   ]
  },
  {
   "cell_type": "code",
   "execution_count": 16,
   "metadata": {},
   "outputs": [],
   "source": [
    "base = 990.0"
   ]
  },
  {
   "cell_type": "code",
   "execution_count": 17,
   "metadata": {},
   "outputs": [],
   "source": [
    "e = good.groupby('RENDA_TITULAR').size()\n",
    "f = bad.groupby('RENDA_TITULAR').size()"
   ]
  },
  {
   "cell_type": "code",
   "execution_count": 18,
   "metadata": {},
   "outputs": [
    {
     "data": {
      "text/plain": [
       "[5497, 12681, 3910, 1192, 997]"
      ]
     },
     "execution_count": 18,
     "metadata": {},
     "output_type": "execute_result"
    }
   ],
   "source": [
    "good_wage = [e[(e.index > 0) & (e.index <= base)].sum(), \n",
    "        e[(e.index > base) & (e.index <= 2*base)].sum(), \n",
    "        e[(e.index > 2*base) & (e.index <= 3*base)].sum(),\n",
    "        e[(e.index > 3*base) & (e.index <= 4*base)].sum(),\n",
    "        e[(e.index > 4*base)].sum()]\n",
    "good_wage"
   ]
  },
  {
   "cell_type": "code",
   "execution_count": 19,
   "metadata": {},
   "outputs": [
    {
     "data": {
      "text/plain": [
       "[13363, 41292, 11482, 3210, 2776]"
      ]
     },
     "execution_count": 19,
     "metadata": {},
     "output_type": "execute_result"
    }
   ],
   "source": [
    "bad_wage = [f[(f.index > 0) & (f.index <= base)].sum(), \n",
    "        f[(f.index > base) & (f.index <= 2*base)].sum(), \n",
    "        f[(f.index > 2*base) & (f.index <= 3*base)].sum(),\n",
    "        f[(f.index > 3*base) & (f.index <= 4*base)].sum(),\n",
    "        f[(f.index > 4*base)].sum()]\n",
    "bad_wage"
   ]
  },
  {
   "cell_type": "code",
   "execution_count": 20,
   "metadata": {},
   "outputs": [
    {
     "name": "stdout",
     "output_type": "stream",
     "text": [
      "good: [0.22642831 0.52234625 0.16105779 0.04909997 0.04106768] \n",
      "bad: [0.1852807  0.57252194 0.15920026 0.0445073  0.0384898 ]\n"
     ]
    }
   ],
   "source": [
    "gw = np.array(good_wage)\n",
    "bw = np.array(bad_wage)\n",
    "print('good:',gw/(gw.sum()),'\\nbad:',bw/(bw.sum()))"
   ]
  },
  {
   "cell_type": "code",
   "execution_count": 21,
   "metadata": {},
   "outputs": [
    {
     "data": {
      "image/png": "[encoded data removed]",
      "text/plain": [
       "<Figure size 864x432 with 1 Axes>"
      ]
     },
     "metadata": {
      "needs_background": "light"
     },
     "output_type": "display_data"
    }
   ],
   "source": [
    "rcParams['figure.figsize'] = 12, 6\n",
    "# set width of bar\n",
    "barWidth = 0.3\n",
    "x = ['Até 1', '1 - 2', '2 - 3', '3 - 4', 'Acima de 4']\n",
    "x_pos = [i + 0.5*barWidth for i, _ in enumerate(x)]\n",
    "\n",
    "# Set position of bar on X axis\n",
    "r1 = np.arange(len(good_wage))\n",
    "r2 = [x + barWidth for x in r1]\n",
    " \n",
    "# Make the plot\n",
    "plt.bar(r1, gw/(gw.sum())*100, width=barWidth, edgecolor='white', label='Bom')\n",
    "plt.bar(r2, bw/(bw.sum())*100, width=barWidth, edgecolor='white', label='Mau')\n",
    " \n",
    "# Add xticks on the middle of the group bars\n",
    "pylab.xlabel('Renda Titular (salário mínimo)')\n",
    "pylab.ylabel('Proporção de Classes (%)')\n",
    "pylab.ylim((0, 70))\n",
    "plt.title('Classificação por Renda')\n",
    "plt.xticks(x_pos, x)\n",
    " \n",
    "# Create legend & Show graphic\n",
    "plt.legend(frameon=True, shadow=True)\n",
    "plt.show()"
   ]
  },
  {
   "cell_type": "code",
   "execution_count": 22,
   "metadata": {},
   "outputs": [
    {
     "name": "stdout",
     "output_type": "stream",
     "text": [
      "all good: 0.25184117171130427 \n",
      "all bad: 0.7481588282886957\n"
     ]
    }
   ],
   "source": [
    "print('all good:', len(good)/(len(bad)+len(good)),'\\nall bad:',len(bad)/(len(bad)+len(good)))"
   ]
  },
  {
   "cell_type": "markdown",
   "metadata": {},
   "source": [
    "## Estado civil"
   ]
  },
  {
   "cell_type": "code",
   "execution_count": 23,
   "metadata": {},
   "outputs": [
    {
     "data": {
      "text/plain": [
       "ESTADO_CIVIL\n",
       "CA    25402\n",
       "CO    10868\n",
       "SE     5387\n",
       "SO    49917\n",
       "VI     4831\n",
       "dtype: int64"
      ]
     },
     "execution_count": 23,
     "metadata": {},
     "output_type": "execute_result"
    }
   ],
   "source": [
    "ec = tabelao.groupby('ESTADO_CIVIL').size()\n",
    "ec"
   ]
  },
  {
   "cell_type": "code",
   "execution_count": 24,
   "metadata": {},
   "outputs": [
    {
     "name": "stdout",
     "output_type": "stream",
     "text": [
      "Proporção natural da base:\n"
     ]
    },
    {
     "data": {
      "text/plain": [
       "array([0.26349256, 0.11273274, 0.05587884, 0.51778435, 0.05011151])"
      ]
     },
     "execution_count": 24,
     "metadata": {},
     "output_type": "execute_result"
    }
   ],
   "source": [
    "print('Proporção natural da base:')\n",
    "ec.values/ec.sum()"
   ]
  },
  {
   "cell_type": "code",
   "execution_count": 25,
   "metadata": {},
   "outputs": [],
   "source": [
    "g = good.groupby('ESTADO_CIVIL').size()\n",
    "h = bad.groupby('ESTADO_CIVIL').size()"
   ]
  },
  {
   "cell_type": "code",
   "execution_count": 26,
   "metadata": {},
   "outputs": [],
   "source": [
    "ec_good = (g/g.sum()).values"
   ]
  },
  {
   "cell_type": "code",
   "execution_count": 27,
   "metadata": {},
   "outputs": [],
   "source": [
    "ec_bad = (h/h.sum()).values"
   ]
  },
  {
   "cell_type": "code",
   "execution_count": 28,
   "metadata": {},
   "outputs": [
    {
     "data": {
      "image/png": "[encoded data removed]",
      "text/plain": [
       "<Figure size 864x432 with 1 Axes>"
      ]
     },
     "metadata": {
      "needs_background": "light"
     },
     "output_type": "display_data"
    }
   ],
   "source": [
    "rcParams['figure.figsize'] = 12, 6\n",
    "# set width of bar\n",
    "barWidth = 0.3\n",
    "x = ['CA', 'CO', 'SE', 'SO', 'VI']\n",
    "x_pos = [i + 0.5*barWidth for i, _ in enumerate(x)]\n",
    "\n",
    "# Set position of bar on X axis\n",
    "r1 = np.arange(len(ec_good))\n",
    "r2 = [x + barWidth for x in r1]\n",
    " \n",
    "# Make the plot\n",
    "plt.bar(r1, ec_good*100, width=barWidth, edgecolor='white', label='Bom')\n",
    "plt.bar(r2, ec_bad*100, width=barWidth, edgecolor='white', label='Mau')\n",
    " \n",
    "# Add xticks on the middle of the group bars\n",
    "pylab.xlabel('Estado Civil')\n",
    "pylab.ylabel('Proporção de Classes (%)')\n",
    "pylab.ylim((0, 70))\n",
    "plt.title('Classificação por Estado Civil')\n",
    "plt.xticks(x_pos, x)\n",
    "\n",
    "#Lines\n",
    "# pylab.axhline(0.2518*100, color='black', linestyle='--', linewidth = 1)\n",
    "# pylab.axhline(0.7481*100, color='black', linestyle='--', linewidth = 1)\n",
    " \n",
    "# Create legend & Show graphic\n",
    "plt.legend(frameon=True, shadow=True)\n",
    "plt.show()"
   ]
  },
  {
   "cell_type": "markdown",
   "metadata": {},
   "source": [
    "## Profissão"
   ]
  },
  {
   "cell_type": "markdown",
   "metadata": {},
   "source": [
    "A categoria \"Liberal\" foi excluída da análise devido ao baixo número de instâncias."
   ]
  },
  {
   "cell_type": "code",
   "execution_count": 29,
   "metadata": {},
   "outputs": [
    {
     "data": {
      "text/plain": [
       "CATEGORIAL_PROFISSAO\n",
       "AGRICULTOR      3175\n",
       "APOSENTADO     18920\n",
       "ASSALARIADO    46088\n",
       "AUT+NOMO       26260\n",
       "dtype: int64"
      ]
     },
     "execution_count": 29,
     "metadata": {},
     "output_type": "execute_result"
    }
   ],
   "source": [
    "cp = tabelao.groupby('CATEGORIAL_PROFISSAO').size()[:-1]\n",
    "cp"
   ]
  },
  {
   "cell_type": "code",
   "execution_count": 30,
   "metadata": {},
   "outputs": [],
   "source": [
    "i = good.groupby('CATEGORIAL_PROFISSAO').size()[:-1]\n",
    "j = bad.groupby('CATEGORIAL_PROFISSAO').size()[:-1]"
   ]
  },
  {
   "cell_type": "code",
   "execution_count": 31,
   "metadata": {},
   "outputs": [],
   "source": [
    "cp_good = (i/i.sum()).values\n",
    "cp_bad = (j/j.sum()).values"
   ]
  },
  {
   "cell_type": "code",
   "execution_count": 32,
   "metadata": {},
   "outputs": [
    {
     "data": {
      "image/png": "[encoded data removed]",
      "text/plain": [
       "<Figure size 720x432 with 1 Axes>"
      ]
     },
     "metadata": {
      "needs_background": "light"
     },
     "output_type": "display_data"
    }
   ],
   "source": [
    "rcParams['figure.figsize'] = 10, 6\n",
    "# set width of bar\n",
    "barWidth = 0.3\n",
    "x = ['Agricultor', 'Aposentado', 'Assalariado', 'Autônomo']\n",
    "x_pos = [i + 0.5*barWidth for i, _ in enumerate(x)]\n",
    "\n",
    "# Set position of bar on X axis\n",
    "r1 = np.arange(len(cp_good))\n",
    "r2 = [x + barWidth for x in r1]\n",
    " \n",
    "# Make the plot\n",
    "plt.bar(r1, cp_good*100, width=barWidth, edgecolor='white', label='Bom')\n",
    "plt.bar(r2, cp_bad*100, width=barWidth, edgecolor='white', label='Mau')\n",
    " \n",
    "# Add xticks on the middle of the group bars\n",
    "pylab.xlabel('Profissão')\n",
    "pylab.ylabel('Proporção de Classes (%)')\n",
    "pylab.ylim((0, 60))\n",
    "plt.title('Classificação por Profissão')\n",
    "plt.xticks(x_pos, x)\n",
    "\n",
    "#Lines\n",
    "# pylab.axhline(0.2518*100, color='black', linestyle='--', linewidth = 1)\n",
    "# pylab.axhline(0.7481*100, color='black', linestyle='--', linewidth = 1)\n",
    " \n",
    "# Create legend & Show graphic\n",
    "plt.legend(frameon=True, shadow=True)\n",
    "plt.show()"
   ]
  },
  {
   "cell_type": "markdown",
   "metadata": {},
   "source": [
    "## Tipo de Residência"
   ]
  },
  {
   "cell_type": "markdown",
   "metadata": {},
   "source": [
    "As categorias \"FA\", \"FI\", \"SM\" foram excluídas da análise devido ao baixo número de instâncias."
   ]
  },
  {
   "cell_type": "code",
   "execution_count": 33,
   "metadata": {},
   "outputs": [
    {
     "data": {
      "text/plain": [
       "TIPO_RESIDENCIA\n",
       "AL     9566\n",
       "FA     2346\n",
       "FI     1936\n",
       "OU    23487\n",
       "PR    57965\n",
       "SM      154\n",
       "dtype: int64"
      ]
     },
     "execution_count": 33,
     "metadata": {},
     "output_type": "execute_result"
    }
   ],
   "source": [
    "tabelao.groupby('TIPO_RESIDENCIA').size()"
   ]
  },
  {
   "cell_type": "code",
   "execution_count": 34,
   "metadata": {},
   "outputs": [],
   "source": [
    "k = good.groupby('TIPO_RESIDENCIA').size()[['AL','OU', 'PR']]\n",
    "l = bad.groupby('TIPO_RESIDENCIA').size()[['AL','OU', 'PR']]"
   ]
  },
  {
   "cell_type": "code",
   "execution_count": 35,
   "metadata": {},
   "outputs": [],
   "source": [
    "tr_good = (k/k.sum()).values\n",
    "tr_bad = (l/l.sum()).values"
   ]
  },
  {
   "cell_type": "code",
   "execution_count": 36,
   "metadata": {},
   "outputs": [
    {
     "data": {
      "image/png": "[encoded data removed]",
      "text/plain": [
       "<Figure size 648x432 with 1 Axes>"
      ]
     },
     "metadata": {
      "needs_background": "light"
     },
     "output_type": "display_data"
    }
   ],
   "source": [
    "rcParams['figure.figsize'] = 9, 6\n",
    "# set width of bar\n",
    "barWidth = 0.3\n",
    "x = ['AL', 'OU', 'PR']\n",
    "x_pos = [i + 0.5*barWidth for i, _ in enumerate(x)]\n",
    "\n",
    "# Set position of bar on X axis\n",
    "r1 = np.arange(len(tr_good))\n",
    "r2 = [x + barWidth for x in r1]\n",
    " \n",
    "# Make the plot\n",
    "plt.bar(r1, tr_good*100, width=barWidth, edgecolor='white', label='Bom')\n",
    "plt.bar(r2, tr_bad*100, width=barWidth, edgecolor='white', label='Mau')\n",
    " \n",
    "# Add xticks on the middle of the group bars\n",
    "pylab.xlabel('Tipo Residência')\n",
    "pylab.ylabel('Proporção de Classes (%)')\n",
    "pylab.ylim((0, 80))\n",
    "\n",
    "plt.title('Classificação por Tipo de Residência')\n",
    "plt.xticks(x_pos, x)\n",
    "\n",
    "#Lines\n",
    "# pylab.axhline(0.2518*100, color='black', linestyle='--', linewidth = 1)\n",
    "# pylab.axhline(0.7481*100, color='black', linestyle='--', linewidth = 1)\n",
    " \n",
    "# Create legend & Show graphic\n",
    "plt.legend(frameon=True, shadow=True)\n",
    "plt.show()"
   ]
  },
  {
   "cell_type": "markdown",
   "metadata": {},
   "source": [
    "## Quantidade de dependentes"
   ]
  },
  {
   "cell_type": "code",
   "execution_count": 37,
   "metadata": {},
   "outputs": [
    {
     "data": {
      "text/plain": [
       "QTD_DEPENDENTES\n",
       "0.0     73576\n",
       "1.0     14514\n",
       "2.0      6014\n",
       "3.0      1674\n",
       "4.0       425\n",
       "5.0       119\n",
       "6.0        37\n",
       "7.0        14\n",
       "8.0        19\n",
       "9.0         4\n",
       "10.0        9\n",
       "dtype: int64"
      ]
     },
     "execution_count": 37,
     "metadata": {},
     "output_type": "execute_result"
    }
   ],
   "source": [
    "tabelao.groupby('QTD_DEPENDENTES').size()"
   ]
  },
  {
   "cell_type": "code",
   "execution_count": 38,
   "metadata": {},
   "outputs": [],
   "source": [
    "m = good.groupby('QTD_DEPENDENTES').size()\n",
    "n = bad.groupby('QTD_DEPENDENTES').size()"
   ]
  },
  {
   "cell_type": "code",
   "execution_count": 39,
   "metadata": {},
   "outputs": [
    {
     "data": {
      "text/plain": [
       "array([19221,  3333,  1724])"
      ]
     },
     "execution_count": 39,
     "metadata": {},
     "output_type": "execute_result"
    }
   ],
   "source": [
    "qtd_good = np.array([m[m.index == 0].sum(), \n",
    "        m[m.index == 1].sum(), \n",
    "        m[m.index >= 2].sum()])\n",
    "qtd_good"
   ]
  },
  {
   "cell_type": "code",
   "execution_count": 40,
   "metadata": {},
   "outputs": [
    {
     "data": {
      "text/plain": [
       "array([54355, 11181,  6591])"
      ]
     },
     "execution_count": 40,
     "metadata": {},
     "output_type": "execute_result"
    }
   ],
   "source": [
    "qtd_bad = np.array([n[n.index == 0].sum(), \n",
    "        n[n.index == 1].sum(), \n",
    "        n[n.index >= 2].sum()])\n",
    "qtd_bad"
   ]
  },
  {
   "cell_type": "code",
   "execution_count": 41,
   "metadata": {},
   "outputs": [
    {
     "data": {
      "image/png": "[encoded data removed]",
      "text/plain": [
       "<Figure size 648x432 with 1 Axes>"
      ]
     },
     "metadata": {
      "needs_background": "light"
     },
     "output_type": "display_data"
    }
   ],
   "source": [
    "rcParams['figure.figsize'] = 9, 6\n",
    "# set width of bar\n",
    "barWidth = 0.3\n",
    "x = ['0', '1', 'Acima de 1']\n",
    "x_pos = [i + 0.5*barWidth for i, _ in enumerate(x)]\n",
    "\n",
    "# Set position of bar on X axis\n",
    "r1 = np.arange(len(qtd_good))\n",
    "r2 = [x + barWidth for x in r1]\n",
    " \n",
    "# Make the plot\n",
    "plt.bar(r1, 100*qtd_good/qtd_good.sum(), width=barWidth, edgecolor='white', label='Bom')\n",
    "plt.bar(r2, 100*qtd_bad/qtd_bad.sum(), width=barWidth, edgecolor='white', label='Mau')\n",
    " \n",
    "# Add xticks on the middle of the group bars\n",
    "pylab.xlabel('Quantidade de Dependentes')\n",
    "pylab.ylabel('Proporção de Classes (%)')\n",
    "pylab.ylim((0, 80))\n",
    "\n",
    "plt.title('Classificação por Quantidade de Dependentes')\n",
    "plt.xticks(x_pos, x)\n",
    "\n",
    "#Lines\n",
    "# pylab.axhline(0.2518*100, color='black', linestyle='--', linewidth = 1)\n",
    "# pylab.axhline(0.7481*100, color='black', linestyle='--', linewidth = 1)\n",
    " \n",
    "# Create legend & Show graphic\n",
    "plt.legend(frameon=True, shadow=True)\n",
    "plt.show()"
   ]
  },
  {
   "cell_type": "markdown",
   "metadata": {},
   "source": [
    "## Correlação das Variáveis"
   ]
  },
  {
   "cell_type": "code",
   "execution_count": 42,
   "metadata": {},
   "outputs": [
    {
     "data": {
      "text/plain": [
       "<matplotlib.axes._subplots.AxesSubplot at 0x7f9ceb4e6b38>"
      ]
     },
     "execution_count": 42,
     "metadata": {},
     "output_type": "execute_result"
    },
    {
     "data": {
      "image/png": "[encoded data removed]",
      "text/plain": [
       "<Figure size 792x648 with 2 Axes>"
      ]
     },
     "metadata": {
      "needs_background": "light"
     },
     "output_type": "display_data"
    }
   ],
   "source": [
    "# Compute the correlation matrix\n",
    "corr = tabelao.iloc[:,1:].corr()\n",
    "\n",
    "# Generate a mask for the upper triangle\n",
    "mask = np.zeros_like(corr, dtype=np.bool)\n",
    "mask[np.triu_indices_from(mask)] = True\n",
    "\n",
    "# Set up the matplotlib figure\n",
    "f, ax = plt.subplots(figsize=(11, 9))\n",
    "\n",
    "# Generate a custom diverging colormap\n",
    "cmap = sns.diverging_palette(220, 10, as_cmap=True)\n",
    "\n",
    "# Draw the heatmap with the mask and correct aspect ratio\n",
    "sns.heatmap(corr, mask=mask, cmap=cmap, vmax=.3, center=0,\n",
    "            square=True, linewidths=.5, cbar_kws={\"shrink\": .5})"
   ]
  },
  {
   "cell_type": "code",
   "execution_count": null,
   "metadata": {},
   "outputs": [],
   "source": []
  }
 ],
 "metadata": {
  "kernelspec": {
   "display_name": "Python 3",
   "language": "python",
   "name": "python3"
  },
  "language_info": {
   "codemirror_mode": {
    "name": "ipython",
    "version": 3
   },
   "file_extension": ".py",
   "mimetype": "text/x-python",
   "name": "python",
   "nbconvert_exporter": "python",
   "pygments_lexer": "ipython3",
   "version": "3.6.7"
  }
 },
 "nbformat": 4,
 "nbformat_minor": 2
}
