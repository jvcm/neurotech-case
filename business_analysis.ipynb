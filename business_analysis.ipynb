{
 "cells": [
  {
   "cell_type": "code",
   "execution_count": 1,
   "metadata": {},
   "outputs": [],
   "source": [
    "import pandas as pd\n",
    "import numpy as np\n",
    "from datetime import *\n",
    "from dateutil.relativedelta import *\n",
    "import matplotlib.pyplot as plt\n",
    "from matplotlib import pylab\n",
    "import seaborn as sns\n",
    "sns.set()\n",
    "from matplotlib.pylab import rcParams"
   ]
  },
  {
   "cell_type": "code",
   "execution_count": 2,
   "metadata": {},
   "outputs": [],
   "source": [
    "tabelao = pd.read_csv(\"TABELAO_FINAL.csv\")\n",
    "tabelao.DATA_NASCIMENTO = pd.to_datetime(tabelao.DATA_NASCIMENTO)"
   ]
  },
  {
   "cell_type": "code",
   "execution_count": 3,
   "metadata": {},
   "outputs": [],
   "source": [
    "# idade = tabelao['DATA_NASCIMENTO'].apply(lambda x: (datetime.now().year - x.year))\n",
    "# tabelao.insert(loc=2, column='IDADE', value=idade.fillna(0).astype(int))\n",
    "# tabelao.to_csv('TABELAO_FINAL.csv',index=False)"
   ]
  },
  {
   "cell_type": "code",
   "execution_count": 4,
   "metadata": {
    "scrolled": true
   },
   "outputs": [
    {
     "data": {
      "text/html": [
       "<div>\n",
       "<style scoped>\n",
       "    .dataframe tbody tr th:only-of-type {\n",
       "        vertical-align: middle;\n",
       "    }\n",
       "\n",
       "    .dataframe tbody tr th {\n",
       "        vertical-align: top;\n",
       "    }\n",
       "\n",
       "    .dataframe thead th {\n",
       "        text-align: right;\n",
       "    }\n",
       "</style>\n",
       "<table border=\"1\" class=\"dataframe\">\n",
       "  <thead>\n",
       "    <tr style=\"text-align: right;\">\n",
       "      <th></th>\n",
       "      <th>CODIGO_CLIENTE</th>\n",
       "      <th>DATA_NASCIMENTO</th>\n",
       "      <th>IDADE</th>\n",
       "      <th>SEXO</th>\n",
       "      <th>ESTADO_CIVIL</th>\n",
       "      <th>CIDADE</th>\n",
       "      <th>UF</th>\n",
       "      <th>BAIRRO</th>\n",
       "      <th>CEP</th>\n",
       "      <th>QTD_DEPENDENTES</th>\n",
       "      <th>...</th>\n",
       "      <th>DATA_ADMISSAO</th>\n",
       "      <th>CATEGORIAL_PROFISSAO</th>\n",
       "      <th>TIPO_RESIDENCIA</th>\n",
       "      <th>RENDA_TITULAR</th>\n",
       "      <th>RENDA_CJ</th>\n",
       "      <th>OUTRAS_RENDAS</th>\n",
       "      <th>QTD_CARTOES_ADICIONAIS</th>\n",
       "      <th>FLAG_CONTA_BANCO</th>\n",
       "      <th>VALOR_HISTORICO_COMPRAS</th>\n",
       "      <th>CLASS</th>\n",
       "    </tr>\n",
       "  </thead>\n",
       "  <tbody>\n",
       "    <tr>\n",
       "      <th>0</th>\n",
       "      <td>875</td>\n",
       "      <td>1974-03-03</td>\n",
       "      <td>45</td>\n",
       "      <td>F</td>\n",
       "      <td>SO</td>\n",
       "      <td>SANTO CRISTO</td>\n",
       "      <td>RS</td>\n",
       "      <td>PHILIPPSEN</td>\n",
       "      <td>98960000.0</td>\n",
       "      <td>0.0</td>\n",
       "      <td>...</td>\n",
       "      <td>2003/02/10 00:00:00.000000000</td>\n",
       "      <td>AUT+NOMO</td>\n",
       "      <td>PR</td>\n",
       "      <td>1000.00</td>\n",
       "      <td>NaN</td>\n",
       "      <td>NaN</td>\n",
       "      <td>0</td>\n",
       "      <td>NaN</td>\n",
       "      <td>1225.73</td>\n",
       "      <td>1</td>\n",
       "    </tr>\n",
       "    <tr>\n",
       "      <th>1</th>\n",
       "      <td>1689</td>\n",
       "      <td>1978-02-20</td>\n",
       "      <td>41</td>\n",
       "      <td>M</td>\n",
       "      <td>SO</td>\n",
       "      <td>TOLEDO</td>\n",
       "      <td>PR</td>\n",
       "      <td>JARDIM COOPAGRO</td>\n",
       "      <td>85903370.0</td>\n",
       "      <td>0.0</td>\n",
       "      <td>...</td>\n",
       "      <td>NaN</td>\n",
       "      <td>APOSENTADO</td>\n",
       "      <td>AL</td>\n",
       "      <td>1152.00</td>\n",
       "      <td>NaN</td>\n",
       "      <td>NaN</td>\n",
       "      <td>0</td>\n",
       "      <td>NaN</td>\n",
       "      <td>1045.04</td>\n",
       "      <td>1</td>\n",
       "    </tr>\n",
       "    <tr>\n",
       "      <th>2</th>\n",
       "      <td>5140</td>\n",
       "      <td>1956-10-16</td>\n",
       "      <td>63</td>\n",
       "      <td>M</td>\n",
       "      <td>SO</td>\n",
       "      <td>SANTA ROSA</td>\n",
       "      <td>RS</td>\n",
       "      <td>CRUZEIRO</td>\n",
       "      <td>98900000.0</td>\n",
       "      <td>0.0</td>\n",
       "      <td>...</td>\n",
       "      <td>NaN</td>\n",
       "      <td>APOSENTADO</td>\n",
       "      <td>PR</td>\n",
       "      <td>1900.00</td>\n",
       "      <td>NaN</td>\n",
       "      <td>NaN</td>\n",
       "      <td>0</td>\n",
       "      <td>NaN</td>\n",
       "      <td>3280.56</td>\n",
       "      <td>1</td>\n",
       "    </tr>\n",
       "    <tr>\n",
       "      <th>3</th>\n",
       "      <td>7376</td>\n",
       "      <td>1961-01-22</td>\n",
       "      <td>58</td>\n",
       "      <td>M</td>\n",
       "      <td>SE</td>\n",
       "      <td>SANTA ROSA</td>\n",
       "      <td>RS</td>\n",
       "      <td>AUXILIADORA</td>\n",
       "      <td>98796524.0</td>\n",
       "      <td>0.0</td>\n",
       "      <td>...</td>\n",
       "      <td>1992/12/07 00:00:00.000000000</td>\n",
       "      <td>ASSALARIADO</td>\n",
       "      <td>PR</td>\n",
       "      <td>2182.00</td>\n",
       "      <td>NaN</td>\n",
       "      <td>NaN</td>\n",
       "      <td>0</td>\n",
       "      <td>S</td>\n",
       "      <td>1337.71</td>\n",
       "      <td>1</td>\n",
       "    </tr>\n",
       "    <tr>\n",
       "      <th>4</th>\n",
       "      <td>9042</td>\n",
       "      <td>1968-08-22</td>\n",
       "      <td>51</td>\n",
       "      <td>F</td>\n",
       "      <td>CA</td>\n",
       "      <td>SANTA ROSA</td>\n",
       "      <td>RS</td>\n",
       "      <td>CENTRAL</td>\n",
       "      <td>98787404.0</td>\n",
       "      <td>0.0</td>\n",
       "      <td>...</td>\n",
       "      <td>2004/07/16 00:00:00.000000000</td>\n",
       "      <td>ASSALARIADO</td>\n",
       "      <td>PR</td>\n",
       "      <td>3335.00</td>\n",
       "      <td>1800.0</td>\n",
       "      <td>NaN</td>\n",
       "      <td>0</td>\n",
       "      <td>NaN</td>\n",
       "      <td>5987.88</td>\n",
       "      <td>1</td>\n",
       "    </tr>\n",
       "    <tr>\n",
       "      <th>5</th>\n",
       "      <td>9659</td>\n",
       "      <td>1959-11-30</td>\n",
       "      <td>60</td>\n",
       "      <td>M</td>\n",
       "      <td>CA</td>\n",
       "      <td>SANTA ROSA</td>\n",
       "      <td>RS</td>\n",
       "      <td>CENTRO</td>\n",
       "      <td>98900000.0</td>\n",
       "      <td>0.0</td>\n",
       "      <td>...</td>\n",
       "      <td>NaN</td>\n",
       "      <td>APOSENTADO</td>\n",
       "      <td>PR</td>\n",
       "      <td>2242.00</td>\n",
       "      <td>1000.0</td>\n",
       "      <td>1000.0</td>\n",
       "      <td>0</td>\n",
       "      <td>S</td>\n",
       "      <td>1345.55</td>\n",
       "      <td>0</td>\n",
       "    </tr>\n",
       "    <tr>\n",
       "      <th>6</th>\n",
       "      <td>9945</td>\n",
       "      <td>1963-08-01</td>\n",
       "      <td>56</td>\n",
       "      <td>F</td>\n",
       "      <td>SE</td>\n",
       "      <td>SANTA ROSA</td>\n",
       "      <td>RS</td>\n",
       "      <td>TIMBAUVA</td>\n",
       "      <td>98781052.0</td>\n",
       "      <td>2.0</td>\n",
       "      <td>...</td>\n",
       "      <td>2014/05/02 00:00:00.000000000</td>\n",
       "      <td>ASSALARIADO</td>\n",
       "      <td>PR</td>\n",
       "      <td>5900.00</td>\n",
       "      <td>NaN</td>\n",
       "      <td>NaN</td>\n",
       "      <td>0</td>\n",
       "      <td>NaN</td>\n",
       "      <td>5929.81</td>\n",
       "      <td>1</td>\n",
       "    </tr>\n",
       "    <tr>\n",
       "      <th>7</th>\n",
       "      <td>10161</td>\n",
       "      <td>1960-06-07</td>\n",
       "      <td>59</td>\n",
       "      <td>M</td>\n",
       "      <td>CA</td>\n",
       "      <td>SANTA ROSA</td>\n",
       "      <td>RS</td>\n",
       "      <td>CENTRAL</td>\n",
       "      <td>98787518.0</td>\n",
       "      <td>0.0</td>\n",
       "      <td>...</td>\n",
       "      <td>NaN</td>\n",
       "      <td>APOSENTADO</td>\n",
       "      <td>PR</td>\n",
       "      <td>1100.00</td>\n",
       "      <td>NaN</td>\n",
       "      <td>NaN</td>\n",
       "      <td>0</td>\n",
       "      <td>NaN</td>\n",
       "      <td>6724.50</td>\n",
       "      <td>1</td>\n",
       "    </tr>\n",
       "    <tr>\n",
       "      <th>8</th>\n",
       "      <td>10992</td>\n",
       "      <td>1978-02-09</td>\n",
       "      <td>41</td>\n",
       "      <td>M</td>\n",
       "      <td>CA</td>\n",
       "      <td>SANTA ROSA</td>\n",
       "      <td>RS</td>\n",
       "      <td>CRUZEIRO</td>\n",
       "      <td>98900000.0</td>\n",
       "      <td>0.0</td>\n",
       "      <td>...</td>\n",
       "      <td>2001/02/01 00:00:00.000000000</td>\n",
       "      <td>AUT+NOMO</td>\n",
       "      <td>PR</td>\n",
       "      <td>3600.00</td>\n",
       "      <td>0.0</td>\n",
       "      <td>NaN</td>\n",
       "      <td>0</td>\n",
       "      <td>NaN</td>\n",
       "      <td>2570.25</td>\n",
       "      <td>1</td>\n",
       "    </tr>\n",
       "    <tr>\n",
       "      <th>9</th>\n",
       "      <td>12400</td>\n",
       "      <td>1949-05-14</td>\n",
       "      <td>70</td>\n",
       "      <td>M</td>\n",
       "      <td>SE</td>\n",
       "      <td>SANTA ROSA</td>\n",
       "      <td>RS</td>\n",
       "      <td>CENTRAL</td>\n",
       "      <td>98787396.0</td>\n",
       "      <td>0.0</td>\n",
       "      <td>...</td>\n",
       "      <td>1990/01/01 00:00:00.000000000</td>\n",
       "      <td>APOSENTADO</td>\n",
       "      <td>PR</td>\n",
       "      <td>2400.00</td>\n",
       "      <td>NaN</td>\n",
       "      <td>1.0</td>\n",
       "      <td>0</td>\n",
       "      <td>NaN</td>\n",
       "      <td>4664.40</td>\n",
       "      <td>1</td>\n",
       "    </tr>\n",
       "    <tr>\n",
       "      <th>10</th>\n",
       "      <td>12926</td>\n",
       "      <td>1955-09-15</td>\n",
       "      <td>64</td>\n",
       "      <td>M</td>\n",
       "      <td>SE</td>\n",
       "      <td>SANTA ROSA</td>\n",
       "      <td>RS</td>\n",
       "      <td>TIMBAUVA</td>\n",
       "      <td>98900000.0</td>\n",
       "      <td>0.0</td>\n",
       "      <td>...</td>\n",
       "      <td>NaN</td>\n",
       "      <td>APOSENTADO</td>\n",
       "      <td>FA</td>\n",
       "      <td>4352.00</td>\n",
       "      <td>NaN</td>\n",
       "      <td>NaN</td>\n",
       "      <td>0</td>\n",
       "      <td>NaN</td>\n",
       "      <td>2697.00</td>\n",
       "      <td>1</td>\n",
       "    </tr>\n",
       "    <tr>\n",
       "      <th>11</th>\n",
       "      <td>13316</td>\n",
       "      <td>1958-08-04</td>\n",
       "      <td>61</td>\n",
       "      <td>F</td>\n",
       "      <td>VI</td>\n",
       "      <td>SANTA ROSA</td>\n",
       "      <td>RS</td>\n",
       "      <td>CRUZEIRO</td>\n",
       "      <td>98789822.0</td>\n",
       "      <td>2.0</td>\n",
       "      <td>...</td>\n",
       "      <td>NaN</td>\n",
       "      <td>APOSENTADO</td>\n",
       "      <td>PR</td>\n",
       "      <td>937.00</td>\n",
       "      <td>NaN</td>\n",
       "      <td>NaN</td>\n",
       "      <td>0</td>\n",
       "      <td>NaN</td>\n",
       "      <td>1750.77</td>\n",
       "      <td>0</td>\n",
       "    </tr>\n",
       "    <tr>\n",
       "      <th>12</th>\n",
       "      <td>15228</td>\n",
       "      <td>1959-11-11</td>\n",
       "      <td>60</td>\n",
       "      <td>M</td>\n",
       "      <td>CA</td>\n",
       "      <td>SANTA ROSA</td>\n",
       "      <td>RS</td>\n",
       "      <td>AGRICOLA</td>\n",
       "      <td>98900000.0</td>\n",
       "      <td>2.0</td>\n",
       "      <td>...</td>\n",
       "      <td>NaN</td>\n",
       "      <td>APOSENTADO</td>\n",
       "      <td>PR</td>\n",
       "      <td>937.00</td>\n",
       "      <td>0.0</td>\n",
       "      <td>NaN</td>\n",
       "      <td>0</td>\n",
       "      <td>S</td>\n",
       "      <td>1163.90</td>\n",
       "      <td>0</td>\n",
       "    </tr>\n",
       "    <tr>\n",
       "      <th>13</th>\n",
       "      <td>15817</td>\n",
       "      <td>1960-01-25</td>\n",
       "      <td>59</td>\n",
       "      <td>F</td>\n",
       "      <td>CA</td>\n",
       "      <td>SANTA ROSA</td>\n",
       "      <td>RS</td>\n",
       "      <td>PLANALTO</td>\n",
       "      <td>98794132.0</td>\n",
       "      <td>0.0</td>\n",
       "      <td>...</td>\n",
       "      <td>NaN</td>\n",
       "      <td>AUT+NOMO</td>\n",
       "      <td>PR</td>\n",
       "      <td>1000.00</td>\n",
       "      <td>937.0</td>\n",
       "      <td>NaN</td>\n",
       "      <td>0</td>\n",
       "      <td>NaN</td>\n",
       "      <td>8647.77</td>\n",
       "      <td>1</td>\n",
       "    </tr>\n",
       "    <tr>\n",
       "      <th>14</th>\n",
       "      <td>16007</td>\n",
       "      <td>1942-11-11</td>\n",
       "      <td>77</td>\n",
       "      <td>F</td>\n",
       "      <td>VI</td>\n",
       "      <td>GIRUA</td>\n",
       "      <td>RS</td>\n",
       "      <td>ZIMPEL</td>\n",
       "      <td>98870000.0</td>\n",
       "      <td>0.0</td>\n",
       "      <td>...</td>\n",
       "      <td>NaN</td>\n",
       "      <td>APOSENTADO</td>\n",
       "      <td>PR</td>\n",
       "      <td>1750.00</td>\n",
       "      <td>NaN</td>\n",
       "      <td>NaN</td>\n",
       "      <td>0</td>\n",
       "      <td>NaN</td>\n",
       "      <td>2160.46</td>\n",
       "      <td>0</td>\n",
       "    </tr>\n",
       "    <tr>\n",
       "      <th>15</th>\n",
       "      <td>19314</td>\n",
       "      <td>1970-06-27</td>\n",
       "      <td>49</td>\n",
       "      <td>F</td>\n",
       "      <td>SO</td>\n",
       "      <td>SANTA ROSA</td>\n",
       "      <td>RS</td>\n",
       "      <td>CRUZEIRO</td>\n",
       "      <td>98789000.0</td>\n",
       "      <td>0.0</td>\n",
       "      <td>...</td>\n",
       "      <td>2016/11/01 00:00:00.000000000</td>\n",
       "      <td>ASSALARIADO</td>\n",
       "      <td>PR</td>\n",
       "      <td>1999.00</td>\n",
       "      <td>NaN</td>\n",
       "      <td>NaN</td>\n",
       "      <td>0</td>\n",
       "      <td>NaN</td>\n",
       "      <td>13394.86</td>\n",
       "      <td>1</td>\n",
       "    </tr>\n",
       "    <tr>\n",
       "      <th>16</th>\n",
       "      <td>20784</td>\n",
       "      <td>1976-06-12</td>\n",
       "      <td>43</td>\n",
       "      <td>M</td>\n",
       "      <td>CA</td>\n",
       "      <td>SANTA ROSA</td>\n",
       "      <td>RS</td>\n",
       "      <td>CRUZEIRO</td>\n",
       "      <td>98789326.0</td>\n",
       "      <td>0.0</td>\n",
       "      <td>...</td>\n",
       "      <td>2011/11/01 00:00:00.000000000</td>\n",
       "      <td>ASSALARIADO</td>\n",
       "      <td>PR</td>\n",
       "      <td>2468.00</td>\n",
       "      <td>0.0</td>\n",
       "      <td>NaN</td>\n",
       "      <td>0</td>\n",
       "      <td>NaN</td>\n",
       "      <td>4932.80</td>\n",
       "      <td>1</td>\n",
       "    </tr>\n",
       "    <tr>\n",
       "      <th>17</th>\n",
       "      <td>21142</td>\n",
       "      <td>1963-04-17</td>\n",
       "      <td>56</td>\n",
       "      <td>F</td>\n",
       "      <td>SO</td>\n",
       "      <td>SANTA ROSA</td>\n",
       "      <td>RS</td>\n",
       "      <td>CRUZEIRO</td>\n",
       "      <td>98789514.0</td>\n",
       "      <td>0.0</td>\n",
       "      <td>...</td>\n",
       "      <td>NaN</td>\n",
       "      <td>APOSENTADO</td>\n",
       "      <td>PR</td>\n",
       "      <td>937.00</td>\n",
       "      <td>NaN</td>\n",
       "      <td>NaN</td>\n",
       "      <td>0</td>\n",
       "      <td>NaN</td>\n",
       "      <td>474.86</td>\n",
       "      <td>1</td>\n",
       "    </tr>\n",
       "    <tr>\n",
       "      <th>18</th>\n",
       "      <td>21364</td>\n",
       "      <td>1959-12-11</td>\n",
       "      <td>60</td>\n",
       "      <td>M</td>\n",
       "      <td>SO</td>\n",
       "      <td>SANTA ROSA</td>\n",
       "      <td>RS</td>\n",
       "      <td>SULINA</td>\n",
       "      <td>98796240.0</td>\n",
       "      <td>0.0</td>\n",
       "      <td>...</td>\n",
       "      <td>NaN</td>\n",
       "      <td>APOSENTADO</td>\n",
       "      <td>PR</td>\n",
       "      <td>4000.00</td>\n",
       "      <td>NaN</td>\n",
       "      <td>980.0</td>\n",
       "      <td>0</td>\n",
       "      <td>NaN</td>\n",
       "      <td>7657.96</td>\n",
       "      <td>0</td>\n",
       "    </tr>\n",
       "    <tr>\n",
       "      <th>19</th>\n",
       "      <td>22742</td>\n",
       "      <td>1965-11-01</td>\n",
       "      <td>54</td>\n",
       "      <td>F</td>\n",
       "      <td>CA</td>\n",
       "      <td>SANTA ROSA</td>\n",
       "      <td>RS</td>\n",
       "      <td>GLORIA</td>\n",
       "      <td>98785350.0</td>\n",
       "      <td>1.0</td>\n",
       "      <td>...</td>\n",
       "      <td>NaN</td>\n",
       "      <td>APOSENTADO</td>\n",
       "      <td>AL</td>\n",
       "      <td>1249.34</td>\n",
       "      <td>450.0</td>\n",
       "      <td>NaN</td>\n",
       "      <td>0</td>\n",
       "      <td>NaN</td>\n",
       "      <td>759.64</td>\n",
       "      <td>1</td>\n",
       "    </tr>\n",
       "  </tbody>\n",
       "</table>\n",
       "<p>20 rows × 21 columns</p>\n",
       "</div>"
      ],
      "text/plain": [
       "    CODIGO_CLIENTE DATA_NASCIMENTO  IDADE SEXO ESTADO_CIVIL        CIDADE  UF  \\\n",
       "0              875      1974-03-03     45    F           SO  SANTO CRISTO  RS   \n",
       "1             1689      1978-02-20     41    M           SO        TOLEDO  PR   \n",
       "2             5140      1956-10-16     63    M           SO    SANTA ROSA  RS   \n",
       "3             7376      1961-01-22     58    M           SE    SANTA ROSA  RS   \n",
       "4             9042      1968-08-22     51    F           CA    SANTA ROSA  RS   \n",
       "5             9659      1959-11-30     60    M           CA    SANTA ROSA  RS   \n",
       "6             9945      1963-08-01     56    F           SE    SANTA ROSA  RS   \n",
       "7            10161      1960-06-07     59    M           CA    SANTA ROSA  RS   \n",
       "8            10992      1978-02-09     41    M           CA    SANTA ROSA  RS   \n",
       "9            12400      1949-05-14     70    M           SE    SANTA ROSA  RS   \n",
       "10           12926      1955-09-15     64    M           SE    SANTA ROSA  RS   \n",
       "11           13316      1958-08-04     61    F           VI    SANTA ROSA  RS   \n",
       "12           15228      1959-11-11     60    M           CA    SANTA ROSA  RS   \n",
       "13           15817      1960-01-25     59    F           CA    SANTA ROSA  RS   \n",
       "14           16007      1942-11-11     77    F           VI         GIRUA  RS   \n",
       "15           19314      1970-06-27     49    F           SO    SANTA ROSA  RS   \n",
       "16           20784      1976-06-12     43    M           CA    SANTA ROSA  RS   \n",
       "17           21142      1963-04-17     56    F           SO    SANTA ROSA  RS   \n",
       "18           21364      1959-12-11     60    M           SO    SANTA ROSA  RS   \n",
       "19           22742      1965-11-01     54    F           CA    SANTA ROSA  RS   \n",
       "\n",
       "             BAIRRO         CEP  QTD_DEPENDENTES  ...    \\\n",
       "0        PHILIPPSEN  98960000.0              0.0  ...     \n",
       "1   JARDIM COOPAGRO  85903370.0              0.0  ...     \n",
       "2          CRUZEIRO  98900000.0              0.0  ...     \n",
       "3       AUXILIADORA  98796524.0              0.0  ...     \n",
       "4           CENTRAL  98787404.0              0.0  ...     \n",
       "5            CENTRO  98900000.0              0.0  ...     \n",
       "6          TIMBAUVA  98781052.0              2.0  ...     \n",
       "7           CENTRAL  98787518.0              0.0  ...     \n",
       "8          CRUZEIRO  98900000.0              0.0  ...     \n",
       "9           CENTRAL  98787396.0              0.0  ...     \n",
       "10         TIMBAUVA  98900000.0              0.0  ...     \n",
       "11         CRUZEIRO  98789822.0              2.0  ...     \n",
       "12         AGRICOLA  98900000.0              2.0  ...     \n",
       "13         PLANALTO  98794132.0              0.0  ...     \n",
       "14           ZIMPEL  98870000.0              0.0  ...     \n",
       "15         CRUZEIRO  98789000.0              0.0  ...     \n",
       "16         CRUZEIRO  98789326.0              0.0  ...     \n",
       "17         CRUZEIRO  98789514.0              0.0  ...     \n",
       "18           SULINA  98796240.0              0.0  ...     \n",
       "19           GLORIA  98785350.0              1.0  ...     \n",
       "\n",
       "                    DATA_ADMISSAO CATEGORIAL_PROFISSAO TIPO_RESIDENCIA  \\\n",
       "0   2003/02/10 00:00:00.000000000             AUT+NOMO              PR   \n",
       "1                             NaN           APOSENTADO              AL   \n",
       "2                             NaN           APOSENTADO              PR   \n",
       "3   1992/12/07 00:00:00.000000000          ASSALARIADO              PR   \n",
       "4   2004/07/16 00:00:00.000000000          ASSALARIADO              PR   \n",
       "5                             NaN           APOSENTADO              PR   \n",
       "6   2014/05/02 00:00:00.000000000          ASSALARIADO              PR   \n",
       "7                             NaN           APOSENTADO              PR   \n",
       "8   2001/02/01 00:00:00.000000000             AUT+NOMO              PR   \n",
       "9   1990/01/01 00:00:00.000000000           APOSENTADO              PR   \n",
       "10                            NaN           APOSENTADO              FA   \n",
       "11                            NaN           APOSENTADO              PR   \n",
       "12                            NaN           APOSENTADO              PR   \n",
       "13                            NaN             AUT+NOMO              PR   \n",
       "14                            NaN           APOSENTADO              PR   \n",
       "15  2016/11/01 00:00:00.000000000          ASSALARIADO              PR   \n",
       "16  2011/11/01 00:00:00.000000000          ASSALARIADO              PR   \n",
       "17                            NaN           APOSENTADO              PR   \n",
       "18                            NaN           APOSENTADO              PR   \n",
       "19                            NaN           APOSENTADO              AL   \n",
       "\n",
       "   RENDA_TITULAR  RENDA_CJ  OUTRAS_RENDAS  QTD_CARTOES_ADICIONAIS  \\\n",
       "0        1000.00       NaN            NaN                       0   \n",
       "1        1152.00       NaN            NaN                       0   \n",
       "2        1900.00       NaN            NaN                       0   \n",
       "3        2182.00       NaN            NaN                       0   \n",
       "4        3335.00    1800.0            NaN                       0   \n",
       "5        2242.00    1000.0         1000.0                       0   \n",
       "6        5900.00       NaN            NaN                       0   \n",
       "7        1100.00       NaN            NaN                       0   \n",
       "8        3600.00       0.0            NaN                       0   \n",
       "9        2400.00       NaN            1.0                       0   \n",
       "10       4352.00       NaN            NaN                       0   \n",
       "11        937.00       NaN            NaN                       0   \n",
       "12        937.00       0.0            NaN                       0   \n",
       "13       1000.00     937.0            NaN                       0   \n",
       "14       1750.00       NaN            NaN                       0   \n",
       "15       1999.00       NaN            NaN                       0   \n",
       "16       2468.00       0.0            NaN                       0   \n",
       "17        937.00       NaN            NaN                       0   \n",
       "18       4000.00       NaN          980.0                       0   \n",
       "19       1249.34     450.0            NaN                       0   \n",
       "\n",
       "    FLAG_CONTA_BANCO VALOR_HISTORICO_COMPRAS  CLASS  \n",
       "0                NaN                 1225.73      1  \n",
       "1                NaN                 1045.04      1  \n",
       "2                NaN                 3280.56      1  \n",
       "3                  S                 1337.71      1  \n",
       "4                NaN                 5987.88      1  \n",
       "5                  S                 1345.55      0  \n",
       "6                NaN                 5929.81      1  \n",
       "7                NaN                 6724.50      1  \n",
       "8                NaN                 2570.25      1  \n",
       "9                NaN                 4664.40      1  \n",
       "10               NaN                 2697.00      1  \n",
       "11               NaN                 1750.77      0  \n",
       "12                 S                 1163.90      0  \n",
       "13               NaN                 8647.77      1  \n",
       "14               NaN                 2160.46      0  \n",
       "15               NaN                13394.86      1  \n",
       "16               NaN                 4932.80      1  \n",
       "17               NaN                  474.86      1  \n",
       "18               NaN                 7657.96      0  \n",
       "19               NaN                  759.64      1  \n",
       "\n",
       "[20 rows x 21 columns]"
      ]
     },
     "execution_count": 4,
     "metadata": {},
     "output_type": "execute_result"
    }
   ],
   "source": [
    "tabelao.head(20)"
   ]
  },
  {
   "cell_type": "code",
   "execution_count": 5,
   "metadata": {},
   "outputs": [
    {
     "name": "stdout",
     "output_type": "stream",
     "text": [
      "<class 'pandas.core.frame.DataFrame'>\n",
      "RangeIndex: 96390 entries, 0 to 96389\n",
      "Data columns (total 21 columns):\n",
      "CODIGO_CLIENTE             96390 non-null int64\n",
      "DATA_NASCIMENTO            96387 non-null datetime64[ns]\n",
      "IDADE                      96390 non-null int64\n",
      "SEXO                       96389 non-null object\n",
      "ESTADO_CIVIL               96389 non-null object\n",
      "CIDADE                     96390 non-null object\n",
      "UF                         96390 non-null object\n",
      "BAIRRO                     96390 non-null object\n",
      "CEP                        96390 non-null float64\n",
      "QTD_DEPENDENTES            96389 non-null float64\n",
      "DATA_CADASTRO              96390 non-null object\n",
      "DATA_ADMISSAO              52040 non-null object\n",
      "CATEGORIAL_PROFISSAO       94674 non-null object\n",
      "TIPO_RESIDENCIA            95438 non-null object\n",
      "RENDA_TITULAR              96384 non-null float64\n",
      "RENDA_CJ                   4393 non-null float64\n",
      "OUTRAS_RENDAS              11067 non-null float64\n",
      "QTD_CARTOES_ADICIONAIS     96390 non-null int64\n",
      "FLAG_CONTA_BANCO           7951 non-null object\n",
      "VALOR_HISTORICO_COMPRAS    96390 non-null float64\n",
      "CLASS                      96390 non-null int64\n",
      "dtypes: datetime64[ns](1), float64(6), int64(4), object(10)\n",
      "memory usage: 15.4+ MB\n"
     ]
    }
   ],
   "source": [
    "tabelao.info()"
   ]
  },
  {
   "cell_type": "code",
   "execution_count": 6,
   "metadata": {},
   "outputs": [],
   "source": [
    "good = tabelao[tabelao.CLASS == 0]\n",
    "bad = tabelao[tabelao.CLASS == 1]"
   ]
  },
  {
   "cell_type": "markdown",
   "metadata": {},
   "source": [
    "## Idade"
   ]
  },
  {
   "cell_type": "markdown",
   "metadata": {},
   "source": [
    "Faixa de idade:"
   ]
  },
  {
   "cell_type": "code",
   "execution_count": 7,
   "metadata": {
    "scrolled": true
   },
   "outputs": [],
   "source": [
    "a = good.groupby('IDADE').size()"
   ]
  },
  {
   "cell_type": "code",
   "execution_count": 8,
   "metadata": {},
   "outputs": [],
   "source": [
    "good_age = [a[(a.index > 0) & (a.index <= 25)].sum(), \n",
    "        a[(a.index > 25) & (a.index <= 35)].sum(), \n",
    "        a[(a.index > 35) & (a.index <= 45)].sum(),\n",
    "        a[(a.index > 45) & (a.index <= 55)].sum(),\n",
    "        a[(a.index > 55) & (a.index <= 65)].sum(),\n",
    "        a[(a.index > 65)].sum()]\n",
    "good_age = np.array(good_age)"
   ]
  },
  {
   "cell_type": "code",
   "execution_count": 9,
   "metadata": {},
   "outputs": [],
   "source": [
    "b = bad.groupby('IDADE').size()"
   ]
  },
  {
   "cell_type": "code",
   "execution_count": 10,
   "metadata": {},
   "outputs": [],
   "source": [
    "bad_age = [b[(b.index > 0) & (b.index <= 25)].sum(), \n",
    "        b[(b.index > 25) & (b.index <= 35)].sum(), \n",
    "        b[(b.index > 35) & (b.index <= 45)].sum(),\n",
    "        b[(b.index > 45) & (b.index <= 55)].sum(),\n",
    "        b[(b.index > 55) & (b.index <= 65)].sum(),\n",
    "        b[(b.index > 65)].sum()]\n",
    "bad_age = np.array(bad_age)"
   ]
  },
  {
   "cell_type": "markdown",
   "metadata": {},
   "source": [
    "Gráfico:"
   ]
  },
  {
   "cell_type": "code",
   "execution_count": 11,
   "metadata": {},
   "outputs": [
    {
     "data": {
      "image/png": "[encoded data removed]",
      "text/plain": [
       "<Figure size 864x432 with 1 Axes>"
      ]
     },
     "metadata": {
      "needs_background": "light"
     },
     "output_type": "display_data"
    }
   ],
   "source": [
    "rcParams['figure.figsize'] = 12, 6\n",
    "# set width of bar\n",
    "barWidth = 0.3\n",
    "x = ['Até 25', '25 - 35', '35 - 45', '45 - 55', '55 - 65', 'Mais de 65']\n",
    "x_pos = [i + 0.5*barWidth for i, _ in enumerate(x)]\n",
    "\n",
    "# Set position of bar on X axis\n",
    "r1 = np.arange(len(good_age))\n",
    "r2 = [x + barWidth for x in r1]\n",
    " \n",
    "# Make the plot\n",
    "plt.bar(r1, 100*good_age/good_age.sum(), width=barWidth, edgecolor='white', label='Bom')\n",
    "plt.bar(r2, 100*bad_age/bad_age.sum(), width=barWidth, edgecolor='white', label='Mau')\n",
    " \n",
    "# Add xticks on the middle of the group bars\n",
    "pylab.xlabel('Faixa Etária (anos)')\n",
    "pylab.ylabel('Proporção de Classes (%)')\n",
    "pylab.ylim((0, 40))\n",
    "plt.title('Classificação por Idade')\n",
    "plt.xticks(x_pos, x)\n",
    " \n",
    "# Create legend & Show graphic\n",
    "plt.legend(frameon=True, shadow=True)\n",
    "plt.show()"
   ]
  },
  {
   "cell_type": "markdown",
   "metadata": {},
   "source": [
    "## Sexo"
   ]
  },
  {
   "cell_type": "code",
   "execution_count": 12,
   "metadata": {},
   "outputs": [
    {
     "name": "stdout",
     "output_type": "stream",
     "text": [
      "Mulher: 0.516776 \n",
      "Homem: 0.483214\n"
     ]
    },
    {
     "data": {
      "text/plain": [
       "F    49812\n",
       "M    46577\n",
       "Name: SEXO, dtype: int64"
      ]
     },
     "execution_count": 12,
     "metadata": {},
     "output_type": "execute_result"
    }
   ],
   "source": [
    "print('Mulher: %f' %(tabelao.SEXO.value_counts()[0]/len(tabelao.SEXO)),\n",
    "      '\\nHomem: %f' %(tabelao.SEXO.value_counts()[1]/len(tabelao.SEXO)))\n",
    "tabelao.SEXO.value_counts()"
   ]
  },
  {
   "cell_type": "code",
   "execution_count": 13,
   "metadata": {},
   "outputs": [],
   "source": [
    "c = good.groupby('SEXO').size()\n",
    "d = bad.groupby('SEXO').size()"
   ]
  },
  {
   "cell_type": "markdown",
   "metadata": {},
   "source": [
    "Gráficos:"
   ]
  },
  {
   "cell_type": "code",
   "execution_count": 14,
   "metadata": {},
   "outputs": [
    {
     "data": {
      "image/png": "[encoded data removed]",
      "text/plain": [
       "<Figure size 288x288 with 1 Axes>"
      ]
     },
     "metadata": {},
     "output_type": "display_data"
    },
    {
     "data": {
      "image/png": "[encoded data removed]",
      "text/plain": [
       "<Figure size 288x288 with 1 Axes>"
      ]
     },
     "metadata": {},
     "output_type": "display_data"
    }
   ],
   "source": [
    "rcParams['figure.figsize'] = 4, 4\n",
    "\n",
    "# Data to plot\n",
    "labels = ['Mulher', 'Homem']\n",
    "sizes = [c.values, d.values]\n",
    "explode = (0.02,0.02)\n",
    "colors = ['#ff6666', '#99ff99']\n",
    "\n",
    "titles = ['Bons Pagadores', 'Maus Pagadores']\n",
    "for i, title in enumerate(titles):\n",
    "    # Plot\n",
    "    plt.figure(0)\n",
    "    plt.pie(sizes[i], labels=labels, colors=colors, radius=0.75,startangle=90,explode=explode,autopct='%1.1f%%')\n",
    "    \n",
    "    # Draw white circle in the middle\n",
    "    centre_circle = plt.Circle((0,0),0.40,fc='white')\n",
    "    fig = plt.gcf()\n",
    "    fig.gca().add_artist(centre_circle)\n",
    "    \n",
    "    # Axis\n",
    "    plt.axis('equal')\n",
    "    plt.tight_layout()\n",
    "    pylab.title(title)\n",
    "    plt.show()\n",
    "\n"
   ]
  },
  {
   "cell_type": "markdown",
   "metadata": {},
   "source": [
    "## Renda titular"
   ]
  },
  {
   "cell_type": "code",
   "execution_count": 15,
   "metadata": {},
   "outputs": [
    {
     "data": {
      "text/plain": [
       "count     96384.000000\n",
       "mean       1683.176975\n",
       "std        1400.902507\n",
       "min         400.000000\n",
       "25%        1060.000000\n",
       "50%        1400.000000\n",
       "75%        1940.000000\n",
       "max      180000.000000\n",
       "Name: RENDA_TITULAR, dtype: float64"
      ]
     },
     "execution_count": 15,
     "metadata": {},
     "output_type": "execute_result"
    }
   ],
   "source": [
    "tabelao.RENDA_TITULAR.describe()"
   ]
  },
  {
   "cell_type": "code",
   "execution_count": 16,
   "metadata": {},
   "outputs": [],
   "source": [
    "base = 990.0"
   ]
  },
  {
   "cell_type": "code",
   "execution_count": 17,
   "metadata": {},
   "outputs": [],
   "source": [
    "e = good.groupby('RENDA_TITULAR').size()\n",
    "f = bad.groupby('RENDA_TITULAR').size()"
   ]
  },
  {
   "cell_type": "code",
   "execution_count": 18,
   "metadata": {},
   "outputs": [
    {
     "data": {
      "text/plain": [
       "[4120, 9089, 3063, 985, 879]"
      ]
     },
     "execution_count": 18,
     "metadata": {},
     "output_type": "execute_result"
    }
   ],
   "source": [
    "good_wage = [e[(e.index > 0) & (e.index <= base)].sum(), \n",
    "        e[(e.index > base) & (e.index <= 2*base)].sum(), \n",
    "        e[(e.index > 2*base) & (e.index <= 3*base)].sum(),\n",
    "        e[(e.index > 3*base) & (e.index <= 4*base)].sum(),\n",
    "        e[(e.index > 4*base)].sum()]\n",
    "good_wage"
   ]
  },
  {
   "cell_type": "code",
   "execution_count": 19,
   "metadata": {},
   "outputs": [
    {
     "data": {
      "text/plain": [
       "[14736, 44875, 12326, 3417, 2894]"
      ]
     },
     "execution_count": 19,
     "metadata": {},
     "output_type": "execute_result"
    }
   ],
   "source": [
    "bad_wage = [f[(f.index > 0) & (f.index <= base)].sum(), \n",
    "        f[(f.index > base) & (f.index <= 2*base)].sum(), \n",
    "        f[(f.index > 2*base) & (f.index <= 3*base)].sum(),\n",
    "        f[(f.index > 3*base) & (f.index <= 4*base)].sum(),\n",
    "        f[(f.index > 4*base)].sum()]\n",
    "bad_wage"
   ]
  },
  {
   "cell_type": "code",
   "execution_count": 20,
   "metadata": {},
   "outputs": [
    {
     "name": "stdout",
     "output_type": "stream",
     "text": [
      "good: [0.22717247 0.50115792 0.1688906  0.05431187 0.04846714] \n",
      "bad: [0.1883243  0.57349709 0.15752479 0.04366885 0.03698497]\n"
     ]
    }
   ],
   "source": [
    "gw = np.array(good_wage)\n",
    "bw = np.array(bad_wage)\n",
    "print('good:',gw/(gw.sum()),'\\nbad:',bw/(bw.sum()))"
   ]
  },
  {
   "cell_type": "code",
   "execution_count": 21,
   "metadata": {},
   "outputs": [
    {
     "data": {
      "image/png": "[encoded data removed]",
      "text/plain": [
       "<Figure size 864x432 with 1 Axes>"
      ]
     },
     "metadata": {
      "needs_background": "light"
     },
     "output_type": "display_data"
    }
   ],
   "source": [
    "rcParams['figure.figsize'] = 12, 6\n",
    "# set width of bar\n",
    "barWidth = 0.3\n",
    "x = ['Até 1', '1 - 2', '2 - 3', '3 - 4', 'Acima de 4']\n",
    "x_pos = [i + 0.5*barWidth for i, _ in enumerate(x)]\n",
    "\n",
    "# Set position of bar on X axis\n",
    "r1 = np.arange(len(good_wage))\n",
    "r2 = [x + barWidth for x in r1]\n",
    " \n",
    "# Make the plot\n",
    "plt.bar(r1, gw/(gw.sum())*100, width=barWidth, edgecolor='white', label='Bom')\n",
    "plt.bar(r2, bw/(bw.sum())*100, width=barWidth, edgecolor='white', label='Mau')\n",
    " \n",
    "# Add xticks on the middle of the group bars\n",
    "pylab.xlabel('Renda Titular (salário mínimo)')\n",
    "pylab.ylabel('Proporção de Classes (%)')\n",
    "pylab.ylim((0, 70))\n",
    "plt.title('Classificação por Renda')\n",
    "plt.xticks(x_pos, x)\n",
    " \n",
    "# Create legend & Show graphic\n",
    "plt.legend(frameon=True, shadow=True)\n",
    "plt.show()"
   ]
  },
  {
   "cell_type": "code",
   "execution_count": 22,
   "metadata": {},
   "outputs": [
    {
     "name": "stdout",
     "output_type": "stream",
     "text": [
      "all good: 0.18817304699657642 \n",
      "all bad: 0.8118269530034236\n"
     ]
    }
   ],
   "source": [
    "print('all good:', len(good)/(len(bad)+len(good)),'\\nall bad:',len(bad)/(len(bad)+len(good)))"
   ]
  },
  {
   "cell_type": "markdown",
   "metadata": {},
   "source": [
    "## Estado civil"
   ]
  },
  {
   "cell_type": "code",
   "execution_count": 23,
   "metadata": {},
   "outputs": [
    {
     "data": {
      "text/plain": [
       "ESTADO_CIVIL\n",
       "CA    25399\n",
       "CO    10867\n",
       "SE     5387\n",
       "SO    49907\n",
       "VI     4829\n",
       "dtype: int64"
      ]
     },
     "execution_count": 23,
     "metadata": {},
     "output_type": "execute_result"
    }
   ],
   "source": [
    "ec = tabelao.groupby('ESTADO_CIVIL').size()\n",
    "ec"
   ]
  },
  {
   "cell_type": "code",
   "execution_count": 24,
   "metadata": {},
   "outputs": [
    {
     "name": "stdout",
     "output_type": "stream",
     "text": [
      "Proporção natural da base:\n"
     ]
    },
    {
     "data": {
      "text/plain": [
       "array([0.26350517, 0.11274108, 0.05588812, 0.51776655, 0.05009908])"
      ]
     },
     "execution_count": 24,
     "metadata": {},
     "output_type": "execute_result"
    }
   ],
   "source": [
    "print('Proporção natural da base:')\n",
    "ec.values/ec.sum()"
   ]
  },
  {
   "cell_type": "code",
   "execution_count": 25,
   "metadata": {},
   "outputs": [],
   "source": [
    "g = good.groupby('ESTADO_CIVIL').size()\n",
    "h = bad.groupby('ESTADO_CIVIL').size()"
   ]
  },
  {
   "cell_type": "code",
   "execution_count": 26,
   "metadata": {},
   "outputs": [],
   "source": [
    "ec_good = (g/g.sum()).values"
   ]
  },
  {
   "cell_type": "code",
   "execution_count": 27,
   "metadata": {},
   "outputs": [],
   "source": [
    "ec_bad = (h/h.sum()).values"
   ]
  },
  {
   "cell_type": "code",
   "execution_count": 28,
   "metadata": {},
   "outputs": [
    {
     "data": {
      "image/png": "[encoded data removed]",
      "text/plain": [
       "<Figure size 864x432 with 1 Axes>"
      ]
     },
     "metadata": {
      "needs_background": "light"
     },
     "output_type": "display_data"
    }
   ],
   "source": [
    "rcParams['figure.figsize'] = 12, 6\n",
    "# set width of bar\n",
    "barWidth = 0.3\n",
    "x = ['CA', 'CO', 'SE', 'SO', 'VI']\n",
    "x_pos = [i + 0.5*barWidth for i, _ in enumerate(x)]\n",
    "\n",
    "# Set position of bar on X axis\n",
    "r1 = np.arange(len(ec_good))\n",
    "r2 = [x + barWidth for x in r1]\n",
    " \n",
    "# Make the plot\n",
    "plt.bar(r1, ec_good*100, width=barWidth, edgecolor='white', label='Bom')\n",
    "plt.bar(r2, ec_bad*100, width=barWidth, edgecolor='white', label='Mau')\n",
    " \n",
    "# Add xticks on the middle of the group bars\n",
    "pylab.xlabel('Estado Civil')\n",
    "pylab.ylabel('Proporção de Classes (%)')\n",
    "pylab.ylim((0, 70))\n",
    "plt.title('Classificação por Estado Civil')\n",
    "plt.xticks(x_pos, x)\n",
    "\n",
    "#Lines\n",
    "# pylab.axhline(0.2518*100, color='black', linestyle='--', linewidth = 1)\n",
    "# pylab.axhline(0.7481*100, color='black', linestyle='--', linewidth = 1)\n",
    " \n",
    "# Create legend & Show graphic\n",
    "plt.legend(frameon=True, shadow=True)\n",
    "plt.show()"
   ]
  },
  {
   "cell_type": "markdown",
   "metadata": {},
   "source": [
    "## Profissão"
   ]
  },
  {
   "cell_type": "markdown",
   "metadata": {},
   "source": [
    "A categoria \"Liberal\" foi excluída da análise devido ao baixo número de instâncias."
   ]
  },
  {
   "cell_type": "code",
   "execution_count": 29,
   "metadata": {},
   "outputs": [
    {
     "data": {
      "text/plain": [
       "CATEGORIAL_PROFISSAO\n",
       "AGRICULTOR      3175\n",
       "APOSENTADO     18916\n",
       "ASSALARIADO    46081\n",
       "AUT+NOMO       26255\n",
       "dtype: int64"
      ]
     },
     "execution_count": 29,
     "metadata": {},
     "output_type": "execute_result"
    }
   ],
   "source": [
    "cp = tabelao.groupby('CATEGORIAL_PROFISSAO').size()[:-1]\n",
    "cp"
   ]
  },
  {
   "cell_type": "code",
   "execution_count": 30,
   "metadata": {},
   "outputs": [],
   "source": [
    "i = good.groupby('CATEGORIAL_PROFISSAO').size()[:-1]\n",
    "j = bad.groupby('CATEGORIAL_PROFISSAO').size()[:-1]"
   ]
  },
  {
   "cell_type": "code",
   "execution_count": 31,
   "metadata": {},
   "outputs": [],
   "source": [
    "cp_good = (i/i.sum()).values\n",
    "cp_bad = (j/j.sum()).values"
   ]
  },
  {
   "cell_type": "code",
   "execution_count": 32,
   "metadata": {},
   "outputs": [
    {
     "data": {
      "image/png": "[encoded data removed]",
      "text/plain": [
       "<Figure size 720x432 with 1 Axes>"
      ]
     },
     "metadata": {
      "needs_background": "light"
     },
     "output_type": "display_data"
    }
   ],
   "source": [
    "rcParams['figure.figsize'] = 10, 6\n",
    "# set width of bar\n",
    "barWidth = 0.3\n",
    "x = ['Agricultor', 'Aposentado', 'Assalariado', 'Autônomo']\n",
    "x_pos = [i + 0.5*barWidth for i, _ in enumerate(x)]\n",
    "\n",
    "# Set position of bar on X axis\n",
    "r1 = np.arange(len(cp_good))\n",
    "r2 = [x + barWidth for x in r1]\n",
    " \n",
    "# Make the plot\n",
    "plt.bar(r1, cp_good*100, width=barWidth, edgecolor='white', label='Bom')\n",
    "plt.bar(r2, cp_bad*100, width=barWidth, edgecolor='white', label='Mau')\n",
    " \n",
    "# Add xticks on the middle of the group bars\n",
    "pylab.xlabel('Profissão')\n",
    "pylab.ylabel('Proporção de Classes (%)')\n",
    "pylab.ylim((0, 60))\n",
    "plt.title('Classificação por Profissão')\n",
    "plt.xticks(x_pos, x)\n",
    "\n",
    "#Lines\n",
    "# pylab.axhline(0.2518*100, color='black', linestyle='--', linewidth = 1)\n",
    "# pylab.axhline(0.7481*100, color='black', linestyle='--', linewidth = 1)\n",
    " \n",
    "# Create legend & Show graphic\n",
    "plt.legend(frameon=True, shadow=True)\n",
    "plt.show()"
   ]
  },
  {
   "cell_type": "markdown",
   "metadata": {},
   "source": [
    "## Tipo de Residência"
   ]
  },
  {
   "cell_type": "markdown",
   "metadata": {},
   "source": [
    "As categorias \"FA\", \"FI\", \"SM\" foram excluídas da análise devido ao baixo número de instâncias."
   ]
  },
  {
   "cell_type": "code",
   "execution_count": 33,
   "metadata": {},
   "outputs": [
    {
     "data": {
      "text/plain": [
       "TIPO_RESIDENCIA\n",
       "AL     9565\n",
       "FA     2346\n",
       "FI     1936\n",
       "OU    23485\n",
       "PR    57952\n",
       "SM      154\n",
       "dtype: int64"
      ]
     },
     "execution_count": 33,
     "metadata": {},
     "output_type": "execute_result"
    }
   ],
   "source": [
    "tabelao.groupby('TIPO_RESIDENCIA').size()"
   ]
  },
  {
   "cell_type": "code",
   "execution_count": 34,
   "metadata": {},
   "outputs": [],
   "source": [
    "k = good.groupby('TIPO_RESIDENCIA').size()[['AL','OU', 'PR']]\n",
    "l = bad.groupby('TIPO_RESIDENCIA').size()[['AL','OU', 'PR']]"
   ]
  },
  {
   "cell_type": "code",
   "execution_count": 35,
   "metadata": {},
   "outputs": [],
   "source": [
    "tr_good = (k/k.sum()).values\n",
    "tr_bad = (l/l.sum()).values"
   ]
  },
  {
   "cell_type": "code",
   "execution_count": 36,
   "metadata": {},
   "outputs": [
    {
     "data": {
      "image/png": "[encoded data removed]",
      "text/plain": [
       "<Figure size 648x432 with 1 Axes>"
      ]
     },
     "metadata": {
      "needs_background": "light"
     },
     "output_type": "display_data"
    }
   ],
   "source": [
    "rcParams['figure.figsize'] = 9, 6\n",
    "# set width of bar\n",
    "barWidth = 0.3\n",
    "x = ['AL', 'OU', 'PR']\n",
    "x_pos = [i + 0.5*barWidth for i, _ in enumerate(x)]\n",
    "\n",
    "# Set position of bar on X axis\n",
    "r1 = np.arange(len(tr_good))\n",
    "r2 = [x + barWidth for x in r1]\n",
    " \n",
    "# Make the plot\n",
    "plt.bar(r1, tr_good*100, width=barWidth, edgecolor='white', label='Bom')\n",
    "plt.bar(r2, tr_bad*100, width=barWidth, edgecolor='white', label='Mau')\n",
    " \n",
    "# Add xticks on the middle of the group bars\n",
    "pylab.xlabel('Tipo Residência')\n",
    "pylab.ylabel('Proporção de Classes (%)')\n",
    "pylab.ylim((0, 80))\n",
    "\n",
    "plt.title('Classificação por Tipo de Residência')\n",
    "plt.xticks(x_pos, x)\n",
    "\n",
    "#Lines\n",
    "# pylab.axhline(0.2518*100, color='black', linestyle='--', linewidth = 1)\n",
    "# pylab.axhline(0.7481*100, color='black', linestyle='--', linewidth = 1)\n",
    " \n",
    "# Create legend & Show graphic\n",
    "plt.legend(frameon=True, shadow=True)\n",
    "plt.show()"
   ]
  },
  {
   "cell_type": "markdown",
   "metadata": {},
   "source": [
    "## Quantidade de dependentes"
   ]
  },
  {
   "cell_type": "code",
   "execution_count": 37,
   "metadata": {},
   "outputs": [
    {
     "data": {
      "text/plain": [
       "QTD_DEPENDENTES\n",
       "0.0     73562\n",
       "1.0     14513\n",
       "2.0      6013\n",
       "3.0      1674\n",
       "4.0       425\n",
       "5.0       119\n",
       "6.0        37\n",
       "7.0        14\n",
       "8.0        19\n",
       "9.0         4\n",
       "10.0        9\n",
       "dtype: int64"
      ]
     },
     "execution_count": 37,
     "metadata": {},
     "output_type": "execute_result"
    }
   ],
   "source": [
    "tabelao.groupby('QTD_DEPENDENTES').size()"
   ]
  },
  {
   "cell_type": "code",
   "execution_count": 38,
   "metadata": {},
   "outputs": [],
   "source": [
    "m = good.groupby('QTD_DEPENDENTES').size()\n",
    "n = bad.groupby('QTD_DEPENDENTES').size()"
   ]
  },
  {
   "cell_type": "code",
   "execution_count": 39,
   "metadata": {},
   "outputs": [
    {
     "data": {
      "text/plain": [
       "array([14497,  2437,  1203])"
      ]
     },
     "execution_count": 39,
     "metadata": {},
     "output_type": "execute_result"
    }
   ],
   "source": [
    "qtd_good = np.array([m[m.index == 0].sum(), \n",
    "        m[m.index == 1].sum(), \n",
    "        m[m.index >= 2].sum()])\n",
    "qtd_good"
   ]
  },
  {
   "cell_type": "code",
   "execution_count": 40,
   "metadata": {},
   "outputs": [
    {
     "data": {
      "text/plain": [
       "array([59065, 12076,  7111])"
      ]
     },
     "execution_count": 40,
     "metadata": {},
     "output_type": "execute_result"
    }
   ],
   "source": [
    "qtd_bad = np.array([n[n.index == 0].sum(), \n",
    "        n[n.index == 1].sum(), \n",
    "        n[n.index >= 2].sum()])\n",
    "qtd_bad"
   ]
  },
  {
   "cell_type": "code",
   "execution_count": 41,
   "metadata": {},
   "outputs": [
    {
     "data": {
      "image/png": "[encoded data removed]",
      "text/plain": [
       "<Figure size 648x432 with 1 Axes>"
      ]
     },
     "metadata": {
      "needs_background": "light"
     },
     "output_type": "display_data"
    }
   ],
   "source": [
    "rcParams['figure.figsize'] = 9, 6\n",
    "# set width of bar\n",
    "barWidth = 0.3\n",
    "x = ['0', '1', 'Acima de 1']\n",
    "x_pos = [i + 0.5*barWidth for i, _ in enumerate(x)]\n",
    "\n",
    "# Set position of bar on X axis\n",
    "r1 = np.arange(len(qtd_good))\n",
    "r2 = [x + barWidth for x in r1]\n",
    " \n",
    "# Make the plot\n",
    "plt.bar(r1, 100*qtd_good/qtd_good.sum(), width=barWidth, edgecolor='white', label='Bom')\n",
    "plt.bar(r2, 100*qtd_bad/qtd_bad.sum(), width=barWidth, edgecolor='white', label='Mau')\n",
    " \n",
    "# Add xticks on the middle of the group bars\n",
    "pylab.xlabel('Quantidade de Dependentes')\n",
    "pylab.ylabel('Proporção de Classes (%)')\n",
    "pylab.ylim((0, 100))\n",
    "\n",
    "plt.title('Classificação por Quantidade de Dependentes')\n",
    "plt.xticks(x_pos, x)\n",
    "\n",
    "#Lines\n",
    "# pylab.axhline(0.2518*100, color='black', linestyle='--', linewidth = 1)\n",
    "# pylab.axhline(0.7481*100, color='black', linestyle='--', linewidth = 1)\n",
    " \n",
    "# Create legend & Show graphic\n",
    "plt.legend(frameon=True, shadow=True)\n",
    "plt.show()"
   ]
  },
  {
   "cell_type": "markdown",
   "metadata": {},
   "source": [
    "## Correlação das Variáveis"
   ]
  },
  {
   "cell_type": "code",
   "execution_count": 42,
   "metadata": {},
   "outputs": [
    {
     "data": {
      "text/plain": [
       "<matplotlib.axes._subplots.AxesSubplot at 0x7f7b4b8601d0>"
      ]
     },
     "execution_count": 42,
     "metadata": {},
     "output_type": "execute_result"
    },
    {
     "data": {
      "image/png": "[encoded data removed]",
      "text/plain": [
       "<Figure size 792x648 with 2 Axes>"
      ]
     },
     "metadata": {
      "needs_background": "light"
     },
     "output_type": "display_data"
    }
   ],
   "source": [
    "# Compute the correlation matrix\n",
    "corr = tabelao.iloc[:,1:].corr()\n",
    "\n",
    "# Generate a mask for the upper triangle\n",
    "mask = np.zeros_like(corr, dtype=np.bool)\n",
    "mask[np.triu_indices_from(mask)] = True\n",
    "\n",
    "# Set up the matplotlib figure\n",
    "f, ax = plt.subplots(figsize=(11, 9))\n",
    "\n",
    "# Generate a custom diverging colormap\n",
    "cmap = sns.diverging_palette(220, 10, as_cmap=True)\n",
    "\n",
    "# Draw the heatmap with the mask and correct aspect ratio\n",
    "sns.heatmap(corr, mask=mask, cmap=cmap, vmax=.3, center=0,\n",
    "            square=True, linewidths=.5, cbar_kws={\"shrink\": .5})"
   ]
  },
  {
   "cell_type": "code",
   "execution_count": null,
   "metadata": {},
   "outputs": [],
   "source": []
  }
 ],
 "metadata": {
  "kernelspec": {
   "display_name": "Python 3",
   "language": "python",
   "name": "python3"
  },
  "language_info": {
   "codemirror_mode": {
    "name": "ipython",
    "version": 3
   },
   "file_extension": ".py",
   "mimetype": "text/x-python",
   "name": "python",
   "nbconvert_exporter": "python",
   "pygments_lexer": "ipython3",
   "version": "3.6.7"
  }
 },
 "nbformat": 4,
 "nbformat_minor": 2
}
