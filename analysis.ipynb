{
 "cells": [
  {
   "cell_type": "code",
   "execution_count": 1,
   "metadata": {},
   "outputs": [],
   "source": [
    "from pyspark.sql.types import *\n",
    "from pyspark.sql.functions import to_timestamp\n",
    "from pyspark.sql.functions import *"
   ]
  },
  {
   "cell_type": "code",
   "execution_count": 2,
   "metadata": {},
   "outputs": [
    {
     "data": {
      "text/html": [
       "\n",
       "        <div>\n",
       "            <p><b>SparkContext</b></p>\n",
       "\n",
       "            <p><a href=\"http://172.26.121.178:4041\">Spark UI</a></p>\n",
       "\n",
       "            <dl>\n",
       "              <dt>Version</dt>\n",
       "                <dd><code>v2.4.0</code></dd>\n",
       "              <dt>Master</dt>\n",
       "                <dd><code>local[*]</code></dd>\n",
       "              <dt>AppName</dt>\n",
       "                <dd><code>PySparkShell</code></dd>\n",
       "            </dl>\n",
       "        </div>\n",
       "        "
      ],
      "text/plain": [
       "<SparkContext master=local[*] appName=PySparkShell>"
      ]
     },
     "execution_count": 2,
     "metadata": {},
     "output_type": "execute_result"
    }
   ],
   "source": [
    "sc"
   ]
  },
  {
   "cell_type": "code",
   "execution_count": 3,
   "metadata": {},
   "outputs": [],
   "source": [
    "data = sc.textFile('tabelao.csv')"
   ]
  },
  {
   "cell_type": "code",
   "execution_count": 4,
   "metadata": {},
   "outputs": [
    {
     "data": {
      "text/plain": [
       "',CODIGO_CLIENTE,DATA_NASCIMENTO,SEXO,ESTADO_CIVIL,CIDADE,UF,BAIRRO,CEP,QTD_DEPENDENTES,DATA_CADASTRO,DATA_ADMISSAO,CATEGORIAL_PROFISSAO,TIPO_RESIDENCIA,RENDA_TITULAR,RENDA_CJ,OUTRAS_RENDAS,QTD_CARTOES_ADICIONAIS,FLAG_CONTA_BANCO,VALOR_HISTORICO_COMPRAS,Class'"
      ]
     },
     "execution_count": 4,
     "metadata": {},
     "output_type": "execute_result"
    }
   ],
   "source": [
    "header = data.first()\n",
    "header"
   ]
  },
  {
   "cell_type": "code",
   "execution_count": 5,
   "metadata": {},
   "outputs": [],
   "source": [
    "data = data.filter(lambda line: line != header)"
   ]
  },
  {
   "cell_type": "code",
   "execution_count": 6,
   "metadata": {},
   "outputs": [
    {
     "name": "stdout",
     "output_type": "stream",
     "text": [
      "+---+--------------+--------------------+----+------------+--------------+---+--------------------+--------+---------------+--------------------+--------------------+--------------------+---------------+-------------+--------+-------------+----------------------+----------------+-----------------------+-----+\n",
      "|   |CODIGO_CLIENTE|     DATA_NASCIMENTO|SEXO|ESTADO_CIVIL|        CIDADE| UF|              BAIRRO|     CEP|QTD_DEPENDENTES|       DATA_CADASTRO|       DATA_ADMISSAO|CATEGORIAL_PROFISSAO|TIPO_RESIDENCIA|RENDA_TITULAR|RENDA_CJ|OUTRAS_RENDAS|QTD_CARTOES_ADICIONAIS|FLAG_CONTA_BANCO|VALOR_HISTORICO_COMPRAS|Class|\n",
      "+---+--------------+--------------------+----+------------+--------------+---+--------------------+--------+---------------+--------------------+--------------------+--------------------+---------------+-------------+--------+-------------+----------------------+----------------+-----------------------+-----+\n",
      "|  0|      10000720|1981/10/27 00:00:...|   M|          SO|        ITAQUI| RS|             ESTACAO|97650000|               |2012/02/16 00:00:...|                    |            AUT+NOMO|             PR|       850.00|        |             |                     0|                |                    0.0|    0|\n",
      "|  1|       1000665|1972/02/02 00:00:...|   F|          SE|          IJUI| RS|          INDUSTRIAL|98700000|              1|2003/09/10 00:00:...|2002/07/18 00:00:...|         ASSALARIADO|             PR|       920.00|        |       109.00|                     0|               S|               12763.86|    0|\n",
      "|  2|      10007113|1962/03/04 00:00:...|   M|          SO|      GRAVATAI| RS|              CENTRO|94360000|              0|2012/02/22 00:00:...|2011/10/22 00:00:...|         ASSALARIADO|             PR|       980.00|        |             |                     0|               S|                6760.92|    0|\n",
      "|  3|       1000795|1982/05/05 00:00:...|   F|          CO|ROSARIO DO SUL| RS|           PROGRESSO|97590000|              1|2003/09/10 00:00:...|2015/03/01 00:00:...|         ASSALARIADO|             PR|      1022.00|        |       400.00|                     0|               S|                15034.1|    0|\n",
      "|  4|       1000839|1938/05/03 00:00:...|   M|          CA|        GUAIBA| RS|              CENTRO|92500000|              0|2003/09/11 00:00:...|2003/05/05 00:00:...|          APOSENTADO|             PR|      1551.00|    0.00|             |                     0|                |               12110.19|    1|\n",
      "|  5|      10008810|1974/08/19 00:00:...|   M|          SO|  SANTO ANGELO| RS|            INDUBRAS|98806130|              0|2012/02/17 00:00:...|2006/09/14 00:00:...|         ASSALARIADO|             AL|       800.00|        |             |                     0|                |                4921.48|    0|\n",
      "|  6|      10009477|1977/09/29 00:00:...|   M|          SO|    NOVA HARTZ| RS|           LIBERDADE|93890000|              0|2016/11/21 00:00:...|2009/08/10 00:00:...|         ASSALARIADO|             PR|      1667.00|        |             |                     0|                |                2022.12|    1|\n",
      "|  7|      10023054|1962/07/26 00:00:...|   F|          VI|   PASSO FUNDO| RS|JOSE ALEXANDRE ZA...|99042170|              0|2012/02/18 00:00:...|                    |            AUT+NOMO|             PR|      1092.00|        |       262.66|                     0|                |                 6018.5|    0|\n",
      "|  8|      10023348|1968/03/18 00:00:...|   F|          CO| NOVO HAMBURGO| RS|            SAO JOSE|93352000|              1|2012/02/18 00:00:...|                    |            AUT+NOMO|             PR|      1200.00| 1000.00|             |                     0|                |                 239.47|    0|\n",
      "|  9|      10023410|1991/12/27 00:00:...|   F|          SO|       TAQUARA| RS|             EMPRESA|95600000|              0|2013/05/18 00:00:...|2011/05/10 00:00:...|         ASSALARIADO|             OU|       800.00|        |             |                     0|                |               30104.89|    0|\n",
      "| 10|        100263|1967/11/14 00:00:...|   M|          CA|        QUARAI| RS|    VILA NOVA AURORA|97560000|              0|1999/01/04 00:00:...|1984/01/10 00:00:...|         ASSALARIADO|             PR|      3687.00|        |             |                     0|               S|                2269.44|    1|\n",
      "| 11|       1002783|1981/09/28 00:00:...|   M|          CO|     SAPIRANGA| RS|            SAO JACO|93819612|              1|2001/01/11 00:00:...|2010/10/25 00:00:...|         ASSALARIADO|             PR|      1600.00|        |             |                     0|               S|               68918.83|    0|\n",
      "| 12|      10033475|1995/11/05 00:00:...|   F|          CO|       CATUIPE| RS|              CENTRO|98770000|              1|2015/03/19 00:00:...|                    |            AUT+NOMO|             AL|       750.00|        |       300.00|                     0|               S|                 493.54|    1|\n",
      "| 13|      10039651|1983/06/19 00:00:...|   M|          CA|   SANTA MARIA| RS|  CHACARA DAS FLORES|97043050|              0|2012/02/23 00:00:...|2010/09/01 00:00:...|         ASSALARIADO|             PR|       800.00|    0.00|             |                     0|                |                1681.23|    0|\n",
      "| 14|      10041265|1970/11/30 00:00:...|   F|          SE|      SANTIAGO| RS|     CARLOS HUMBERTO|97700000|              0|2016/12/27 00:00:...|                    |            AUT+NOMO|             AL|      1100.00|        |             |                     0|                |                 395.62|    0|\n",
      "| 15|       1004364|1979/01/07 00:00:...|   F|          CA|          IJUI| RS|              CENTRO|98700000|              1|2003/09/18 00:00:...|2012/08/07 00:00:...|         ASSALARIADO|             AL|      1030.00|        |             |                     0|               S|                4412.88|    0|\n",
      "| 16|       1005263|1963/10/12 00:00:...|   M|          CO|          IJUI| RS|              BURTET|98700000|              0|2003/09/23 00:00:...|1999/01/01 00:00:...|          APOSENTADO|             PR|       860.00| 1100.00|             |                     0|               S|               29556.26|    0|\n",
      "| 17|      10052798|1990/10/10 00:00:...|   M|          SO|VENANCIO AIRES| RS|            GRESSLER|95800000|               |2012/02/24 00:00:...|2011/07/18 00:00:...|         ASSALARIADO|             AL|       700.00|        |             |                     0|               S|                  92.99|    0|\n",
      "| 18|      10053310|1990/08/16 00:00:...|   F|          CO|       CANGUCU| RS|              CENTRO|96600000|              1|2012/02/23 00:00:...|2013/03/19 00:00:...|         ASSALARIADO|             OU|       340.00|  650.00|             |                     0|                |                3653.36|    0|\n",
      "| 19|        100553|1978/05/20 00:00:...|   M|          SO|      GRAVATAI| RS|     JARDIM DO CEDRO|94197030|              0|1999/01/08 00:00:...|2003/08/16 00:00:...|         ASSALARIADO|             PR|      2030.00|        |             |                     0|               S|                7269.14|    0|\n",
      "+---+--------------+--------------------+----+------------+--------------+---+--------------------+--------+---------------+--------------------+--------------------+--------------------+---------------+-------------+--------+-------------+----------------------+----------------+-----------------------+-----+\n",
      "only showing top 20 rows\n",
      "\n"
     ]
    }
   ],
   "source": [
    "df = data.map(lambda k: k.split(\",\")).toDF(header.split(\",\"))\n",
    "df.show()"
   ]
  },
  {
   "cell_type": "code",
   "execution_count": null,
   "metadata": {},
   "outputs": [],
   "source": []
  }
 ],
 "metadata": {
  "kernelspec": {
   "display_name": "Python 3",
   "language": "python",
   "name": "python3"
  },
  "language_info": {
   "codemirror_mode": {
    "name": "ipython",
    "version": 3
   },
   "file_extension": ".py",
   "mimetype": "text/x-python",
   "name": "python",
   "nbconvert_exporter": "python",
   "pygments_lexer": "ipython3",
   "version": "3.6.7"
  }
 },
 "nbformat": 4,
 "nbformat_minor": 2
}
