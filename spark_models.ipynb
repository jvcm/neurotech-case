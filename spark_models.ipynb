{
 "cells": [
  {
   "cell_type": "code",
   "execution_count": 1,
   "metadata": {},
   "outputs": [],
   "source": [
    "from pyspark.sql.types import *\n",
    "from pyspark.ml.linalg import DenseVector\n",
    "from pyspark.ml.feature import StandardScaler\n",
    "from pyspark.ml.classification import LogisticRegression, DecisionTreeClassifier, RandomForestClassifier, GBTClassifier\n",
    "from pyspark.mllib.classification import SVMWithSGD\n",
    "from pyspark.ml.evaluation import BinaryClassificationEvaluator\n",
    "from pyspark.ml.tuning import ParamGridBuilder, CrossValidator"
   ]
  },
  {
   "cell_type": "code",
   "execution_count": 2,
   "metadata": {},
   "outputs": [
    {
     "data": {
      "text/html": [
       "\n",
       "        <div>\n",
       "            <p><b>SparkContext</b></p>\n",
       "\n",
       "            <p><a href=\"http://172.20.43.115:4040\">Spark UI</a></p>\n",
       "\n",
       "            <dl>\n",
       "              <dt>Version</dt>\n",
       "                <dd><code>v2.4.0</code></dd>\n",
       "              <dt>Master</dt>\n",
       "                <dd><code>local[3]</code></dd>\n",
       "              <dt>AppName</dt>\n",
       "                <dd><code>PySparkShell</code></dd>\n",
       "            </dl>\n",
       "        </div>\n",
       "        "
      ],
      "text/plain": [
       "<SparkContext master=local[3] appName=PySparkShell>"
      ]
     },
     "execution_count": 2,
     "metadata": {},
     "output_type": "execute_result"
    }
   ],
   "source": [
    "sc"
   ]
  },
  {
   "cell_type": "markdown",
   "metadata": {},
   "source": [
    "# RDD"
   ]
  },
  {
   "cell_type": "code",
   "execution_count": 3,
   "metadata": {},
   "outputs": [],
   "source": [
    "data = sc.textFile('table_models.csv')\n",
    "header = data.first()"
   ]
  },
  {
   "cell_type": "code",
   "execution_count": 4,
   "metadata": {},
   "outputs": [
    {
     "data": {
      "text/plain": [
       "u'IDADE,QTD_DEPENDENTES,RENDA_TITULAR,SEXO_M,ESTADO_CIVIL_CO,ESTADO_CIVIL_SE,ESTADO_CIVIL_SO,ESTADO_CIVIL_VI,CATEGORIAL_PROFISSAO_APOSENTADO,CATEGORIAL_PROFISSAO_ASSALARIADO,CATEGORIAL_PROFISSAO_AUT+NOMO,CATEGORIAL_PROFISSAO_LIBERAL,TIPO_RESIDENCIA_FA,TIPO_RESIDENCIA_FI,TIPO_RESIDENCIA_OU,TIPO_RESIDENCIA_PR,TIPO_RESIDENCIA_SM,CLASS'"
      ]
     },
     "execution_count": 4,
     "metadata": {},
     "output_type": "execute_result"
    }
   ],
   "source": [
    "header"
   ]
  },
  {
   "cell_type": "code",
   "execution_count": 5,
   "metadata": {},
   "outputs": [],
   "source": [
    "data = data.filter(lambda line: line != header)"
   ]
  },
  {
   "cell_type": "code",
   "execution_count": 6,
   "metadata": {},
   "outputs": [],
   "source": [
    "data = data.map(lambda k: k.split(\",\"))"
   ]
  },
  {
   "cell_type": "markdown",
   "metadata": {},
   "source": [
    "# Data Frame"
   ]
  },
  {
   "cell_type": "code",
   "execution_count": 7,
   "metadata": {},
   "outputs": [],
   "source": [
    "df = data.toDF(header.split(\",\"))"
   ]
  },
  {
   "cell_type": "code",
   "execution_count": 8,
   "metadata": {},
   "outputs": [
    {
     "name": "stdout",
     "output_type": "stream",
     "text": [
      "+-----+---------------+-------------+------+---------------+---------------+---------------+---------------+-------------------------------+--------------------------------+-----------------------------+----------------------------+------------------+------------------+------------------+------------------+------------------+-----+\n",
      "|IDADE|QTD_DEPENDENTES|RENDA_TITULAR|SEXO_M|ESTADO_CIVIL_CO|ESTADO_CIVIL_SE|ESTADO_CIVIL_SO|ESTADO_CIVIL_VI|CATEGORIAL_PROFISSAO_APOSENTADO|CATEGORIAL_PROFISSAO_ASSALARIADO|CATEGORIAL_PROFISSAO_AUT+NOMO|CATEGORIAL_PROFISSAO_LIBERAL|TIPO_RESIDENCIA_FA|TIPO_RESIDENCIA_FI|TIPO_RESIDENCIA_OU|TIPO_RESIDENCIA_PR|TIPO_RESIDENCIA_SM|CLASS|\n",
      "+-----+---------------+-------------+------+---------------+---------------+---------------+---------------+-------------------------------+--------------------------------+-----------------------------+----------------------------+------------------+------------------+------------------+------------------+------------------+-----+\n",
      "|   34|              0|        950.0|     1|              0|              0|              1|              0|                              0|                               0|                            1|                           0|                 0|                 0|                 1|                 0|                 0|    0|\n",
      "|   43|              0|       1400.0|     0|              0|              0|              1|              0|                              0|                               1|                            0|                           0|                 0|                 0|                 0|                 0|                 0|    0|\n",
      "|   67|              0|       1050.0|     1|              0|              0|              1|              0|                              1|                               0|                            0|                           0|                 0|                 0|                 0|                 1|                 0|    0|\n",
      "|   40|              0|       1500.0|     0|              0|              0|              1|              0|                              0|                               0|                            1|                           0|                 0|                 0|                 0|                 0|                 0|    0|\n",
      "|   57|              0|       2000.0|     0|              0|              0|              0|              1|                              1|                               0|                            0|                           0|                 0|                 0|                 0|                 1|                 0|    0|\n",
      "+-----+---------------+-------------+------+---------------+---------------+---------------+---------------+-------------------------------+--------------------------------+-----------------------------+----------------------------+------------------+------------------+------------------+------------------+------------------+-----+\n",
      "only showing top 5 rows\n",
      "\n"
     ]
    }
   ],
   "source": [
    "df.show(5)"
   ]
  },
  {
   "cell_type": "markdown",
   "metadata": {},
   "source": [
    "# Converter as colunas"
   ]
  },
  {
   "cell_type": "code",
   "execution_count": 9,
   "metadata": {},
   "outputs": [],
   "source": [
    "# Write a custom function to convert the data type of DataFrame columns\n",
    "def convertColumn(df, names, newType):\n",
    "    for name in names: \n",
    "        df = df.withColumn(name, df[name].cast(newType))\n",
    "    return df "
   ]
  },
  {
   "cell_type": "code",
   "execution_count": 10,
   "metadata": {},
   "outputs": [],
   "source": [
    "# Assign all column names to `columns`\n",
    "columns_int = ['IDADE','QTD_DEPENDENTES','SEXO_M','ESTADO_CIVIL_CO','ESTADO_CIVIL_SE','ESTADO_CIVIL_SO',\n",
    "               'ESTADO_CIVIL_VI','CATEGORIAL_PROFISSAO_APOSENTADO','CATEGORIAL_PROFISSAO_ASSALARIADO',\n",
    "               'CATEGORIAL_PROFISSAO_AUT+NOMO','CATEGORIAL_PROFISSAO_LIBERAL','TIPO_RESIDENCIA_FA',\n",
    "               'TIPO_RESIDENCIA_FI','TIPO_RESIDENCIA_OU','TIPO_RESIDENCIA_PR','TIPO_RESIDENCIA_SM','CLASS']\n",
    "columns_float = ['RENDA_TITULAR']\n",
    "\n",
    "# Conver the `df` columns to `FloatType()`\n",
    "df = convertColumn(df, columns_float, FloatType())\n",
    "df = convertColumn(df, columns_int, IntegerType())"
   ]
  },
  {
   "cell_type": "code",
   "execution_count": 11,
   "metadata": {},
   "outputs": [
    {
     "name": "stdout",
     "output_type": "stream",
     "text": [
      "root\n",
      " |-- IDADE: integer (nullable = true)\n",
      " |-- QTD_DEPENDENTES: integer (nullable = true)\n",
      " |-- RENDA_TITULAR: float (nullable = true)\n",
      " |-- SEXO_M: integer (nullable = true)\n",
      " |-- ESTADO_CIVIL_CO: integer (nullable = true)\n",
      " |-- ESTADO_CIVIL_SE: integer (nullable = true)\n",
      " |-- ESTADO_CIVIL_SO: integer (nullable = true)\n",
      " |-- ESTADO_CIVIL_VI: integer (nullable = true)\n",
      " |-- CATEGORIAL_PROFISSAO_APOSENTADO: integer (nullable = true)\n",
      " |-- CATEGORIAL_PROFISSAO_ASSALARIADO: integer (nullable = true)\n",
      " |-- CATEGORIAL_PROFISSAO_AUT+NOMO: integer (nullable = true)\n",
      " |-- CATEGORIAL_PROFISSAO_LIBERAL: integer (nullable = true)\n",
      " |-- TIPO_RESIDENCIA_FA: integer (nullable = true)\n",
      " |-- TIPO_RESIDENCIA_FI: integer (nullable = true)\n",
      " |-- TIPO_RESIDENCIA_OU: integer (nullable = true)\n",
      " |-- TIPO_RESIDENCIA_PR: integer (nullable = true)\n",
      " |-- TIPO_RESIDENCIA_SM: integer (nullable = true)\n",
      " |-- CLASS: integer (nullable = true)\n",
      "\n"
     ]
    }
   ],
   "source": [
    "df.printSchema()"
   ]
  },
  {
   "cell_type": "markdown",
   "metadata": {},
   "source": [
    "# Criar o DenseVector (Machine learning)"
   ]
  },
  {
   "cell_type": "code",
   "execution_count": 12,
   "metadata": {},
   "outputs": [],
   "source": [
    "ind = range(17)"
   ]
  },
  {
   "cell_type": "code",
   "execution_count": 13,
   "metadata": {},
   "outputs": [],
   "source": [
    "# Define the `input_data` \n",
    "input_data = df.rdd.map(lambda x: (x[-1], DenseVector([x[i] for i in ind])))\n",
    "\n",
    "# Replace `df` with the new DataFrame\n",
    "df = spark.createDataFrame(input_data, [\"label\", \"features\"])"
   ]
  },
  {
   "cell_type": "code",
   "execution_count": 14,
   "metadata": {},
   "outputs": [
    {
     "name": "stdout",
     "output_type": "stream",
     "text": [
      "+-----+--------------------+\n",
      "|label|            features|\n",
      "+-----+--------------------+\n",
      "|    0|[34.0,0.0,950.0,1...|\n",
      "|    0|[43.0,0.0,1400.0,...|\n",
      "|    0|[67.0,0.0,1050.0,...|\n",
      "|    0|[40.0,0.0,1500.0,...|\n",
      "|    0|[57.0,0.0,2000.0,...|\n",
      "+-----+--------------------+\n",
      "only showing top 5 rows\n",
      "\n"
     ]
    }
   ],
   "source": [
    "df.show(5)"
   ]
  },
  {
   "cell_type": "markdown",
   "metadata": {},
   "source": [
    "# Modelos"
   ]
  },
  {
   "cell_type": "code",
   "execution_count": 15,
   "metadata": {},
   "outputs": [],
   "source": [
    "train_data, test_data = df.randomSplit([.85,.15],seed=42)"
   ]
  },
  {
   "cell_type": "markdown",
   "metadata": {},
   "source": [
    "## Regressão Logística"
   ]
  },
  {
   "cell_type": "code",
   "execution_count": 16,
   "metadata": {},
   "outputs": [],
   "source": [
    "lr = LogisticRegression(featuresCol = 'features', labelCol = 'label', maxIter=100)\n",
    "lrModel = lr.fit(train_data)"
   ]
  },
  {
   "cell_type": "code",
   "execution_count": 17,
   "metadata": {},
   "outputs": [
    {
     "name": "stdout",
     "output_type": "stream",
     "text": [
      "+-----+--------------------+----------+--------------------+\n",
      "|label|       rawPrediction|prediction|         probability|\n",
      "+-----+--------------------+----------+--------------------+\n",
      "|    0|[-0.3044090621128...|       1.0|[0.42448000670474...|\n",
      "|    0|[-0.3044090621128...|       1.0|[0.42448000670474...|\n",
      "|    0|[-0.3161524815673...|       1.0|[0.42161370268506...|\n",
      "|    0|[-0.3172579426913...|       1.0|[0.42134415319695...|\n",
      "|    0|[-0.3059079924504...|       1.0|[0.42411386443941...|\n",
      "|    0|[-0.8033979141888...|       1.0|[0.30929914166715...|\n",
      "|    0|[-0.5383497638300...|       1.0|[0.36857155269056...|\n",
      "|    0|[-0.3129717016663...|       1.0|[0.42238954642602...|\n",
      "|    0|[-0.0869098988293...|       1.0|[0.47828619120359...|\n",
      "|    0|[-0.3137773767228...|       1.0|[0.42219299285184...|\n",
      "+-----+--------------------+----------+--------------------+\n",
      "only showing top 10 rows\n",
      "\n"
     ]
    }
   ],
   "source": [
    "predictions_lr = lrModel.transform(test_data)\n",
    "predictions_lr.select('label', 'rawPrediction', 'prediction', 'probability').show(10)"
   ]
  },
  {
   "cell_type": "code",
   "execution_count": 18,
   "metadata": {},
   "outputs": [
    {
     "name": "stdout",
     "output_type": "stream",
     "text": [
      "('Log Regression - Test Area Under ROC', 0.6163578606792683)\n"
     ]
    }
   ],
   "source": [
    "evaluator = BinaryClassificationEvaluator()\n",
    "print('Log Regression - Test Area Under ROC', evaluator.evaluate(predictions_lr))"
   ]
  },
  {
   "cell_type": "markdown",
   "metadata": {},
   "source": [
    "## Random Forest"
   ]
  },
  {
   "cell_type": "code",
   "execution_count": 19,
   "metadata": {},
   "outputs": [
    {
     "name": "stdout",
     "output_type": "stream",
     "text": [
      "+-----+--------------------+----------+--------------------+\n",
      "|label|       rawPrediction|prediction|         probability|\n",
      "+-----+--------------------+----------+--------------------+\n",
      "|    0|[9.61475730090719...|       1.0|[0.48073786504535...|\n",
      "|    0|[9.61475730090719...|       1.0|[0.48073786504535...|\n",
      "|    0|[9.60963998784871...|       1.0|[0.48048199939243...|\n",
      "|    0|[9.60963998784871...|       1.0|[0.48048199939243...|\n",
      "|    0|[9.61475730090719...|       1.0|[0.48073786504535...|\n",
      "|    0|[7.56308396233749...|       1.0|[0.37815419811687...|\n",
      "|    0|[8.02926896292282...|       1.0|[0.40146344814614...|\n",
      "|    0|[9.17091494977226...|       1.0|[0.45854574748861...|\n",
      "|    0|[8.79055398946703...|       1.0|[0.43952769947335...|\n",
      "|    0|[9.17091494977226...|       1.0|[0.45854574748861...|\n",
      "+-----+--------------------+----------+--------------------+\n",
      "only showing top 10 rows\n",
      "\n"
     ]
    }
   ],
   "source": [
    "rf = RandomForestClassifier(featuresCol = 'features', labelCol = 'label')\n",
    "rfModel = rf.fit(train_data)\n",
    "predictions_rf = rfModel.transform(test_data)\n",
    "predictions_rf.select('label', 'rawPrediction', 'prediction', 'probability').show(10)"
   ]
  },
  {
   "cell_type": "code",
   "execution_count": 20,
   "metadata": {},
   "outputs": [
    {
     "name": "stdout",
     "output_type": "stream",
     "text": [
      "Test Area Under ROC: 0.610862813012\n"
     ]
    }
   ],
   "source": [
    "evaluator = BinaryClassificationEvaluator()\n",
    "print(\"Test Area Under ROC: \" + str(evaluator.evaluate(predictions_rf, {evaluator.metricName: \"areaUnderROC\"})))"
   ]
  },
  {
   "cell_type": "markdown",
   "metadata": {},
   "source": [
    "## Gradient Boost"
   ]
  },
  {
   "cell_type": "code",
   "execution_count": 21,
   "metadata": {},
   "outputs": [
    {
     "name": "stdout",
     "output_type": "stream",
     "text": [
      "+-----+--------------------+----------+--------------------+\n",
      "|label|       rawPrediction|prediction|         probability|\n",
      "+-----+--------------------+----------+--------------------+\n",
      "|    0|[0.23785631555708...|       0.0|[0.61673496524547...|\n",
      "|    0|[0.23785631555708...|       0.0|[0.61673496524547...|\n",
      "|    0|[0.22669817421378...|       0.0|[0.61144644211879...|\n",
      "|    0|[0.22669817421378...|       0.0|[0.61144644211879...|\n",
      "|    0|[0.23785631555708...|       0.0|[0.61673496524547...|\n",
      "|    0|[-0.4784474057578...|       1.0|[0.27750033588419...|\n",
      "|    0|[-0.4507416213201...|       1.0|[0.28874578595333...|\n",
      "|    0|[-0.0749533992602...|       1.0|[0.46259332453229...|\n",
      "|    0|[-0.1987638869445...|       1.0|[0.40190646342719...|\n",
      "|    0|[-0.0749533992602...|       1.0|[0.46259332453229...|\n",
      "+-----+--------------------+----------+--------------------+\n",
      "only showing top 10 rows\n",
      "\n"
     ]
    }
   ],
   "source": [
    "gbt = GBTClassifier(maxIter=10)\n",
    "gbtModel = gbt.fit(train_data)\n",
    "predictions_gbt = gbtModel.transform(test_data)\n",
    "predictions_gbt.select('label', 'rawPrediction', 'prediction', 'probability').show(10)"
   ]
  },
  {
   "cell_type": "code",
   "execution_count": 22,
   "metadata": {},
   "outputs": [
    {
     "name": "stdout",
     "output_type": "stream",
     "text": [
      "Test Area Under ROC: 0.604979853001\n"
     ]
    }
   ],
   "source": [
    "evaluator = BinaryClassificationEvaluator()\n",
    "print(\"Test Area Under ROC: \" + str(evaluator.evaluate(predictions_gbt, {evaluator.metricName: \"areaUnderROC\"})))"
   ]
  },
  {
   "cell_type": "markdown",
   "metadata": {},
   "source": [
    "## Support Vector Machine with SGD"
   ]
  },
  {
   "cell_type": "code",
   "execution_count": 23,
   "metadata": {},
   "outputs": [],
   "source": [
    "svm = SVMWithSGD()\n",
    "svmModel = gbt.fit(train_data)"
   ]
  },
  {
   "cell_type": "code",
   "execution_count": 24,
   "metadata": {},
   "outputs": [
    {
     "name": "stdout",
     "output_type": "stream",
     "text": [
      "+-----+--------------------+----------+--------------------+\n",
      "|label|       rawPrediction|prediction|         probability|\n",
      "+-----+--------------------+----------+--------------------+\n",
      "|    0|[0.23785631555708...|       0.0|[0.61673496524547...|\n",
      "|    0|[0.23785631555708...|       0.0|[0.61673496524547...|\n",
      "|    0|[0.22669817421378...|       0.0|[0.61144644211879...|\n",
      "|    0|[0.22669817421378...|       0.0|[0.61144644211879...|\n",
      "|    0|[0.23785631555708...|       0.0|[0.61673496524547...|\n",
      "|    0|[-0.4784474057578...|       1.0|[0.27750033588419...|\n",
      "|    0|[-0.4507416213201...|       1.0|[0.28874578595333...|\n",
      "|    0|[-0.0749533992602...|       1.0|[0.46259332453229...|\n",
      "|    0|[-0.1987638869445...|       1.0|[0.40190646342719...|\n",
      "|    0|[-0.0749533992602...|       1.0|[0.46259332453229...|\n",
      "+-----+--------------------+----------+--------------------+\n",
      "only showing top 10 rows\n",
      "\n"
     ]
    }
   ],
   "source": [
    "predictions_svm = svmModel.transform(test_data)\n",
    "predictions_svm.select('label', 'rawPrediction', 'prediction', 'probability').show(10)"
   ]
  },
  {
   "cell_type": "code",
   "execution_count": 25,
   "metadata": {},
   "outputs": [
    {
     "name": "stdout",
     "output_type": "stream",
     "text": [
      "Test Area Under ROC: 0.604979853001\n"
     ]
    }
   ],
   "source": [
    "evaluator = BinaryClassificationEvaluator()\n",
    "print(\"Test Area Under ROC: \" + str(evaluator.evaluate(predictions_svm, {evaluator.metricName: \"areaUnderROC\"})))"
   ]
  },
  {
   "cell_type": "code",
   "execution_count": 26,
   "metadata": {},
   "outputs": [],
   "source": [
    "# spark.stop()"
   ]
  },
  {
   "cell_type": "code",
   "execution_count": null,
   "metadata": {},
   "outputs": [],
   "source": []
  }
 ],
 "metadata": {
  "kernelspec": {
   "display_name": "Python 2",
   "language": "python",
   "name": "python2"
  },
  "language_info": {
   "codemirror_mode": {
    "name": "ipython",
    "version": 3
   },
   "file_extension": ".py",
   "mimetype": "text/x-python",
   "name": "python",
   "nbconvert_exporter": "python",
   "pygments_lexer": "ipython3",
   "version": "3.6.7"
  }
 },
 "nbformat": 4,
 "nbformat_minor": 2
}
