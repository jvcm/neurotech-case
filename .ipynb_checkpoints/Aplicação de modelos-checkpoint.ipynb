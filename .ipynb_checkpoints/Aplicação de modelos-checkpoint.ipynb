{
 "cells": [
  {
   "cell_type": "code",
   "execution_count": 1,
   "metadata": {},
   "outputs": [],
   "source": [
    "import warnings\n",
    "warnings.filterwarnings('ignore')"
   ]
  },
  {
   "cell_type": "code",
   "execution_count": 20,
   "metadata": {},
   "outputs": [],
   "source": [
    "import numpy  as np\n",
    "import pandas as pd\n",
    "import seaborn as sns\n",
    "import matplotlib.pyplot as plt\n",
    "import keras\n",
    "from keras.models import Sequential\n",
    "from keras.layers import Dense\n",
    "from keras import regularizers\n",
    "from keras import optimizers\n",
    "import xgboost as xgb\n",
    "from sklearn.model_selection import StratifiedKFold, train_test_split\n",
    "from sklearn.preprocessing import LabelEncoder\n",
    "from sklearn.linear_model import LogisticRegression\n",
    "from sklearn.neural_network import MLPClassifier\n",
    "from sklearn import svm\n",
    "from sklearn.metrics import classification_report, confusion_matrix, accuracy_score, roc_auc_score\n",
    "%matplotlib inline\n",
    "from catboost import CatBoostClassifier, FeaturesData\n",
    "import datetime as DT\n",
    "import io\n",
    "from imblearn.over_sampling import SMOTE\n",
    "from imblearn.under_sampling import RandomUnderSampler\n",
    "from imblearn.combine import SMOTEENN \n",
    "from collections import Counter\n",
    "from sklearn.preprocessing import StandardScaler\n",
    "from sklearn.metrics import roc_auc_score\n",
    "from imblearn.metrics import geometric_mean_score\n",
    "from sklearn.metrics import f1_score\n",
    "from matplotlib.pylab import rcParams\n",
    "rcParams['figure.figsize'] = 5, 4"
   ]
  },
  {
   "cell_type": "markdown",
   "metadata": {},
   "source": [
    "Importando arquivos"
   ]
  },
  {
   "cell_type": "code",
   "execution_count": 4,
   "metadata": {},
   "outputs": [],
   "source": [
    "tabelao = pd.read_csv('TABELAO_FINAL.csv')"
   ]
  },
  {
   "cell_type": "code",
   "execution_count": 5,
   "metadata": {},
   "outputs": [
    {
     "name": "stdout",
     "output_type": "stream",
     "text": [
      "<class 'pandas.core.frame.DataFrame'>\n",
      "RangeIndex: 96390 entries, 0 to 96389\n",
      "Data columns (total 21 columns):\n",
      "CODIGO_CLIENTE             96390 non-null int64\n",
      "DATA_NASCIMENTO            96387 non-null object\n",
      "IDADE                      96390 non-null int64\n",
      "SEXO                       96389 non-null object\n",
      "ESTADO_CIVIL               96389 non-null object\n",
      "CIDADE                     96390 non-null object\n",
      "UF                         96390 non-null object\n",
      "BAIRRO                     96390 non-null object\n",
      "CEP                        96390 non-null float64\n",
      "QTD_DEPENDENTES            96389 non-null float64\n",
      "DATA_CADASTRO              96390 non-null object\n",
      "DATA_ADMISSAO              52040 non-null object\n",
      "CATEGORIAL_PROFISSAO       94674 non-null object\n",
      "TIPO_RESIDENCIA            95438 non-null object\n",
      "RENDA_TITULAR              96384 non-null float64\n",
      "RENDA_CJ                   4393 non-null float64\n",
      "OUTRAS_RENDAS              11067 non-null float64\n",
      "QTD_CARTOES_ADICIONAIS     96390 non-null int64\n",
      "FLAG_CONTA_BANCO           7951 non-null object\n",
      "VALOR_HISTORICO_COMPRAS    96390 non-null float64\n",
      "CLASS                      96390 non-null int64\n",
      "dtypes: float64(6), int64(4), object(11)\n",
      "memory usage: 15.4+ MB\n"
     ]
    }
   ],
   "source": [
    "tabelao.info()"
   ]
  },
  {
   "cell_type": "code",
   "execution_count": 6,
   "metadata": {},
   "outputs": [],
   "source": [
    "tabelao = tabelao.drop(columns=['CODIGO_CLIENTE', 'QTD_DEPENDENTES','DATA_NASCIMENTO','CIDADE','UF', 'BAIRRO','CEP', 'DATA_CADASTRO','DATA_ADMISSAO',\n",
    "             'RENDA_CJ','OUTRAS_RENDAS','FLAG_CONTA_BANCO',\n",
    "                                'QTD_CARTOES_ADICIONAIS','VALOR_HISTORICO_COMPRAS', 'SEXO'], axis=1)"
   ]
  },
  {
   "cell_type": "code",
   "execution_count": 7,
   "metadata": {},
   "outputs": [
    {
     "name": "stdout",
     "output_type": "stream",
     "text": [
      "<class 'pandas.core.frame.DataFrame'>\n",
      "RangeIndex: 96390 entries, 0 to 96389\n",
      "Data columns (total 6 columns):\n",
      "IDADE                   96390 non-null int64\n",
      "ESTADO_CIVIL            96389 non-null object\n",
      "CATEGORIAL_PROFISSAO    94674 non-null object\n",
      "TIPO_RESIDENCIA         95438 non-null object\n",
      "RENDA_TITULAR           96384 non-null float64\n",
      "CLASS                   96390 non-null int64\n",
      "dtypes: float64(1), int64(2), object(3)\n",
      "memory usage: 4.4+ MB\n"
     ]
    }
   ],
   "source": [
    "tabelao.info()"
   ]
  },
  {
   "cell_type": "code",
   "execution_count": 8,
   "metadata": {},
   "outputs": [
    {
     "data": {
      "text/html": [
       "<div>\n",
       "<style scoped>\n",
       "    .dataframe tbody tr th:only-of-type {\n",
       "        vertical-align: middle;\n",
       "    }\n",
       "\n",
       "    .dataframe tbody tr th {\n",
       "        vertical-align: top;\n",
       "    }\n",
       "\n",
       "    .dataframe thead th {\n",
       "        text-align: right;\n",
       "    }\n",
       "</style>\n",
       "<table border=\"1\" class=\"dataframe\">\n",
       "  <thead>\n",
       "    <tr style=\"text-align: right;\">\n",
       "      <th></th>\n",
       "      <th>IDADE</th>\n",
       "      <th>ESTADO_CIVIL</th>\n",
       "      <th>CATEGORIAL_PROFISSAO</th>\n",
       "      <th>TIPO_RESIDENCIA</th>\n",
       "      <th>RENDA_TITULAR</th>\n",
       "      <th>CLASS</th>\n",
       "    </tr>\n",
       "  </thead>\n",
       "  <tbody>\n",
       "    <tr>\n",
       "      <th>0</th>\n",
       "      <td>45</td>\n",
       "      <td>SO</td>\n",
       "      <td>AUT+NOMO</td>\n",
       "      <td>PR</td>\n",
       "      <td>1000.0</td>\n",
       "      <td>1</td>\n",
       "    </tr>\n",
       "    <tr>\n",
       "      <th>1</th>\n",
       "      <td>41</td>\n",
       "      <td>SO</td>\n",
       "      <td>APOSENTADO</td>\n",
       "      <td>AL</td>\n",
       "      <td>1152.0</td>\n",
       "      <td>1</td>\n",
       "    </tr>\n",
       "    <tr>\n",
       "      <th>2</th>\n",
       "      <td>63</td>\n",
       "      <td>SO</td>\n",
       "      <td>APOSENTADO</td>\n",
       "      <td>PR</td>\n",
       "      <td>1900.0</td>\n",
       "      <td>1</td>\n",
       "    </tr>\n",
       "    <tr>\n",
       "      <th>3</th>\n",
       "      <td>58</td>\n",
       "      <td>SE</td>\n",
       "      <td>ASSALARIADO</td>\n",
       "      <td>PR</td>\n",
       "      <td>2182.0</td>\n",
       "      <td>1</td>\n",
       "    </tr>\n",
       "    <tr>\n",
       "      <th>4</th>\n",
       "      <td>51</td>\n",
       "      <td>CA</td>\n",
       "      <td>ASSALARIADO</td>\n",
       "      <td>PR</td>\n",
       "      <td>3335.0</td>\n",
       "      <td>1</td>\n",
       "    </tr>\n",
       "  </tbody>\n",
       "</table>\n",
       "</div>"
      ],
      "text/plain": [
       "   IDADE ESTADO_CIVIL CATEGORIAL_PROFISSAO TIPO_RESIDENCIA  RENDA_TITULAR  \\\n",
       "0     45           SO             AUT+NOMO              PR         1000.0   \n",
       "1     41           SO           APOSENTADO              AL         1152.0   \n",
       "2     63           SO           APOSENTADO              PR         1900.0   \n",
       "3     58           SE          ASSALARIADO              PR         2182.0   \n",
       "4     51           CA          ASSALARIADO              PR         3335.0   \n",
       "\n",
       "   CLASS  \n",
       "0      1  \n",
       "1      1  \n",
       "2      1  \n",
       "3      1  \n",
       "4      1  "
      ]
     },
     "execution_count": 8,
     "metadata": {},
     "output_type": "execute_result"
    }
   ],
   "source": [
    "tabelao.head()"
   ]
  },
  {
   "cell_type": "code",
   "execution_count": 9,
   "metadata": {},
   "outputs": [
    {
     "data": {
      "text/plain": [
       "1    78252\n",
       "0    18138\n",
       "Name: CLASS, dtype: int64"
      ]
     },
     "execution_count": 9,
     "metadata": {},
     "output_type": "execute_result"
    }
   ],
   "source": [
    "tabelao.CLASS.value_counts()"
   ]
  },
  {
   "cell_type": "markdown",
   "metadata": {},
   "source": [
    "## TABELA DE MODELAGEM"
   ]
  },
  {
   "cell_type": "code",
   "execution_count": 9,
   "metadata": {},
   "outputs": [],
   "source": [
    "# df_1 = tabelao[tabelao.CLASS==1].iloc[:10000,:]\n",
    "# df_0 = tabelao[tabelao.CLASS==0].iloc[:10000,:]"
   ]
  },
  {
   "cell_type": "code",
   "execution_count": 10,
   "metadata": {},
   "outputs": [],
   "source": [
    "# df_model = df_1.append(df_0)"
   ]
  },
  {
   "cell_type": "code",
   "execution_count": 11,
   "metadata": {},
   "outputs": [],
   "source": [
    "# df_2 = tabelao[tabelao.CLASS==1].iloc[10000:,:]\n",
    "# df_3 = tabelao[tabelao.CLASS==0].iloc[10000:,:]"
   ]
  },
  {
   "cell_type": "code",
   "execution_count": 12,
   "metadata": {},
   "outputs": [],
   "source": [
    "# df_score = df_2.append(df_3)"
   ]
  },
  {
   "cell_type": "code",
   "execution_count": 10,
   "metadata": {},
   "outputs": [],
   "source": [
    "tabelao = pd.get_dummies(tabelao, columns=['ESTADO_CIVIL', 'CATEGORIAL_PROFISSAO',\n",
    "                                           'TIPO_RESIDENCIA'], drop_first=True)"
   ]
  },
  {
   "cell_type": "code",
   "execution_count": 12,
   "metadata": {},
   "outputs": [
    {
     "data": {
      "text/html": [
       "<div>\n",
       "<style scoped>\n",
       "    .dataframe tbody tr th:only-of-type {\n",
       "        vertical-align: middle;\n",
       "    }\n",
       "\n",
       "    .dataframe tbody tr th {\n",
       "        vertical-align: top;\n",
       "    }\n",
       "\n",
       "    .dataframe thead th {\n",
       "        text-align: right;\n",
       "    }\n",
       "</style>\n",
       "<table border=\"1\" class=\"dataframe\">\n",
       "  <thead>\n",
       "    <tr style=\"text-align: right;\">\n",
       "      <th></th>\n",
       "      <th>IDADE</th>\n",
       "      <th>RENDA_TITULAR</th>\n",
       "      <th>CLASS</th>\n",
       "      <th>ESTADO_CIVIL_CO</th>\n",
       "      <th>ESTADO_CIVIL_SE</th>\n",
       "      <th>ESTADO_CIVIL_SO</th>\n",
       "      <th>ESTADO_CIVIL_VI</th>\n",
       "      <th>CATEGORIAL_PROFISSAO_APOSENTADO</th>\n",
       "      <th>CATEGORIAL_PROFISSAO_ASSALARIADO</th>\n",
       "      <th>CATEGORIAL_PROFISSAO_AUT+NOMO</th>\n",
       "      <th>CATEGORIAL_PROFISSAO_LIBERAL</th>\n",
       "      <th>TIPO_RESIDENCIA_FA</th>\n",
       "      <th>TIPO_RESIDENCIA_FI</th>\n",
       "      <th>TIPO_RESIDENCIA_OU</th>\n",
       "      <th>TIPO_RESIDENCIA_PR</th>\n",
       "      <th>TIPO_RESIDENCIA_SM</th>\n",
       "    </tr>\n",
       "  </thead>\n",
       "  <tbody>\n",
       "    <tr>\n",
       "      <th>0</th>\n",
       "      <td>45</td>\n",
       "      <td>1000.0</td>\n",
       "      <td>1</td>\n",
       "      <td>0</td>\n",
       "      <td>0</td>\n",
       "      <td>1</td>\n",
       "      <td>0</td>\n",
       "      <td>0</td>\n",
       "      <td>0</td>\n",
       "      <td>1</td>\n",
       "      <td>0</td>\n",
       "      <td>0</td>\n",
       "      <td>0</td>\n",
       "      <td>0</td>\n",
       "      <td>1</td>\n",
       "      <td>0</td>\n",
       "    </tr>\n",
       "    <tr>\n",
       "      <th>1</th>\n",
       "      <td>41</td>\n",
       "      <td>1152.0</td>\n",
       "      <td>1</td>\n",
       "      <td>0</td>\n",
       "      <td>0</td>\n",
       "      <td>1</td>\n",
       "      <td>0</td>\n",
       "      <td>1</td>\n",
       "      <td>0</td>\n",
       "      <td>0</td>\n",
       "      <td>0</td>\n",
       "      <td>0</td>\n",
       "      <td>0</td>\n",
       "      <td>0</td>\n",
       "      <td>0</td>\n",
       "      <td>0</td>\n",
       "    </tr>\n",
       "    <tr>\n",
       "      <th>2</th>\n",
       "      <td>63</td>\n",
       "      <td>1900.0</td>\n",
       "      <td>1</td>\n",
       "      <td>0</td>\n",
       "      <td>0</td>\n",
       "      <td>1</td>\n",
       "      <td>0</td>\n",
       "      <td>1</td>\n",
       "      <td>0</td>\n",
       "      <td>0</td>\n",
       "      <td>0</td>\n",
       "      <td>0</td>\n",
       "      <td>0</td>\n",
       "      <td>0</td>\n",
       "      <td>1</td>\n",
       "      <td>0</td>\n",
       "    </tr>\n",
       "    <tr>\n",
       "      <th>3</th>\n",
       "      <td>58</td>\n",
       "      <td>2182.0</td>\n",
       "      <td>1</td>\n",
       "      <td>0</td>\n",
       "      <td>1</td>\n",
       "      <td>0</td>\n",
       "      <td>0</td>\n",
       "      <td>0</td>\n",
       "      <td>1</td>\n",
       "      <td>0</td>\n",
       "      <td>0</td>\n",
       "      <td>0</td>\n",
       "      <td>0</td>\n",
       "      <td>0</td>\n",
       "      <td>1</td>\n",
       "      <td>0</td>\n",
       "    </tr>\n",
       "    <tr>\n",
       "      <th>4</th>\n",
       "      <td>51</td>\n",
       "      <td>3335.0</td>\n",
       "      <td>1</td>\n",
       "      <td>0</td>\n",
       "      <td>0</td>\n",
       "      <td>0</td>\n",
       "      <td>0</td>\n",
       "      <td>0</td>\n",
       "      <td>1</td>\n",
       "      <td>0</td>\n",
       "      <td>0</td>\n",
       "      <td>0</td>\n",
       "      <td>0</td>\n",
       "      <td>0</td>\n",
       "      <td>1</td>\n",
       "      <td>0</td>\n",
       "    </tr>\n",
       "  </tbody>\n",
       "</table>\n",
       "</div>"
      ],
      "text/plain": [
       "   IDADE  RENDA_TITULAR  CLASS  ESTADO_CIVIL_CO  ESTADO_CIVIL_SE  \\\n",
       "0     45         1000.0      1                0                0   \n",
       "1     41         1152.0      1                0                0   \n",
       "2     63         1900.0      1                0                0   \n",
       "3     58         2182.0      1                0                1   \n",
       "4     51         3335.0      1                0                0   \n",
       "\n",
       "   ESTADO_CIVIL_SO  ESTADO_CIVIL_VI  CATEGORIAL_PROFISSAO_APOSENTADO  \\\n",
       "0                1                0                                0   \n",
       "1                1                0                                1   \n",
       "2                1                0                                1   \n",
       "3                0                0                                0   \n",
       "4                0                0                                0   \n",
       "\n",
       "   CATEGORIAL_PROFISSAO_ASSALARIADO  CATEGORIAL_PROFISSAO_AUT+NOMO  \\\n",
       "0                                 0                              1   \n",
       "1                                 0                              0   \n",
       "2                                 0                              0   \n",
       "3                                 1                              0   \n",
       "4                                 1                              0   \n",
       "\n",
       "   CATEGORIAL_PROFISSAO_LIBERAL  TIPO_RESIDENCIA_FA  TIPO_RESIDENCIA_FI  \\\n",
       "0                             0                   0                   0   \n",
       "1                             0                   0                   0   \n",
       "2                             0                   0                   0   \n",
       "3                             0                   0                   0   \n",
       "4                             0                   0                   0   \n",
       "\n",
       "   TIPO_RESIDENCIA_OU  TIPO_RESIDENCIA_PR  TIPO_RESIDENCIA_SM  \n",
       "0                   0                   1                   0  \n",
       "1                   0                   0                   0  \n",
       "2                   0                   1                   0  \n",
       "3                   0                   1                   0  \n",
       "4                   0                   1                   0  "
      ]
     },
     "execution_count": 12,
     "metadata": {},
     "output_type": "execute_result"
    }
   ],
   "source": [
    "tabelao.head()"
   ]
  },
  {
   "cell_type": "code",
   "execution_count": 13,
   "metadata": {},
   "outputs": [],
   "source": [
    "tabelao = tabelao.dropna()"
   ]
  },
  {
   "cell_type": "code",
   "execution_count": 15,
   "metadata": {},
   "outputs": [],
   "source": [
    "# Verificar qual a coluna 'CLASS'\n",
    "X = tabelao.iloc[:, :].values\n",
    "X = np.delete(X, obj= 2, axis= 1)\n",
    "y = tabelao.iloc[:, 2].values"
   ]
  },
  {
   "cell_type": "code",
   "execution_count": 16,
   "metadata": {},
   "outputs": [
    {
     "name": "stdout",
     "output_type": "stream",
     "text": [
      "Frequency of unique values of the said array:\n",
      "[[    0     1]\n",
      " [18136 78248]]\n"
     ]
    }
   ],
   "source": [
    "unique_elements, counts_elements = np.unique(y, return_counts=True)\n",
    "print(\"Frequency of unique values of the said array:\")\n",
    "print(np.asarray((unique_elements, counts_elements)))"
   ]
  },
  {
   "cell_type": "code",
   "execution_count": 17,
   "metadata": {},
   "outputs": [],
   "source": [
    "skf = StratifiedKFold(n_splits=4,)"
   ]
  },
  {
   "cell_type": "code",
   "execution_count": null,
   "metadata": {},
   "outputs": [
    {
     "name": "stdout",
     "output_type": "stream",
     "text": [
      "[0.61624336 0.57769259 0.57437613 0.73014854]\n",
      "[0.66396912 0.58006123 0.56424322 0.77542643]\n"
     ]
    }
   ],
   "source": [
    "#XBOOST\n",
    "metrics_xgb = np.zeros(skf.n_splits)\n",
    "\n",
    "for train_index, test_index in skf.split(X, y):\n",
    "    X_train, X_test = X[train_index], X[test_index]\n",
    "    y_train, y_test = y[train_index], y[test_index]\n",
    "    \n",
    "    #scaling\n",
    "    sc_X = StandardScaler()\n",
    "    X_train = sc_X.fit_transform(X_train)\n",
    "    X_test = sc_X.transform(X_test)\n",
    "    \n",
    "    #SMOTEENN\n",
    "    sme = SMOTEENN()\n",
    "    X_res, y_res = sme.fit_resample(X_train, y_train)\n",
    "\n",
    "\n",
    "    model1 = xgb.XGBClassifier()\n",
    "    model2 = xgb.XGBClassifier(n_estimators=100, max_depth=8, learning_rate=0.1, subsample=0.5)\n",
    "\n",
    "    train_model1 = model1.fit(X_res, y_res)\n",
    "    pred1 = train_model1.predict(X_test)\n",
    "    \n",
    "    actual_metrics = np.array([accuracy_score(y_test, pred1),\n",
    "                            roc_auc_score(y_test, pred1),\n",
    "                            geometric_mean_score(y_test, pred1),\n",
    "                            f1_score(y_test, pred1)])\n",
    "    \n",
    "    metrics_xgb += actual_metrics\n",
    "    \n",
    "    print(actual_metrics)\n",
    "    \n",
    "metrics_xgb = metrics_xgb/skf.n_splits\n",
    "print('Accuracy: ',metrics_xgb[0], 'AUC: ',metrics_xgb[1], 'G-mean:',metrics_xgb[2],'F-measure:',metrics_xgb[3])"
   ]
  },
  {
   "cell_type": "code",
   "execution_count": null,
   "metadata": {},
   "outputs": [],
   "source": []
  },
  {
   "cell_type": "markdown",
   "metadata": {},
   "source": [
    "KERAS COM SMOTEEN"
   ]
  },
  {
   "cell_type": "code",
   "execution_count": null,
   "metadata": {},
   "outputs": [],
   "source": [
    "# # RNA\n",
    "\n",
    "# for train_index, test_index in skf.split(X, y):\n",
    "#     X_train, X_test = X[train_index], X[test_index]\n",
    "#     y_train, y_test = y[train_index], y[test_index]\n",
    "    \n",
    "#     #scaling\n",
    "#     sc_X = StandardScaler()\n",
    "#     X_train = sc_X.fit_transform(X_train)\n",
    "#     X_test = sc_X.transform(X_test)\n",
    "    \n",
    "# #     #combination over and under sampling\n",
    "# #     sme = SMOTEENN()\n",
    "# #     X_res, y_res = sme.fit_resample(X_train, y_train)\n",
    "    \n",
    "#     #KERAS\n",
    "#     model_1 = Sequential()\n",
    "\n",
    "#     # Input e 1ª camada oculta\n",
    "#     model_1.add(Dense(15,\n",
    "#                     input_shape=(15,),\n",
    "#                     kernel_initializer = 'uniform',\n",
    "#                     activation = 'relu'))\n",
    "\n",
    "    \n",
    "#     # 2ª e 3ª camada oculta\n",
    "#     model_1.add(Dense(8,\n",
    "#                       kernel_initializer = 'uniform',\n",
    "#                       activation = 'relu'))\n",
    "    \n",
    "#     # output\n",
    "#     model_1.add(Dense(1, kernel_initializer = 'uniform', activation = 'sigmoid'))\n",
    "\n",
    "#     # Compile model\n",
    "\n",
    "#     model_1.compile(loss='binary_crossentropy', optimizer='adam', metrics=['accuracy'])\n",
    "\n",
    "#     history_1 = model_1.fit(X_train, y_train, epochs=100, validation_split=0.2)\n",
    "    \n",
    "#     #classification report\n",
    "#     y_pred_prob_1 = model_1.predict(X_test)\n",
    "#     y_pred_1 = (y_pred_prob_1 > 0.5)\n",
    "    \n",
    "#     print('keras1 report:', classification_report(y_test, y_pred_1))"
   ]
  },
  {
   "cell_type": "code",
   "execution_count": null,
   "metadata": {},
   "outputs": [],
   "source": [
    "# print('AUC_1: %.3f' % roc_auc_score(y_test, y_pred_prob_1))\n",
    "\n",
    "\n",
    "# print(\"Accuracy for keras1: %.2f\" % (accuracy_score(y_test, y_pred_1) * 100))"
   ]
  },
  {
   "cell_type": "code",
   "execution_count": null,
   "metadata": {},
   "outputs": [],
   "source": [
    "# # Historico da Acurácia\n",
    "# plt.plot(history_1.history['acc'], color='black')\n",
    "# plt.plot(history_1.history['val_acc'], color='red')\n",
    "# plt.title('model accuracy')\n",
    "# plt.ylabel('accuracy')\n",
    "# plt.xlabel('epoch')\n",
    "# plt.legend(['train', 'test'], loc='upper left')\n",
    "# plt.show()\n",
    "\n",
    "# # Histórico do erro\n",
    "# plt.plot(history_1.history['loss'], color='black')\n",
    "# plt.plot(history_1.history['val_loss'], color='red')\n",
    "# plt.title('model loss')\n",
    "# plt.ylabel('loss')\n",
    "# plt.xlabel('epoch')\n",
    "# plt.legend(['train', 'test'], loc='upper left')\n",
    "# plt.show()"
   ]
  }
 ],
 "metadata": {
  "kernelspec": {
   "display_name": "Python 3",
   "language": "python",
   "name": "python3"
  },
  "language_info": {
   "codemirror_mode": {
    "name": "ipython",
    "version": 3
   },
   "file_extension": ".py",
   "mimetype": "text/x-python",
   "name": "python",
   "nbconvert_exporter": "python",
   "pygments_lexer": "ipython3",
   "version": "3.6.7"
  }
 },
 "nbformat": 4,
 "nbformat_minor": 2
}
