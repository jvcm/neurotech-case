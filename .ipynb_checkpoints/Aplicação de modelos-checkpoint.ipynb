{
 "cells": [
  {
   "cell_type": "code",
   "execution_count": 1,
   "metadata": {},
   "outputs": [],
   "source": [
    "import warnings\n",
    "warnings.filterwarnings('ignore')"
   ]
  },
  {
   "cell_type": "code",
   "execution_count": 29,
   "metadata": {},
   "outputs": [],
   "source": [
    "import numpy  as np\n",
    "import pandas as pd\n",
    "import seaborn as sns\n",
    "import matplotlib.pyplot as plt\n",
    "import keras\n",
    "from keras.models import Sequential\n",
    "from keras.layers import Dense\n",
    "from keras import regularizers\n",
    "from keras import optimizers\n",
    "import xgboost as xgb\n",
    "from sklearn.model_selection import StratifiedKFold, train_test_split\n",
    "from sklearn.preprocessing import LabelEncoder\n",
    "from sklearn.linear_model import LogisticRegression\n",
    "from sklearn.neural_network import MLPClassifier\n",
    "from sklearn import svm\n",
    "from sklearn.metrics import classification_report, confusion_matrix, accuracy_score, roc_auc_score\n",
    "%matplotlib inline\n",
    "from catboost import CatBoostClassifier, FeaturesData\n",
    "import datetime as DT\n",
    "import io\n",
    "from imblearn.over_sampling import SMOTE\n",
    "from imblearn.under_sampling import RandomUnderSampler\n",
    "from imblearn.combine import SMOTEENN \n",
    "from collections import Counter\n",
    "from sklearn.preprocessing import StandardScaler\n",
    "from sklearn.metrics import roc_auc_score\n",
    "from imblearn.metrics import geometric_mean_score\n",
    "from sklearn.metrics import f1_score\n",
    "from matplotlib.pylab import rcParams\n",
    "rcParams['figure.figsize'] = 5, 4\n",
    "import seaborn as sns\n",
    "sns.set()"
   ]
  },
  {
   "cell_type": "markdown",
   "metadata": {},
   "source": [
    "Importando arquivos"
   ]
  },
  {
   "cell_type": "code",
   "execution_count": 3,
   "metadata": {},
   "outputs": [],
   "source": [
    "tabelao = pd.read_csv('TABELAO_FINAL.csv')"
   ]
  },
  {
   "cell_type": "code",
   "execution_count": 4,
   "metadata": {},
   "outputs": [
    {
     "name": "stdout",
     "output_type": "stream",
     "text": [
      "<class 'pandas.core.frame.DataFrame'>\n",
      "RangeIndex: 96390 entries, 0 to 96389\n",
      "Data columns (total 21 columns):\n",
      "CODIGO_CLIENTE             96390 non-null int64\n",
      "DATA_NASCIMENTO            96387 non-null object\n",
      "IDADE                      96390 non-null int64\n",
      "SEXO                       96389 non-null object\n",
      "ESTADO_CIVIL               96389 non-null object\n",
      "CIDADE                     96390 non-null object\n",
      "UF                         96390 non-null object\n",
      "BAIRRO                     96390 non-null object\n",
      "CEP                        96390 non-null float64\n",
      "QTD_DEPENDENTES            96389 non-null float64\n",
      "DATA_CADASTRO              96390 non-null object\n",
      "DATA_ADMISSAO              52040 non-null object\n",
      "CATEGORIAL_PROFISSAO       94674 non-null object\n",
      "TIPO_RESIDENCIA            95438 non-null object\n",
      "RENDA_TITULAR              96384 non-null float64\n",
      "RENDA_CJ                   4393 non-null float64\n",
      "OUTRAS_RENDAS              11067 non-null float64\n",
      "QTD_CARTOES_ADICIONAIS     96390 non-null int64\n",
      "FLAG_CONTA_BANCO           7951 non-null object\n",
      "VALOR_HISTORICO_COMPRAS    96390 non-null float64\n",
      "CLASS                      96390 non-null int64\n",
      "dtypes: float64(6), int64(4), object(11)\n",
      "memory usage: 15.4+ MB\n"
     ]
    }
   ],
   "source": [
    "tabelao.info()"
   ]
  },
  {
   "cell_type": "code",
   "execution_count": 5,
   "metadata": {},
   "outputs": [],
   "source": [
    "tabelao = tabelao.drop(columns=['CODIGO_CLIENTE','QTD_DEPENDENTES','DATA_NASCIMENTO','CIDADE','UF', 'BAIRRO','CEP', 'DATA_CADASTRO','DATA_ADMISSAO',\n",
    "             'RENDA_CJ','OUTRAS_RENDAS','FLAG_CONTA_BANCO',\n",
    "                                'QTD_CARTOES_ADICIONAIS','VALOR_HISTORICO_COMPRAS', 'SEXO'], axis=1)"
   ]
  },
  {
   "cell_type": "code",
   "execution_count": 6,
   "metadata": {},
   "outputs": [
    {
     "name": "stdout",
     "output_type": "stream",
     "text": [
      "<class 'pandas.core.frame.DataFrame'>\n",
      "RangeIndex: 96390 entries, 0 to 96389\n",
      "Data columns (total 6 columns):\n",
      "IDADE                   96390 non-null int64\n",
      "ESTADO_CIVIL            96389 non-null object\n",
      "CATEGORIAL_PROFISSAO    94674 non-null object\n",
      "TIPO_RESIDENCIA         95438 non-null object\n",
      "RENDA_TITULAR           96384 non-null float64\n",
      "CLASS                   96390 non-null int64\n",
      "dtypes: float64(1), int64(2), object(3)\n",
      "memory usage: 4.4+ MB\n"
     ]
    }
   ],
   "source": [
    "tabelao.info()"
   ]
  },
  {
   "cell_type": "code",
   "execution_count": 7,
   "metadata": {},
   "outputs": [
    {
     "data": {
      "text/html": [
       "<div>\n",
       "<style scoped>\n",
       "    .dataframe tbody tr th:only-of-type {\n",
       "        vertical-align: middle;\n",
       "    }\n",
       "\n",
       "    .dataframe tbody tr th {\n",
       "        vertical-align: top;\n",
       "    }\n",
       "\n",
       "    .dataframe thead th {\n",
       "        text-align: right;\n",
       "    }\n",
       "</style>\n",
       "<table border=\"1\" class=\"dataframe\">\n",
       "  <thead>\n",
       "    <tr style=\"text-align: right;\">\n",
       "      <th></th>\n",
       "      <th>IDADE</th>\n",
       "      <th>ESTADO_CIVIL</th>\n",
       "      <th>CATEGORIAL_PROFISSAO</th>\n",
       "      <th>TIPO_RESIDENCIA</th>\n",
       "      <th>RENDA_TITULAR</th>\n",
       "      <th>CLASS</th>\n",
       "    </tr>\n",
       "  </thead>\n",
       "  <tbody>\n",
       "    <tr>\n",
       "      <th>0</th>\n",
       "      <td>45</td>\n",
       "      <td>SO</td>\n",
       "      <td>AUT+NOMO</td>\n",
       "      <td>PR</td>\n",
       "      <td>1000.0</td>\n",
       "      <td>1</td>\n",
       "    </tr>\n",
       "    <tr>\n",
       "      <th>1</th>\n",
       "      <td>41</td>\n",
       "      <td>SO</td>\n",
       "      <td>APOSENTADO</td>\n",
       "      <td>AL</td>\n",
       "      <td>1152.0</td>\n",
       "      <td>1</td>\n",
       "    </tr>\n",
       "    <tr>\n",
       "      <th>2</th>\n",
       "      <td>63</td>\n",
       "      <td>SO</td>\n",
       "      <td>APOSENTADO</td>\n",
       "      <td>PR</td>\n",
       "      <td>1900.0</td>\n",
       "      <td>1</td>\n",
       "    </tr>\n",
       "    <tr>\n",
       "      <th>3</th>\n",
       "      <td>58</td>\n",
       "      <td>SE</td>\n",
       "      <td>ASSALARIADO</td>\n",
       "      <td>PR</td>\n",
       "      <td>2182.0</td>\n",
       "      <td>1</td>\n",
       "    </tr>\n",
       "    <tr>\n",
       "      <th>4</th>\n",
       "      <td>51</td>\n",
       "      <td>CA</td>\n",
       "      <td>ASSALARIADO</td>\n",
       "      <td>PR</td>\n",
       "      <td>3335.0</td>\n",
       "      <td>1</td>\n",
       "    </tr>\n",
       "  </tbody>\n",
       "</table>\n",
       "</div>"
      ],
      "text/plain": [
       "   IDADE ESTADO_CIVIL CATEGORIAL_PROFISSAO TIPO_RESIDENCIA  RENDA_TITULAR  \\\n",
       "0     45           SO             AUT+NOMO              PR         1000.0   \n",
       "1     41           SO           APOSENTADO              AL         1152.0   \n",
       "2     63           SO           APOSENTADO              PR         1900.0   \n",
       "3     58           SE          ASSALARIADO              PR         2182.0   \n",
       "4     51           CA          ASSALARIADO              PR         3335.0   \n",
       "\n",
       "   CLASS  \n",
       "0      1  \n",
       "1      1  \n",
       "2      1  \n",
       "3      1  \n",
       "4      1  "
      ]
     },
     "execution_count": 7,
     "metadata": {},
     "output_type": "execute_result"
    }
   ],
   "source": [
    "tabelao.head()"
   ]
  },
  {
   "cell_type": "markdown",
   "metadata": {},
   "source": [
    "## TABELA DE MODELAGEM"
   ]
  },
  {
   "cell_type": "code",
   "execution_count": null,
   "metadata": {},
   "outputs": [],
   "source": [
    "# df_1 = tabelao[tabelao.CLASS==1].iloc[:10000,:]\n",
    "# df_0 = tabelao[tabelao.CLASS==0].iloc[:10000,:]"
   ]
  },
  {
   "cell_type": "code",
   "execution_count": null,
   "metadata": {},
   "outputs": [],
   "source": [
    "# df_model = df_1.append(df_0)"
   ]
  },
  {
   "cell_type": "code",
   "execution_count": null,
   "metadata": {},
   "outputs": [],
   "source": [
    "# df_2 = tabelao[tabelao.CLASS==1].iloc[10000:,:]\n",
    "# df_3 = tabelao[tabelao.CLASS==0].iloc[10000:,:]"
   ]
  },
  {
   "cell_type": "code",
   "execution_count": null,
   "metadata": {},
   "outputs": [],
   "source": [
    "# df_score = df_2.append(df_3)"
   ]
  },
  {
   "cell_type": "code",
   "execution_count": 9,
   "metadata": {},
   "outputs": [],
   "source": [
    "tabelao = pd.get_dummies(tabelao, columns=['CATEGORIAL_PROFISSAO',\n",
    "                                           'TIPO_RESIDENCIA','ESTADO_CIVIL'], drop_first=True)"
   ]
  },
  {
   "cell_type": "code",
   "execution_count": 31,
   "metadata": {},
   "outputs": [
    {
     "data": {
      "text/html": [
       "<div>\n",
       "<style scoped>\n",
       "    .dataframe tbody tr th:only-of-type {\n",
       "        vertical-align: middle;\n",
       "    }\n",
       "\n",
       "    .dataframe tbody tr th {\n",
       "        vertical-align: top;\n",
       "    }\n",
       "\n",
       "    .dataframe thead th {\n",
       "        text-align: right;\n",
       "    }\n",
       "</style>\n",
       "<table border=\"1\" class=\"dataframe\">\n",
       "  <thead>\n",
       "    <tr style=\"text-align: right;\">\n",
       "      <th></th>\n",
       "      <th>IDADE</th>\n",
       "      <th>RENDA_TITULAR</th>\n",
       "      <th>CLASS</th>\n",
       "      <th>CATEGORIAL_PROFISSAO_APOSENTADO</th>\n",
       "      <th>CATEGORIAL_PROFISSAO_ASSALARIADO</th>\n",
       "      <th>CATEGORIAL_PROFISSAO_AUT+NOMO</th>\n",
       "      <th>CATEGORIAL_PROFISSAO_LIBERAL</th>\n",
       "      <th>TIPO_RESIDENCIA_FA</th>\n",
       "      <th>TIPO_RESIDENCIA_FI</th>\n",
       "      <th>TIPO_RESIDENCIA_OU</th>\n",
       "      <th>TIPO_RESIDENCIA_PR</th>\n",
       "      <th>TIPO_RESIDENCIA_SM</th>\n",
       "      <th>ESTADO_CIVIL_CO</th>\n",
       "      <th>ESTADO_CIVIL_SE</th>\n",
       "      <th>ESTADO_CIVIL_SO</th>\n",
       "      <th>ESTADO_CIVIL_VI</th>\n",
       "    </tr>\n",
       "  </thead>\n",
       "  <tbody>\n",
       "    <tr>\n",
       "      <th>0</th>\n",
       "      <td>45</td>\n",
       "      <td>1000.0</td>\n",
       "      <td>1</td>\n",
       "      <td>0</td>\n",
       "      <td>0</td>\n",
       "      <td>1</td>\n",
       "      <td>0</td>\n",
       "      <td>0</td>\n",
       "      <td>0</td>\n",
       "      <td>0</td>\n",
       "      <td>1</td>\n",
       "      <td>0</td>\n",
       "      <td>0</td>\n",
       "      <td>0</td>\n",
       "      <td>1</td>\n",
       "      <td>0</td>\n",
       "    </tr>\n",
       "    <tr>\n",
       "      <th>1</th>\n",
       "      <td>41</td>\n",
       "      <td>1152.0</td>\n",
       "      <td>1</td>\n",
       "      <td>1</td>\n",
       "      <td>0</td>\n",
       "      <td>0</td>\n",
       "      <td>0</td>\n",
       "      <td>0</td>\n",
       "      <td>0</td>\n",
       "      <td>0</td>\n",
       "      <td>0</td>\n",
       "      <td>0</td>\n",
       "      <td>0</td>\n",
       "      <td>0</td>\n",
       "      <td>1</td>\n",
       "      <td>0</td>\n",
       "    </tr>\n",
       "    <tr>\n",
       "      <th>2</th>\n",
       "      <td>63</td>\n",
       "      <td>1900.0</td>\n",
       "      <td>1</td>\n",
       "      <td>1</td>\n",
       "      <td>0</td>\n",
       "      <td>0</td>\n",
       "      <td>0</td>\n",
       "      <td>0</td>\n",
       "      <td>0</td>\n",
       "      <td>0</td>\n",
       "      <td>1</td>\n",
       "      <td>0</td>\n",
       "      <td>0</td>\n",
       "      <td>0</td>\n",
       "      <td>1</td>\n",
       "      <td>0</td>\n",
       "    </tr>\n",
       "    <tr>\n",
       "      <th>3</th>\n",
       "      <td>58</td>\n",
       "      <td>2182.0</td>\n",
       "      <td>1</td>\n",
       "      <td>0</td>\n",
       "      <td>1</td>\n",
       "      <td>0</td>\n",
       "      <td>0</td>\n",
       "      <td>0</td>\n",
       "      <td>0</td>\n",
       "      <td>0</td>\n",
       "      <td>1</td>\n",
       "      <td>0</td>\n",
       "      <td>0</td>\n",
       "      <td>1</td>\n",
       "      <td>0</td>\n",
       "      <td>0</td>\n",
       "    </tr>\n",
       "    <tr>\n",
       "      <th>4</th>\n",
       "      <td>51</td>\n",
       "      <td>3335.0</td>\n",
       "      <td>1</td>\n",
       "      <td>0</td>\n",
       "      <td>1</td>\n",
       "      <td>0</td>\n",
       "      <td>0</td>\n",
       "      <td>0</td>\n",
       "      <td>0</td>\n",
       "      <td>0</td>\n",
       "      <td>1</td>\n",
       "      <td>0</td>\n",
       "      <td>0</td>\n",
       "      <td>0</td>\n",
       "      <td>0</td>\n",
       "      <td>0</td>\n",
       "    </tr>\n",
       "  </tbody>\n",
       "</table>\n",
       "</div>"
      ],
      "text/plain": [
       "   IDADE  RENDA_TITULAR  CLASS  CATEGORIAL_PROFISSAO_APOSENTADO  \\\n",
       "0     45         1000.0      1                                0   \n",
       "1     41         1152.0      1                                1   \n",
       "2     63         1900.0      1                                1   \n",
       "3     58         2182.0      1                                0   \n",
       "4     51         3335.0      1                                0   \n",
       "\n",
       "   CATEGORIAL_PROFISSAO_ASSALARIADO  CATEGORIAL_PROFISSAO_AUT+NOMO  \\\n",
       "0                                 0                              1   \n",
       "1                                 0                              0   \n",
       "2                                 0                              0   \n",
       "3                                 1                              0   \n",
       "4                                 1                              0   \n",
       "\n",
       "   CATEGORIAL_PROFISSAO_LIBERAL  TIPO_RESIDENCIA_FA  TIPO_RESIDENCIA_FI  \\\n",
       "0                             0                   0                   0   \n",
       "1                             0                   0                   0   \n",
       "2                             0                   0                   0   \n",
       "3                             0                   0                   0   \n",
       "4                             0                   0                   0   \n",
       "\n",
       "   TIPO_RESIDENCIA_OU  TIPO_RESIDENCIA_PR  TIPO_RESIDENCIA_SM  \\\n",
       "0                   0                   1                   0   \n",
       "1                   0                   0                   0   \n",
       "2                   0                   1                   0   \n",
       "3                   0                   1                   0   \n",
       "4                   0                   1                   0   \n",
       "\n",
       "   ESTADO_CIVIL_CO  ESTADO_CIVIL_SE  ESTADO_CIVIL_SO  ESTADO_CIVIL_VI  \n",
       "0                0                0                1                0  \n",
       "1                0                0                1                0  \n",
       "2                0                0                1                0  \n",
       "3                0                1                0                0  \n",
       "4                0                0                0                0  "
      ]
     },
     "execution_count": 31,
     "metadata": {},
     "output_type": "execute_result"
    }
   ],
   "source": [
    "tabelao.head()"
   ]
  },
  {
   "cell_type": "code",
   "execution_count": 11,
   "metadata": {},
   "outputs": [],
   "source": [
    "tabelao = tabelao.dropna()"
   ]
  },
  {
   "cell_type": "code",
   "execution_count": null,
   "metadata": {},
   "outputs": [],
   "source": [
    "# tabelao['QTD_DEPENDENTES'] = tabelao['QTD_DEPENDENTES'].apply(lambda x: 1 if x>0 else 0)"
   ]
  },
  {
   "cell_type": "code",
   "execution_count": 13,
   "metadata": {},
   "outputs": [],
   "source": [
    "# Verificar qual a coluna 'CLASS'\n",
    "X = tabelao.iloc[:, :].values\n",
    "X = np.delete(X, obj= 2, axis= 1)\n",
    "y = tabelao.iloc[:, 2].values"
   ]
  },
  {
   "cell_type": "code",
   "execution_count": 14,
   "metadata": {},
   "outputs": [
    {
     "name": "stdout",
     "output_type": "stream",
     "text": [
      "Frequency of unique values of the said array:\n",
      "[[    0     1]\n",
      " [18136 78248]]\n"
     ]
    }
   ],
   "source": [
    "unique_elements, counts_elements = np.unique(y, return_counts=True)\n",
    "print(\"Frequency of unique values of the said array:\")\n",
    "print(np.asarray((unique_elements, counts_elements)))"
   ]
  },
  {
   "cell_type": "code",
   "execution_count": 15,
   "metadata": {},
   "outputs": [
    {
     "name": "stdout",
     "output_type": "stream",
     "text": [
      "XGBoost\n",
      "Accuracy:  0.6472754814077025 AUC:  0.5747570035881076 G-mean: 0.5609744175475654 F-measure: 0.7600645609752408 \n",
      "\n",
      "Logistic Regression\n",
      "Accuracy:  0.6371285690571049 AUC:  0.5927158515422468 G-mean: 0.5878377758862312 F-measure: 0.7478284551280794 \n",
      "\n",
      "ANN\n",
      "Accuracy:  0.6388197211155379 AUC:  0.5871493966656726 G-mean: 0.580795643464838 F-measure: 0.7504279732123719 \n",
      "\n"
     ]
    }
   ],
   "source": [
    "metrics = np.zeros((3, 4)) # 2 classificadores, 4 metricas\n",
    "\n",
    "skf = StratifiedKFold(n_splits=4, random_state=42)\n",
    "\n",
    "for train_index, test_index in skf.split(X, y):\n",
    "    X_train, X_test = X[train_index], X[test_index]\n",
    "    y_train, y_test = y[train_index], y[test_index]\n",
    "    \n",
    "    #Scaling\n",
    "    sc_X = StandardScaler()\n",
    "    X_train = sc_X.fit_transform(X_train)\n",
    "    X_test = sc_X.transform(X_test)\n",
    "    \n",
    "    #SMOTEENN\n",
    "    sme = SMOTEENN()\n",
    "    X_res, y_res = sme.fit_resample(X_train, y_train)\n",
    "\n",
    "    #XGBoosting\n",
    "    model1 = xgb.XGBClassifier()\n",
    "    train_model1 = model1.fit(X_res, y_res)\n",
    "    pred1 = train_model1.predict(X_test)\n",
    "    \n",
    "    #Logistic Regression\n",
    "    lr = LogisticRegression()\n",
    "    lr.fit(X_res, y_res)\n",
    "    pred2 = lr.predict(X_test)\n",
    "    \n",
    "    #MLP\n",
    "    mlp = MLPClassifier(solver='adam', alpha=1e-5,\n",
    "                        hidden_layer_sizes=(32,16),\n",
    "                        early_stopping=True,validation_fraction=0.05)\n",
    "    mlp.fit(X_res,y_res)\n",
    "    pred3 = mlp.predict(X_test)\n",
    "    \n",
    "    #Metrics\n",
    "    xgb_metrics = np.array([accuracy_score(y_test, pred1),\n",
    "                            roc_auc_score(y_test, pred1),\n",
    "                            geometric_mean_score(y_test, pred1),\n",
    "                            f1_score(y_test, pred1)])\n",
    "    \n",
    "    lr_metrics = np.array([accuracy_score(y_test, pred2),\n",
    "                            roc_auc_score(y_test, pred2),\n",
    "                            geometric_mean_score(y_test, pred2),\n",
    "                            f1_score(y_test, pred2)])\n",
    "    \n",
    "    ann_metrics = np.array([accuracy_score(y_test, pred3),\n",
    "                            roc_auc_score(y_test, pred3),\n",
    "                            geometric_mean_score(y_test, pred3),\n",
    "                            f1_score(y_test, pred3)])\n",
    "    \n",
    "    metrics += np.array([xgb_metrics, lr_metrics, ann_metrics])\n",
    "    \n",
    "metrics = metrics/skf.n_splits\n",
    "print('XGBoost')\n",
    "print('Accuracy: ',metrics[0,0], 'AUC: ',metrics[0,1], 'G-mean:',metrics[0,2],'F-measure:',metrics[0,3],'\\n')\n",
    "print('Logistic Regression')\n",
    "print('Accuracy: ',metrics[1,0], 'AUC: ',metrics[1,1], 'G-mean:',metrics[1,2],'F-measure:',metrics[1,3],'\\n')\n",
    "print('ANN')\n",
    "print('Accuracy: ',metrics[2,0], 'AUC: ',metrics[2,1], 'G-mean:',metrics[2,2],'F-measure:',metrics[2,3],'\\n')"
   ]
  },
  {
   "cell_type": "code",
   "execution_count": 30,
   "metadata": {
    "scrolled": true
   },
   "outputs": [
    {
     "data": {
      "image/png": "[encoded data removed]",
      "text/plain": [
       "<Figure size 720x360 with 1 Axes>"
      ]
     },
     "metadata": {},
     "output_type": "display_data"
    },
    {
     "name": "stdout",
     "output_type": "stream",
     "text": [
      "                 Acurácia       AUC    G-Mean  F-Measure\n",
      "XGBoost          0.647275  0.574757  0.560974   0.760065\n",
      "Log. Regression  0.637129  0.592716  0.587838   0.747828\n",
      "MLP              0.638820  0.587149  0.580796   0.750428\n"
     ]
    }
   ],
   "source": [
    "rcParams['figure.figsize'] = 10, 5\n",
    "barWidth = 0.15\n",
    "# Set position of bar on X axis\n",
    "r1 = np.arange(metrics.shape[0])\n",
    "r2 = [x + barWidth for x in r1]\n",
    "r3 = [x + barWidth for x in r2]\n",
    "r4 = [x + barWidth for x in r3]\n",
    "\n",
    "# Make the plot\n",
    "plt.bar(r1, metrics[:, 0], width=barWidth, edgecolor='white', label='Acurácia')\n",
    "plt.bar(r2, metrics[:, 1], width=barWidth, edgecolor='white', label='AUC')\n",
    "plt.bar(r3, metrics[:, 2], width=barWidth, edgecolor='white', label='G-Mean')\n",
    "plt.bar(r4, metrics[:, 3], width=barWidth, edgecolor='white', label='F-Measure')\n",
    "\n",
    "# Add xticks on the middle of the group bars\n",
    "plt.ylim([0., 0.9])\n",
    "\n",
    "plt.ylabel('Escore')\n",
    "plt.xticks([r + barWidth for r in range(metrics.shape[0])], ['XGBoost', 'Log. Regression', 'MLP'])\n",
    "\n",
    "# Create legend & Show graphic\n",
    "plt.legend(loc = 'lower right')\n",
    "plt.title('Desempenho dos Classificadores')\n",
    "plt.show()\n",
    "\n",
    "df = pd.DataFrame(data = metrics, columns = ['Acurácia', 'AUC', 'G-Mean', 'F-Measure'], index = ['XGBoost', 'Log. Regression', 'MLP'])\n",
    "print(df)"
   ]
  },
  {
   "cell_type": "code",
   "execution_count": null,
   "metadata": {},
   "outputs": [],
   "source": []
  }
 ],
 "metadata": {
  "kernelspec": {
   "display_name": "Python 3",
   "language": "python",
   "name": "python3"
  },
  "language_info": {
   "codemirror_mode": {
    "name": "ipython",
    "version": 3
   },
   "file_extension": ".py",
   "mimetype": "text/x-python",
   "name": "python",
   "nbconvert_exporter": "python",
   "pygments_lexer": "ipython3",
   "version": "3.6.7"
  }
 },
 "nbformat": 4,
 "nbformat_minor": 2
}
