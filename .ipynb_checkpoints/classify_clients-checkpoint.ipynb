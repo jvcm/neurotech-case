{
 "cells": [
  {
   "cell_type": "code",
   "execution_count": 1,
   "metadata": {},
   "outputs": [],
   "source": [
    "import pandas as pd\n",
    "import numpy as np\n",
    "import datetime\n",
    "from dateutil.relativedelta import *"
   ]
  },
  {
   "cell_type": "markdown",
   "metadata": {},
   "source": [
    "# Cadastro"
   ]
  },
  {
   "cell_type": "code",
   "execution_count": 2,
   "metadata": {},
   "outputs": [
    {
     "name": "stderr",
     "output_type": "stream",
     "text": [
      "/home/jvcm/tsenv/lib/python3.6/site-packages/IPython/core/interactiveshell.py:3020: DtypeWarning: Columns (15) have mixed types. Specify dtype option on import or set low_memory=False.\n",
      "  interactivity=interactivity, compiler=compiler, result=result)\n"
     ]
    }
   ],
   "source": [
    "cadastro = pd.read_csv('CADASTRAL.txt', sep='\\t')"
   ]
  },
  {
   "cell_type": "code",
   "execution_count": 3,
   "metadata": {},
   "outputs": [
    {
     "data": {
      "text/html": [
       "<div>\n",
       "<style scoped>\n",
       "    .dataframe tbody tr th:only-of-type {\n",
       "        vertical-align: middle;\n",
       "    }\n",
       "\n",
       "    .dataframe tbody tr th {\n",
       "        vertical-align: top;\n",
       "    }\n",
       "\n",
       "    .dataframe thead th {\n",
       "        text-align: right;\n",
       "    }\n",
       "</style>\n",
       "<table border=\"1\" class=\"dataframe\">\n",
       "  <thead>\n",
       "    <tr style=\"text-align: right;\">\n",
       "      <th></th>\n",
       "      <th>CODIGO_CLIENTE</th>\n",
       "      <th>DATA_NASCIMENTO</th>\n",
       "      <th>SEXO</th>\n",
       "      <th>ESTADO_CIVIL</th>\n",
       "      <th>CIDADE</th>\n",
       "      <th>UF</th>\n",
       "      <th>BAIRRO</th>\n",
       "      <th>CEP</th>\n",
       "      <th>QTD_DEPENDENTES</th>\n",
       "      <th>DATA_CADASTRO</th>\n",
       "      <th>DATA_ADMISSAO</th>\n",
       "      <th>CATEGORIAL_PROFISSAO</th>\n",
       "      <th>TIPO_RESIDENCIA</th>\n",
       "      <th>RENDA_TITULAR</th>\n",
       "      <th>RENDA_CJ</th>\n",
       "      <th>OUTRAS_RENDAS</th>\n",
       "      <th>QTD_CARTOES_ADICIONAIS</th>\n",
       "      <th>FLAG_CONTA_BANCO</th>\n",
       "      <th>VALOR_HISTORICO_COMPRAS</th>\n",
       "    </tr>\n",
       "  </thead>\n",
       "  <tbody>\n",
       "    <tr>\n",
       "      <th>0</th>\n",
       "      <td>3</td>\n",
       "      <td>1951/10/21 00:00:00.000000000</td>\n",
       "      <td>F</td>\n",
       "      <td>CA</td>\n",
       "      <td>SANTA ROSA</td>\n",
       "      <td>RS</td>\n",
       "      <td>GLORIA</td>\n",
       "      <td>98900000.0</td>\n",
       "      <td>1.0</td>\n",
       "      <td>1998/10/28 00:00:00.000000000</td>\n",
       "      <td>1990/01/01 00:00:00.000000000</td>\n",
       "      <td>AUT+NOMO</td>\n",
       "      <td>PR</td>\n",
       "      <td>2500</td>\n",
       "      <td>2500</td>\n",
       "      <td>NaN</td>\n",
       "      <td>1</td>\n",
       "      <td>NaN</td>\n",
       "      <td>27093.04</td>\n",
       "    </tr>\n",
       "    <tr>\n",
       "      <th>1</th>\n",
       "      <td>4</td>\n",
       "      <td>NaN</td>\n",
       "      <td>M</td>\n",
       "      <td>NaN</td>\n",
       "      <td>SANTO CRISTO</td>\n",
       "      <td>RS</td>\n",
       "      <td>NaN</td>\n",
       "      <td>98960000.0</td>\n",
       "      <td>0.0</td>\n",
       "      <td>NaN</td>\n",
       "      <td>NaN</td>\n",
       "      <td>AUT+NOMO</td>\n",
       "      <td>NaN</td>\n",
       "      <td>NaN</td>\n",
       "      <td>NaN</td>\n",
       "      <td>NaN</td>\n",
       "      <td>0</td>\n",
       "      <td>NaN</td>\n",
       "      <td>34.00</td>\n",
       "    </tr>\n",
       "    <tr>\n",
       "      <th>2</th>\n",
       "      <td>5</td>\n",
       "      <td>1966/02/07 00:00:00.000000000</td>\n",
       "      <td>M</td>\n",
       "      <td>CA</td>\n",
       "      <td>SANTO CRISTO</td>\n",
       "      <td>RS</td>\n",
       "      <td>CENTRO</td>\n",
       "      <td>98960000.0</td>\n",
       "      <td>1.0</td>\n",
       "      <td>2007/11/24 00:00:00.000000000</td>\n",
       "      <td>2000/05/01 00:00:00.000000000</td>\n",
       "      <td>ASSALARIADO</td>\n",
       "      <td>PR</td>\n",
       "      <td>1500</td>\n",
       "      <td>0</td>\n",
       "      <td>NaN</td>\n",
       "      <td>0</td>\n",
       "      <td>S</td>\n",
       "      <td>4755.19</td>\n",
       "    </tr>\n",
       "    <tr>\n",
       "      <th>3</th>\n",
       "      <td>6</td>\n",
       "      <td>1931/01/04 00:00:00.000000000</td>\n",
       "      <td>F</td>\n",
       "      <td>CA</td>\n",
       "      <td>CANDIDO GODOI</td>\n",
       "      <td>RS</td>\n",
       "      <td>CENTRO</td>\n",
       "      <td>98970000.0</td>\n",
       "      <td>0.0</td>\n",
       "      <td>1998/07/12 00:00:00.000000000</td>\n",
       "      <td>1951/01/01 00:00:00.000000000</td>\n",
       "      <td>APOSENTADO</td>\n",
       "      <td>PR</td>\n",
       "      <td>520</td>\n",
       "      <td>NaN</td>\n",
       "      <td>NaN</td>\n",
       "      <td>0</td>\n",
       "      <td>S</td>\n",
       "      <td>2107.00</td>\n",
       "    </tr>\n",
       "    <tr>\n",
       "      <th>4</th>\n",
       "      <td>7</td>\n",
       "      <td>1965/10/07 00:00:00.000000000</td>\n",
       "      <td>M</td>\n",
       "      <td>CA</td>\n",
       "      <td>SANTO CRISTO</td>\n",
       "      <td>RS</td>\n",
       "      <td>INTERIOR</td>\n",
       "      <td>98960000.0</td>\n",
       "      <td>0.0</td>\n",
       "      <td>2007/08/16 00:00:00.000000000</td>\n",
       "      <td>1968/05/01 00:00:00.000000000</td>\n",
       "      <td>AGRICULTOR</td>\n",
       "      <td>PR</td>\n",
       "      <td>300</td>\n",
       "      <td>680</td>\n",
       "      <td>NaN</td>\n",
       "      <td>0</td>\n",
       "      <td>NaN</td>\n",
       "      <td>2523.55</td>\n",
       "    </tr>\n",
       "  </tbody>\n",
       "</table>\n",
       "</div>"
      ],
      "text/plain": [
       "   CODIGO_CLIENTE                DATA_NASCIMENTO SEXO ESTADO_CIVIL  \\\n",
       "0               3  1951/10/21 00:00:00.000000000    F           CA   \n",
       "1               4                            NaN    M          NaN   \n",
       "2               5  1966/02/07 00:00:00.000000000    M           CA   \n",
       "3               6  1931/01/04 00:00:00.000000000    F           CA   \n",
       "4               7  1965/10/07 00:00:00.000000000    M           CA   \n",
       "\n",
       "          CIDADE  UF    BAIRRO         CEP  QTD_DEPENDENTES  \\\n",
       "0     SANTA ROSA  RS    GLORIA  98900000.0              1.0   \n",
       "1   SANTO CRISTO  RS       NaN  98960000.0              0.0   \n",
       "2   SANTO CRISTO  RS    CENTRO  98960000.0              1.0   \n",
       "3  CANDIDO GODOI  RS    CENTRO  98970000.0              0.0   \n",
       "4   SANTO CRISTO  RS  INTERIOR  98960000.0              0.0   \n",
       "\n",
       "                   DATA_CADASTRO                  DATA_ADMISSAO  \\\n",
       "0  1998/10/28 00:00:00.000000000  1990/01/01 00:00:00.000000000   \n",
       "1                            NaN                            NaN   \n",
       "2  2007/11/24 00:00:00.000000000  2000/05/01 00:00:00.000000000   \n",
       "3  1998/07/12 00:00:00.000000000  1951/01/01 00:00:00.000000000   \n",
       "4  2007/08/16 00:00:00.000000000  1968/05/01 00:00:00.000000000   \n",
       "\n",
       "  CATEGORIAL_PROFISSAO TIPO_RESIDENCIA RENDA_TITULAR RENDA_CJ OUTRAS_RENDAS  \\\n",
       "0             AUT+NOMO              PR          2500     2500           NaN   \n",
       "1             AUT+NOMO             NaN           NaN      NaN           NaN   \n",
       "2          ASSALARIADO              PR          1500        0           NaN   \n",
       "3           APOSENTADO              PR           520      NaN           NaN   \n",
       "4           AGRICULTOR              PR           300      680           NaN   \n",
       "\n",
       "   QTD_CARTOES_ADICIONAIS FLAG_CONTA_BANCO  VALOR_HISTORICO_COMPRAS  \n",
       "0                       1              NaN                 27093.04  \n",
       "1                       0              NaN                    34.00  \n",
       "2                       0                S                  4755.19  \n",
       "3                       0                S                  2107.00  \n",
       "4                       0              NaN                  2523.55  "
      ]
     },
     "execution_count": 3,
     "metadata": {},
     "output_type": "execute_result"
    }
   ],
   "source": [
    "cadastro.head()"
   ]
  },
  {
   "cell_type": "code",
   "execution_count": 4,
   "metadata": {},
   "outputs": [],
   "source": [
    "# cadastro = cadastro.iloc[:, [0,9]]\n",
    "cadastro['DATA_CADASTRO'] = pd.to_datetime(cadastro['DATA_CADASTRO'])\n",
    "cadastro['CODIGO_CLIENTE'] = cadastro['CODIGO_CLIENTE'].astype(str)"
   ]
  },
  {
   "cell_type": "code",
   "execution_count": 5,
   "metadata": {},
   "outputs": [
    {
     "data": {
      "text/html": [
       "<div>\n",
       "<style scoped>\n",
       "    .dataframe tbody tr th:only-of-type {\n",
       "        vertical-align: middle;\n",
       "    }\n",
       "\n",
       "    .dataframe tbody tr th {\n",
       "        vertical-align: top;\n",
       "    }\n",
       "\n",
       "    .dataframe thead th {\n",
       "        text-align: right;\n",
       "    }\n",
       "</style>\n",
       "<table border=\"1\" class=\"dataframe\">\n",
       "  <thead>\n",
       "    <tr style=\"text-align: right;\">\n",
       "      <th></th>\n",
       "      <th>CODIGO_CLIENTE</th>\n",
       "      <th>DATA_NASCIMENTO</th>\n",
       "      <th>SEXO</th>\n",
       "      <th>ESTADO_CIVIL</th>\n",
       "      <th>CIDADE</th>\n",
       "      <th>UF</th>\n",
       "      <th>BAIRRO</th>\n",
       "      <th>CEP</th>\n",
       "      <th>QTD_DEPENDENTES</th>\n",
       "      <th>DATA_CADASTRO</th>\n",
       "      <th>DATA_ADMISSAO</th>\n",
       "      <th>CATEGORIAL_PROFISSAO</th>\n",
       "      <th>TIPO_RESIDENCIA</th>\n",
       "      <th>RENDA_TITULAR</th>\n",
       "      <th>RENDA_CJ</th>\n",
       "      <th>OUTRAS_RENDAS</th>\n",
       "      <th>QTD_CARTOES_ADICIONAIS</th>\n",
       "      <th>FLAG_CONTA_BANCO</th>\n",
       "      <th>VALOR_HISTORICO_COMPRAS</th>\n",
       "    </tr>\n",
       "  </thead>\n",
       "  <tbody>\n",
       "    <tr>\n",
       "      <th>0</th>\n",
       "      <td>3</td>\n",
       "      <td>1951/10/21 00:00:00.000000000</td>\n",
       "      <td>F</td>\n",
       "      <td>CA</td>\n",
       "      <td>SANTA ROSA</td>\n",
       "      <td>RS</td>\n",
       "      <td>GLORIA</td>\n",
       "      <td>98900000.0</td>\n",
       "      <td>1.0</td>\n",
       "      <td>1998-10-28</td>\n",
       "      <td>1990/01/01 00:00:00.000000000</td>\n",
       "      <td>AUT+NOMO</td>\n",
       "      <td>PR</td>\n",
       "      <td>2500</td>\n",
       "      <td>2500</td>\n",
       "      <td>NaN</td>\n",
       "      <td>1</td>\n",
       "      <td>NaN</td>\n",
       "      <td>27093.04</td>\n",
       "    </tr>\n",
       "    <tr>\n",
       "      <th>1</th>\n",
       "      <td>4</td>\n",
       "      <td>NaN</td>\n",
       "      <td>M</td>\n",
       "      <td>NaN</td>\n",
       "      <td>SANTO CRISTO</td>\n",
       "      <td>RS</td>\n",
       "      <td>NaN</td>\n",
       "      <td>98960000.0</td>\n",
       "      <td>0.0</td>\n",
       "      <td>NaT</td>\n",
       "      <td>NaN</td>\n",
       "      <td>AUT+NOMO</td>\n",
       "      <td>NaN</td>\n",
       "      <td>NaN</td>\n",
       "      <td>NaN</td>\n",
       "      <td>NaN</td>\n",
       "      <td>0</td>\n",
       "      <td>NaN</td>\n",
       "      <td>34.00</td>\n",
       "    </tr>\n",
       "    <tr>\n",
       "      <th>2</th>\n",
       "      <td>5</td>\n",
       "      <td>1966/02/07 00:00:00.000000000</td>\n",
       "      <td>M</td>\n",
       "      <td>CA</td>\n",
       "      <td>SANTO CRISTO</td>\n",
       "      <td>RS</td>\n",
       "      <td>CENTRO</td>\n",
       "      <td>98960000.0</td>\n",
       "      <td>1.0</td>\n",
       "      <td>2007-11-24</td>\n",
       "      <td>2000/05/01 00:00:00.000000000</td>\n",
       "      <td>ASSALARIADO</td>\n",
       "      <td>PR</td>\n",
       "      <td>1500</td>\n",
       "      <td>0</td>\n",
       "      <td>NaN</td>\n",
       "      <td>0</td>\n",
       "      <td>S</td>\n",
       "      <td>4755.19</td>\n",
       "    </tr>\n",
       "    <tr>\n",
       "      <th>3</th>\n",
       "      <td>6</td>\n",
       "      <td>1931/01/04 00:00:00.000000000</td>\n",
       "      <td>F</td>\n",
       "      <td>CA</td>\n",
       "      <td>CANDIDO GODOI</td>\n",
       "      <td>RS</td>\n",
       "      <td>CENTRO</td>\n",
       "      <td>98970000.0</td>\n",
       "      <td>0.0</td>\n",
       "      <td>1998-07-12</td>\n",
       "      <td>1951/01/01 00:00:00.000000000</td>\n",
       "      <td>APOSENTADO</td>\n",
       "      <td>PR</td>\n",
       "      <td>520</td>\n",
       "      <td>NaN</td>\n",
       "      <td>NaN</td>\n",
       "      <td>0</td>\n",
       "      <td>S</td>\n",
       "      <td>2107.00</td>\n",
       "    </tr>\n",
       "    <tr>\n",
       "      <th>4</th>\n",
       "      <td>7</td>\n",
       "      <td>1965/10/07 00:00:00.000000000</td>\n",
       "      <td>M</td>\n",
       "      <td>CA</td>\n",
       "      <td>SANTO CRISTO</td>\n",
       "      <td>RS</td>\n",
       "      <td>INTERIOR</td>\n",
       "      <td>98960000.0</td>\n",
       "      <td>0.0</td>\n",
       "      <td>2007-08-16</td>\n",
       "      <td>1968/05/01 00:00:00.000000000</td>\n",
       "      <td>AGRICULTOR</td>\n",
       "      <td>PR</td>\n",
       "      <td>300</td>\n",
       "      <td>680</td>\n",
       "      <td>NaN</td>\n",
       "      <td>0</td>\n",
       "      <td>NaN</td>\n",
       "      <td>2523.55</td>\n",
       "    </tr>\n",
       "  </tbody>\n",
       "</table>\n",
       "</div>"
      ],
      "text/plain": [
       "  CODIGO_CLIENTE                DATA_NASCIMENTO SEXO ESTADO_CIVIL  \\\n",
       "0              3  1951/10/21 00:00:00.000000000    F           CA   \n",
       "1              4                            NaN    M          NaN   \n",
       "2              5  1966/02/07 00:00:00.000000000    M           CA   \n",
       "3              6  1931/01/04 00:00:00.000000000    F           CA   \n",
       "4              7  1965/10/07 00:00:00.000000000    M           CA   \n",
       "\n",
       "          CIDADE  UF    BAIRRO         CEP  QTD_DEPENDENTES DATA_CADASTRO  \\\n",
       "0     SANTA ROSA  RS    GLORIA  98900000.0              1.0    1998-10-28   \n",
       "1   SANTO CRISTO  RS       NaN  98960000.0              0.0           NaT   \n",
       "2   SANTO CRISTO  RS    CENTRO  98960000.0              1.0    2007-11-24   \n",
       "3  CANDIDO GODOI  RS    CENTRO  98970000.0              0.0    1998-07-12   \n",
       "4   SANTO CRISTO  RS  INTERIOR  98960000.0              0.0    2007-08-16   \n",
       "\n",
       "                   DATA_ADMISSAO CATEGORIAL_PROFISSAO TIPO_RESIDENCIA  \\\n",
       "0  1990/01/01 00:00:00.000000000             AUT+NOMO              PR   \n",
       "1                            NaN             AUT+NOMO             NaN   \n",
       "2  2000/05/01 00:00:00.000000000          ASSALARIADO              PR   \n",
       "3  1951/01/01 00:00:00.000000000           APOSENTADO              PR   \n",
       "4  1968/05/01 00:00:00.000000000           AGRICULTOR              PR   \n",
       "\n",
       "  RENDA_TITULAR RENDA_CJ OUTRAS_RENDAS  QTD_CARTOES_ADICIONAIS  \\\n",
       "0          2500     2500           NaN                       1   \n",
       "1           NaN      NaN           NaN                       0   \n",
       "2          1500        0           NaN                       0   \n",
       "3           520      NaN           NaN                       0   \n",
       "4           300      680           NaN                       0   \n",
       "\n",
       "  FLAG_CONTA_BANCO  VALOR_HISTORICO_COMPRAS  \n",
       "0              NaN                 27093.04  \n",
       "1              NaN                    34.00  \n",
       "2                S                  4755.19  \n",
       "3                S                  2107.00  \n",
       "4              NaN                  2523.55  "
      ]
     },
     "execution_count": 5,
     "metadata": {},
     "output_type": "execute_result"
    }
   ],
   "source": [
    "cadastro.head()"
   ]
  },
  {
   "cell_type": "code",
   "execution_count": null,
   "metadata": {},
   "outputs": [],
   "source": [
    "cadastro.info()"
   ]
  },
  {
   "cell_type": "markdown",
   "metadata": {},
   "source": [
    "Cadastrados em 2017:"
   ]
  },
  {
   "cell_type": "code",
   "execution_count": null,
   "metadata": {},
   "outputs": [],
   "source": [
    "cadastro = cadastro[cadastro['DATA_CADASTRO'] >= pd.Timestamp(datetime.date(2017, 1, 1))]\n",
    "cadastro = cadastro[cadastro['DATA_CADASTRO'] < pd.Timestamp(datetime.date(2018, 1, 1))]"
   ]
  },
  {
   "cell_type": "code",
   "execution_count": null,
   "metadata": {},
   "outputs": [],
   "source": [
    "len(cadastro)"
   ]
  },
  {
   "cell_type": "code",
   "execution_count": null,
   "metadata": {},
   "outputs": [],
   "source": [
    "cadastro['DATA_LIMITE'] = cadastro['DATA_CADASTRO'].apply(lambda x: x + relativedelta(months=+6))"
   ]
  },
  {
   "cell_type": "markdown",
   "metadata": {},
   "source": [
    "# Cartão/Carnê (Utilizar para as duas bases)"
   ]
  },
  {
   "cell_type": "code",
   "execution_count": null,
   "metadata": {},
   "outputs": [],
   "source": [
    "df = pd.read_csv('CARTAO.txt', sep='\\t')"
   ]
  },
  {
   "cell_type": "code",
   "execution_count": null,
   "metadata": {},
   "outputs": [],
   "source": [
    "df['CODIGO_CLIENTE'] = df['CODIGO_CLIENTE'].astype(str)\n",
    "df['DATA_VENCIMENTO'] = pd.to_datetime(df['DATA_VENCIMENTO'])\n",
    "df['DATA_PAGAMENTO'] = pd.to_datetime(df['DATA_PAGAMENTO'])"
   ]
  },
  {
   "cell_type": "markdown",
   "metadata": {},
   "source": [
    "Inner Join:"
   ]
  },
  {
   "cell_type": "code",
   "execution_count": null,
   "metadata": {},
   "outputs": [],
   "source": [
    "df = pd.merge(df, cadastro, on='CODIGO_CLIENTE', how='inner')"
   ]
  },
  {
   "cell_type": "markdown",
   "metadata": {},
   "source": [
    "Vencimento em dia de semana:"
   ]
  },
  {
   "cell_type": "code",
   "execution_count": null,
   "metadata": {},
   "outputs": [],
   "source": [
    "df['DATA_VENCIMENTO'] = df['DATA_VENCIMENTO'].apply(lambda x: x + relativedelta(days=+1) if (x.weekday() == 6) else x)\n",
    "df['DATA_VENCIMENTO'] = df['DATA_VENCIMENTO'].apply(lambda x: x + relativedelta(days=+2) if (x.weekday() == 5) else x)"
   ]
  },
  {
   "cell_type": "code",
   "execution_count": null,
   "metadata": {
    "scrolled": true
   },
   "outputs": [],
   "source": [
    "df.head()"
   ]
  },
  {
   "cell_type": "markdown",
   "metadata": {},
   "source": [
    "Flag atraso:"
   ]
  },
  {
   "cell_type": "code",
   "execution_count": null,
   "metadata": {},
   "outputs": [],
   "source": [
    "df['FLAG_ATRASO'] = (pd.isnull(df['DATA_PAGAMENTO']) | (df['DATA_PAGAMENTO'] > df['DATA_VENCIMENTO']))\n",
    "df['FLAG_ATRASO'] = df['FLAG_ATRASO'].astype(int)"
   ]
  },
  {
   "cell_type": "markdown",
   "metadata": {},
   "source": [
    "Flag elegível:"
   ]
  },
  {
   "cell_type": "code",
   "execution_count": null,
   "metadata": {},
   "outputs": [],
   "source": [
    "df['FLAG_LIMITE'] = (df['DATA_VENCIMENTO'] <= df['DATA_LIMITE'])\n",
    "df['FLAG_LIMITE'] = df['FLAG_LIMITE'].astype(int)"
   ]
  },
  {
   "cell_type": "code",
   "execution_count": null,
   "metadata": {},
   "outputs": [],
   "source": [
    "len(df)"
   ]
  },
  {
   "cell_type": "code",
   "execution_count": null,
   "metadata": {},
   "outputs": [],
   "source": [
    "eleg = df.groupby('CODIGO_CLIENTE')['FLAG_ATRASO','FLAG_LIMITE'].max()"
   ]
  },
  {
   "cell_type": "code",
   "execution_count": null,
   "metadata": {},
   "outputs": [],
   "source": [
    "eleg = eleg[eleg['FLAG_LIMITE']>0]"
   ]
  },
  {
   "cell_type": "code",
   "execution_count": null,
   "metadata": {},
   "outputs": [],
   "source": [
    "good = eleg[eleg['FLAG_ATRASO'] == 0]\n",
    "bad = eleg[eleg['FLAG_ATRASO'] == 1]"
   ]
  },
  {
   "cell_type": "code",
   "execution_count": null,
   "metadata": {},
   "outputs": [],
   "source": [
    "len(good)"
   ]
  },
  {
   "cell_type": "code",
   "execution_count": null,
   "metadata": {},
   "outputs": [],
   "source": [
    "eleg.iloc[:,:-1].to_csv('cartao_classif.csv')"
   ]
  },
  {
   "cell_type": "markdown",
   "metadata": {},
   "source": [
    "# --------------------------------------------------------------------\n",
    "# União de Carnê e Cartão"
   ]
  },
  {
   "cell_type": "code",
   "execution_count": 6,
   "metadata": {},
   "outputs": [],
   "source": [
    "cartao = pd.read_csv('cartao_classif.csv')\n",
    "carne = pd.read_csv('carne_classif.csv')"
   ]
  },
  {
   "cell_type": "code",
   "execution_count": 7,
   "metadata": {},
   "outputs": [],
   "source": [
    "clientes = cartao.append(carne)"
   ]
  },
  {
   "cell_type": "code",
   "execution_count": 8,
   "metadata": {},
   "outputs": [
    {
     "data": {
      "text/html": [
       "<div>\n",
       "<style scoped>\n",
       "    .dataframe tbody tr th:only-of-type {\n",
       "        vertical-align: middle;\n",
       "    }\n",
       "\n",
       "    .dataframe tbody tr th {\n",
       "        vertical-align: top;\n",
       "    }\n",
       "\n",
       "    .dataframe thead th {\n",
       "        text-align: right;\n",
       "    }\n",
       "</style>\n",
       "<table border=\"1\" class=\"dataframe\">\n",
       "  <thead>\n",
       "    <tr style=\"text-align: right;\">\n",
       "      <th></th>\n",
       "      <th>CODIGO_CLIENTE</th>\n",
       "      <th>FLAG_ATRASO</th>\n",
       "    </tr>\n",
       "  </thead>\n",
       "  <tbody>\n",
       "    <tr>\n",
       "      <th>0</th>\n",
       "      <td>10001336</td>\n",
       "      <td>1</td>\n",
       "    </tr>\n",
       "    <tr>\n",
       "      <th>1</th>\n",
       "      <td>10002278</td>\n",
       "      <td>1</td>\n",
       "    </tr>\n",
       "    <tr>\n",
       "      <th>2</th>\n",
       "      <td>10003940</td>\n",
       "      <td>1</td>\n",
       "    </tr>\n",
       "    <tr>\n",
       "      <th>3</th>\n",
       "      <td>10004319</td>\n",
       "      <td>1</td>\n",
       "    </tr>\n",
       "    <tr>\n",
       "      <th>4</th>\n",
       "      <td>10010009</td>\n",
       "      <td>0</td>\n",
       "    </tr>\n",
       "  </tbody>\n",
       "</table>\n",
       "</div>"
      ],
      "text/plain": [
       "   CODIGO_CLIENTE  FLAG_ATRASO\n",
       "0        10001336            1\n",
       "1        10002278            1\n",
       "2        10003940            1\n",
       "3        10004319            1\n",
       "4        10010009            0"
      ]
     },
     "execution_count": 8,
     "metadata": {},
     "output_type": "execute_result"
    }
   ],
   "source": [
    "clientes.head()"
   ]
  },
  {
   "cell_type": "code",
   "execution_count": 9,
   "metadata": {},
   "outputs": [],
   "source": [
    "clientes = clientes.groupby('CODIGO_CLIENTE')['FLAG_ATRASO'].max()"
   ]
  },
  {
   "cell_type": "code",
   "execution_count": 10,
   "metadata": {},
   "outputs": [],
   "source": [
    "dic = {'CODIGO_CLIENTE': clientes.index, 'CLASS': clientes.values}"
   ]
  },
  {
   "cell_type": "code",
   "execution_count": 11,
   "metadata": {},
   "outputs": [],
   "source": [
    "df_clientes = pd.DataFrame(data=dic)"
   ]
  },
  {
   "cell_type": "code",
   "execution_count": 12,
   "metadata": {},
   "outputs": [
    {
     "data": {
      "text/plain": [
       "1    78252\n",
       "0    18138\n",
       "Name: CLASS, dtype: int64"
      ]
     },
     "execution_count": 12,
     "metadata": {},
     "output_type": "execute_result"
    }
   ],
   "source": [
    "df_clientes.CLASS.value_counts()"
   ]
  },
  {
   "cell_type": "code",
   "execution_count": 14,
   "metadata": {},
   "outputs": [],
   "source": [
    "df_clientes['CODIGO_CLIENTE'] = df_clientes['CODIGO_CLIENTE'].astype(str)"
   ]
  },
  {
   "cell_type": "code",
   "execution_count": 15,
   "metadata": {},
   "outputs": [],
   "source": [
    "df_clientes = cadastro.merge(df_clientes, on='CODIGO_CLIENTE', how='inner')"
   ]
  },
  {
   "cell_type": "code",
   "execution_count": 16,
   "metadata": {},
   "outputs": [
    {
     "data": {
      "text/html": [
       "<div>\n",
       "<style scoped>\n",
       "    .dataframe tbody tr th:only-of-type {\n",
       "        vertical-align: middle;\n",
       "    }\n",
       "\n",
       "    .dataframe tbody tr th {\n",
       "        vertical-align: top;\n",
       "    }\n",
       "\n",
       "    .dataframe thead th {\n",
       "        text-align: right;\n",
       "    }\n",
       "</style>\n",
       "<table border=\"1\" class=\"dataframe\">\n",
       "  <thead>\n",
       "    <tr style=\"text-align: right;\">\n",
       "      <th></th>\n",
       "      <th>CODIGO_CLIENTE</th>\n",
       "      <th>DATA_NASCIMENTO</th>\n",
       "      <th>SEXO</th>\n",
       "      <th>ESTADO_CIVIL</th>\n",
       "      <th>CIDADE</th>\n",
       "      <th>UF</th>\n",
       "      <th>BAIRRO</th>\n",
       "      <th>CEP</th>\n",
       "      <th>QTD_DEPENDENTES</th>\n",
       "      <th>DATA_CADASTRO</th>\n",
       "      <th>DATA_ADMISSAO</th>\n",
       "      <th>CATEGORIAL_PROFISSAO</th>\n",
       "      <th>TIPO_RESIDENCIA</th>\n",
       "      <th>RENDA_TITULAR</th>\n",
       "      <th>RENDA_CJ</th>\n",
       "      <th>OUTRAS_RENDAS</th>\n",
       "      <th>QTD_CARTOES_ADICIONAIS</th>\n",
       "      <th>FLAG_CONTA_BANCO</th>\n",
       "      <th>VALOR_HISTORICO_COMPRAS</th>\n",
       "      <th>CLASS</th>\n",
       "    </tr>\n",
       "  </thead>\n",
       "  <tbody>\n",
       "    <tr>\n",
       "      <th>0</th>\n",
       "      <td>875</td>\n",
       "      <td>1974/03/03 00:00:00.000000000</td>\n",
       "      <td>F</td>\n",
       "      <td>SO</td>\n",
       "      <td>SANTO CRISTO</td>\n",
       "      <td>RS</td>\n",
       "      <td>PHILIPPSEN</td>\n",
       "      <td>98960000.0</td>\n",
       "      <td>0.0</td>\n",
       "      <td>2017-10-31</td>\n",
       "      <td>2003/02/10 00:00:00.000000000</td>\n",
       "      <td>AUT+NOMO</td>\n",
       "      <td>PR</td>\n",
       "      <td>1000</td>\n",
       "      <td>NaN</td>\n",
       "      <td>NaN</td>\n",
       "      <td>0</td>\n",
       "      <td>NaN</td>\n",
       "      <td>1225.73</td>\n",
       "      <td>1</td>\n",
       "    </tr>\n",
       "    <tr>\n",
       "      <th>1</th>\n",
       "      <td>1689</td>\n",
       "      <td>1978/02/20 00:00:00.000000000</td>\n",
       "      <td>M</td>\n",
       "      <td>SO</td>\n",
       "      <td>TOLEDO</td>\n",
       "      <td>PR</td>\n",
       "      <td>JARDIM COOPAGRO</td>\n",
       "      <td>85903370.0</td>\n",
       "      <td>0.0</td>\n",
       "      <td>2017-11-30</td>\n",
       "      <td>NaN</td>\n",
       "      <td>APOSENTADO</td>\n",
       "      <td>AL</td>\n",
       "      <td>1152</td>\n",
       "      <td>NaN</td>\n",
       "      <td>NaN</td>\n",
       "      <td>0</td>\n",
       "      <td>NaN</td>\n",
       "      <td>1045.04</td>\n",
       "      <td>1</td>\n",
       "    </tr>\n",
       "    <tr>\n",
       "      <th>2</th>\n",
       "      <td>5140</td>\n",
       "      <td>1956/10/16 00:00:00.000000000</td>\n",
       "      <td>M</td>\n",
       "      <td>SO</td>\n",
       "      <td>SANTA ROSA</td>\n",
       "      <td>RS</td>\n",
       "      <td>CRUZEIRO</td>\n",
       "      <td>98900000.0</td>\n",
       "      <td>0.0</td>\n",
       "      <td>2017-03-13</td>\n",
       "      <td>NaN</td>\n",
       "      <td>APOSENTADO</td>\n",
       "      <td>PR</td>\n",
       "      <td>1900</td>\n",
       "      <td>NaN</td>\n",
       "      <td>NaN</td>\n",
       "      <td>0</td>\n",
       "      <td>NaN</td>\n",
       "      <td>3280.56</td>\n",
       "      <td>1</td>\n",
       "    </tr>\n",
       "    <tr>\n",
       "      <th>3</th>\n",
       "      <td>7376</td>\n",
       "      <td>1961/01/22 00:00:00.000000000</td>\n",
       "      <td>M</td>\n",
       "      <td>SE</td>\n",
       "      <td>SANTA ROSA</td>\n",
       "      <td>RS</td>\n",
       "      <td>AUXILIADORA</td>\n",
       "      <td>98796524.0</td>\n",
       "      <td>0.0</td>\n",
       "      <td>2017-11-14</td>\n",
       "      <td>1992/12/07 00:00:00.000000000</td>\n",
       "      <td>ASSALARIADO</td>\n",
       "      <td>PR</td>\n",
       "      <td>2182</td>\n",
       "      <td>NaN</td>\n",
       "      <td>NaN</td>\n",
       "      <td>0</td>\n",
       "      <td>S</td>\n",
       "      <td>1337.71</td>\n",
       "      <td>1</td>\n",
       "    </tr>\n",
       "    <tr>\n",
       "      <th>4</th>\n",
       "      <td>9042</td>\n",
       "      <td>1968/08/22 00:00:00.000000000</td>\n",
       "      <td>F</td>\n",
       "      <td>CA</td>\n",
       "      <td>SANTA ROSA</td>\n",
       "      <td>RS</td>\n",
       "      <td>CENTRAL</td>\n",
       "      <td>98787404.0</td>\n",
       "      <td>0.0</td>\n",
       "      <td>2017-02-20</td>\n",
       "      <td>2004/07/16 00:00:00.000000000</td>\n",
       "      <td>ASSALARIADO</td>\n",
       "      <td>PR</td>\n",
       "      <td>3335</td>\n",
       "      <td>1800</td>\n",
       "      <td>NaN</td>\n",
       "      <td>0</td>\n",
       "      <td>NaN</td>\n",
       "      <td>5987.88</td>\n",
       "      <td>1</td>\n",
       "    </tr>\n",
       "  </tbody>\n",
       "</table>\n",
       "</div>"
      ],
      "text/plain": [
       "  CODIGO_CLIENTE                DATA_NASCIMENTO SEXO ESTADO_CIVIL  \\\n",
       "0            875  1974/03/03 00:00:00.000000000    F           SO   \n",
       "1           1689  1978/02/20 00:00:00.000000000    M           SO   \n",
       "2           5140  1956/10/16 00:00:00.000000000    M           SO   \n",
       "3           7376  1961/01/22 00:00:00.000000000    M           SE   \n",
       "4           9042  1968/08/22 00:00:00.000000000    F           CA   \n",
       "\n",
       "         CIDADE  UF           BAIRRO         CEP  QTD_DEPENDENTES  \\\n",
       "0  SANTO CRISTO  RS       PHILIPPSEN  98960000.0              0.0   \n",
       "1        TOLEDO  PR  JARDIM COOPAGRO  85903370.0              0.0   \n",
       "2    SANTA ROSA  RS         CRUZEIRO  98900000.0              0.0   \n",
       "3    SANTA ROSA  RS      AUXILIADORA  98796524.0              0.0   \n",
       "4    SANTA ROSA  RS          CENTRAL  98787404.0              0.0   \n",
       "\n",
       "  DATA_CADASTRO                  DATA_ADMISSAO CATEGORIAL_PROFISSAO  \\\n",
       "0    2017-10-31  2003/02/10 00:00:00.000000000             AUT+NOMO   \n",
       "1    2017-11-30                            NaN           APOSENTADO   \n",
       "2    2017-03-13                            NaN           APOSENTADO   \n",
       "3    2017-11-14  1992/12/07 00:00:00.000000000          ASSALARIADO   \n",
       "4    2017-02-20  2004/07/16 00:00:00.000000000          ASSALARIADO   \n",
       "\n",
       "  TIPO_RESIDENCIA RENDA_TITULAR RENDA_CJ OUTRAS_RENDAS  \\\n",
       "0              PR          1000      NaN           NaN   \n",
       "1              AL          1152      NaN           NaN   \n",
       "2              PR          1900      NaN           NaN   \n",
       "3              PR          2182      NaN           NaN   \n",
       "4              PR          3335     1800           NaN   \n",
       "\n",
       "   QTD_CARTOES_ADICIONAIS FLAG_CONTA_BANCO  VALOR_HISTORICO_COMPRAS  CLASS  \n",
       "0                       0              NaN                  1225.73      1  \n",
       "1                       0              NaN                  1045.04      1  \n",
       "2                       0              NaN                  3280.56      1  \n",
       "3                       0                S                  1337.71      1  \n",
       "4                       0              NaN                  5987.88      1  "
      ]
     },
     "execution_count": 16,
     "metadata": {},
     "output_type": "execute_result"
    }
   ],
   "source": [
    "df_clientes.head()"
   ]
  },
  {
   "cell_type": "code",
   "execution_count": 18,
   "metadata": {},
   "outputs": [
    {
     "data": {
      "text/plain": [
       "1    78252\n",
       "0    18138\n",
       "Name: CLASS, dtype: int64"
      ]
     },
     "execution_count": 18,
     "metadata": {},
     "output_type": "execute_result"
    }
   ],
   "source": [
    "df_clientes.CLASS.value_counts()"
   ]
  },
  {
   "cell_type": "code",
   "execution_count": 19,
   "metadata": {},
   "outputs": [],
   "source": [
    "df_clientes.to_csv('TABELAO_FINAL.csv', index = False)"
   ]
  }
 ],
 "metadata": {
  "kernelspec": {
   "display_name": "Python 3",
   "language": "python",
   "name": "python3"
  },
  "language_info": {
   "codemirror_mode": {
    "name": "ipython",
    "version": 3
   },
   "file_extension": ".py",
   "mimetype": "text/x-python",
   "name": "python",
   "nbconvert_exporter": "python",
   "pygments_lexer": "ipython3",
   "version": "3.6.7"
  }
 },
 "nbformat": 4,
 "nbformat_minor": 2
}
