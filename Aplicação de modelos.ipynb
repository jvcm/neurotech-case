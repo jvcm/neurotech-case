{
 "cells": [
  {
   "cell_type": "code",
   "execution_count": 1,
   "metadata": {},
   "outputs": [],
   "source": [
    "import warnings\n",
    "warnings.filterwarnings('ignore')"
   ]
  },
  {
   "cell_type": "code",
   "execution_count": 2,
   "metadata": {},
   "outputs": [
    {
     "name": "stderr",
     "output_type": "stream",
     "text": [
      "Using TensorFlow backend.\n"
     ]
    }
   ],
   "source": [
    "import numpy  as np\n",
    "import pandas as pd\n",
    "import seaborn as sns\n",
    "import matplotlib.pyplot as plt\n",
    "import keras\n",
    "from sklearn.model_selection import StratifiedKFold\n",
    "from sklearn.preprocessing import LabelEncoder\n",
    "from sklearn.linear_model import LogisticRegression\n",
    "from sklearn import svm\n",
    "from sklearn.metrics import classification_report, confusion_matrix\n",
    "%matplotlib inline\n",
    "from catboost import CatBoostClassifier, FeaturesData\n",
    "import datetime as DT\n",
    "import io\n",
    "from imblearn.over_sampling import SMOTE"
   ]
  },
  {
   "cell_type": "markdown",
   "metadata": {},
   "source": [
    "Importando arquivos"
   ]
  },
  {
   "cell_type": "code",
   "execution_count": 3,
   "metadata": {},
   "outputs": [],
   "source": [
    "tabelao = pd.read_csv('tabelao_idade.csv')"
   ]
  },
  {
   "cell_type": "code",
   "execution_count": 4,
   "metadata": {},
   "outputs": [
    {
     "name": "stdout",
     "output_type": "stream",
     "text": [
      "<class 'pandas.core.frame.DataFrame'>\n",
      "RangeIndex: 96406 entries, 0 to 96405\n",
      "Data columns (total 21 columns):\n",
      "CODIGO_CLIENTE             96406 non-null int64\n",
      "DATA_NASCIMENTO            96403 non-null object\n",
      "IDADE                      96406 non-null int64\n",
      "SEXO                       96405 non-null object\n",
      "ESTADO_CIVIL               96405 non-null object\n",
      "CIDADE                     96406 non-null object\n",
      "UF                         96406 non-null object\n",
      "BAIRRO                     96406 non-null object\n",
      "CEP                        96406 non-null int64\n",
      "QTD_DEPENDENTES            96405 non-null float64\n",
      "DATA_CADASTRO              96406 non-null object\n",
      "DATA_ADMISSAO              52050 non-null object\n",
      "CATEGORIAL_PROFISSAO       94690 non-null object\n",
      "TIPO_RESIDENCIA            95454 non-null object\n",
      "RENDA_TITULAR              96400 non-null float64\n",
      "RENDA_CJ                   4393 non-null float64\n",
      "OUTRAS_RENDAS              11070 non-null float64\n",
      "QTD_CARTOES_ADICIONAIS     96406 non-null int64\n",
      "FLAG_CONTA_BANCO           7951 non-null object\n",
      "VALOR_HISTORICO_COMPRAS    96406 non-null float64\n",
      "CLASS                      96406 non-null int64\n",
      "dtypes: float64(5), int64(5), object(11)\n",
      "memory usage: 15.4+ MB\n"
     ]
    }
   ],
   "source": [
    "tabelao.info()"
   ]
  },
  {
   "cell_type": "code",
   "execution_count": 5,
   "metadata": {},
   "outputs": [],
   "source": [
    "tabelao = tabelao.drop(columns=['CODIGO_CLIENTE', 'DATA_NASCIMENTO','CIDADE','UF', 'BAIRRO','CEP', 'DATA_CADASTRO','DATA_ADMISSAO',\n",
    "             'RENDA_CJ','OUTRAS_RENDAS','FLAG_CONTA_BANCO',\n",
    "                                'QTD_CARTOES_ADICIONAIS','VALOR_HISTORICO_COMPRAS'], axis=1)"
   ]
  },
  {
   "cell_type": "code",
   "execution_count": 6,
   "metadata": {},
   "outputs": [
    {
     "name": "stdout",
     "output_type": "stream",
     "text": [
      "<class 'pandas.core.frame.DataFrame'>\n",
      "RangeIndex: 96406 entries, 0 to 96405\n",
      "Data columns (total 8 columns):\n",
      "IDADE                   96406 non-null int64\n",
      "SEXO                    96405 non-null object\n",
      "ESTADO_CIVIL            96405 non-null object\n",
      "QTD_DEPENDENTES         96405 non-null float64\n",
      "CATEGORIAL_PROFISSAO    94690 non-null object\n",
      "TIPO_RESIDENCIA         95454 non-null object\n",
      "RENDA_TITULAR           96400 non-null float64\n",
      "CLASS                   96406 non-null int64\n",
      "dtypes: float64(2), int64(2), object(4)\n",
      "memory usage: 5.9+ MB\n"
     ]
    }
   ],
   "source": [
    "tabelao.info()"
   ]
  },
  {
   "cell_type": "code",
   "execution_count": 7,
   "metadata": {},
   "outputs": [
    {
     "data": {
      "text/html": [
       "<div>\n",
       "<style scoped>\n",
       "    .dataframe tbody tr th:only-of-type {\n",
       "        vertical-align: middle;\n",
       "    }\n",
       "\n",
       "    .dataframe tbody tr th {\n",
       "        vertical-align: top;\n",
       "    }\n",
       "\n",
       "    .dataframe thead th {\n",
       "        text-align: right;\n",
       "    }\n",
       "</style>\n",
       "<table border=\"1\" class=\"dataframe\">\n",
       "  <thead>\n",
       "    <tr style=\"text-align: right;\">\n",
       "      <th></th>\n",
       "      <th>IDADE</th>\n",
       "      <th>SEXO</th>\n",
       "      <th>ESTADO_CIVIL</th>\n",
       "      <th>QTD_DEPENDENTES</th>\n",
       "      <th>CATEGORIAL_PROFISSAO</th>\n",
       "      <th>TIPO_RESIDENCIA</th>\n",
       "      <th>RENDA_TITULAR</th>\n",
       "      <th>CLASS</th>\n",
       "    </tr>\n",
       "  </thead>\n",
       "  <tbody>\n",
       "    <tr>\n",
       "      <th>0</th>\n",
       "      <td>63</td>\n",
       "      <td>M</td>\n",
       "      <td>SO</td>\n",
       "      <td>0.0</td>\n",
       "      <td>APOSENTADO</td>\n",
       "      <td>PR</td>\n",
       "      <td>2300.0</td>\n",
       "      <td>1</td>\n",
       "    </tr>\n",
       "    <tr>\n",
       "      <th>1</th>\n",
       "      <td>51</td>\n",
       "      <td>M</td>\n",
       "      <td>CA</td>\n",
       "      <td>2.0</td>\n",
       "      <td>ASSALARIADO</td>\n",
       "      <td>OU</td>\n",
       "      <td>1500.0</td>\n",
       "      <td>1</td>\n",
       "    </tr>\n",
       "    <tr>\n",
       "      <th>2</th>\n",
       "      <td>30</td>\n",
       "      <td>M</td>\n",
       "      <td>SO</td>\n",
       "      <td>0.0</td>\n",
       "      <td>AUT+NOMO</td>\n",
       "      <td>PR</td>\n",
       "      <td>1000.0</td>\n",
       "      <td>1</td>\n",
       "    </tr>\n",
       "    <tr>\n",
       "      <th>3</th>\n",
       "      <td>65</td>\n",
       "      <td>F</td>\n",
       "      <td>SO</td>\n",
       "      <td>0.0</td>\n",
       "      <td>APOSENTADO</td>\n",
       "      <td>OU</td>\n",
       "      <td>1050.0</td>\n",
       "      <td>1</td>\n",
       "    </tr>\n",
       "    <tr>\n",
       "      <th>4</th>\n",
       "      <td>62</td>\n",
       "      <td>F</td>\n",
       "      <td>SO</td>\n",
       "      <td>0.0</td>\n",
       "      <td>AUT+NOMO</td>\n",
       "      <td>PR</td>\n",
       "      <td>1200.0</td>\n",
       "      <td>1</td>\n",
       "    </tr>\n",
       "  </tbody>\n",
       "</table>\n",
       "</div>"
      ],
      "text/plain": [
       "   IDADE SEXO ESTADO_CIVIL  QTD_DEPENDENTES CATEGORIAL_PROFISSAO  \\\n",
       "0     63    M           SO              0.0           APOSENTADO   \n",
       "1     51    M           CA              2.0          ASSALARIADO   \n",
       "2     30    M           SO              0.0             AUT+NOMO   \n",
       "3     65    F           SO              0.0           APOSENTADO   \n",
       "4     62    F           SO              0.0             AUT+NOMO   \n",
       "\n",
       "  TIPO_RESIDENCIA  RENDA_TITULAR  CLASS  \n",
       "0              PR         2300.0      1  \n",
       "1              OU         1500.0      1  \n",
       "2              PR         1000.0      1  \n",
       "3              OU         1050.0      1  \n",
       "4              PR         1200.0      1  "
      ]
     },
     "execution_count": 7,
     "metadata": {},
     "output_type": "execute_result"
    }
   ],
   "source": [
    "tabelao.head()"
   ]
  },
  {
   "cell_type": "code",
   "execution_count": 8,
   "metadata": {},
   "outputs": [
    {
     "data": {
      "text/plain": [
       "1    72127\n",
       "0    24279\n",
       "Name: CLASS, dtype: int64"
      ]
     },
     "execution_count": 8,
     "metadata": {},
     "output_type": "execute_result"
    }
   ],
   "source": [
    "tabelao.CLASS.value_counts()"
   ]
  },
  {
   "cell_type": "code",
   "execution_count": 9,
   "metadata": {},
   "outputs": [],
   "source": [
    "tabelao = pd.get_dummies(tabelao, columns=['SEXO', 'ESTADO_CIVIL', 'CATEGORIAL_PROFISSAO',\n",
    "                                           'TIPO_RESIDENCIA'], drop_first=True)"
   ]
  },
  {
   "cell_type": "code",
   "execution_count": 10,
   "metadata": {},
   "outputs": [],
   "source": [
    "tabelao = tabelao.dropna()"
   ]
  },
  {
   "cell_type": "code",
   "execution_count": 11,
   "metadata": {},
   "outputs": [],
   "source": [
    "# Verificar qual a coluna 'CLASS'\n",
    "X = tabelao.iloc[:, :].values\n",
    "X = np.delete(X, obj= 3, axis= 1)\n",
    "y = tabelao.iloc[:, 3].values"
   ]
  },
  {
   "cell_type": "code",
   "execution_count": 12,
   "metadata": {},
   "outputs": [
    {
     "name": "stdout",
     "output_type": "stream",
     "text": [
      "Frequency of unique values of the said array:\n",
      "[[    0     1]\n",
      " [24277 72123]]\n"
     ]
    }
   ],
   "source": [
    "unique_elements, counts_elements = np.unique(y, return_counts=True)\n",
    "print(\"Frequency of unique values of the said array:\")\n",
    "print(np.asarray((unique_elements, counts_elements)))"
   ]
  },
  {
   "cell_type": "code",
   "execution_count": 13,
   "metadata": {},
   "outputs": [
    {
     "data": {
      "text/html": [
       "<div>\n",
       "<style scoped>\n",
       "    .dataframe tbody tr th:only-of-type {\n",
       "        vertical-align: middle;\n",
       "    }\n",
       "\n",
       "    .dataframe tbody tr th {\n",
       "        vertical-align: top;\n",
       "    }\n",
       "\n",
       "    .dataframe thead th {\n",
       "        text-align: right;\n",
       "    }\n",
       "</style>\n",
       "<table border=\"1\" class=\"dataframe\">\n",
       "  <thead>\n",
       "    <tr style=\"text-align: right;\">\n",
       "      <th></th>\n",
       "      <th>IDADE</th>\n",
       "      <th>QTD_DEPENDENTES</th>\n",
       "      <th>RENDA_TITULAR</th>\n",
       "      <th>CLASS</th>\n",
       "      <th>SEXO_M</th>\n",
       "      <th>ESTADO_CIVIL_CO</th>\n",
       "      <th>ESTADO_CIVIL_SE</th>\n",
       "      <th>ESTADO_CIVIL_SO</th>\n",
       "      <th>ESTADO_CIVIL_VI</th>\n",
       "      <th>CATEGORIAL_PROFISSAO_APOSENTADO</th>\n",
       "      <th>CATEGORIAL_PROFISSAO_ASSALARIADO</th>\n",
       "      <th>CATEGORIAL_PROFISSAO_AUT+NOMO</th>\n",
       "      <th>CATEGORIAL_PROFISSAO_LIBERAL</th>\n",
       "      <th>TIPO_RESIDENCIA_FA</th>\n",
       "      <th>TIPO_RESIDENCIA_FI</th>\n",
       "      <th>TIPO_RESIDENCIA_OU</th>\n",
       "      <th>TIPO_RESIDENCIA_PR</th>\n",
       "      <th>TIPO_RESIDENCIA_SM</th>\n",
       "    </tr>\n",
       "  </thead>\n",
       "  <tbody>\n",
       "    <tr>\n",
       "      <th>0</th>\n",
       "      <td>63</td>\n",
       "      <td>0.0</td>\n",
       "      <td>2300.0</td>\n",
       "      <td>1</td>\n",
       "      <td>1</td>\n",
       "      <td>0</td>\n",
       "      <td>0</td>\n",
       "      <td>1</td>\n",
       "      <td>0</td>\n",
       "      <td>1</td>\n",
       "      <td>0</td>\n",
       "      <td>0</td>\n",
       "      <td>0</td>\n",
       "      <td>0</td>\n",
       "      <td>0</td>\n",
       "      <td>0</td>\n",
       "      <td>1</td>\n",
       "      <td>0</td>\n",
       "    </tr>\n",
       "    <tr>\n",
       "      <th>1</th>\n",
       "      <td>51</td>\n",
       "      <td>2.0</td>\n",
       "      <td>1500.0</td>\n",
       "      <td>1</td>\n",
       "      <td>1</td>\n",
       "      <td>0</td>\n",
       "      <td>0</td>\n",
       "      <td>0</td>\n",
       "      <td>0</td>\n",
       "      <td>0</td>\n",
       "      <td>1</td>\n",
       "      <td>0</td>\n",
       "      <td>0</td>\n",
       "      <td>0</td>\n",
       "      <td>0</td>\n",
       "      <td>1</td>\n",
       "      <td>0</td>\n",
       "      <td>0</td>\n",
       "    </tr>\n",
       "    <tr>\n",
       "      <th>2</th>\n",
       "      <td>30</td>\n",
       "      <td>0.0</td>\n",
       "      <td>1000.0</td>\n",
       "      <td>1</td>\n",
       "      <td>1</td>\n",
       "      <td>0</td>\n",
       "      <td>0</td>\n",
       "      <td>1</td>\n",
       "      <td>0</td>\n",
       "      <td>0</td>\n",
       "      <td>0</td>\n",
       "      <td>1</td>\n",
       "      <td>0</td>\n",
       "      <td>0</td>\n",
       "      <td>0</td>\n",
       "      <td>0</td>\n",
       "      <td>1</td>\n",
       "      <td>0</td>\n",
       "    </tr>\n",
       "    <tr>\n",
       "      <th>3</th>\n",
       "      <td>65</td>\n",
       "      <td>0.0</td>\n",
       "      <td>1050.0</td>\n",
       "      <td>1</td>\n",
       "      <td>0</td>\n",
       "      <td>0</td>\n",
       "      <td>0</td>\n",
       "      <td>1</td>\n",
       "      <td>0</td>\n",
       "      <td>1</td>\n",
       "      <td>0</td>\n",
       "      <td>0</td>\n",
       "      <td>0</td>\n",
       "      <td>0</td>\n",
       "      <td>0</td>\n",
       "      <td>1</td>\n",
       "      <td>0</td>\n",
       "      <td>0</td>\n",
       "    </tr>\n",
       "    <tr>\n",
       "      <th>4</th>\n",
       "      <td>62</td>\n",
       "      <td>0.0</td>\n",
       "      <td>1200.0</td>\n",
       "      <td>1</td>\n",
       "      <td>0</td>\n",
       "      <td>0</td>\n",
       "      <td>0</td>\n",
       "      <td>1</td>\n",
       "      <td>0</td>\n",
       "      <td>0</td>\n",
       "      <td>0</td>\n",
       "      <td>1</td>\n",
       "      <td>0</td>\n",
       "      <td>0</td>\n",
       "      <td>0</td>\n",
       "      <td>0</td>\n",
       "      <td>1</td>\n",
       "      <td>0</td>\n",
       "    </tr>\n",
       "  </tbody>\n",
       "</table>\n",
       "</div>"
      ],
      "text/plain": [
       "   IDADE  QTD_DEPENDENTES  RENDA_TITULAR  CLASS  SEXO_M  ESTADO_CIVIL_CO  \\\n",
       "0     63              0.0         2300.0      1       1                0   \n",
       "1     51              2.0         1500.0      1       1                0   \n",
       "2     30              0.0         1000.0      1       1                0   \n",
       "3     65              0.0         1050.0      1       0                0   \n",
       "4     62              0.0         1200.0      1       0                0   \n",
       "\n",
       "   ESTADO_CIVIL_SE  ESTADO_CIVIL_SO  ESTADO_CIVIL_VI  \\\n",
       "0                0                1                0   \n",
       "1                0                0                0   \n",
       "2                0                1                0   \n",
       "3                0                1                0   \n",
       "4                0                1                0   \n",
       "\n",
       "   CATEGORIAL_PROFISSAO_APOSENTADO  CATEGORIAL_PROFISSAO_ASSALARIADO  \\\n",
       "0                                1                                 0   \n",
       "1                                0                                 1   \n",
       "2                                0                                 0   \n",
       "3                                1                                 0   \n",
       "4                                0                                 0   \n",
       "\n",
       "   CATEGORIAL_PROFISSAO_AUT+NOMO  CATEGORIAL_PROFISSAO_LIBERAL  \\\n",
       "0                              0                             0   \n",
       "1                              0                             0   \n",
       "2                              1                             0   \n",
       "3                              0                             0   \n",
       "4                              1                             0   \n",
       "\n",
       "   TIPO_RESIDENCIA_FA  TIPO_RESIDENCIA_FI  TIPO_RESIDENCIA_OU  \\\n",
       "0                   0                   0                   0   \n",
       "1                   0                   0                   1   \n",
       "2                   0                   0                   0   \n",
       "3                   0                   0                   1   \n",
       "4                   0                   0                   0   \n",
       "\n",
       "   TIPO_RESIDENCIA_PR  TIPO_RESIDENCIA_SM  \n",
       "0                   1                   0  \n",
       "1                   0                   0  \n",
       "2                   1                   0  \n",
       "3                   0                   0  \n",
       "4                   1                   0  "
      ]
     },
     "execution_count": 13,
     "metadata": {},
     "output_type": "execute_result"
    }
   ],
   "source": [
    "tabelao.head()"
   ]
  },
  {
   "cell_type": "code",
   "execution_count": 17,
   "metadata": {},
   "outputs": [],
   "source": [
    "tabelao.to_csv('tabela_final.csv', index=False)"
   ]
  },
  {
   "cell_type": "code",
   "execution_count": 14,
   "metadata": {},
   "outputs": [],
   "source": [
    "#skf = StratifiedKFold(n_splits=5,)"
   ]
  },
  {
   "cell_type": "code",
   "execution_count": 15,
   "metadata": {},
   "outputs": [],
   "source": [
    "# for train_index, test_index in skf.split(X, y):\n",
    "#     X_train, X_test = X[train_index], X[test_index]\n",
    "#     y_train, y_test = y[train_index], y[test_index]\n",
    "    \n",
    "#     sm = SMOTE()\n",
    "#     X_res, y_res = sm.fit_resample(X_train, y_train)\n",
    "    \n",
    "#     #LR\n",
    "#     lr= LogisticRegression()\n",
    "#     lr.fit(X_res, y_res)\n",
    "    \n",
    "#     #SVM\n",
    "#     clf = svm.SVC()\n",
    "#     clf.fit(X_res, y_res)\n",
    "    \n",
    "#     y_pred = clf.predict(X_test)\n",
    "#     cm = confusion_matrix(y_test, y_pred)\n",
    "#     print(cm)\n",
    "#     print(classification_report(y_test, y_pred))"
   ]
  },
  {
   "cell_type": "code",
   "execution_count": null,
   "metadata": {},
   "outputs": [],
   "source": []
  }
 ],
 "metadata": {
  "kernelspec": {
   "display_name": "Python 3",
   "language": "python",
   "name": "python3"
  },
  "language_info": {
   "codemirror_mode": {
    "name": "ipython",
    "version": 3
   },
   "file_extension": ".py",
   "mimetype": "text/x-python",
   "name": "python",
   "nbconvert_exporter": "python",
   "pygments_lexer": "ipython3",
   "version": "3.6.7"
  }
 },
 "nbformat": 4,
 "nbformat_minor": 2
}
