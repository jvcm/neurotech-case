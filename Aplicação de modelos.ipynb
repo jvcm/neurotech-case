{
 "cells": [
  {
   "cell_type": "code",
   "execution_count": 24,
   "metadata": {},
   "outputs": [],
   "source": [
    "import numpy  as np\n",
    "import pandas as pd\n",
    "import seaborn as sns\n",
    "import matplotlib.pyplot as plt\n",
    "import keras\n",
    "from sklearn.model_selection import StratifiedKFold\n",
    "from sklearn.preprocessing import LabelEncoder\n",
    "from sklearn.linear_model import LogisticRegression\n",
    "%matplotlib inline\n",
    "from catboost import CatBoostClassifier, FeaturesData\n",
    "import datetime as DT\n",
    "import io"
   ]
  },
  {
   "cell_type": "markdown",
   "metadata": {},
   "source": [
    "Importando arquivos"
   ]
  },
  {
   "cell_type": "code",
   "execution_count": 6,
   "metadata": {},
   "outputs": [],
   "source": [
    "tabelao = pd.read_csv('tabelao_idade.csv')"
   ]
  },
  {
   "cell_type": "code",
   "execution_count": 7,
   "metadata": {},
   "outputs": [
    {
     "name": "stdout",
     "output_type": "stream",
     "text": [
      "<class 'pandas.core.frame.DataFrame'>\n",
      "RangeIndex: 96406 entries, 0 to 96405\n",
      "Data columns (total 21 columns):\n",
      "CODIGO_CLIENTE             96406 non-null int64\n",
      "DATA_NASCIMENTO            96403 non-null object\n",
      "IDADE                      96406 non-null int64\n",
      "SEXO                       96405 non-null object\n",
      "ESTADO_CIVIL               96405 non-null object\n",
      "CIDADE                     96406 non-null object\n",
      "UF                         96406 non-null object\n",
      "BAIRRO                     96406 non-null object\n",
      "CEP                        96406 non-null int64\n",
      "QTD_DEPENDENTES            96405 non-null float64\n",
      "DATA_CADASTRO              96406 non-null object\n",
      "DATA_ADMISSAO              52050 non-null object\n",
      "CATEGORIAL_PROFISSAO       94690 non-null object\n",
      "TIPO_RESIDENCIA            95454 non-null object\n",
      "RENDA_TITULAR              96400 non-null float64\n",
      "RENDA_CJ                   4393 non-null float64\n",
      "OUTRAS_RENDAS              11070 non-null float64\n",
      "QTD_CARTOES_ADICIONAIS     96406 non-null int64\n",
      "FLAG_CONTA_BANCO           7951 non-null object\n",
      "VALOR_HISTORICO_COMPRAS    96406 non-null float64\n",
      "CLASS                      96406 non-null int64\n",
      "dtypes: float64(5), int64(5), object(11)\n",
      "memory usage: 15.4+ MB\n"
     ]
    }
   ],
   "source": [
    "tabelao.info()"
   ]
  },
  {
   "cell_type": "code",
   "execution_count": 8,
   "metadata": {},
   "outputs": [],
   "source": [
    "tabelao = tabelao.drop(columns=['CODIGO_CLIENTE', 'DATA_NASCIMENTO', 'UF',\n",
    "             'BAIRRO', 'CEP', 'DATA_CADASTRO','DATA_ADMISSAO',\n",
    "             'RENDA_CJ','OUTRAS_RENDAS','FLAG_CONTA_BANCO',\n",
    "                                'QTD_CARTOES_ADICIONAIS','VALOR_HISTORICO_COMPRAS'], axis=1)"
   ]
  },
  {
   "cell_type": "code",
   "execution_count": 9,
   "metadata": {},
   "outputs": [
    {
     "name": "stdout",
     "output_type": "stream",
     "text": [
      "<class 'pandas.core.frame.DataFrame'>\n",
      "RangeIndex: 96406 entries, 0 to 96405\n",
      "Data columns (total 9 columns):\n",
      "IDADE                   96406 non-null int64\n",
      "SEXO                    96405 non-null object\n",
      "ESTADO_CIVIL            96405 non-null object\n",
      "CIDADE                  96406 non-null object\n",
      "QTD_DEPENDENTES         96405 non-null float64\n",
      "CATEGORIAL_PROFISSAO    94690 non-null object\n",
      "TIPO_RESIDENCIA         95454 non-null object\n",
      "RENDA_TITULAR           96400 non-null float64\n",
      "CLASS                   96406 non-null int64\n",
      "dtypes: float64(2), int64(2), object(5)\n",
      "memory usage: 6.6+ MB\n"
     ]
    }
   ],
   "source": [
    "tabelao.info()"
   ]
  },
  {
   "cell_type": "code",
   "execution_count": 10,
   "metadata": {},
   "outputs": [
    {
     "data": {
      "text/html": [
       "<div>\n",
       "<style scoped>\n",
       "    .dataframe tbody tr th:only-of-type {\n",
       "        vertical-align: middle;\n",
       "    }\n",
       "\n",
       "    .dataframe tbody tr th {\n",
       "        vertical-align: top;\n",
       "    }\n",
       "\n",
       "    .dataframe thead th {\n",
       "        text-align: right;\n",
       "    }\n",
       "</style>\n",
       "<table border=\"1\" class=\"dataframe\">\n",
       "  <thead>\n",
       "    <tr style=\"text-align: right;\">\n",
       "      <th></th>\n",
       "      <th>IDADE</th>\n",
       "      <th>SEXO</th>\n",
       "      <th>ESTADO_CIVIL</th>\n",
       "      <th>CIDADE</th>\n",
       "      <th>QTD_DEPENDENTES</th>\n",
       "      <th>CATEGORIAL_PROFISSAO</th>\n",
       "      <th>TIPO_RESIDENCIA</th>\n",
       "      <th>RENDA_TITULAR</th>\n",
       "      <th>CLASS</th>\n",
       "    </tr>\n",
       "  </thead>\n",
       "  <tbody>\n",
       "    <tr>\n",
       "      <th>0</th>\n",
       "      <td>63</td>\n",
       "      <td>M</td>\n",
       "      <td>SO</td>\n",
       "      <td>BENTO GONCALVES</td>\n",
       "      <td>0.0</td>\n",
       "      <td>APOSENTADO</td>\n",
       "      <td>PR</td>\n",
       "      <td>2300.0</td>\n",
       "      <td>1</td>\n",
       "    </tr>\n",
       "    <tr>\n",
       "      <th>1</th>\n",
       "      <td>51</td>\n",
       "      <td>M</td>\n",
       "      <td>CA</td>\n",
       "      <td>PELOTAS</td>\n",
       "      <td>2.0</td>\n",
       "      <td>ASSALARIADO</td>\n",
       "      <td>OU</td>\n",
       "      <td>1500.0</td>\n",
       "      <td>1</td>\n",
       "    </tr>\n",
       "    <tr>\n",
       "      <th>2</th>\n",
       "      <td>30</td>\n",
       "      <td>M</td>\n",
       "      <td>SO</td>\n",
       "      <td>ALEGRETE</td>\n",
       "      <td>0.0</td>\n",
       "      <td>AUT+NOMO</td>\n",
       "      <td>PR</td>\n",
       "      <td>1000.0</td>\n",
       "      <td>1</td>\n",
       "    </tr>\n",
       "    <tr>\n",
       "      <th>3</th>\n",
       "      <td>65</td>\n",
       "      <td>F</td>\n",
       "      <td>SO</td>\n",
       "      <td>GARIBALDI</td>\n",
       "      <td>0.0</td>\n",
       "      <td>APOSENTADO</td>\n",
       "      <td>OU</td>\n",
       "      <td>1050.0</td>\n",
       "      <td>1</td>\n",
       "    </tr>\n",
       "    <tr>\n",
       "      <th>4</th>\n",
       "      <td>62</td>\n",
       "      <td>F</td>\n",
       "      <td>SO</td>\n",
       "      <td>TRES PASSOS</td>\n",
       "      <td>0.0</td>\n",
       "      <td>AUT+NOMO</td>\n",
       "      <td>PR</td>\n",
       "      <td>1200.0</td>\n",
       "      <td>1</td>\n",
       "    </tr>\n",
       "  </tbody>\n",
       "</table>\n",
       "</div>"
      ],
      "text/plain": [
       "   IDADE SEXO ESTADO_CIVIL           CIDADE  QTD_DEPENDENTES  \\\n",
       "0     63    M           SO  BENTO GONCALVES              0.0   \n",
       "1     51    M           CA          PELOTAS              2.0   \n",
       "2     30    M           SO         ALEGRETE              0.0   \n",
       "3     65    F           SO        GARIBALDI              0.0   \n",
       "4     62    F           SO      TRES PASSOS              0.0   \n",
       "\n",
       "  CATEGORIAL_PROFISSAO TIPO_RESIDENCIA  RENDA_TITULAR  CLASS  \n",
       "0           APOSENTADO              PR         2300.0      1  \n",
       "1          ASSALARIADO              OU         1500.0      1  \n",
       "2             AUT+NOMO              PR         1000.0      1  \n",
       "3           APOSENTADO              OU         1050.0      1  \n",
       "4             AUT+NOMO              PR         1200.0      1  "
      ]
     },
     "execution_count": 10,
     "metadata": {},
     "output_type": "execute_result"
    }
   ],
   "source": [
    "tabelao.head()"
   ]
  },
  {
   "cell_type": "code",
   "execution_count": 19,
   "metadata": {},
   "outputs": [
    {
     "data": {
      "text/plain": [
       "1    72127\n",
       "0    24279\n",
       "Name: CLASS, dtype: int64"
      ]
     },
     "execution_count": 19,
     "metadata": {},
     "output_type": "execute_result"
    }
   ],
   "source": [
    "tabelao.CLASS.value_counts()"
   ]
  },
  {
   "cell_type": "code",
   "execution_count": 20,
   "metadata": {},
   "outputs": [],
   "source": [
    "X = tabelao.iloc[:, :-1].values"
   ]
  },
  {
   "cell_type": "code",
   "execution_count": 21,
   "metadata": {},
   "outputs": [
    {
     "data": {
      "text/plain": [
       "array([[63, 'M', 'SO', ..., 'APOSENTADO', 'PR', 2300.0],\n",
       "       [51, 'M', 'CA', ..., 'ASSALARIADO', 'OU', 1500.0],\n",
       "       [30, 'M', 'SO', ..., 'AUT+NOMO', 'PR', 1000.0],\n",
       "       ...,\n",
       "       [39, 'M', 'SO', ..., nan, 'PR', 2000.0],\n",
       "       [59, 'F', 'CA', ..., 'ASSALARIADO', 'PR', 3264.27],\n",
       "       [37, 'F', 'CO', ..., 'ASSALARIADO', 'PR', 1347.99]], dtype=object)"
      ]
     },
     "execution_count": 21,
     "metadata": {},
     "output_type": "execute_result"
    }
   ],
   "source": [
    "X"
   ]
  },
  {
   "cell_type": "code",
   "execution_count": 22,
   "metadata": {},
   "outputs": [],
   "source": [
    "y = tabelao.iloc[:, -1].values"
   ]
  },
  {
   "cell_type": "code",
   "execution_count": 23,
   "metadata": {},
   "outputs": [
    {
     "data": {
      "text/plain": [
       "array([1, 1, 1, ..., 1, 0, 1])"
      ]
     },
     "execution_count": 23,
     "metadata": {},
     "output_type": "execute_result"
    }
   ],
   "source": [
    "y"
   ]
  },
  {
   "cell_type": "code",
   "execution_count": 25,
   "metadata": {},
   "outputs": [],
   "source": [
    "skf = StratifiedKFold(n_splits=5,)"
   ]
  },
  {
   "cell_type": "code",
   "execution_count": null,
   "metadata": {},
   "outputs": [],
   "source": [
    "for train_index, test_index in skf.split(X, y):\n",
    "    X_train, X_test = X[train_index], X[test_index]\n",
    "    y_train, y_test = y[train_index], y[test_index]\n",
    "    \n",
    "    "
   ]
  }
 ],
 "metadata": {
  "kernelspec": {
   "display_name": "Python 3",
   "language": "python",
   "name": "python3"
  },
  "language_info": {
   "codemirror_mode": {
    "name": "ipython",
    "version": 3
   },
   "file_extension": ".py",
   "mimetype": "text/x-python",
   "name": "python",
   "nbconvert_exporter": "python",
   "pygments_lexer": "ipython3",
   "version": "3.6.7"
  }
 },
 "nbformat": 4,
 "nbformat_minor": 2
}
