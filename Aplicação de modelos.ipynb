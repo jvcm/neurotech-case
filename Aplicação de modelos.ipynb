{
 "cells": [
  {
   "cell_type": "code",
   "execution_count": 1,
   "metadata": {},
   "outputs": [],
   "source": [
    "import warnings\n",
    "warnings.filterwarnings('ignore')"
   ]
  },
  {
   "cell_type": "code",
   "execution_count": 2,
   "metadata": {},
   "outputs": [
    {
     "name": "stderr",
     "output_type": "stream",
     "text": [
      "Using TensorFlow backend.\n"
     ]
    }
   ],
   "source": [
    "import numpy  as np\n",
    "import pandas as pd\n",
    "import seaborn as sns\n",
    "import matplotlib.pyplot as plt\n",
    "import keras\n",
    "from keras.models import Sequential\n",
    "from keras.layers import Dense\n",
    "from keras import regularizers\n",
    "from keras import optimizers\n",
    "from ann_visualizer.visualize import ann_viz\n",
    "import xgboost as xgb\n",
    "from sklearn.model_selection import StratifiedKFold, train_test_split\n",
    "from sklearn.preprocessing import LabelEncoder\n",
    "from sklearn.linear_model import LogisticRegression\n",
    "from sklearn.neural_network import MLPClassifier\n",
    "from sklearn import svm\n",
    "from sklearn.metrics import classification_report, confusion_matrix, accuracy_score, roc_auc_score\n",
    "%matplotlib inline\n",
    "from catboost import CatBoostClassifier, FeaturesData\n",
    "import datetime as DT\n",
    "import io\n",
    "from imblearn.over_sampling import SMOTE\n",
    "from imblearn.under_sampling import RandomUnderSampler\n",
    "from imblearn.combine import SMOTEENN \n",
    "from collections import Counter\n",
    "from sklearn.preprocessing import StandardScaler"
   ]
  },
  {
   "cell_type": "markdown",
   "metadata": {},
   "source": [
    "Importando arquivos"
   ]
  },
  {
   "cell_type": "code",
   "execution_count": 3,
   "metadata": {},
   "outputs": [],
   "source": [
    "tabelao = pd.read_csv('tabelao_idade.csv')"
   ]
  },
  {
   "cell_type": "code",
   "execution_count": 4,
   "metadata": {},
   "outputs": [
    {
     "name": "stdout",
     "output_type": "stream",
     "text": [
      "<class 'pandas.core.frame.DataFrame'>\n",
      "RangeIndex: 96406 entries, 0 to 96405\n",
      "Data columns (total 21 columns):\n",
      "CODIGO_CLIENTE             96406 non-null int64\n",
      "DATA_NASCIMENTO            96403 non-null object\n",
      "IDADE                      96406 non-null int64\n",
      "SEXO                       96405 non-null object\n",
      "ESTADO_CIVIL               96405 non-null object\n",
      "CIDADE                     96406 non-null object\n",
      "UF                         96406 non-null object\n",
      "BAIRRO                     96406 non-null object\n",
      "CEP                        96406 non-null int64\n",
      "QTD_DEPENDENTES            96405 non-null float64\n",
      "DATA_CADASTRO              96406 non-null object\n",
      "DATA_ADMISSAO              52050 non-null object\n",
      "CATEGORIAL_PROFISSAO       94690 non-null object\n",
      "TIPO_RESIDENCIA            95454 non-null object\n",
      "RENDA_TITULAR              96400 non-null float64\n",
      "RENDA_CJ                   4393 non-null float64\n",
      "OUTRAS_RENDAS              11070 non-null float64\n",
      "QTD_CARTOES_ADICIONAIS     96406 non-null int64\n",
      "FLAG_CONTA_BANCO           7951 non-null object\n",
      "VALOR_HISTORICO_COMPRAS    96406 non-null float64\n",
      "CLASS                      96406 non-null int64\n",
      "dtypes: float64(5), int64(5), object(11)\n",
      "memory usage: 15.4+ MB\n"
     ]
    }
   ],
   "source": [
    "tabelao.info()"
   ]
  },
  {
   "cell_type": "code",
   "execution_count": 5,
   "metadata": {},
   "outputs": [],
   "source": [
    "tabelao = tabelao.drop(columns=['CODIGO_CLIENTE', 'QTD_DEPENDENTES','DATA_NASCIMENTO','CIDADE','UF', 'BAIRRO','CEP', 'DATA_CADASTRO','DATA_ADMISSAO',\n",
    "             'RENDA_CJ','OUTRAS_RENDAS','FLAG_CONTA_BANCO',\n",
    "                                'QTD_CARTOES_ADICIONAIS','VALOR_HISTORICO_COMPRAS', 'SEXO'], axis=1)"
   ]
  },
  {
   "cell_type": "code",
   "execution_count": 6,
   "metadata": {},
   "outputs": [
    {
     "name": "stdout",
     "output_type": "stream",
     "text": [
      "<class 'pandas.core.frame.DataFrame'>\n",
      "RangeIndex: 96406 entries, 0 to 96405\n",
      "Data columns (total 6 columns):\n",
      "IDADE                   96406 non-null int64\n",
      "ESTADO_CIVIL            96405 non-null object\n",
      "CATEGORIAL_PROFISSAO    94690 non-null object\n",
      "TIPO_RESIDENCIA         95454 non-null object\n",
      "RENDA_TITULAR           96400 non-null float64\n",
      "CLASS                   96406 non-null int64\n",
      "dtypes: float64(1), int64(2), object(3)\n",
      "memory usage: 4.4+ MB\n"
     ]
    }
   ],
   "source": [
    "tabelao.info()"
   ]
  },
  {
   "cell_type": "code",
   "execution_count": 7,
   "metadata": {},
   "outputs": [
    {
     "data": {
      "text/html": [
       "<div>\n",
       "<style scoped>\n",
       "    .dataframe tbody tr th:only-of-type {\n",
       "        vertical-align: middle;\n",
       "    }\n",
       "\n",
       "    .dataframe tbody tr th {\n",
       "        vertical-align: top;\n",
       "    }\n",
       "\n",
       "    .dataframe thead th {\n",
       "        text-align: right;\n",
       "    }\n",
       "</style>\n",
       "<table border=\"1\" class=\"dataframe\">\n",
       "  <thead>\n",
       "    <tr style=\"text-align: right;\">\n",
       "      <th></th>\n",
       "      <th>IDADE</th>\n",
       "      <th>ESTADO_CIVIL</th>\n",
       "      <th>CATEGORIAL_PROFISSAO</th>\n",
       "      <th>TIPO_RESIDENCIA</th>\n",
       "      <th>RENDA_TITULAR</th>\n",
       "      <th>CLASS</th>\n",
       "    </tr>\n",
       "  </thead>\n",
       "  <tbody>\n",
       "    <tr>\n",
       "      <th>0</th>\n",
       "      <td>63</td>\n",
       "      <td>SO</td>\n",
       "      <td>APOSENTADO</td>\n",
       "      <td>PR</td>\n",
       "      <td>2300.0</td>\n",
       "      <td>1</td>\n",
       "    </tr>\n",
       "    <tr>\n",
       "      <th>1</th>\n",
       "      <td>51</td>\n",
       "      <td>CA</td>\n",
       "      <td>ASSALARIADO</td>\n",
       "      <td>OU</td>\n",
       "      <td>1500.0</td>\n",
       "      <td>1</td>\n",
       "    </tr>\n",
       "    <tr>\n",
       "      <th>2</th>\n",
       "      <td>30</td>\n",
       "      <td>SO</td>\n",
       "      <td>AUT+NOMO</td>\n",
       "      <td>PR</td>\n",
       "      <td>1000.0</td>\n",
       "      <td>1</td>\n",
       "    </tr>\n",
       "    <tr>\n",
       "      <th>3</th>\n",
       "      <td>65</td>\n",
       "      <td>SO</td>\n",
       "      <td>APOSENTADO</td>\n",
       "      <td>OU</td>\n",
       "      <td>1050.0</td>\n",
       "      <td>1</td>\n",
       "    </tr>\n",
       "    <tr>\n",
       "      <th>4</th>\n",
       "      <td>62</td>\n",
       "      <td>SO</td>\n",
       "      <td>AUT+NOMO</td>\n",
       "      <td>PR</td>\n",
       "      <td>1200.0</td>\n",
       "      <td>1</td>\n",
       "    </tr>\n",
       "  </tbody>\n",
       "</table>\n",
       "</div>"
      ],
      "text/plain": [
       "   IDADE ESTADO_CIVIL CATEGORIAL_PROFISSAO TIPO_RESIDENCIA  RENDA_TITULAR  \\\n",
       "0     63           SO           APOSENTADO              PR         2300.0   \n",
       "1     51           CA          ASSALARIADO              OU         1500.0   \n",
       "2     30           SO             AUT+NOMO              PR         1000.0   \n",
       "3     65           SO           APOSENTADO              OU         1050.0   \n",
       "4     62           SO             AUT+NOMO              PR         1200.0   \n",
       "\n",
       "   CLASS  \n",
       "0      1  \n",
       "1      1  \n",
       "2      1  \n",
       "3      1  \n",
       "4      1  "
      ]
     },
     "execution_count": 7,
     "metadata": {},
     "output_type": "execute_result"
    }
   ],
   "source": [
    "tabelao.head()"
   ]
  },
  {
   "cell_type": "code",
   "execution_count": 8,
   "metadata": {},
   "outputs": [
    {
     "data": {
      "text/plain": [
       "1    72127\n",
       "0    24279\n",
       "Name: CLASS, dtype: int64"
      ]
     },
     "execution_count": 8,
     "metadata": {},
     "output_type": "execute_result"
    }
   ],
   "source": [
    "tabelao.CLASS.value_counts()"
   ]
  },
  {
   "cell_type": "markdown",
   "metadata": {},
   "source": [
    "## TABELA DE MODELAGEM"
   ]
  },
  {
   "cell_type": "code",
   "execution_count": 9,
   "metadata": {},
   "outputs": [],
   "source": [
    "df_1 = tabelao[tabelao.CLASS==1].iloc[:10000,:]\n",
    "df_0 = tabelao[tabelao.CLASS==0].iloc[:10000,:]"
   ]
  },
  {
   "cell_type": "code",
   "execution_count": 10,
   "metadata": {},
   "outputs": [],
   "source": [
    "df_model = df_1.append(df_0)"
   ]
  },
  {
   "cell_type": "code",
   "execution_count": 11,
   "metadata": {},
   "outputs": [],
   "source": [
    "df_2 = tabelao[tabelao.CLASS==1].iloc[10000:,:]\n",
    "df_3 = tabelao[tabelao.CLASS==0].iloc[10000:,:]"
   ]
  },
  {
   "cell_type": "code",
   "execution_count": 12,
   "metadata": {},
   "outputs": [],
   "source": [
    "df_score = df_2.append(df_3)"
   ]
  },
  {
   "cell_type": "code",
   "execution_count": 13,
   "metadata": {},
   "outputs": [],
   "source": [
    "# df_model = pd.get_dummies(df_model, columns=['ESTADO_CIVIL', 'CATEGORIAL_PROFISSAO',\n",
    "#                                            'TIPO_RESIDENCIA'], drop_first=True)"
   ]
  },
  {
   "cell_type": "code",
   "execution_count": 14,
   "metadata": {},
   "outputs": [],
   "source": [
    "df_model = df_model.dropna()"
   ]
  },
  {
   "cell_type": "code",
   "execution_count": 15,
   "metadata": {},
   "outputs": [],
   "source": [
    "# # Verificar qual a coluna 'CLASS'\n",
    "# X = df_model.iloc[:, :].values\n",
    "# X = np.delete(X, obj= 2, axis= 1)\n",
    "# y = df_model.iloc[:, 2].values"
   ]
  },
  {
   "cell_type": "code",
   "execution_count": 16,
   "metadata": {},
   "outputs": [],
   "source": [
    "modelling = pd.read_csv('df_model.csv')"
   ]
  },
  {
   "cell_type": "code",
   "execution_count": 17,
   "metadata": {},
   "outputs": [
    {
     "data": {
      "text/html": [
       "<div>\n",
       "<style scoped>\n",
       "    .dataframe tbody tr th:only-of-type {\n",
       "        vertical-align: middle;\n",
       "    }\n",
       "\n",
       "    .dataframe tbody tr th {\n",
       "        vertical-align: top;\n",
       "    }\n",
       "\n",
       "    .dataframe thead th {\n",
       "        text-align: right;\n",
       "    }\n",
       "</style>\n",
       "<table border=\"1\" class=\"dataframe\">\n",
       "  <thead>\n",
       "    <tr style=\"text-align: right;\">\n",
       "      <th></th>\n",
       "      <th>IDADE</th>\n",
       "      <th>RENDA_TITULAR</th>\n",
       "      <th>ESTADO_CIVIL_CO</th>\n",
       "      <th>ESTADO_CIVIL_SE</th>\n",
       "      <th>ESTADO_CIVIL_SO</th>\n",
       "      <th>ESTADO_CIVIL_VI</th>\n",
       "      <th>CATEGORIAL_PROFISSAO_APOSENTADO</th>\n",
       "      <th>CATEGORIAL_PROFISSAO_ASSALARIADO</th>\n",
       "      <th>CATEGORIAL_PROFISSAO_AUT+NOMO</th>\n",
       "      <th>CATEGORIAL_PROFISSAO_LIBERAL</th>\n",
       "      <th>TIPO_RESIDENCIA_FA</th>\n",
       "      <th>TIPO_RESIDENCIA_FI</th>\n",
       "      <th>TIPO_RESIDENCIA_OU</th>\n",
       "      <th>TIPO_RESIDENCIA_PR</th>\n",
       "      <th>TIPO_RESIDENCIA_SM</th>\n",
       "      <th>CLASS</th>\n",
       "    </tr>\n",
       "  </thead>\n",
       "  <tbody>\n",
       "    <tr>\n",
       "      <th>0</th>\n",
       "      <td>63</td>\n",
       "      <td>2300.0</td>\n",
       "      <td>0</td>\n",
       "      <td>0</td>\n",
       "      <td>1</td>\n",
       "      <td>0</td>\n",
       "      <td>1</td>\n",
       "      <td>0</td>\n",
       "      <td>0</td>\n",
       "      <td>0</td>\n",
       "      <td>0</td>\n",
       "      <td>0</td>\n",
       "      <td>0</td>\n",
       "      <td>1</td>\n",
       "      <td>0</td>\n",
       "      <td>1</td>\n",
       "    </tr>\n",
       "    <tr>\n",
       "      <th>1</th>\n",
       "      <td>51</td>\n",
       "      <td>1500.0</td>\n",
       "      <td>0</td>\n",
       "      <td>0</td>\n",
       "      <td>0</td>\n",
       "      <td>0</td>\n",
       "      <td>0</td>\n",
       "      <td>1</td>\n",
       "      <td>0</td>\n",
       "      <td>0</td>\n",
       "      <td>0</td>\n",
       "      <td>0</td>\n",
       "      <td>1</td>\n",
       "      <td>0</td>\n",
       "      <td>0</td>\n",
       "      <td>1</td>\n",
       "    </tr>\n",
       "    <tr>\n",
       "      <th>2</th>\n",
       "      <td>30</td>\n",
       "      <td>1000.0</td>\n",
       "      <td>0</td>\n",
       "      <td>0</td>\n",
       "      <td>1</td>\n",
       "      <td>0</td>\n",
       "      <td>0</td>\n",
       "      <td>0</td>\n",
       "      <td>1</td>\n",
       "      <td>0</td>\n",
       "      <td>0</td>\n",
       "      <td>0</td>\n",
       "      <td>0</td>\n",
       "      <td>1</td>\n",
       "      <td>0</td>\n",
       "      <td>1</td>\n",
       "    </tr>\n",
       "    <tr>\n",
       "      <th>3</th>\n",
       "      <td>65</td>\n",
       "      <td>1050.0</td>\n",
       "      <td>0</td>\n",
       "      <td>0</td>\n",
       "      <td>1</td>\n",
       "      <td>0</td>\n",
       "      <td>1</td>\n",
       "      <td>0</td>\n",
       "      <td>0</td>\n",
       "      <td>0</td>\n",
       "      <td>0</td>\n",
       "      <td>0</td>\n",
       "      <td>1</td>\n",
       "      <td>0</td>\n",
       "      <td>0</td>\n",
       "      <td>1</td>\n",
       "    </tr>\n",
       "    <tr>\n",
       "      <th>4</th>\n",
       "      <td>62</td>\n",
       "      <td>1200.0</td>\n",
       "      <td>0</td>\n",
       "      <td>0</td>\n",
       "      <td>1</td>\n",
       "      <td>0</td>\n",
       "      <td>0</td>\n",
       "      <td>0</td>\n",
       "      <td>1</td>\n",
       "      <td>0</td>\n",
       "      <td>0</td>\n",
       "      <td>0</td>\n",
       "      <td>0</td>\n",
       "      <td>1</td>\n",
       "      <td>0</td>\n",
       "      <td>1</td>\n",
       "    </tr>\n",
       "  </tbody>\n",
       "</table>\n",
       "</div>"
      ],
      "text/plain": [
       "   IDADE  RENDA_TITULAR  ESTADO_CIVIL_CO  ESTADO_CIVIL_SE  ESTADO_CIVIL_SO  \\\n",
       "0     63         2300.0                0                0                1   \n",
       "1     51         1500.0                0                0                0   \n",
       "2     30         1000.0                0                0                1   \n",
       "3     65         1050.0                0                0                1   \n",
       "4     62         1200.0                0                0                1   \n",
       "\n",
       "   ESTADO_CIVIL_VI  CATEGORIAL_PROFISSAO_APOSENTADO  \\\n",
       "0                0                                1   \n",
       "1                0                                0   \n",
       "2                0                                0   \n",
       "3                0                                1   \n",
       "4                0                                0   \n",
       "\n",
       "   CATEGORIAL_PROFISSAO_ASSALARIADO  CATEGORIAL_PROFISSAO_AUT+NOMO  \\\n",
       "0                                 0                              0   \n",
       "1                                 1                              0   \n",
       "2                                 0                              1   \n",
       "3                                 0                              0   \n",
       "4                                 0                              1   \n",
       "\n",
       "   CATEGORIAL_PROFISSAO_LIBERAL  TIPO_RESIDENCIA_FA  TIPO_RESIDENCIA_FI  \\\n",
       "0                             0                   0                   0   \n",
       "1                             0                   0                   0   \n",
       "2                             0                   0                   0   \n",
       "3                             0                   0                   0   \n",
       "4                             0                   0                   0   \n",
       "\n",
       "   TIPO_RESIDENCIA_OU  TIPO_RESIDENCIA_PR  TIPO_RESIDENCIA_SM  CLASS  \n",
       "0                   0                   1                   0      1  \n",
       "1                   1                   0                   0      1  \n",
       "2                   0                   1                   0      1  \n",
       "3                   1                   0                   0      1  \n",
       "4                   0                   1                   0      1  "
      ]
     },
     "execution_count": 17,
     "metadata": {},
     "output_type": "execute_result"
    }
   ],
   "source": [
    "modelling.head()"
   ]
  },
  {
   "cell_type": "code",
   "execution_count": 18,
   "metadata": {},
   "outputs": [],
   "source": [
    "X= modelling.iloc[:,:-1].values\n",
    "y = modelling.iloc[:,-1].values"
   ]
  },
  {
   "cell_type": "code",
   "execution_count": 19,
   "metadata": {},
   "outputs": [
    {
     "name": "stdout",
     "output_type": "stream",
     "text": [
      "Frequency of unique values of the said array:\n",
      "[[   0    1]\n",
      " [9999 9999]]\n"
     ]
    }
   ],
   "source": [
    "unique_elements, counts_elements = np.unique(y, return_counts=True)\n",
    "print(\"Frequency of unique values of the said array:\")\n",
    "print(np.asarray((unique_elements, counts_elements)))"
   ]
  },
  {
   "cell_type": "code",
   "execution_count": 20,
   "metadata": {},
   "outputs": [],
   "source": [
    "skf = StratifiedKFold(n_splits=4,)"
   ]
  },
  {
   "cell_type": "code",
   "execution_count": 23,
   "metadata": {},
   "outputs": [
    {
     "name": "stdout",
     "output_type": "stream",
     "text": [
      "Model 1 XGboost Report               precision    recall  f1-score   support\n",
      "\n",
      "           0       0.60      0.51      0.55      2572\n",
      "           1       0.55      0.64      0.59      2428\n",
      "\n",
      "   micro avg       0.57      0.57      0.57      5000\n",
      "   macro avg       0.58      0.57      0.57      5000\n",
      "weighted avg       0.58      0.57      0.57      5000\n",
      "\n",
      "Accuracy for model 1: 57.24\n"
     ]
    }
   ],
   "source": [
    "#XBOOST\n",
    "seed = 7\n",
    "test_size = 0.25\n",
    "\n",
    "X_train, X_test, y_train, y_test = train_test_split(X, y, test_size=test_size, random_state=seed)\n",
    "\n",
    "#scaling\n",
    "sc_X = StandardScaler()\n",
    "X_train = sc_X.fit_transform(X_train)\n",
    "X_test = sc_X.transform(X_test)\n",
    "\n",
    "\n",
    "model1 = xgb.XGBClassifier()\n",
    "model2 = xgb.XGBClassifier(n_estimators=100, max_depth=8, learning_rate=0.1, subsample=0.5)\n",
    "\n",
    "train_model1 = model1.fit(X_train, y_train)\n",
    "pred1 = train_model1.predict(X_test)\n",
    "\n",
    "print('Model 1 XGboost Report',classification_report(y_test, pred1))\n",
    "print(\"Accuracy for model 1: %.2f\" % (accuracy_score(y_test, pred1) * 100))"
   ]
  },
  {
   "cell_type": "code",
   "execution_count": null,
   "metadata": {},
   "outputs": [],
   "source": []
  },
  {
   "cell_type": "markdown",
   "metadata": {},
   "source": [
    "KERAS COM SMOTEEN"
   ]
  },
  {
   "cell_type": "code",
   "execution_count": null,
   "metadata": {},
   "outputs": [],
   "source": [
    "# # RNA\n",
    "\n",
    "# for train_index, test_index in skf.split(X, y):\n",
    "#     X_train, X_test = X[train_index], X[test_index]\n",
    "#     y_train, y_test = y[train_index], y[test_index]\n",
    "    \n",
    "#     #scaling\n",
    "#     sc_X = StandardScaler()\n",
    "#     X_train = sc_X.fit_transform(X_train)\n",
    "#     X_test = sc_X.transform(X_test)\n",
    "    \n",
    "# #     #combination over and under sampling\n",
    "# #     sme = SMOTEENN()\n",
    "# #     X_res, y_res = sme.fit_resample(X_train, y_train)\n",
    "    \n",
    "#     #KERAS\n",
    "#     model_1 = Sequential()\n",
    "\n",
    "#     # Input e 1ª camada oculta\n",
    "#     model_1.add(Dense(15,\n",
    "#                     input_shape=(15,),\n",
    "#                     kernel_initializer = 'uniform',\n",
    "#                     activation = 'relu'))\n",
    "\n",
    "    \n",
    "#     # 2ª e 3ª camada oculta\n",
    "#     model_1.add(Dense(8,\n",
    "#                       kernel_initializer = 'uniform',\n",
    "#                       activation = 'relu'))\n",
    "    \n",
    "#     # output\n",
    "#     model_1.add(Dense(1, kernel_initializer = 'uniform', activation = 'sigmoid'))\n",
    "\n",
    "#     # Compile model\n",
    "\n",
    "#     model_1.compile(loss='binary_crossentropy', optimizer='adam', metrics=['accuracy'])\n",
    "\n",
    "#     history_1 = model_1.fit(X_train, y_train, epochs=100, validation_split=0.2)\n",
    "    \n",
    "#     #classification report\n",
    "#     y_pred_prob_1 = model_1.predict(X_test)\n",
    "#     y_pred_1 = (y_pred_prob_1 > 0.5)\n",
    "    \n",
    "#     print('keras1 report:', classification_report(y_test, y_pred_1))"
   ]
  },
  {
   "cell_type": "code",
   "execution_count": null,
   "metadata": {},
   "outputs": [],
   "source": [
    "# print('AUC_1: %.3f' % roc_auc_score(y_test, y_pred_prob_1))\n",
    "\n",
    "\n",
    "# print(\"Accuracy for keras1: %.2f\" % (accuracy_score(y_test, y_pred_1) * 100))"
   ]
  },
  {
   "cell_type": "code",
   "execution_count": null,
   "metadata": {},
   "outputs": [],
   "source": [
    "# # Historico da Acurácia\n",
    "# plt.plot(history_1.history['acc'], color='black')\n",
    "# plt.plot(history_1.history['val_acc'], color='red')\n",
    "# plt.title('model accuracy')\n",
    "# plt.ylabel('accuracy')\n",
    "# plt.xlabel('epoch')\n",
    "# plt.legend(['train', 'test'], loc='upper left')\n",
    "# plt.show()\n",
    "\n",
    "# # Histórico do erro\n",
    "# plt.plot(history_1.history['loss'], color='black')\n",
    "# plt.plot(history_1.history['val_loss'], color='red')\n",
    "# plt.title('model loss')\n",
    "# plt.ylabel('loss')\n",
    "# plt.xlabel('epoch')\n",
    "# plt.legend(['train', 'test'], loc='upper left')\n",
    "# plt.show()"
   ]
  }
 ],
 "metadata": {
  "kernelspec": {
   "display_name": "Python 3",
   "language": "python",
   "name": "python3"
  },
  "language_info": {
   "codemirror_mode": {
    "name": "ipython",
    "version": 3
   },
   "file_extension": ".py",
   "mimetype": "text/x-python",
   "name": "python",
   "nbconvert_exporter": "python",
   "pygments_lexer": "ipython3",
   "version": "3.6.7"
  }
 },
 "nbformat": 4,
 "nbformat_minor": 2
}
