{
 "cells": [
  {
   "cell_type": "code",
   "execution_count": 1,
   "metadata": {},
   "outputs": [],
   "source": [
    "from pyspark.sql.types import *\n",
    "from pyspark.sql.functions import to_timestamp\n",
    "from pyspark.sql.functions import *\n",
    "from pyspark.sql.functions import isnan"
   ]
  },
  {
   "cell_type": "code",
   "execution_count": 2,
   "metadata": {},
   "outputs": [
    {
     "data": {
      "text/html": [
       "\n",
       "        <div>\n",
       "            <p><b>SparkContext</b></p>\n",
       "\n",
       "            <p><a href=\"http://172.20.43.119:4040\">Spark UI</a></p>\n",
       "\n",
       "            <dl>\n",
       "              <dt>Version</dt>\n",
       "                <dd><code>v2.4.0</code></dd>\n",
       "              <dt>Master</dt>\n",
       "                <dd><code>local[3]</code></dd>\n",
       "              <dt>AppName</dt>\n",
       "                <dd><code>PySparkShell</code></dd>\n",
       "            </dl>\n",
       "        </div>\n",
       "        "
      ],
      "text/plain": [
       "<SparkContext master=local[3] appName=PySparkShell>"
      ]
     },
     "execution_count": 2,
     "metadata": {},
     "output_type": "execute_result"
    }
   ],
   "source": [
    "sc"
   ]
  },
  {
   "cell_type": "markdown",
   "metadata": {},
   "source": [
    "# Base 1: Cadastro"
   ]
  },
  {
   "cell_type": "code",
   "execution_count": 3,
   "metadata": {},
   "outputs": [],
   "source": [
    "cadastral = sc.textFile('../data_neurotech/CADASTRAL.txt')"
   ]
  },
  {
   "cell_type": "code",
   "execution_count": 4,
   "metadata": {},
   "outputs": [
    {
     "data": {
      "text/plain": [
       "u'CODIGO_CLIENTE\\tDATA_NASCIMENTO\\tSEXO\\tESTADO_CIVIL\\tCIDADE\\tUF\\tBAIRRO\\tCEP\\tQTD_DEPENDENTES\\tDATA_CADASTRO\\tDATA_ADMISSAO\\tCATEGORIAL_PROFISSAO\\tTIPO_RESIDENCIA\\tRENDA_TITULAR\\tRENDA_CJ\\tOUTRAS_RENDAS\\tQTD_CARTOES_ADICIONAIS\\tFLAG_CONTA_BANCO\\tVALOR_HISTORICO_COMPRAS'"
      ]
     },
     "execution_count": 4,
     "metadata": {},
     "output_type": "execute_result"
    }
   ],
   "source": [
    "header1 = cadastral.first()\n",
    "header1"
   ]
  },
  {
   "cell_type": "code",
   "execution_count": 5,
   "metadata": {},
   "outputs": [],
   "source": [
    "cadastral = cadastral.filter(lambda line: line != header1)\n",
    "cadastral_df = cadastral.map(lambda k: k.split(\"\\t\")).toDF(header1.split(\"\\t\"))"
   ]
  },
  {
   "cell_type": "code",
   "execution_count": 6,
   "metadata": {},
   "outputs": [
    {
     "data": {
      "text/plain": [
       "1433665"
      ]
     },
     "execution_count": 6,
     "metadata": {},
     "output_type": "execute_result"
    }
   ],
   "source": [
    "cadastral_df.filter((isnan(cadastral_df[\"DATA_CADASTRO\"])) | (cadastral_df[\"DATA_CADASTRO\"] == \"\") | (cadastral_df[\"DATA_CADASTRO\"].isNull())).count()"
   ]
  },
  {
   "cell_type": "code",
   "execution_count": 7,
   "metadata": {},
   "outputs": [
    {
     "name": "stdout",
     "output_type": "stream",
     "text": [
      "+--------------+--------------------+----+------------+-------------+---+--------+--------+---------------+-------------------+--------------------+--------------------+---------------+-------------+--------+-------------+----------------------+----------------+-----------------------+\n",
      "|CODIGO_CLIENTE|     DATA_NASCIMENTO|SEXO|ESTADO_CIVIL|       CIDADE| UF|  BAIRRO|     CEP|QTD_DEPENDENTES|      DATA_CADASTRO|       DATA_ADMISSAO|CATEGORIAL_PROFISSAO|TIPO_RESIDENCIA|RENDA_TITULAR|RENDA_CJ|OUTRAS_RENDAS|QTD_CARTOES_ADICIONAIS|FLAG_CONTA_BANCO|VALOR_HISTORICO_COMPRAS|\n",
      "+--------------+--------------------+----+------------+-------------+---+--------+--------+---------------+-------------------+--------------------+--------------------+---------------+-------------+--------+-------------+----------------------+----------------+-----------------------+\n",
      "|             3|1951/10/21 00:00:...|   F|          CA|   SANTA ROSA| RS|  GLORIA|98900000|              1|1998-10-28 00:00:00|1990/01/01 00:00:...|            AUT+NOMO|             PR|         2500|    2500|             |                     1|                |               27093.04|\n",
      "|             4|                    |   M|            | SANTO CRISTO| RS|        |98960000|              0|               null|                    |            AUT+NOMO|               |             |        |             |                     0|                |                   34.0|\n",
      "|             5|1966/02/07 00:00:...|   M|          CA| SANTO CRISTO| RS|  CENTRO|98960000|              1|2007-11-24 00:00:00|2000/05/01 00:00:...|         ASSALARIADO|             PR|         1500|       0|             |                     0|               S|                4755.19|\n",
      "|             6|1931/01/04 00:00:...|   F|          CA|CANDIDO GODOI| RS|  CENTRO|98970000|              0|1998-07-12 00:00:00|1951/01/01 00:00:...|          APOSENTADO|             PR|          520|        |             |                     0|               S|                 2107.0|\n",
      "|             7|1965/10/07 00:00:...|   M|          CA| SANTO CRISTO| RS|INTERIOR|98960000|              0|2007-08-16 00:00:00|1968/05/01 00:00:...|          AGRICULTOR|             PR|          300|     680|             |                     0|                |                2523.55|\n",
      "+--------------+--------------------+----+------------+-------------+---+--------+--------+---------------+-------------------+--------------------+--------------------+---------------+-------------+--------+-------------+----------------------+----------------+-----------------------+\n",
      "only showing top 5 rows\n",
      "\n"
     ]
    }
   ],
   "source": [
    "cadastral_df = cadastral_df.withColumn(\"DATA_CADASTRO\", to_timestamp(\"DATA_CADASTRO\", \"yyyy/MM/dd HH:mm:ss\"))\n",
    "cadastral_df.show(5)"
   ]
  },
  {
   "cell_type": "code",
   "execution_count": 8,
   "metadata": {},
   "outputs": [],
   "source": [
    "cadastral_df = cadastral_df.select(['CODIGO_CLIENTE', 'DATA_CADASTRO'])"
   ]
  },
  {
   "cell_type": "markdown",
   "metadata": {},
   "source": [
    "### Regra 1) Cadastrados a partir de 2017"
   ]
  },
  {
   "cell_type": "code",
   "execution_count": 9,
   "metadata": {},
   "outputs": [],
   "source": [
    "cadastral_df = cadastral_df.where(cadastral_df[\"DATA_CADASTRO\"] >= \"2017-01-01 00:00:00\")"
   ]
  },
  {
   "cell_type": "markdown",
   "metadata": {},
   "source": [
    "### Regra 2) Cadastrados até dezembro de 2017"
   ]
  },
  {
   "cell_type": "code",
   "execution_count": 10,
   "metadata": {},
   "outputs": [
    {
     "data": {
      "text/plain": [
       "178403"
      ]
     },
     "execution_count": 10,
     "metadata": {},
     "output_type": "execute_result"
    }
   ],
   "source": [
    "cadastral_df = cadastral_df.where(cadastral_df[\"DATA_CADASTRO\"] < \"2018-01-01 00:00:00\")\n",
    "cadastral_df.count()"
   ]
  },
  {
   "cell_type": "code",
   "execution_count": 11,
   "metadata": {},
   "outputs": [
    {
     "name": "stdout",
     "output_type": "stream",
     "text": [
      "+--------------+-------------------+\n",
      "|CODIGO_CLIENTE|      DATA_CADASTRO|\n",
      "+--------------+-------------------+\n",
      "|           697|2017-01-20 00:00:00|\n",
      "|           875|2017-10-31 00:00:00|\n",
      "|          1415|2017-09-15 00:00:00|\n",
      "|          1689|2017-11-30 00:00:00|\n",
      "|          1871|2017-02-23 00:00:00|\n",
      "+--------------+-------------------+\n",
      "only showing top 5 rows\n",
      "\n"
     ]
    }
   ],
   "source": [
    "cadastral_df.show(5)"
   ]
  },
  {
   "cell_type": "markdown",
   "metadata": {},
   "source": [
    "### Regra 3) Data limite: 6 meses após cadastro"
   ]
  },
  {
   "cell_type": "code",
   "execution_count": 12,
   "metadata": {},
   "outputs": [],
   "source": [
    "cadastral_df = cadastral_df.withColumn(\"DATA_LIMITE\", add_months(cadastral_df['DATA_CADASTRO'], 6))"
   ]
  },
  {
   "cell_type": "code",
   "execution_count": 13,
   "metadata": {},
   "outputs": [
    {
     "name": "stdout",
     "output_type": "stream",
     "text": [
      "+--------------+-------------------+-----------+\n",
      "|CODIGO_CLIENTE|      DATA_CADASTRO|DATA_LIMITE|\n",
      "+--------------+-------------------+-----------+\n",
      "|           697|2017-01-20 00:00:00| 2017-07-20|\n",
      "|           875|2017-10-31 00:00:00| 2018-04-30|\n",
      "|          1415|2017-09-15 00:00:00| 2018-03-15|\n",
      "|          1689|2017-11-30 00:00:00| 2018-05-31|\n",
      "|          1871|2017-02-23 00:00:00| 2017-08-23|\n",
      "+--------------+-------------------+-----------+\n",
      "only showing top 5 rows\n",
      "\n"
     ]
    }
   ],
   "source": [
    "cadastral_df.show(5)"
   ]
  },
  {
   "cell_type": "code",
   "execution_count": 14,
   "metadata": {},
   "outputs": [],
   "source": [
    "tcad = cadastral_df.alias('tcad')"
   ]
  },
  {
   "cell_type": "markdown",
   "metadata": {},
   "source": [
    "# Base 2: Carnê"
   ]
  },
  {
   "cell_type": "code",
   "execution_count": 15,
   "metadata": {},
   "outputs": [],
   "source": [
    "carne = sc.textFile('../data_neurotech/CARNE.txt')"
   ]
  },
  {
   "cell_type": "code",
   "execution_count": 16,
   "metadata": {},
   "outputs": [
    {
     "data": {
      "text/plain": [
       "u'DATA_CONTRATO\\tCODIGO_CONTRATO\\tCODIGO_CLIENTE\\tDATA_VENCIMENTO\\tDATA_PAGAMENTO\\tVALOR_PARCELA\\tVALOR_ENCARGO\\tVALOR_VAGO\\tNUMERO_PARCELA\\tQTD_PAGAMENTOS\\tMODALIDADE\\tTIPO_PRODUTO'"
      ]
     },
     "execution_count": 16,
     "metadata": {},
     "output_type": "execute_result"
    }
   ],
   "source": [
    "header = carne.first()\n",
    "header"
   ]
  },
  {
   "cell_type": "code",
   "execution_count": 17,
   "metadata": {},
   "outputs": [],
   "source": [
    "#filter out the header, make sure the rest looks correct\n",
    "carne = carne.filter(lambda line: line != header)"
   ]
  },
  {
   "cell_type": "code",
   "execution_count": 18,
   "metadata": {},
   "outputs": [],
   "source": [
    "#here's where the changes take place\n",
    "#this creates a dataframe using whatever pyspark feels like using (I think string is the default). the header.split is providing the names of the columns\n",
    "carne_df = carne.map(lambda k: k.split(\"\\t\")).toDF(header.split(\"\\t\"))"
   ]
  },
  {
   "cell_type": "code",
   "execution_count": 19,
   "metadata": {},
   "outputs": [],
   "source": [
    "carne_df = carne_df.withColumn(\"DATA_VENCIMENTO\", to_timestamp(\"DATA_VENCIMENTO\", \"yyyy/MM/dd HH:mm:ss\"))\n",
    "carne_df = carne_df.withColumn(\"DATA_PAGAMENTO\", to_timestamp(\"DATA_PAGAMENTO\", \"yyyy/MM/dd HH:mm:ss\"))"
   ]
  },
  {
   "cell_type": "code",
   "execution_count": 20,
   "metadata": {},
   "outputs": [],
   "source": [
    "carne_df = carne_df.select(['CODIGO_CLIENTE','DATA_VENCIMENTO', 'DATA_PAGAMENTO'])"
   ]
  },
  {
   "cell_type": "code",
   "execution_count": 22,
   "metadata": {},
   "outputs": [],
   "source": [
    "carne_df = carne_df.join(cadastral_df, carne_df.CODIGO_CLIENTE == cadastral_df.CODIGO_CLIENTE, 'inner').select(carne_df.CODIGO_CLIENTE,\n",
    "                                                                                        carne_df.DATA_VENCIMENTO,\n",
    "                                                                                        carne_df.DATA_PAGAMENTO,\n",
    "                                                                                        cadastral_df.DATA_CADASTRO,\n",
    "                                                                                        cadastral_df.DATA_LIMITE)"
   ]
  },
  {
   "cell_type": "code",
   "execution_count": 23,
   "metadata": {},
   "outputs": [],
   "source": [
    "carne_df = carne_df.withColumn(\"PAGAMENTO_LIMITE\", add_months(carne_df['DATA_VENCIMENTO'], 6))"
   ]
  },
  {
   "cell_type": "code",
   "execution_count": 24,
   "metadata": {},
   "outputs": [],
   "source": [
    "carne_df = carne_df.withColumn(\"FLAG_LIMITE\", (carne_df.DATA_VENCIMENTO <= carne_df.DATA_LIMITE).cast('integer'))"
   ]
  },
  {
   "cell_type": "code",
   "execution_count": 41,
   "metadata": {},
   "outputs": [],
   "source": [
    "carne_df = carne_df.withColumn(\"FLAG_ATRASO\",\\\n",
    "                               ((carne_df.DATA_PAGAMENTO > carne_df.PAGAMENTO_LIMITE) | \\\n",
    "                               (isnull(carne_df.DATA_PAGAMENTO))).cast('integer'))"
   ]
  },
  {
   "cell_type": "code",
   "execution_count": 42,
   "metadata": {},
   "outputs": [
    {
     "name": "stdout",
     "output_type": "stream",
     "text": [
      "+--------------+-------------------+-------------------+-------------------+-----------+----------------+-----------+-----------+\n",
      "|CODIGO_CLIENTE|    DATA_VENCIMENTO|     DATA_PAGAMENTO|      DATA_CADASTRO|DATA_LIMITE|PAGAMENTO_LIMITE|FLAG_LIMITE|FLAG_ATRASO|\n",
      "+--------------+-------------------+-------------------+-------------------+-----------+----------------+-----------+-----------+\n",
      "|       1061056|2018-06-08 00:00:00|2018-06-08 00:00:00|2017-12-08 00:00:00| 2018-06-08|      2018-12-08|          1|          0|\n",
      "|       1061056|2018-06-08 00:00:00|2018-06-11 00:00:00|2017-12-08 00:00:00| 2018-06-08|      2018-12-08|          1|          0|\n",
      "|       1061056|2018-06-11 00:00:00|2018-06-11 00:00:00|2017-12-08 00:00:00| 2018-06-08|      2018-12-11|          0|          0|\n",
      "|      10812385|2017-05-10 00:00:00|2017-05-12 00:00:00|2017-03-31 00:00:00| 2017-09-30|      2017-11-10|          1|          0|\n",
      "|      10812385|2017-06-10 00:00:00|2017-06-07 00:00:00|2017-03-31 00:00:00| 2017-09-30|      2017-12-10|          1|          0|\n",
      "|      10812385|2017-07-10 00:00:00|2017-07-07 00:00:00|2017-03-31 00:00:00| 2017-09-30|      2018-01-10|          1|          0|\n",
      "|      10812385|2017-08-10 00:00:00|2017-08-09 00:00:00|2017-03-31 00:00:00| 2017-09-30|      2018-02-10|          1|          0|\n",
      "|      10812385|2017-09-10 00:00:00|2017-09-08 00:00:00|2017-03-31 00:00:00| 2017-09-30|      2018-03-10|          1|          0|\n",
      "|      10812385|2017-10-10 00:00:00|2017-10-09 00:00:00|2017-03-31 00:00:00| 2017-09-30|      2018-04-10|          0|          0|\n",
      "|      10812385|2017-11-10 00:00:00|2018-01-09 00:00:00|2017-03-31 00:00:00| 2017-09-30|      2018-05-10|          0|          0|\n",
      "+--------------+-------------------+-------------------+-------------------+-----------+----------------+-----------+-----------+\n",
      "only showing top 10 rows\n",
      "\n"
     ]
    }
   ],
   "source": [
    "carne_df.show(10)"
   ]
  },
  {
   "cell_type": "code",
   "execution_count": 65,
   "metadata": {},
   "outputs": [],
   "source": [
    "carne_df = carne_df.select(['CODIGO_CLIENTE', 'FLAG_LIMITE', 'FLAG_ATRASO'])\\\n",
    ".groupBy(['CODIGO_CLIENTE']).agg({'FLAG_LIMITE': 'max', 'FLAG_ATRASO': 'max'})"
   ]
  },
  {
   "cell_type": "code",
   "execution_count": 66,
   "metadata": {},
   "outputs": [
    {
     "name": "stdout",
     "output_type": "stream",
     "text": [
      "+--------------+----------------+----------------+\n",
      "|CODIGO_CLIENTE|max(FLAG_ATRASO)|max(FLAG_LIMITE)|\n",
      "+--------------+----------------+----------------+\n",
      "|       1061056|               0|               1|\n",
      "|      10812385|               0|               1|\n",
      "|      11126048|               0|               1|\n",
      "|       1114919|               0|               1|\n",
      "|      11158644|               0|               1|\n",
      "|      11254267|               0|               1|\n",
      "|      11336822|               0|               1|\n",
      "|      11337289|               0|               1|\n",
      "|      11346688|               0|               1|\n",
      "|      11363677|               0|               1|\n",
      "+--------------+----------------+----------------+\n",
      "only showing top 10 rows\n",
      "\n"
     ]
    }
   ],
   "source": [
    "carne_df.show(10)"
   ]
  },
  {
   "cell_type": "code",
   "execution_count": 69,
   "metadata": {},
   "outputs": [
    {
     "data": {
      "text/plain": [
       "50493"
      ]
     },
     "execution_count": 69,
     "metadata": {},
     "output_type": "execute_result"
    }
   ],
   "source": [
    "carne_df.count()"
   ]
  },
  {
   "cell_type": "markdown",
   "metadata": {},
   "source": [
    "# Base 3: Cartão"
   ]
  },
  {
   "cell_type": "code",
   "execution_count": 26,
   "metadata": {},
   "outputs": [],
   "source": [
    "cartao = sc.textFile('../data_neurotech/CARTAO.txt')"
   ]
  },
  {
   "cell_type": "code",
   "execution_count": 27,
   "metadata": {},
   "outputs": [
    {
     "data": {
      "text/plain": [
       "u'CODIGO_CLIENTE\\tCODIGO_CARTAO\\tVALOR_MORA\\tVALOR_MULTA\\tVALOR_TOTAL\\tVALOR_MIN\\tDATA_VENCIMENTO\\tVALOR_PAGO\\tTARIFA\\tOUTROS_VALORES\\tLIMITE\\tSOMA_VALOR_DIVIDAS_FUTURAS\\tDATA_PAGAMENTO\\tQTD_CONTRATOS'"
      ]
     },
     "execution_count": 27,
     "metadata": {},
     "output_type": "execute_result"
    }
   ],
   "source": [
    "header3 = cartao.first()\n",
    "header3"
   ]
  },
  {
   "cell_type": "code",
   "execution_count": 28,
   "metadata": {},
   "outputs": [],
   "source": [
    "cartao = cartao.filter(lambda line: line != header3)"
   ]
  },
  {
   "cell_type": "code",
   "execution_count": 29,
   "metadata": {},
   "outputs": [
    {
     "name": "stdout",
     "output_type": "stream",
     "text": [
      "+--------------+-------------+----------+-----------+-----------+---------+--------------------+----------+------+--------------+------+--------------------------+--------------------+-------------+\n",
      "|CODIGO_CLIENTE|CODIGO_CARTAO|VALOR_MORA|VALOR_MULTA|VALOR_TOTAL|VALOR_MIN|     DATA_VENCIMENTO|VALOR_PAGO|TARIFA|OUTROS_VALORES|LIMITE|SOMA_VALOR_DIVIDAS_FUTURAS|      DATA_PAGAMENTO|QTD_CONTRATOS|\n",
      "+--------------+-------------+----------+-----------+-----------+---------+--------------------+----------+------+--------------+------+--------------------------+--------------------+-------------+\n",
      "|            23|    105028440|       0.0|        0.0|     298.79|    64.55|2016/06/10 00:00:...|    298.79|   0.0|          5.99|2604.0|                    8118.6|2016/06/09 00:00:...|            5|\n",
      "|            23|    105670225|       0.0|        0.0|     307.34|    66.26|2016/07/10 00:00:...|    307.34|   0.0|          5.99|2604.0|                   7811.26|2016/07/08 00:00:...|            6|\n",
      "|            23|    106342523|       0.0|        0.0|     238.88|    52.57|2016/08/10 00:00:...|    238.88|   0.0|          5.99|2604.0|                   7572.38|2016/08/08 00:00:...|            6|\n",
      "|            23|    106886546|       0.0|        0.0|     197.37|    44.27|2016/09/10 00:00:...|    197.37|   0.0|          5.99|2604.0|                   7375.01|2016/09/06 00:00:...|            6|\n",
      "|            23|    107510531|       0.0|        0.0|      74.99|    19.79|2016/10/10 00:00:...|     74.99|   0.0|          5.99|2604.0|                   7300.02|2016/10/07 00:00:...|            3|\n",
      "+--------------+-------------+----------+-----------+-----------+---------+--------------------+----------+------+--------------+------+--------------------------+--------------------+-------------+\n",
      "only showing top 5 rows\n",
      "\n"
     ]
    }
   ],
   "source": [
    "cartao_df = cartao.map(lambda k: k.split(\"\\t\")).toDF(header3.split(\"\\t\"))\n",
    "cartao_df.show(5)"
   ]
  },
  {
   "cell_type": "code",
   "execution_count": 30,
   "metadata": {},
   "outputs": [],
   "source": [
    "cartao_df = cartao_df.withColumn(\"DATA_VENCIMENTO\", to_timestamp(\"DATA_VENCIMENTO\", \"yyyy/MM/dd HH:mm:ss\"))\n",
    "cartao_df = cartao_df.withColumn(\"DATA_PAGAMENTO\", to_timestamp(\"DATA_PAGAMENTO\", \"yyyy/MM/dd HH:mm:ss\"))"
   ]
  },
  {
   "cell_type": "code",
   "execution_count": 31,
   "metadata": {},
   "outputs": [],
   "source": [
    "cartao_df = cartao_df.select(['CODIGO_CLIENTE','DATA_VENCIMENTO', 'DATA_PAGAMENTO'])"
   ]
  },
  {
   "cell_type": "code",
   "execution_count": 33,
   "metadata": {},
   "outputs": [],
   "source": [
    "cartao_df = cartao_df.join(cadastral_df, cartao_df.CODIGO_CLIENTE == cadastral_df.CODIGO_CLIENTE, 'inner').select(cartao_df.CODIGO_CLIENTE,\n",
    "                                                                                        cartao_df.DATA_VENCIMENTO,\n",
    "                                                                                        cartao_df.DATA_PAGAMENTO,\n",
    "                                                                                        cadastral_df.DATA_CADASTRO,\n",
    "                                                                                        cadastral_df.DATA_LIMITE)\n"
   ]
  },
  {
   "cell_type": "code",
   "execution_count": 34,
   "metadata": {},
   "outputs": [],
   "source": [
    "cartao_df = cartao_df.withColumn(\"PAGAMENTO_LIMITE\", add_months(cartao_df['DATA_VENCIMENTO'], 6))"
   ]
  },
  {
   "cell_type": "code",
   "execution_count": 35,
   "metadata": {},
   "outputs": [],
   "source": [
    "cartao_df = cartao_df.withColumn(\"FLAG_LIMITE\", (cartao_df.DATA_VENCIMENTO <= cartao_df.DATA_LIMITE).cast('integer'))"
   ]
  },
  {
   "cell_type": "code",
   "execution_count": 43,
   "metadata": {},
   "outputs": [],
   "source": [
    "cartao_df = cartao_df.withColumn(\"FLAG_ATRASO\",\\\n",
    "                               ((cartao_df.DATA_PAGAMENTO > cartao_df.PAGAMENTO_LIMITE) | \\\n",
    "                               (isnull(cartao_df.DATA_PAGAMENTO))).cast('integer'))"
   ]
  },
  {
   "cell_type": "code",
   "execution_count": 44,
   "metadata": {},
   "outputs": [
    {
     "name": "stdout",
     "output_type": "stream",
     "text": [
      "+--------------+-------------------+-------------------+-------------------+-----------+----------------+-----------+-----------+\n",
      "|CODIGO_CLIENTE|    DATA_VENCIMENTO|     DATA_PAGAMENTO|      DATA_CADASTRO|DATA_LIMITE|PAGAMENTO_LIMITE|FLAG_LIMITE|FLAG_ATRASO|\n",
      "+--------------+-------------------+-------------------+-------------------+-----------+----------------+-----------+-----------+\n",
      "|       1061056|2018-06-08 00:00:00|2018-06-11 00:00:00|2017-12-08 00:00:00| 2018-06-08|      2018-12-08|          1|          0|\n",
      "|      10680802|2017-08-25 00:00:00|2017-08-25 00:00:00|2017-07-29 00:00:00| 2018-01-29|      2018-02-25|          1|          0|\n",
      "|      10680802|2017-09-25 00:00:00|               null|2017-07-29 00:00:00| 2018-01-29|      2018-03-25|          1|          1|\n",
      "|      10680802|2017-10-25 00:00:00|               null|2017-07-29 00:00:00| 2018-01-29|      2018-04-25|          1|          1|\n",
      "|      10680802|2017-11-25 00:00:00|               null|2017-07-29 00:00:00| 2018-01-29|      2018-05-25|          1|          1|\n",
      "|      10680802|2017-12-25 00:00:00|               null|2017-07-29 00:00:00| 2018-01-29|      2018-06-25|          1|          1|\n",
      "|      10680802|2018-01-25 00:00:00|               null|2017-07-29 00:00:00| 2018-01-29|      2018-07-25|          1|          1|\n",
      "|      10680802|2018-02-25 00:00:00|               null|2017-07-29 00:00:00| 2018-01-29|      2018-08-25|          0|          1|\n",
      "|       1068245|2017-12-05 00:00:00|               null|2017-10-30 00:00:00| 2018-04-30|      2018-06-05|          1|          1|\n",
      "|       1068245|2018-01-05 00:00:00|               null|2017-10-30 00:00:00| 2018-04-30|      2018-07-05|          1|          1|\n",
      "+--------------+-------------------+-------------------+-------------------+-----------+----------------+-----------+-----------+\n",
      "only showing top 10 rows\n",
      "\n"
     ]
    }
   ],
   "source": [
    "cartao_df.show(10)"
   ]
  },
  {
   "cell_type": "code",
   "execution_count": 62,
   "metadata": {},
   "outputs": [],
   "source": [
    "cartao_df = cartao_df.select(['CODIGO_CLIENTE', 'FLAG_LIMITE', 'FLAG_ATRASO'])\\\n",
    ".groupBy(['CODIGO_CLIENTE']).agg({'FLAG_LIMITE': 'max', 'FLAG_ATRASO': 'max'})"
   ]
  },
  {
   "cell_type": "code",
   "execution_count": 64,
   "metadata": {},
   "outputs": [
    {
     "name": "stdout",
     "output_type": "stream",
     "text": [
      "+--------------+----------------+----------------+\n",
      "|CODIGO_CLIENTE|max(FLAG_ATRASO)|max(FLAG_LIMITE)|\n",
      "+--------------+----------------+----------------+\n",
      "|       1061056|               0|               1|\n",
      "|      10680802|               1|               1|\n",
      "|       1068245|               1|               1|\n",
      "|       1114919|               0|               1|\n",
      "|      11158644|               0|               1|\n",
      "|      11254267|               1|               1|\n",
      "|      11336822|               0|               1|\n",
      "|      11342640|               0|               1|\n",
      "|      11346688|               1|               1|\n",
      "|      11363677|               1|               1|\n",
      "+--------------+----------------+----------------+\n",
      "only showing top 10 rows\n",
      "\n"
     ]
    }
   ],
   "source": [
    "cartao_df.show(10)"
   ]
  },
  {
   "cell_type": "code",
   "execution_count": 68,
   "metadata": {},
   "outputs": [
    {
     "data": {
      "text/plain": [
       "86865"
      ]
     },
     "execution_count": 68,
     "metadata": {},
     "output_type": "execute_result"
    }
   ],
   "source": [
    "cartao_df.count()"
   ]
  },
  {
   "cell_type": "markdown",
   "metadata": {},
   "source": [
    "# Concatenação das bases"
   ]
  },
  {
   "cell_type": "code",
   "execution_count": 67,
   "metadata": {},
   "outputs": [],
   "source": [
    "concat = carne_df.union(cartao_df)"
   ]
  },
  {
   "cell_type": "code",
   "execution_count": 70,
   "metadata": {},
   "outputs": [
    {
     "data": {
      "text/plain": [
       "137358"
      ]
     },
     "execution_count": 70,
     "metadata": {},
     "output_type": "execute_result"
    }
   ],
   "source": [
    "concat.count()"
   ]
  },
  {
   "cell_type": "code",
   "execution_count": null,
   "metadata": {},
   "outputs": [],
   "source": [
    "clients = concat.select(col(\"CODIGO_CLIENTE\").alias(\"CODIGO_CLIENTE\"),\n",
    "                        col(\"max(FLAG_ATRASO)\").alias(\"CLASS\"),\n",
    "                       col(\"max(FLAG_LIMITE)\").alias(\"ELEGIBLE\"))\n",
    "clients = clients.select(['CODIGO_CLIENTE', 'CLASS', 'ELEGIBLE'])\\\n",
    ".groupBy(['CODIGO_CLIENTE']).agg({'CLASS': 'max', 'ELEGIBLE': 'max'})\n",
    "clients.count()\n",
    "clients = clients.select(['CODIGO_CLIENTE', 'max(CLASS)']).where(clients['max(ELEGIBLE)'] > 0)\n",
    "clients = clients.select(col(\"CODIGO_CLIENTE\").alias(\"CODIGO_CLIENTE\"),\n",
    "                        col(\"max(CLASS)\").alias(\"CLASS\"))\n",
    "base_final = cadastral_df.join(clients, clients.CODIGO_CLIENTE == cadastral_df.CODIGO_CLIENTE, 'inner').select(cadastral_df.CODIGO_CLIENTE,\n",
    "                                                                                                              cadastral_df.DATA_NASCIMENTO,\n",
    "                                                                                                              cadastral_df.SEXO,\n",
    "                                                                                                              cadastral_df.ESTADO_CIVIL,\n",
    "                                                                                                              cadastral_df.CIDADE,\n",
    "                                                                                                              cadastral_df.UF,\n",
    "                                                                                                              cadastral_df.BAIRRO,\n",
    "                                                                                                              cadastral_df.CEP,\n",
    "                                                                                                              cadastral_df.QTD_DEPENDENTES,\n",
    "                                                                                                              cadastral_df.DATA_CADASTRO,\n",
    "                                                                                                              cadastral_df.DATA_ADMISSAO,\n",
    "                                                                                                              cadastral_df.CATEGORIAL_PROFISSAO,\n",
    "                                                                                                              cadastral_df.TIPO_RESIDENCIA,\n",
    "                                                                                                              cadastral_df.RENDA_TITULAR,\n",
    "                                                                                                              cadastral_df.RENDA_CJ,\n",
    "                                                                                                              cadastral_df.OUTRAS_RENDAS,\n",
    "                                                                                                              cadastral_df.QTD_CARTOES_ADICIONAIS,\n",
    "                                                                                                              cadastral_df.FLAG_CONTA_BANCO,\n",
    "                                                                                                              cadastral_df.VALOR_HISTORICO_COMPRAS,\n",
    "                                                                                                              clients.CLASS)\n",
    "base_final.show(5)\n"
   ]
  }
 ],
 "metadata": {
  "kernelspec": {
   "display_name": "Python 3",
   "language": "python",
   "name": "python3"
  },
  "language_info": {
   "codemirror_mode": {
    "name": "ipython",
    "version": 2
   },
   "file_extension": ".py",
   "mimetype": "text/x-python",
   "name": "python",
   "nbconvert_exporter": "python",
   "pygments_lexer": "ipython2",
   "version": "2.7.15rc1"
  }
 },
 "nbformat": 4,
 "nbformat_minor": 2
}
