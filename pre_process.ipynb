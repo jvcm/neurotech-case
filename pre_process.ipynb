{
 "cells": [
  {
   "cell_type": "code",
   "execution_count": 78,
   "metadata": {},
   "outputs": [],
   "source": [
    "from pyspark.sql.types import *\n",
    "from pyspark.sql.functions import to_timestamp\n",
    "from pyspark.sql.functions import lit"
   ]
  },
  {
   "cell_type": "code",
   "execution_count": 14,
   "metadata": {},
   "outputs": [
    {
     "data": {
      "text/html": [
       "\n",
       "        <div>\n",
       "            <p><b>SparkContext</b></p>\n",
       "\n",
       "            <p><a href=\"http://172.26.124.131:4040\">Spark UI</a></p>\n",
       "\n",
       "            <dl>\n",
       "              <dt>Version</dt>\n",
       "                <dd><code>v2.4.0</code></dd>\n",
       "              <dt>Master</dt>\n",
       "                <dd><code>local[*]</code></dd>\n",
       "              <dt>AppName</dt>\n",
       "                <dd><code>PySparkShell</code></dd>\n",
       "            </dl>\n",
       "        </div>\n",
       "        "
      ],
      "text/plain": [
       "<SparkContext master=local[*] appName=PySparkShell>"
      ]
     },
     "execution_count": 14,
     "metadata": {},
     "output_type": "execute_result"
    }
   ],
   "source": [
    "sc"
   ]
  },
  {
   "cell_type": "markdown",
   "metadata": {},
   "source": [
    "# Carnê"
   ]
  },
  {
   "cell_type": "code",
   "execution_count": 15,
   "metadata": {},
   "outputs": [],
   "source": [
    "carne = sc.textFile('CARNE.txt')"
   ]
  },
  {
   "cell_type": "code",
   "execution_count": 16,
   "metadata": {},
   "outputs": [
    {
     "data": {
      "text/plain": [
       "'DATA_CONTRATO\\tCODIGO_CONTRATO\\tCODIGO_CLIENTE\\tDATA_VENCIMENTO\\tDATA_PAGAMENTO\\tVALOR_PARCELA\\tVALOR_ENCARGO\\tVALOR_VAGO\\tNUMERO_PARCELA\\tQTD_PAGAMENTOS\\tMODALIDADE\\tTIPO_PRODUTO'"
      ]
     },
     "execution_count": 16,
     "metadata": {},
     "output_type": "execute_result"
    }
   ],
   "source": [
    "header = carne.first()\n",
    "header"
   ]
  },
  {
   "cell_type": "code",
   "execution_count": 17,
   "metadata": {},
   "outputs": [],
   "source": [
    "#filter out the header, make sure the rest looks correct\n",
    "carne = carne.filter(lambda line: line != header)"
   ]
  },
  {
   "cell_type": "code",
   "execution_count": 18,
   "metadata": {},
   "outputs": [
    {
     "name": "stdout",
     "output_type": "stream",
     "text": [
      "+--------------------+---------------+--------------+--------------------+--------------------+-------------+-------------+----------+--------------+--------------+----------+------------+\n",
      "|       DATA_CONTRATO|CODIGO_CONTRATO|CODIGO_CLIENTE|     DATA_VENCIMENTO|      DATA_PAGAMENTO|VALOR_PARCELA|VALOR_ENCARGO|VALOR_VAGO|NUMERO_PARCELA|QTD_PAGAMENTOS|MODALIDADE|TIPO_PRODUTO|\n",
      "+--------------------+---------------+--------------+--------------------+--------------------+-------------+-------------+----------+--------------+--------------+----------+------------+\n",
      "|2018/04/04 00:00:...|   100113272222|            10|2018/05/10 00:00:...|2018/05/07 00:00:...|         78.6|        73.89|      78.6|             1|             1|         5|           1|\n",
      "|2018/04/04 00:00:...|   100113272222|            10|2018/06/10 00:00:...|2018/06/08 00:00:...|         78.6|        70.04|      78.6|             2|             1|         5|           1|\n",
      "|2017/02/03 00:00:...|   100081371671|            10|2017/03/05 00:00:...|2017/03/03 00:00:...|       1528.0|       1528.0|    1528.0|             1|             1|         7|           2|\n",
      "|2017/05/23 00:00:...|   100089793914|            10|2017/06/10 00:00:...|2017/06/14 00:00:...|        60.45|        58.76|     60.45|             1|             1|         5|           1|\n",
      "|2017/05/23 00:00:...|   100089793914|            10|2017/07/10 00:00:...|2017/07/11 00:00:...|        60.45|        56.02|     60.45|             2|             1|         5|           1|\n",
      "|2017/05/23 00:00:...|   100089793914|            10|2017/08/10 00:00:...|2017/09/08 00:00:...|        60.45|        53.34|     60.45|             3|             1|         5|           1|\n",
      "|2017/05/23 00:00:...|   100089793914|            10|2017/09/10 00:00:...|2017/09/08 00:00:...|        60.45|        50.78|     60.45|             4|             1|         5|           1|\n",
      "|2017/05/23 00:00:...|   100089793914|            10|2017/10/10 00:00:...|2017/10/06 00:00:...|        60.45|        48.43|     60.45|             5|             1|         5|           1|\n",
      "|2017/05/23 00:00:...|   100089793914|            10|2017/11/10 00:00:...|2017/11/08 00:00:...|        60.45|         46.1|     60.45|             6|             1|         5|           1|\n",
      "|2018/03/28 00:00:...|   100112867545|            15|2018/04/20 00:00:...|2018/04/20 00:00:...|        288.0|       277.61|     288.0|             1|             1|         5|           1|\n",
      "|2018/03/28 00:00:...|   100112867545|            15|2018/05/20 00:00:...|2018/05/21 00:00:...|        288.0|        264.6|     288.0|             2|             1|         5|           1|\n",
      "|2018/03/28 00:00:...|   100112867545|            15|2018/06/20 00:00:...|2018/06/21 00:00:...|        288.0|       251.81|     288.0|             3|             1|         5|           1|\n",
      "|2018/03/29 00:00:...|   100112921515|            15|2018/04/20 00:00:...|2018/04/20 00:00:...|        78.98|        76.03|     78.98|             1|             1|         5|           1|\n",
      "|2018/04/04 00:00:...|   100113293888|            15|2018/04/20 00:00:...|2018/04/20 00:00:...|        65.06|        63.11|     65.06|             1|             1|         5|           1|\n",
      "|2018/04/07 00:00:...|   100113765760|            15|2018/05/07 00:00:...|2018/04/25 00:00:...|        268.0|        268.0|     268.0|             1|             1|         7|           2|\n",
      "|2018/04/09 00:00:...|   100113837274|            15|2018/04/20 00:00:...|2018/04/20 00:00:...|        52.57|        51.59|     52.57|             1|             1|         5|           1|\n",
      "|2018/04/09 00:00:...|   100113837274|            15|2018/05/20 00:00:...|2018/05/21 00:00:...|        52.57|        48.95|     52.57|             2|             1|         5|           1|\n",
      "|2018/04/09 00:00:...|   100113837274|            15|2018/06/20 00:00:...|2018/06/21 00:00:...|        52.57|        46.38|     52.57|             3|             1|         5|           1|\n",
      "|2018/04/13 00:00:...|   100114523854|            15|2018/05/20 00:00:...|2018/05/21 00:00:...|         58.0|        54.11|      58.0|             1|             1|         5|           1|\n",
      "|2018/05/24 00:00:...|   100118070156|            15|2018/06/25 00:00:...|2018/06/06 00:00:...|        157.5|        157.5|     157.5|             1|             1|         7|           2|\n",
      "+--------------------+---------------+--------------+--------------------+--------------------+-------------+-------------+----------+--------------+--------------+----------+------------+\n",
      "only showing top 20 rows\n",
      "\n"
     ]
    }
   ],
   "source": [
    "#here's where the changes take place\n",
    "#this creates a dataframe using whatever pyspark feels like using (I think string is the default). the header.split is providing the names of the columns\n",
    "carne_df = carne.map(lambda k: k.split(\"\\t\")).toDF(header.split(\"\\t\"))\n",
    "carne_df.show()"
   ]
  },
  {
   "cell_type": "code",
   "execution_count": 20,
   "metadata": {},
   "outputs": [],
   "source": [
    "carne_df_ts = carne_df.withColumn(\"DATA_VENCIMENTO\", to_timestamp(\"DATA_VENCIMENTO\", \"yyyy/MM/dd HH:mm:ss\"))\n",
    "carne_df_ts = carne_df_ts.withColumn(\"DATA_PAGAMENTO\", to_timestamp(\"DATA_PAGAMENTO\", \"yyyy/MM/dd HH:mm:ss\"))\n",
    "carne_df_ts = carne_df_ts.withColumn(\"DATA_CONTRATO\", to_timestamp(\"DATA_CONTRATO\", \"yyyy/MM/dd HH:mm:ss\"))"
   ]
  },
  {
   "cell_type": "code",
   "execution_count": 21,
   "metadata": {},
   "outputs": [
    {
     "name": "stdout",
     "output_type": "stream",
     "text": [
      "+-------------------+---------------+--------------+-------------------+-------------------+-------------+-------------+----------+--------------+--------------+----------+------------+\n",
      "|      DATA_CONTRATO|CODIGO_CONTRATO|CODIGO_CLIENTE|    DATA_VENCIMENTO|     DATA_PAGAMENTO|VALOR_PARCELA|VALOR_ENCARGO|VALOR_VAGO|NUMERO_PARCELA|QTD_PAGAMENTOS|MODALIDADE|TIPO_PRODUTO|\n",
      "+-------------------+---------------+--------------+-------------------+-------------------+-------------+-------------+----------+--------------+--------------+----------+------------+\n",
      "|2018-04-04 00:00:00|   100113272222|            10|2018-05-10 00:00:00|2018-05-07 00:00:00|         78.6|        73.89|      78.6|             1|             1|         5|           1|\n",
      "|2018-04-04 00:00:00|   100113272222|            10|2018-06-10 00:00:00|2018-06-08 00:00:00|         78.6|        70.04|      78.6|             2|             1|         5|           1|\n",
      "|2017-02-03 00:00:00|   100081371671|            10|2017-03-05 00:00:00|2017-03-03 00:00:00|       1528.0|       1528.0|    1528.0|             1|             1|         7|           2|\n",
      "|2017-05-23 00:00:00|   100089793914|            10|2017-06-10 00:00:00|2017-06-14 00:00:00|        60.45|        58.76|     60.45|             1|             1|         5|           1|\n",
      "|2017-05-23 00:00:00|   100089793914|            10|2017-07-10 00:00:00|2017-07-11 00:00:00|        60.45|        56.02|     60.45|             2|             1|         5|           1|\n",
      "+-------------------+---------------+--------------+-------------------+-------------------+-------------+-------------+----------+--------------+--------------+----------+------------+\n",
      "only showing top 5 rows\n",
      "\n"
     ]
    }
   ],
   "source": [
    "carne_df_ts.show(5)"
   ]
  },
  {
   "cell_type": "markdown",
   "metadata": {},
   "source": [
    "# PAGOU ANTES DO VENCIMENTO"
   ]
  },
  {
   "cell_type": "code",
   "execution_count": 51,
   "metadata": {},
   "outputs": [],
   "source": [
    "possible_good = carne_df_ts.select(carne_df_ts['CODIGO_CLIENTE'],carne_df_ts['CODIGO_CONTRATO'],carne_df_ts['DATA_PAGAMENTO'],carne_df_ts['DATA_VENCIMENTO']).where(carne_df_ts['DATA_PAGAMENTO'] < carne_df_ts['DATA_VENCIMENTO'])"
   ]
  },
  {
   "cell_type": "markdown",
   "metadata": {},
   "source": [
    "# PAGOU DEPOIS DO VENCIMENTO"
   ]
  },
  {
   "cell_type": "code",
   "execution_count": 79,
   "metadata": {},
   "outputs": [],
   "source": [
    "bad_carne = carne_df_ts.select(carne_df_ts['CODIGO_CLIENTE'],carne_df_ts['CODIGO_CONTRATO'],carne_df_ts['DATA_PAGAMENTO'],carne_df_ts['DATA_VENCIMENTO']).where(carne_df_ts['DATA_PAGAMENTO'] > carne_df_ts['DATA_VENCIMENTO'])"
   ]
  },
  {
   "cell_type": "code",
   "execution_count": 80,
   "metadata": {},
   "outputs": [
    {
     "name": "stdout",
     "output_type": "stream",
     "text": [
      "+--------------+---------------+-------------------+-------------------+\n",
      "|CODIGO_CLIENTE|CODIGO_CONTRATO|     DATA_PAGAMENTO|    DATA_VENCIMENTO|\n",
      "+--------------+---------------+-------------------+-------------------+\n",
      "|            10|   100089793914|2017-06-14 00:00:00|2017-06-10 00:00:00|\n",
      "|            10|   100089793914|2017-07-11 00:00:00|2017-07-10 00:00:00|\n",
      "|            10|   100089793914|2017-09-08 00:00:00|2017-08-10 00:00:00|\n",
      "|            15|   100112867545|2018-05-21 00:00:00|2018-05-20 00:00:00|\n",
      "|            15|   100112867545|2018-06-21 00:00:00|2018-06-20 00:00:00|\n",
      "+--------------+---------------+-------------------+-------------------+\n",
      "only showing top 5 rows\n",
      "\n"
     ]
    }
   ],
   "source": [
    "bad_carne.show(5)"
   ]
  },
  {
   "cell_type": "code",
   "execution_count": 81,
   "metadata": {},
   "outputs": [],
   "source": [
    "bad_client_carne = bad_carne.select(\"CODIGO_CLIENTE\").dropDuplicates()"
   ]
  },
  {
   "cell_type": "code",
   "execution_count": 82,
   "metadata": {},
   "outputs": [
    {
     "data": {
      "text/plain": [
       "DataFrame[CODIGO_CLIENTE: string]"
      ]
     },
     "execution_count": 82,
     "metadata": {},
     "output_type": "execute_result"
    }
   ],
   "source": [
    "bad_client_carne.cache()"
   ]
  },
  {
   "cell_type": "code",
   "execution_count": 83,
   "metadata": {},
   "outputs": [
    {
     "name": "stdout",
     "output_type": "stream",
     "text": [
      "+--------------+-----+\n",
      "|CODIGO_CLIENTE|CLASS|\n",
      "+--------------+-----+\n",
      "|          1090|    0|\n",
      "|          1512|    0|\n",
      "|          2069|    0|\n",
      "|          5325|    0|\n",
      "|          9586|    0|\n",
      "|         11888|    0|\n",
      "|         13772|    0|\n",
      "|         17401|    0|\n",
      "|         17686|    0|\n",
      "|         20428|    0|\n",
      "|         21248|    0|\n",
      "|         21452|    0|\n",
      "|         27317|    0|\n",
      "|         28839|    0|\n",
      "|         29454|    0|\n",
      "|         30002|    0|\n",
      "|         32558|    0|\n",
      "|         32812|    0|\n",
      "|         33174|    0|\n",
      "|         38986|    0|\n",
      "+--------------+-----+\n",
      "only showing top 20 rows\n",
      "\n"
     ]
    }
   ],
   "source": [
    "bad_client_carne = bad_client_carne.withColumn(\"CLASS\", lit(0))\n",
    "bad_client_carne.show()"
   ]
  },
  {
   "cell_type": "markdown",
   "metadata": {},
   "source": [
    "# Cadastro"
   ]
  },
  {
   "cell_type": "code",
   "execution_count": 23,
   "metadata": {},
   "outputs": [],
   "source": [
    "cadastral = sc.textFile('CADASTRAL.txt')"
   ]
  },
  {
   "cell_type": "code",
   "execution_count": 24,
   "metadata": {},
   "outputs": [
    {
     "data": {
      "text/plain": [
       "'CODIGO_CLIENTE\\tDATA_NASCIMENTO\\tSEXO\\tESTADO_CIVIL\\tCIDADE\\tUF\\tBAIRRO\\tCEP\\tQTD_DEPENDENTES\\tDATA_CADASTRO\\tDATA_ADMISSAO\\tCATEGORIAL_PROFISSAO\\tTIPO_RESIDENCIA\\tRENDA_TITULAR\\tRENDA_CJ\\tOUTRAS_RENDAS\\tQTD_CARTOES_ADICIONAIS\\tFLAG_CONTA_BANCO\\tVALOR_HISTORICO_COMPRAS'"
      ]
     },
     "execution_count": 24,
     "metadata": {},
     "output_type": "execute_result"
    }
   ],
   "source": [
    "header1 = cadastral.first()\n",
    "header1"
   ]
  },
  {
   "cell_type": "code",
   "execution_count": 25,
   "metadata": {},
   "outputs": [],
   "source": [
    "cadastral = cadastral.filter(lambda line: line != header1)"
   ]
  },
  {
   "cell_type": "code",
   "execution_count": 26,
   "metadata": {},
   "outputs": [
    {
     "name": "stdout",
     "output_type": "stream",
     "text": [
      "+--------------+--------------------+----+------------+-------------+---+--------+--------+---------------+--------------------+--------------------+--------------------+---------------+-------------+--------+-------------+----------------------+----------------+-----------------------+\n",
      "|CODIGO_CLIENTE|     DATA_NASCIMENTO|SEXO|ESTADO_CIVIL|       CIDADE| UF|  BAIRRO|     CEP|QTD_DEPENDENTES|       DATA_CADASTRO|       DATA_ADMISSAO|CATEGORIAL_PROFISSAO|TIPO_RESIDENCIA|RENDA_TITULAR|RENDA_CJ|OUTRAS_RENDAS|QTD_CARTOES_ADICIONAIS|FLAG_CONTA_BANCO|VALOR_HISTORICO_COMPRAS|\n",
      "+--------------+--------------------+----+------------+-------------+---+--------+--------+---------------+--------------------+--------------------+--------------------+---------------+-------------+--------+-------------+----------------------+----------------+-----------------------+\n",
      "|             3|1951/10/21 00:00:...|   F|          CA|   SANTA ROSA| RS|  GLORIA|98900000|              1|1998/10/28 00:00:...|1990/01/01 00:00:...|            AUT+NOMO|             PR|         2500|    2500|             |                     1|                |               27093.04|\n",
      "|             4|                    |   M|            | SANTO CRISTO| RS|        |98960000|              0|                    |                    |            AUT+NOMO|               |             |        |             |                     0|                |                   34.0|\n",
      "|             5|1966/02/07 00:00:...|   M|          CA| SANTO CRISTO| RS|  CENTRO|98960000|              1|2007/11/24 00:00:...|2000/05/01 00:00:...|         ASSALARIADO|             PR|         1500|       0|             |                     0|               S|                4755.19|\n",
      "|             6|1931/01/04 00:00:...|   F|          CA|CANDIDO GODOI| RS|  CENTRO|98970000|              0|1998/07/12 00:00:...|1951/01/01 00:00:...|          APOSENTADO|             PR|          520|        |             |                     0|               S|                 2107.0|\n",
      "|             7|1965/10/07 00:00:...|   M|          CA| SANTO CRISTO| RS|INTERIOR|98960000|              0|2007/08/16 00:00:...|1968/05/01 00:00:...|          AGRICULTOR|             PR|          300|     680|             |                     0|                |                2523.55|\n",
      "+--------------+--------------------+----+------------+-------------+---+--------+--------+---------------+--------------------+--------------------+--------------------+---------------+-------------+--------+-------------+----------------------+----------------+-----------------------+\n",
      "only showing top 5 rows\n",
      "\n"
     ]
    }
   ],
   "source": [
    "cadastral_df = cadastral.map(lambda k: k.split(\"\\t\")).toDF(header1.split(\"\\t\"))\n",
    "cadastral_df.show(5)"
   ]
  },
  {
   "cell_type": "markdown",
   "metadata": {},
   "source": [
    "# Contrato"
   ]
  },
  {
   "cell_type": "code",
   "execution_count": 27,
   "metadata": {},
   "outputs": [],
   "source": [
    "contrato = sc.textFile('CONTRATO.txt')"
   ]
  },
  {
   "cell_type": "code",
   "execution_count": 28,
   "metadata": {},
   "outputs": [
    {
     "data": {
      "text/plain": [
       "'CODIGO_CLIENTE\\tCODIGO_CONTRATO\\tVALOR_CONTRATO\\tQTD_PARCELAS\\tDATA_OPERACAO\\tFLAG_TITULAR'"
      ]
     },
     "execution_count": 28,
     "metadata": {},
     "output_type": "execute_result"
    }
   ],
   "source": [
    "header2 = contrato.first()\n",
    "header2"
   ]
  },
  {
   "cell_type": "code",
   "execution_count": 29,
   "metadata": {},
   "outputs": [],
   "source": [
    "contrato = contrato.filter(lambda line: line != header2)"
   ]
  },
  {
   "cell_type": "code",
   "execution_count": 30,
   "metadata": {},
   "outputs": [
    {
     "name": "stdout",
     "output_type": "stream",
     "text": [
      "+--------------+---------------+--------------+------------+--------------------+------------+\n",
      "|CODIGO_CLIENTE|CODIGO_CONTRATO|VALOR_CONTRATO|QTD_PARCELAS|       DATA_OPERACAO|FLAG_TITULAR|\n",
      "+--------------+---------------+--------------+------------+--------------------+------------+\n",
      "|            10|   100081371671|        1528.0|           1|2017/02/03 00:00:...|           S|\n",
      "|            10|   100089793914|         362.7|           6|2017/05/23 00:00:...|           S|\n",
      "|            10|   100113272222|        392.98|           5|2018/04/04 00:00:...|           S|\n",
      "|            15|   100087239845|       1133.48|           2|2017/04/18 00:00:...|            |\n",
      "|            15|   100098395860|       3078.55|          10|2017/09/18 00:00:...|           S|\n",
      "+--------------+---------------+--------------+------------+--------------------+------------+\n",
      "only showing top 5 rows\n",
      "\n"
     ]
    }
   ],
   "source": [
    "contrato_df = contrato.map(lambda k: k.split(\"\\t\")).toDF(header2.split(\"\\t\"))\n",
    "contrato_df.show(5)"
   ]
  },
  {
   "cell_type": "markdown",
   "metadata": {},
   "source": [
    "# Cartão"
   ]
  },
  {
   "cell_type": "code",
   "execution_count": 31,
   "metadata": {},
   "outputs": [],
   "source": [
    "cartao = sc.textFile('CARTAO.txt')"
   ]
  },
  {
   "cell_type": "code",
   "execution_count": 32,
   "metadata": {},
   "outputs": [
    {
     "data": {
      "text/plain": [
       "'CODIGO_CLIENTE\\tCODIGO_CARTAO\\tVALOR_MORA\\tVALOR_MULTA\\tVALOR_TOTAL\\tVALOR_MIN\\tDATA_VENCIMENTO\\tVALOR_PAGO\\tTARIFA\\tOUTROS_VALORES\\tLIMITE\\tSOMA_VALOR_DIVIDAS_FUTURAS\\tDATA_PAGAMENTO\\tQTD_CONTRATOS'"
      ]
     },
     "execution_count": 32,
     "metadata": {},
     "output_type": "execute_result"
    }
   ],
   "source": [
    "header3 = cartao.first()\n",
    "header3"
   ]
  },
  {
   "cell_type": "code",
   "execution_count": 33,
   "metadata": {},
   "outputs": [],
   "source": [
    "cartao = cartao.filter(lambda line: line != header3)"
   ]
  },
  {
   "cell_type": "code",
   "execution_count": 35,
   "metadata": {},
   "outputs": [
    {
     "name": "stdout",
     "output_type": "stream",
     "text": [
      "+--------------+-------------+----------+-----------+-----------+---------+--------------------+----------+------+--------------+------+--------------------------+--------------------+-------------+\n",
      "|CODIGO_CLIENTE|CODIGO_CARTAO|VALOR_MORA|VALOR_MULTA|VALOR_TOTAL|VALOR_MIN|     DATA_VENCIMENTO|VALOR_PAGO|TARIFA|OUTROS_VALORES|LIMITE|SOMA_VALOR_DIVIDAS_FUTURAS|      DATA_PAGAMENTO|QTD_CONTRATOS|\n",
      "+--------------+-------------+----------+-----------+-----------+---------+--------------------+----------+------+--------------+------+--------------------------+--------------------+-------------+\n",
      "|            23|    105028440|       0.0|        0.0|     298.79|    64.55|2016/06/10 00:00:...|    298.79|   0.0|          5.99|2604.0|                    8118.6|2016/06/09 00:00:...|            5|\n",
      "|            23|    105670225|       0.0|        0.0|     307.34|    66.26|2016/07/10 00:00:...|    307.34|   0.0|          5.99|2604.0|                   7811.26|2016/07/08 00:00:...|            6|\n",
      "|            23|    106342523|       0.0|        0.0|     238.88|    52.57|2016/08/10 00:00:...|    238.88|   0.0|          5.99|2604.0|                   7572.38|2016/08/08 00:00:...|            6|\n",
      "|            23|    106886546|       0.0|        0.0|     197.37|    44.27|2016/09/10 00:00:...|    197.37|   0.0|          5.99|2604.0|                   7375.01|2016/09/06 00:00:...|            6|\n",
      "|            23|    107510531|       0.0|        0.0|      74.99|    19.79|2016/10/10 00:00:...|     74.99|   0.0|          5.99|2604.0|                   7300.02|2016/10/07 00:00:...|            3|\n",
      "+--------------+-------------+----------+-----------+-----------+---------+--------------------+----------+------+--------------+------+--------------------------+--------------------+-------------+\n",
      "only showing top 5 rows\n",
      "\n"
     ]
    }
   ],
   "source": [
    "cartao_df = cartao.map(lambda k: k.split(\"\\t\")).toDF(header3.split(\"\\t\"))\n",
    "cartao_df.show(5)"
   ]
  },
  {
   "cell_type": "code",
   "execution_count": 84,
   "metadata": {},
   "outputs": [],
   "source": [
    "cartao_df = cartao_df.withColumn(\"DATA_VENCIMENTO\", to_timestamp(\"DATA_VENCIMENTO\", \"yyyy/MM/dd HH:mm:ss\"))\n",
    "cartao_df = cartao_df.withColumn(\"DATA_PAGAMENTO\", to_timestamp(\"DATA_PAGAMENTO\", \"yyyy/MM/dd HH:mm:ss\"))"
   ]
  },
  {
   "cell_type": "code",
   "execution_count": 85,
   "metadata": {},
   "outputs": [
    {
     "name": "stdout",
     "output_type": "stream",
     "text": [
      "+--------------+-------------+----------+-----------+-----------+---------+-------------------+----------+------+--------------+------+--------------------------+-------------------+-------------+\n",
      "|CODIGO_CLIENTE|CODIGO_CARTAO|VALOR_MORA|VALOR_MULTA|VALOR_TOTAL|VALOR_MIN|    DATA_VENCIMENTO|VALOR_PAGO|TARIFA|OUTROS_VALORES|LIMITE|SOMA_VALOR_DIVIDAS_FUTURAS|     DATA_PAGAMENTO|QTD_CONTRATOS|\n",
      "+--------------+-------------+----------+-----------+-----------+---------+-------------------+----------+------+--------------+------+--------------------------+-------------------+-------------+\n",
      "|            23|    105028440|       0.0|        0.0|     298.79|    64.55|2016-06-10 00:00:00|    298.79|   0.0|          5.99|2604.0|                    8118.6|2016-06-09 00:00:00|            5|\n",
      "|            23|    105670225|       0.0|        0.0|     307.34|    66.26|2016-07-10 00:00:00|    307.34|   0.0|          5.99|2604.0|                   7811.26|2016-07-08 00:00:00|            6|\n",
      "|            23|    106342523|       0.0|        0.0|     238.88|    52.57|2016-08-10 00:00:00|    238.88|   0.0|          5.99|2604.0|                   7572.38|2016-08-08 00:00:00|            6|\n",
      "|            23|    106886546|       0.0|        0.0|     197.37|    44.27|2016-09-10 00:00:00|    197.37|   0.0|          5.99|2604.0|                   7375.01|2016-09-06 00:00:00|            6|\n",
      "|            23|    107510531|       0.0|        0.0|      74.99|    19.79|2016-10-10 00:00:00|     74.99|   0.0|          5.99|2604.0|                   7300.02|2016-10-07 00:00:00|            3|\n",
      "+--------------+-------------+----------+-----------+-----------+---------+-------------------+----------+------+--------------+------+--------------------------+-------------------+-------------+\n",
      "only showing top 5 rows\n",
      "\n"
     ]
    }
   ],
   "source": [
    "cartao_df.show(5)"
   ]
  },
  {
   "cell_type": "markdown",
   "metadata": {},
   "source": [
    "# PAGAMENTO ANTES DO VENCIMENTO"
   ]
  },
  {
   "cell_type": "code",
   "execution_count": 97,
   "metadata": {},
   "outputs": [],
   "source": [
    "good_cartao = cartao_df.select(cartao_df['CODIGO_CLIENTE'],cartao_df['DATA_PAGAMENTO'],cartao_df['DATA_VENCIMENTO']).where(cartao_df['DATA_PAGAMENTO'] < cartao_df['DATA_VENCIMENTO'])"
   ]
  },
  {
   "cell_type": "code",
   "execution_count": 98,
   "metadata": {},
   "outputs": [
    {
     "name": "stdout",
     "output_type": "stream",
     "text": [
      "+--------------+-------------------+-------------------+\n",
      "|CODIGO_CLIENTE|     DATA_PAGAMENTO|    DATA_VENCIMENTO|\n",
      "+--------------+-------------------+-------------------+\n",
      "|            23|2016-06-09 00:00:00|2016-06-10 00:00:00|\n",
      "|            23|2016-07-08 00:00:00|2016-07-10 00:00:00|\n",
      "|            23|2016-08-08 00:00:00|2016-08-10 00:00:00|\n",
      "|            23|2016-09-06 00:00:00|2016-09-10 00:00:00|\n",
      "|            23|2016-10-07 00:00:00|2016-10-10 00:00:00|\n",
      "+--------------+-------------------+-------------------+\n",
      "only showing top 5 rows\n",
      "\n"
     ]
    }
   ],
   "source": [
    "good_cartao.show(5)"
   ]
  },
  {
   "cell_type": "code",
   "execution_count": 99,
   "metadata": {},
   "outputs": [],
   "source": [
    "possible_good = good_cartao.select('CODIGO_CLIENTE').dropDuplicates()"
   ]
  },
  {
   "cell_type": "code",
   "execution_count": 109,
   "metadata": {},
   "outputs": [
    {
     "data": {
      "text/plain": [
       "583309"
      ]
     },
     "execution_count": 109,
     "metadata": {},
     "output_type": "execute_result"
    }
   ],
   "source": [
    "possible_good.count()"
   ]
  },
  {
   "cell_type": "code",
   "execution_count": 110,
   "metadata": {},
   "outputs": [
    {
     "data": {
      "text/plain": [
       "\"test = possible_good.select('CODIGO_CLIENTE').where(possible_good['CODIGO_CLIENTE'].isin(bad_client_cartao['CODIGO_CLIENTE']) == True)\\ntest.count()\""
      ]
     },
     "execution_count": 110,
     "metadata": {},
     "output_type": "execute_result"
    }
   ],
   "source": [
    "\"\"\"test = possible_good.select('CODIGO_CLIENTE').where(possible_good['CODIGO_CLIENTE'].isin(bad_client_cartao['CODIGO_CLIENTE']) == True)\n",
    "test.count()\"\"\""
   ]
  },
  {
   "cell_type": "markdown",
   "metadata": {},
   "source": [
    "# PAGAMENTO DEPOIS DO VENCIMENTO"
   ]
  },
  {
   "cell_type": "code",
   "execution_count": 87,
   "metadata": {},
   "outputs": [],
   "source": [
    "bad_cartao = cartao_df.select(cartao_df['CODIGO_CLIENTE'],cartao_df['DATA_PAGAMENTO'],cartao_df['DATA_VENCIMENTO']).where(cartao_df['DATA_PAGAMENTO'] > cartao_df['DATA_VENCIMENTO'])"
   ]
  },
  {
   "cell_type": "code",
   "execution_count": 89,
   "metadata": {},
   "outputs": [
    {
     "name": "stdout",
     "output_type": "stream",
     "text": [
      "+--------------+-------------------+-------------------+\n",
      "|CODIGO_CLIENTE|     DATA_PAGAMENTO|    DATA_VENCIMENTO|\n",
      "+--------------+-------------------+-------------------+\n",
      "|            28|2016-07-11 00:00:00|2016-07-10 00:00:00|\n",
      "|            28|2016-08-11 00:00:00|2016-08-10 00:00:00|\n",
      "|            28|2016-09-12 00:00:00|2016-09-10 00:00:00|\n",
      "|            28|2016-10-14 00:00:00|2016-10-10 00:00:00|\n",
      "|            28|2016-11-12 00:00:00|2016-11-10 00:00:00|\n",
      "+--------------+-------------------+-------------------+\n",
      "only showing top 5 rows\n",
      "\n"
     ]
    }
   ],
   "source": [
    "bad_cartao.show(5)"
   ]
  },
  {
   "cell_type": "code",
   "execution_count": 90,
   "metadata": {},
   "outputs": [],
   "source": [
    "bad_client_cartao = bad_cartao.select('CODIGO_CLIENTE').dropDuplicates()"
   ]
  },
  {
   "cell_type": "code",
   "execution_count": 92,
   "metadata": {},
   "outputs": [
    {
     "data": {
      "text/plain": [
       "DataFrame[CODIGO_CLIENTE: string]"
      ]
     },
     "execution_count": 92,
     "metadata": {},
     "output_type": "execute_result"
    }
   ],
   "source": [
    "bad_client_cartao.cache()"
   ]
  },
  {
   "cell_type": "code",
   "execution_count": 91,
   "metadata": {},
   "outputs": [
    {
     "name": "stdout",
     "output_type": "stream",
     "text": [
      "+--------------+\n",
      "|CODIGO_CLIENTE|\n",
      "+--------------+\n",
      "|          1090|\n",
      "|          2069|\n",
      "|          9586|\n",
      "|         11888|\n",
      "|         17401|\n",
      "|         17686|\n",
      "|         20428|\n",
      "|         21248|\n",
      "|         21452|\n",
      "|         29865|\n",
      "+--------------+\n",
      "only showing top 10 rows\n",
      "\n"
     ]
    }
   ],
   "source": [
    "bad_client_cartao.show(10)"
   ]
  },
  {
   "cell_type": "code",
   "execution_count": 95,
   "metadata": {},
   "outputs": [],
   "source": [
    "bad_client_cartao = bad_client_cartao.withColumn(\"CLASS\", lit(0))"
   ]
  },
  {
   "cell_type": "code",
   "execution_count": 96,
   "metadata": {},
   "outputs": [
    {
     "name": "stdout",
     "output_type": "stream",
     "text": [
      "+--------------+-----+\n",
      "|CODIGO_CLIENTE|CLASS|\n",
      "+--------------+-----+\n",
      "|          1090|    0|\n",
      "|          2069|    0|\n",
      "|          9586|    0|\n",
      "|         11888|    0|\n",
      "|         17401|    0|\n",
      "|         17686|    0|\n",
      "|         20428|    0|\n",
      "|         21248|    0|\n",
      "|         21452|    0|\n",
      "|         29865|    0|\n",
      "|         32558|    0|\n",
      "|         32812|    0|\n",
      "|         33174|    0|\n",
      "|         39641|    0|\n",
      "|         44032|    0|\n",
      "|         44717|    0|\n",
      "|         47919|    0|\n",
      "|         48738|    0|\n",
      "|         52206|    0|\n",
      "|         52800|    0|\n",
      "+--------------+-----+\n",
      "only showing top 20 rows\n",
      "\n"
     ]
    }
   ],
   "source": [
    "bad_client_cartao.show()"
   ]
  },
  {
   "cell_type": "code",
   "execution_count": null,
   "metadata": {},
   "outputs": [],
   "source": []
  }
 ],
 "metadata": {
  "kernelspec": {
   "display_name": "Python 3",
   "language": "python",
   "name": "python3"
  },
  "language_info": {
   "codemirror_mode": {
    "name": "ipython",
    "version": 3
   },
   "file_extension": ".py",
   "mimetype": "text/x-python",
   "name": "python",
   "nbconvert_exporter": "python",
   "pygments_lexer": "ipython3",
   "version": "3.6.7"
  }
 },
 "nbformat": 4,
 "nbformat_minor": 2
}
