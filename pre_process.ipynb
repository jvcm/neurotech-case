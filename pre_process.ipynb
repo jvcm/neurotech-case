{
 "cells": [
  {
   "cell_type": "code",
   "execution_count": 2,
   "metadata": {},
   "outputs": [],
   "source": [
    "from pyspark.sql.types import *\n",
    "from pyspark.sql.functions import to_timestamp\n",
    "from pyspark.sql.functions import lit\n",
    "from pyspark.sql.functions import isnan"
   ]
  },
  {
   "cell_type": "code",
   "execution_count": 3,
   "metadata": {},
   "outputs": [
    {
     "data": {
      "text/html": [
       "\n",
       "        <div>\n",
       "            <p><b>SparkContext</b></p>\n",
       "\n",
       "            <p><a href=\"http://172.26.124.131:4040\">Spark UI</a></p>\n",
       "\n",
       "            <dl>\n",
       "              <dt>Version</dt>\n",
       "                <dd><code>v2.4.0</code></dd>\n",
       "              <dt>Master</dt>\n",
       "                <dd><code>local[*]</code></dd>\n",
       "              <dt>AppName</dt>\n",
       "                <dd><code>PySparkShell</code></dd>\n",
       "            </dl>\n",
       "        </div>\n",
       "        "
      ],
      "text/plain": [
       "<SparkContext master=local[*] appName=PySparkShell>"
      ]
     },
     "execution_count": 3,
     "metadata": {},
     "output_type": "execute_result"
    }
   ],
   "source": [
    "sc"
   ]
  },
  {
   "cell_type": "markdown",
   "metadata": {},
   "source": [
    "# Leitura de dados Carnê"
   ]
  },
  {
   "cell_type": "code",
   "execution_count": 4,
   "metadata": {},
   "outputs": [],
   "source": [
    "carne = sc.textFile('CARNE.txt')"
   ]
  },
  {
   "cell_type": "code",
   "execution_count": 5,
   "metadata": {},
   "outputs": [
    {
     "data": {
      "text/plain": [
       "'DATA_CONTRATO\\tCODIGO_CONTRATO\\tCODIGO_CLIENTE\\tDATA_VENCIMENTO\\tDATA_PAGAMENTO\\tVALOR_PARCELA\\tVALOR_ENCARGO\\tVALOR_VAGO\\tNUMERO_PARCELA\\tQTD_PAGAMENTOS\\tMODALIDADE\\tTIPO_PRODUTO'"
      ]
     },
     "execution_count": 5,
     "metadata": {},
     "output_type": "execute_result"
    }
   ],
   "source": [
    "header = carne.first()\n",
    "header"
   ]
  },
  {
   "cell_type": "code",
   "execution_count": 6,
   "metadata": {},
   "outputs": [],
   "source": [
    "#filter out the header, make sure the rest looks correct\n",
    "carne = carne.filter(lambda line: line != header)"
   ]
  },
  {
   "cell_type": "code",
   "execution_count": 7,
   "metadata": {},
   "outputs": [
    {
     "name": "stdout",
     "output_type": "stream",
     "text": [
      "+--------------------+---------------+--------------+--------------------+--------------------+-------------+-------------+----------+--------------+--------------+----------+------------+\n",
      "|       DATA_CONTRATO|CODIGO_CONTRATO|CODIGO_CLIENTE|     DATA_VENCIMENTO|      DATA_PAGAMENTO|VALOR_PARCELA|VALOR_ENCARGO|VALOR_VAGO|NUMERO_PARCELA|QTD_PAGAMENTOS|MODALIDADE|TIPO_PRODUTO|\n",
      "+--------------------+---------------+--------------+--------------------+--------------------+-------------+-------------+----------+--------------+--------------+----------+------------+\n",
      "|2018/04/04 00:00:...|   100113272222|            10|2018/05/10 00:00:...|2018/05/07 00:00:...|         78.6|        73.89|      78.6|             1|             1|         5|           1|\n",
      "|2018/04/04 00:00:...|   100113272222|            10|2018/06/10 00:00:...|2018/06/08 00:00:...|         78.6|        70.04|      78.6|             2|             1|         5|           1|\n",
      "|2017/02/03 00:00:...|   100081371671|            10|2017/03/05 00:00:...|2017/03/03 00:00:...|       1528.0|       1528.0|    1528.0|             1|             1|         7|           2|\n",
      "|2017/05/23 00:00:...|   100089793914|            10|2017/06/10 00:00:...|2017/06/14 00:00:...|        60.45|        58.76|     60.45|             1|             1|         5|           1|\n",
      "|2017/05/23 00:00:...|   100089793914|            10|2017/07/10 00:00:...|2017/07/11 00:00:...|        60.45|        56.02|     60.45|             2|             1|         5|           1|\n",
      "+--------------------+---------------+--------------+--------------------+--------------------+-------------+-------------+----------+--------------+--------------+----------+------------+\n",
      "only showing top 5 rows\n",
      "\n"
     ]
    }
   ],
   "source": [
    "#here's where the changes take place\n",
    "#this creates a dataframe using whatever pyspark feels like using (I think string is the default). the header.split is providing the names of the columns\n",
    "carne_df = carne.map(lambda k: k.split(\"\\t\")).toDF(header.split(\"\\t\"))\n",
    "carne_df.show(5)"
   ]
  },
  {
   "cell_type": "markdown",
   "metadata": {},
   "source": [
    "# Contagem null CODIGO CLIENTE"
   ]
  },
  {
   "cell_type": "code",
   "execution_count": null,
   "metadata": {},
   "outputs": [],
   "source": [
    "carne_df.filter((carne_df[\"CODIGO_CLIENTE\"] == \"\") | carne_df[\"CODIGO_CLIENTE\"].isNull() | isnan(carne_df[\"CODIGO_CLIENTE\"])).count()"
   ]
  },
  {
   "cell_type": "markdown",
   "metadata": {},
   "source": [
    "# Contagem null DATA VENCIMENTO"
   ]
  },
  {
   "cell_type": "code",
   "execution_count": null,
   "metadata": {},
   "outputs": [],
   "source": [
    "carne_df.filter((carne_df[\"DATA_VENCIMENTO\"] == \"\") | carne_df[\"DATA_VENCIMENTO\"].isNull() | isnan(carne_df[\"DATA_VENCIMENTO\"])).count()"
   ]
  },
  {
   "cell_type": "markdown",
   "metadata": {},
   "source": [
    "# Contagem null DATA PAGAMENTO"
   ]
  },
  {
   "cell_type": "code",
   "execution_count": null,
   "metadata": {},
   "outputs": [],
   "source": [
    "carne_df.filter((carne_df[\"DATA_PAGAMENTO\"] == \"\") | carne_df[\"DATA_PAGAMENTO\"].isNull() | isnan(carne_df[\"DATA_PAGAMENTO\"])).count()"
   ]
  },
  {
   "cell_type": "code",
   "execution_count": 8,
   "metadata": {},
   "outputs": [],
   "source": [
    "carne_df_ts = carne_df.withColumn(\"DATA_VENCIMENTO\", to_timestamp(\"DATA_VENCIMENTO\", \"yyyy/MM/dd HH:mm:ss\"))\n",
    "carne_df_ts = carne_df_ts.withColumn(\"DATA_PAGAMENTO\", to_timestamp(\"DATA_PAGAMENTO\", \"yyyy/MM/dd HH:mm:ss\"))\n",
    "carne_df_ts = carne_df_ts.withColumn(\"DATA_CONTRATO\", to_timestamp(\"DATA_CONTRATO\", \"yyyy/MM/dd HH:mm:ss\"))"
   ]
  },
  {
   "cell_type": "code",
   "execution_count": 9,
   "metadata": {},
   "outputs": [],
   "source": [
    "carne_unique = carne_df_ts.select(carne_df_ts['CODIGO_CLIENTE']).dropDuplicates()"
   ]
  },
  {
   "cell_type": "code",
   "execution_count": null,
   "metadata": {},
   "outputs": [],
   "source": [
    "carne_unique.count()"
   ]
  },
  {
   "cell_type": "markdown",
   "metadata": {},
   "source": [
    "# PAGOU ANTES DO VENCIMENTO"
   ]
  },
  {
   "cell_type": "code",
   "execution_count": 10,
   "metadata": {},
   "outputs": [],
   "source": [
    "possible_good = carne_df_ts.select(carne_df_ts['CODIGO_CLIENTE'],carne_df_ts['DATA_PAGAMENTO'],carne_df_ts['DATA_VENCIMENTO']).where(carne_df_ts['DATA_PAGAMENTO'] <= carne_df_ts['DATA_VENCIMENTO'])"
   ]
  },
  {
   "cell_type": "code",
   "execution_count": 11,
   "metadata": {},
   "outputs": [],
   "source": [
    "possible_goodCarne = possible_good.select('CODIGO_CLIENTE').dropDuplicates()\n"
   ]
  },
  {
   "cell_type": "code",
   "execution_count": null,
   "metadata": {},
   "outputs": [],
   "source": [
    "possible_goodCarne.count()"
   ]
  },
  {
   "cell_type": "markdown",
   "metadata": {},
   "source": [
    "# PAGOU DEPOIS DO VENCIMENTO"
   ]
  },
  {
   "cell_type": "markdown",
   "metadata": {},
   "source": [
    "bad_carne = carne_df_ts.select(carne_df_ts['CODIGO_CLIENTE'],carne_df_ts['CODIGO_CONTRATO'],carne_df_ts['DATA_PAGAMENTO'],carne_df_ts['DATA_VENCIMENTO']).where(carne_df_ts['DATA_PAGAMENTO'] > carne_df_ts['DATA_VENCIMENTO']) "
   ]
  },
  {
   "cell_type": "code",
   "execution_count": 12,
   "metadata": {},
   "outputs": [],
   "source": [
    "bad_carne = carne_df_ts.select(carne_df_ts['CODIGO_CLIENTE'],carne_df_ts['DATA_PAGAMENTO'],carne_df_ts['DATA_VENCIMENTO']).where((carne_df_ts['DATA_PAGAMENTO'] > carne_df_ts['DATA_VENCIMENTO']) | (carne_df_ts[\"DATA_PAGAMENTO\"].isNull()))"
   ]
  },
  {
   "cell_type": "code",
   "execution_count": 13,
   "metadata": {},
   "outputs": [],
   "source": [
    "bad_clientCarne = bad_carne.select(bad_carne[\"CODIGO_CLIENTE\"]).dropDuplicates()"
   ]
  },
  {
   "cell_type": "code",
   "execution_count": null,
   "metadata": {},
   "outputs": [],
   "source": [
    "bad_clientCarne.count()"
   ]
  },
  {
   "cell_type": "markdown",
   "metadata": {},
   "source": [
    "# BONS PAGADORES"
   ]
  },
  {
   "cell_type": "code",
   "execution_count": 14,
   "metadata": {},
   "outputs": [],
   "source": [
    "good_clientCarne = possible_goodCarne.subtract(bad_clientCarne)"
   ]
  },
  {
   "cell_type": "code",
   "execution_count": null,
   "metadata": {},
   "outputs": [],
   "source": [
    "good_clientCarne.count()"
   ]
  },
  {
   "cell_type": "markdown",
   "metadata": {},
   "source": [
    "# Data Frame Carnê Classificados"
   ]
  },
  {
   "cell_type": "code",
   "execution_count": 15,
   "metadata": {},
   "outputs": [],
   "source": [
    "tg = good_clientCarne.withColumn('Class', lit(1)).alias('tg')\n",
    "tb = bad_clientCarne.withColumn('Class', lit(0)).alias('tb')\n",
    "classificados=tg.union(tb)"
   ]
  },
  {
   "cell_type": "code",
   "execution_count": null,
   "metadata": {},
   "outputs": [],
   "source": [
    "classificados.count()"
   ]
  },
  {
   "cell_type": "code",
   "execution_count": null,
   "metadata": {},
   "outputs": [],
   "source": [
    "classificados.orderBy('CODIGO_CLIENTE').show(10)"
   ]
  },
  {
   "cell_type": "code",
   "execution_count": null,
   "metadata": {},
   "outputs": [],
   "source": [
    "carne_uniquecc = carne_unique.select(carne_unique['CODIGO_CLIENTE'])"
   ]
  },
  {
   "cell_type": "code",
   "execution_count": null,
   "metadata": {},
   "outputs": [],
   "source": [
    "classificados_cc=classificados.select(classificados['CODIGO_CLIENTE'])"
   ]
  },
  {
   "cell_type": "code",
   "execution_count": null,
   "metadata": {},
   "outputs": [],
   "source": [
    "missing = carne_uniquecc.subtract(classificados_cc)\n",
    "missing.show()\n",
    "missing.count()"
   ]
  },
  {
   "cell_type": "markdown",
   "metadata": {},
   "source": [
    "# Cadastro"
   ]
  },
  {
   "cell_type": "code",
   "execution_count": 55,
   "metadata": {},
   "outputs": [],
   "source": [
    "cadastral = sc.textFile('CADASTRAL.txt', )"
   ]
  },
  {
   "cell_type": "code",
   "execution_count": 56,
   "metadata": {},
   "outputs": [
    {
     "data": {
      "text/plain": [
       "'CODIGO_CLIENTE\\tDATA_NASCIMENTO\\tSEXO\\tESTADO_CIVIL\\tCIDADE\\tUF\\tBAIRRO\\tCEP\\tQTD_DEPENDENTES\\tDATA_CADASTRO\\tDATA_ADMISSAO\\tCATEGORIAL_PROFISSAO\\tTIPO_RESIDENCIA\\tRENDA_TITULAR\\tRENDA_CJ\\tOUTRAS_RENDAS\\tQTD_CARTOES_ADICIONAIS\\tFLAG_CONTA_BANCO\\tVALOR_HISTORICO_COMPRAS'"
      ]
     },
     "execution_count": 56,
     "metadata": {},
     "output_type": "execute_result"
    }
   ],
   "source": [
    "header1 = cadastral.first()\n",
    "header1"
   ]
  },
  {
   "cell_type": "code",
   "execution_count": 57,
   "metadata": {},
   "outputs": [],
   "source": [
    "cadastral = cadastral.filter(lambda line: line != header1)"
   ]
  },
  {
   "cell_type": "code",
   "execution_count": 58,
   "metadata": {},
   "outputs": [
    {
     "name": "stdout",
     "output_type": "stream",
     "text": [
      "+--------------+--------------------+----+------------+-------------+---+--------+--------+---------------+--------------------+--------------------+--------------------+---------------+-------------+--------+-------------+----------------------+----------------+-----------------------+\n",
      "|CODIGO_CLIENTE|     DATA_NASCIMENTO|SEXO|ESTADO_CIVIL|       CIDADE| UF|  BAIRRO|     CEP|QTD_DEPENDENTES|       DATA_CADASTRO|       DATA_ADMISSAO|CATEGORIAL_PROFISSAO|TIPO_RESIDENCIA|RENDA_TITULAR|RENDA_CJ|OUTRAS_RENDAS|QTD_CARTOES_ADICIONAIS|FLAG_CONTA_BANCO|VALOR_HISTORICO_COMPRAS|\n",
      "+--------------+--------------------+----+------------+-------------+---+--------+--------+---------------+--------------------+--------------------+--------------------+---------------+-------------+--------+-------------+----------------------+----------------+-----------------------+\n",
      "|             3|1951/10/21 00:00:...|   F|          CA|   SANTA ROSA| RS|  GLORIA|98900000|              1|1998/10/28 00:00:...|1990/01/01 00:00:...|            AUT+NOMO|             PR|         2500|    2500|             |                     1|                |               27093.04|\n",
      "|             4|                    |   M|            | SANTO CRISTO| RS|        |98960000|              0|                    |                    |            AUT+NOMO|               |             |        |             |                     0|                |                   34.0|\n",
      "|             5|1966/02/07 00:00:...|   M|          CA| SANTO CRISTO| RS|  CENTRO|98960000|              1|2007/11/24 00:00:...|2000/05/01 00:00:...|         ASSALARIADO|             PR|         1500|       0|             |                     0|               S|                4755.19|\n",
      "|             6|1931/01/04 00:00:...|   F|          CA|CANDIDO GODOI| RS|  CENTRO|98970000|              0|1998/07/12 00:00:...|1951/01/01 00:00:...|          APOSENTADO|             PR|          520|        |             |                     0|               S|                 2107.0|\n",
      "|             7|1965/10/07 00:00:...|   M|          CA| SANTO CRISTO| RS|INTERIOR|98960000|              0|2007/08/16 00:00:...|1968/05/01 00:00:...|          AGRICULTOR|             PR|          300|     680|             |                     0|                |                2523.55|\n",
      "+--------------+--------------------+----+------------+-------------+---+--------+--------+---------------+--------------------+--------------------+--------------------+---------------+-------------+--------+-------------+----------------------+----------------+-----------------------+\n",
      "only showing top 5 rows\n",
      "\n"
     ]
    }
   ],
   "source": [
    "cadastral_df = cadastral.map(lambda k: k.split(\"\\t\")).toDF(header1.split(\"\\t\"))\n",
    "cadastral_df.show(5)"
   ]
  },
  {
   "cell_type": "code",
   "execution_count": 65,
   "metadata": {},
   "outputs": [
    {
     "data": {
      "text/plain": [
       "4277840"
      ]
     },
     "execution_count": 65,
     "metadata": {},
     "output_type": "execute_result"
    }
   ],
   "source": [
    "cadastral_df.count()"
   ]
  },
  {
   "cell_type": "code",
   "execution_count": 61,
   "metadata": {},
   "outputs": [],
   "source": [
    "cadastral_unique = cadastral_df.select(cadastral_df['CODIGO_CLIENTE']).dropDuplicates()"
   ]
  },
  {
   "cell_type": "code",
   "execution_count": 62,
   "metadata": {},
   "outputs": [
    {
     "data": {
      "text/plain": [
       "4277840"
      ]
     },
     "execution_count": 62,
     "metadata": {},
     "output_type": "execute_result"
    }
   ],
   "source": [
    "cadastral_unique.count()"
   ]
  },
  {
   "cell_type": "code",
   "execution_count": 77,
   "metadata": {},
   "outputs": [
    {
     "data": {
      "text/plain": [
       "1032081"
      ]
     },
     "execution_count": 77,
     "metadata": {},
     "output_type": "execute_result"
    }
   ],
   "source": [
    "tabelao.count()"
   ]
  },
  {
   "cell_type": "code",
   "execution_count": 78,
   "metadata": {},
   "outputs": [
    {
     "data": {
      "text/plain": [
       "[Row(CODIGO_CLIENTE='10000720', DATA_NASCIMENTO='1981/10/27 00:00:00.000000000', SEXO='M', ESTADO_CIVIL='SO', CIDADE='ITAQUI', UF='RS', BAIRRO='ESTACAO', CEP='97650000', QTD_DEPENDENTES='', DATA_CADASTRO='2012/02/16 00:00:00.000000000', DATA_ADMISSAO='', CATEGORIAL_PROFISSAO='AUT+NOMO', TIPO_RESIDENCIA='PR', RENDA_TITULAR='850', RENDA_CJ='', OUTRAS_RENDAS='', QTD_CARTOES_ADICIONAIS='0', FLAG_CONTA_BANCO='', VALOR_HISTORICO_COMPRAS='0.0', Class=0),\n",
       " Row(CODIGO_CLIENTE='1000665', DATA_NASCIMENTO='1972/02/02 00:00:00.000000000', SEXO='F', ESTADO_CIVIL='SE', CIDADE='IJUI', UF='RS', BAIRRO='INDUSTRIAL', CEP='98700000', QTD_DEPENDENTES='1', DATA_CADASTRO='2003/09/10 00:00:00.000000000', DATA_ADMISSAO='2002/07/18 00:00:00.000000000', CATEGORIAL_PROFISSAO='ASSALARIADO', TIPO_RESIDENCIA='PR', RENDA_TITULAR='920', RENDA_CJ='', OUTRAS_RENDAS='109', QTD_CARTOES_ADICIONAIS='0', FLAG_CONTA_BANCO='S', VALOR_HISTORICO_COMPRAS='12763.86', Class=0),\n",
       " Row(CODIGO_CLIENTE='10007113', DATA_NASCIMENTO='1962/03/04 00:00:00.000000000', SEXO='M', ESTADO_CIVIL='SO', CIDADE='GRAVATAI', UF='RS', BAIRRO='CENTRO', CEP='94360000', QTD_DEPENDENTES='0', DATA_CADASTRO='2012/02/22 00:00:00.000000000', DATA_ADMISSAO='2011/10/22 00:00:00.000000000', CATEGORIAL_PROFISSAO='ASSALARIADO', TIPO_RESIDENCIA='PR', RENDA_TITULAR='980', RENDA_CJ='', OUTRAS_RENDAS='', QTD_CARTOES_ADICIONAIS='0', FLAG_CONTA_BANCO='S', VALOR_HISTORICO_COMPRAS='6760.92', Class=0),\n",
       " Row(CODIGO_CLIENTE='1000795', DATA_NASCIMENTO='1982/05/05 00:00:00.000000000', SEXO='F', ESTADO_CIVIL='CO', CIDADE='ROSARIO DO SUL', UF='RS', BAIRRO='PROGRESSO', CEP='97590000', QTD_DEPENDENTES='1', DATA_CADASTRO='2003/09/10 00:00:00.000000000', DATA_ADMISSAO='2015/03/01 00:00:00.000000000', CATEGORIAL_PROFISSAO='ASSALARIADO', TIPO_RESIDENCIA='PR', RENDA_TITULAR='1022', RENDA_CJ='', OUTRAS_RENDAS='400', QTD_CARTOES_ADICIONAIS='0', FLAG_CONTA_BANCO='S', VALOR_HISTORICO_COMPRAS='15034.1', Class=0),\n",
       " Row(CODIGO_CLIENTE='1000839', DATA_NASCIMENTO='1938/05/03 00:00:00.000000000', SEXO='M', ESTADO_CIVIL='CA', CIDADE='GUAIBA', UF='RS', BAIRRO='CENTRO', CEP='92500000', QTD_DEPENDENTES='0', DATA_CADASTRO='2003/09/11 00:00:00.000000000', DATA_ADMISSAO='2003/05/05 00:00:00.000000000', CATEGORIAL_PROFISSAO='APOSENTADO', TIPO_RESIDENCIA='PR', RENDA_TITULAR='1551', RENDA_CJ='0', OUTRAS_RENDAS='', QTD_CARTOES_ADICIONAIS='0', FLAG_CONTA_BANCO='', VALOR_HISTORICO_COMPRAS='12110.19', Class=1)]"
      ]
     },
     "execution_count": 78,
     "metadata": {},
     "output_type": "execute_result"
    }
   ],
   "source": [
    "tabelao.take(5)"
   ]
  },
  {
   "cell_type": "markdown",
   "metadata": {},
   "source": [
    "# Contrato"
   ]
  },
  {
   "cell_type": "code",
   "execution_count": null,
   "metadata": {},
   "outputs": [],
   "source": [
    "contrato = sc.textFile('CONTRATO.txt')"
   ]
  },
  {
   "cell_type": "code",
   "execution_count": null,
   "metadata": {},
   "outputs": [],
   "source": [
    "header2 = contrato.first()\n",
    "header2"
   ]
  },
  {
   "cell_type": "code",
   "execution_count": null,
   "metadata": {},
   "outputs": [],
   "source": [
    "contrato = contrato.filter(lambda line: line != header2)"
   ]
  },
  {
   "cell_type": "code",
   "execution_count": null,
   "metadata": {},
   "outputs": [],
   "source": [
    "contrato_df = contrato.map(lambda k: k.split(\"\\t\")).toDF(header2.split(\"\\t\"))\n",
    "contrato_df.show(5)"
   ]
  },
  {
   "cell_type": "code",
   "execution_count": null,
   "metadata": {},
   "outputs": [],
   "source": [
    "contrato_unique = contrato_df.select(contrato_df['CODIGO_CLIENTE']).dropDuplicates()\n",
    "contrato_unique.count()"
   ]
  },
  {
   "cell_type": "markdown",
   "metadata": {},
   "source": [
    "# Cartão"
   ]
  },
  {
   "cell_type": "code",
   "execution_count": 16,
   "metadata": {},
   "outputs": [],
   "source": [
    "cartao = sc.textFile('CARTAO.txt')"
   ]
  },
  {
   "cell_type": "code",
   "execution_count": 17,
   "metadata": {},
   "outputs": [
    {
     "data": {
      "text/plain": [
       "'CODIGO_CLIENTE\\tCODIGO_CARTAO\\tVALOR_MORA\\tVALOR_MULTA\\tVALOR_TOTAL\\tVALOR_MIN\\tDATA_VENCIMENTO\\tVALOR_PAGO\\tTARIFA\\tOUTROS_VALORES\\tLIMITE\\tSOMA_VALOR_DIVIDAS_FUTURAS\\tDATA_PAGAMENTO\\tQTD_CONTRATOS'"
      ]
     },
     "execution_count": 17,
     "metadata": {},
     "output_type": "execute_result"
    }
   ],
   "source": [
    "header3 = cartao.first()\n",
    "header3"
   ]
  },
  {
   "cell_type": "code",
   "execution_count": 18,
   "metadata": {},
   "outputs": [],
   "source": [
    "cartao = cartao.filter(lambda line: line != header3)"
   ]
  },
  {
   "cell_type": "code",
   "execution_count": 19,
   "metadata": {},
   "outputs": [
    {
     "name": "stdout",
     "output_type": "stream",
     "text": [
      "+--------------+-------------+----------+-----------+-----------+---------+--------------------+----------+------+--------------+------+--------------------------+--------------------+-------------+\n",
      "|CODIGO_CLIENTE|CODIGO_CARTAO|VALOR_MORA|VALOR_MULTA|VALOR_TOTAL|VALOR_MIN|     DATA_VENCIMENTO|VALOR_PAGO|TARIFA|OUTROS_VALORES|LIMITE|SOMA_VALOR_DIVIDAS_FUTURAS|      DATA_PAGAMENTO|QTD_CONTRATOS|\n",
      "+--------------+-------------+----------+-----------+-----------+---------+--------------------+----------+------+--------------+------+--------------------------+--------------------+-------------+\n",
      "|            23|    105028440|       0.0|        0.0|     298.79|    64.55|2016/06/10 00:00:...|    298.79|   0.0|          5.99|2604.0|                    8118.6|2016/06/09 00:00:...|            5|\n",
      "|            23|    105670225|       0.0|        0.0|     307.34|    66.26|2016/07/10 00:00:...|    307.34|   0.0|          5.99|2604.0|                   7811.26|2016/07/08 00:00:...|            6|\n",
      "|            23|    106342523|       0.0|        0.0|     238.88|    52.57|2016/08/10 00:00:...|    238.88|   0.0|          5.99|2604.0|                   7572.38|2016/08/08 00:00:...|            6|\n",
      "|            23|    106886546|       0.0|        0.0|     197.37|    44.27|2016/09/10 00:00:...|    197.37|   0.0|          5.99|2604.0|                   7375.01|2016/09/06 00:00:...|            6|\n",
      "|            23|    107510531|       0.0|        0.0|      74.99|    19.79|2016/10/10 00:00:...|     74.99|   0.0|          5.99|2604.0|                   7300.02|2016/10/07 00:00:...|            3|\n",
      "+--------------+-------------+----------+-----------+-----------+---------+--------------------+----------+------+--------------+------+--------------------------+--------------------+-------------+\n",
      "only showing top 5 rows\n",
      "\n"
     ]
    }
   ],
   "source": [
    "cartao_df = cartao.map(lambda k: k.split(\"\\t\")).toDF(header3.split(\"\\t\"))\n",
    "cartao_df.show(5)"
   ]
  },
  {
   "cell_type": "code",
   "execution_count": 20,
   "metadata": {},
   "outputs": [],
   "source": [
    "cartao_df = cartao_df.withColumn(\"DATA_VENCIMENTO\", to_timestamp(\"DATA_VENCIMENTO\", \"yyyy/MM/dd HH:mm:ss\"))\n",
    "cartao_df = cartao_df.withColumn(\"DATA_PAGAMENTO\", to_timestamp(\"DATA_PAGAMENTO\", \"yyyy/MM/dd HH:mm:ss\"))"
   ]
  },
  {
   "cell_type": "markdown",
   "metadata": {},
   "source": [
    "# PAGAMENTO ANTES DO VENCIMENTO"
   ]
  },
  {
   "cell_type": "code",
   "execution_count": 21,
   "metadata": {},
   "outputs": [],
   "source": [
    "possible_goodCartao = cartao_df.select(cartao_df['CODIGO_CLIENTE'],cartao_df['DATA_PAGAMENTO'],cartao_df['DATA_VENCIMENTO']).where(cartao_df['DATA_PAGAMENTO'] <= cartao_df['DATA_VENCIMENTO'])"
   ]
  },
  {
   "cell_type": "code",
   "execution_count": null,
   "metadata": {},
   "outputs": [],
   "source": [
    "possible_goodCartao.count()"
   ]
  },
  {
   "cell_type": "code",
   "execution_count": 22,
   "metadata": {},
   "outputs": [],
   "source": [
    "pgCartao = possible_goodCartao.select('CODIGO_CLIENTE').dropDuplicates()"
   ]
  },
  {
   "cell_type": "code",
   "execution_count": null,
   "metadata": {},
   "outputs": [],
   "source": [
    "pgCartao.count()"
   ]
  },
  {
   "cell_type": "markdown",
   "metadata": {},
   "source": [
    "# PAGAMENTO DEPOIS DO VENCIMENTO"
   ]
  },
  {
   "cell_type": "code",
   "execution_count": 23,
   "metadata": {},
   "outputs": [],
   "source": [
    "bad_cartao = cartao_df.select(cartao_df['CODIGO_CLIENTE'],cartao_df['DATA_PAGAMENTO'],cartao_df['DATA_VENCIMENTO']).where((cartao_df['DATA_PAGAMENTO'] > cartao_df['DATA_VENCIMENTO']) | (cartao_df[\"DATA_PAGAMENTO\"].isNull()))"
   ]
  },
  {
   "cell_type": "code",
   "execution_count": null,
   "metadata": {},
   "outputs": [],
   "source": [
    "bad_cartao.count()"
   ]
  },
  {
   "cell_type": "code",
   "execution_count": 24,
   "metadata": {},
   "outputs": [],
   "source": [
    "bad_client_cartao = bad_cartao.select('CODIGO_CLIENTE').dropDuplicates()"
   ]
  },
  {
   "cell_type": "code",
   "execution_count": null,
   "metadata": {},
   "outputs": [],
   "source": [
    "bad_client_cartao.count()"
   ]
  },
  {
   "cell_type": "markdown",
   "metadata": {
    "collapsed": true
   },
   "source": [
    "# Bons Pagadores Cartão"
   ]
  },
  {
   "cell_type": "code",
   "execution_count": 25,
   "metadata": {},
   "outputs": [],
   "source": [
    "good_clientCartao= pgCartao.subtract(bad_client_cartao)"
   ]
  },
  {
   "cell_type": "code",
   "execution_count": null,
   "metadata": {},
   "outputs": [],
   "source": [
    "good_clientCartao.count()"
   ]
  },
  {
   "cell_type": "code",
   "execution_count": 26,
   "metadata": {},
   "outputs": [],
   "source": [
    "cartao_unique = cartao_df.select(cartao_df['CODIGO_CLIENTE']).dropDuplicates()"
   ]
  },
  {
   "cell_type": "code",
   "execution_count": null,
   "metadata": {},
   "outputs": [],
   "source": [
    "cartao_unique.count()"
   ]
  },
  {
   "cell_type": "markdown",
   "metadata": {},
   "source": [
    "# Tabela Cartao Classificados"
   ]
  },
  {
   "cell_type": "code",
   "execution_count": 27,
   "metadata": {},
   "outputs": [],
   "source": [
    "tgcard = good_clientCartao.withColumn('Class', lit(1)).alias('tgcard')\n",
    "tbcard = bad_client_cartao.withColumn('Class', lit(0)).alias('tbcard')\n",
    "classificadosCartao=tgcard.union(tbcard)"
   ]
  },
  {
   "cell_type": "code",
   "execution_count": null,
   "metadata": {},
   "outputs": [],
   "source": [
    "classificadosCartao.count()"
   ]
  },
  {
   "cell_type": "code",
   "execution_count": null,
   "metadata": {},
   "outputs": [],
   "source": [
    "classificadosCartao.orderBy('CODIGO_CLIENTE').show(10)"
   ]
  },
  {
   "cell_type": "markdown",
   "metadata": {},
   "source": [
    "# Contagem de NaN"
   ]
  },
  {
   "cell_type": "code",
   "execution_count": null,
   "metadata": {},
   "outputs": [],
   "source": [
    "cartao_df.filter((cartao_df[\"CODIGO_CLIENTE\"] == \"\") | cartao_df[\"CODIGO_CLIENTE\"].isNull() | isnan(cartao_df[\"CODIGO_CLIENTE\"])).count()"
   ]
  },
  {
   "cell_type": "code",
   "execution_count": null,
   "metadata": {},
   "outputs": [],
   "source": [
    "cartao_df.filter((cartao_df[\"DATA_VENCIMENTO\"] == \"\") | cartao_df[\"DATA_VENCIMENTO\"].isNull()).count()"
   ]
  },
  {
   "cell_type": "code",
   "execution_count": null,
   "metadata": {},
   "outputs": [],
   "source": [
    "cartao_df.filter((cartao_df[\"DATA_PAGAMENTO\"] == \"\") | cartao_df[\"DATA_PAGAMENTO\"].isNull()).count()"
   ]
  },
  {
   "cell_type": "markdown",
   "metadata": {},
   "source": [
    "# Missing Cartão"
   ]
  },
  {
   "cell_type": "code",
   "execution_count": null,
   "metadata": {},
   "outputs": [],
   "source": [
    "cartao_uniquecc = cartao_unique.select(cartao_unique['CODIGO_CLIENTE'])"
   ]
  },
  {
   "cell_type": "code",
   "execution_count": null,
   "metadata": {},
   "outputs": [],
   "source": [
    "classificados_codcliente =classificados.select(classificados['CODIGO_CLIENTE'])"
   ]
  },
  {
   "cell_type": "code",
   "execution_count": null,
   "metadata": {},
   "outputs": [],
   "source": [
    "missing = carne_uniquecc.subtract(classificados_cc)\n",
    "missing.show()\n",
    "missing.count()"
   ]
  },
  {
   "cell_type": "code",
   "execution_count": 28,
   "metadata": {},
   "outputs": [],
   "source": [
    "total_bad = tb.select('CODIGO_CLIENTE').union(tbcard.select('CODIGO_CLIENTE'))"
   ]
  },
  {
   "cell_type": "code",
   "execution_count": 29,
   "metadata": {},
   "outputs": [
    {
     "name": "stdout",
     "output_type": "stream",
     "text": [
      "+--------------+\n",
      "|CODIGO_CLIENTE|\n",
      "+--------------+\n",
      "|          1090|\n",
      "|          1512|\n",
      "|          2069|\n",
      "|          5325|\n",
      "|          9586|\n",
      "|         11888|\n",
      "|         13772|\n",
      "|         17401|\n",
      "|         17686|\n",
      "|         20428|\n",
      "|         21248|\n",
      "|         21452|\n",
      "|         27317|\n",
      "|         28839|\n",
      "|         29454|\n",
      "|         30002|\n",
      "|         32558|\n",
      "|         32812|\n",
      "|         33174|\n",
      "|         38986|\n",
      "+--------------+\n",
      "only showing top 20 rows\n",
      "\n"
     ]
    }
   ],
   "source": [
    "total_bad.show()"
   ]
  },
  {
   "cell_type": "code",
   "execution_count": 40,
   "metadata": {},
   "outputs": [],
   "source": [
    "total_bad= tb.select('CODIGO_CLIENTE').union(tbcard.select('CODIGO_CLIENTE')).distinct()"
   ]
  },
  {
   "cell_type": "code",
   "execution_count": 37,
   "metadata": {},
   "outputs": [
    {
     "data": {
      "text/plain": [
       "1288463"
      ]
     },
     "execution_count": 37,
     "metadata": {},
     "output_type": "execute_result"
    }
   ],
   "source": [
    "#total_bad.count()"
   ]
  },
  {
   "cell_type": "code",
   "execution_count": 41,
   "metadata": {},
   "outputs": [
    {
     "data": {
      "text/plain": [
       "905256"
      ]
     },
     "execution_count": 41,
     "metadata": {},
     "output_type": "execute_result"
    }
   ],
   "source": [
    "total_bad.count()"
   ]
  },
  {
   "cell_type": "code",
   "execution_count": 33,
   "metadata": {},
   "outputs": [
    {
     "data": {
      "text/plain": [
       "215076"
      ]
     },
     "execution_count": 33,
     "metadata": {},
     "output_type": "execute_result"
    }
   ],
   "source": [
    "#total_good.count()"
   ]
  },
  {
   "cell_type": "code",
   "execution_count": 42,
   "metadata": {},
   "outputs": [],
   "source": [
    "total_good = tg.select('CODIGO_CLIENTE').union(tgcard.select('CODIGO_CLIENTE')).distinct()"
   ]
  },
  {
   "cell_type": "code",
   "execution_count": 43,
   "metadata": {},
   "outputs": [
    {
     "data": {
      "text/plain": [
       "177366"
      ]
     },
     "execution_count": 43,
     "metadata": {},
     "output_type": "execute_result"
    }
   ],
   "source": [
    "total_good.count()"
   ]
  },
  {
   "cell_type": "code",
   "execution_count": 44,
   "metadata": {},
   "outputs": [],
   "source": [
    "og = total_good.subtract(total_bad)"
   ]
  },
  {
   "cell_type": "code",
   "execution_count": 45,
   "metadata": {},
   "outputs": [
    {
     "data": {
      "text/plain": [
       "126825"
      ]
     },
     "execution_count": 45,
     "metadata": {},
     "output_type": "execute_result"
    }
   ],
   "source": [
    "og.count()"
   ]
  },
  {
   "cell_type": "code",
   "execution_count": 46,
   "metadata": {},
   "outputs": [],
   "source": [
    "og = og.withColumn('Class', lit(1)).alias('og')"
   ]
  },
  {
   "cell_type": "code",
   "execution_count": 47,
   "metadata": {},
   "outputs": [],
   "source": [
    "total_bad = total_bad.withColumn('Class', lit(0)).alias('total_bad')"
   ]
  },
  {
   "cell_type": "code",
   "execution_count": 48,
   "metadata": {},
   "outputs": [],
   "source": [
    "classificadosTotal = og.union(total_bad)"
   ]
  },
  {
   "cell_type": "code",
   "execution_count": 49,
   "metadata": {},
   "outputs": [
    {
     "data": {
      "text/plain": [
       "1032081"
      ]
     },
     "execution_count": 49,
     "metadata": {},
     "output_type": "execute_result"
    }
   ],
   "source": [
    "classificadosTotal.count()"
   ]
  },
  {
   "cell_type": "code",
   "execution_count": 50,
   "metadata": {},
   "outputs": [],
   "source": [
    "classificadosTotal.write.csv('ClassificadosTotal.csv')"
   ]
  },
  {
   "cell_type": "code",
   "execution_count": 51,
   "metadata": {},
   "outputs": [],
   "source": [
    "ct = classificadosTotal.toPandas()"
   ]
  },
  {
   "cell_type": "code",
   "execution_count": 53,
   "metadata": {},
   "outputs": [
    {
     "data": {
      "text/html": [
       "<div>\n",
       "<style scoped>\n",
       "    .dataframe tbody tr th:only-of-type {\n",
       "        vertical-align: middle;\n",
       "    }\n",
       "\n",
       "    .dataframe tbody tr th {\n",
       "        vertical-align: top;\n",
       "    }\n",
       "\n",
       "    .dataframe thead th {\n",
       "        text-align: right;\n",
       "    }\n",
       "</style>\n",
       "<table border=\"1\" class=\"dataframe\">\n",
       "  <thead>\n",
       "    <tr style=\"text-align: right;\">\n",
       "      <th></th>\n",
       "      <th>CODIGO_CLIENTE</th>\n",
       "      <th>Class</th>\n",
       "    </tr>\n",
       "  </thead>\n",
       "  <tbody>\n",
       "    <tr>\n",
       "      <th>1032076</th>\n",
       "      <td>12859390</td>\n",
       "      <td>0</td>\n",
       "    </tr>\n",
       "    <tr>\n",
       "      <th>1032077</th>\n",
       "      <td>12863303</td>\n",
       "      <td>0</td>\n",
       "    </tr>\n",
       "    <tr>\n",
       "      <th>1032078</th>\n",
       "      <td>12865001</td>\n",
       "      <td>0</td>\n",
       "    </tr>\n",
       "    <tr>\n",
       "      <th>1032079</th>\n",
       "      <td>12871317</td>\n",
       "      <td>0</td>\n",
       "    </tr>\n",
       "    <tr>\n",
       "      <th>1032080</th>\n",
       "      <td>12883967</td>\n",
       "      <td>0</td>\n",
       "    </tr>\n",
       "  </tbody>\n",
       "</table>\n",
       "</div>"
      ],
      "text/plain": [
       "        CODIGO_CLIENTE  Class\n",
       "1032076       12859390      0\n",
       "1032077       12863303      0\n",
       "1032078       12865001      0\n",
       "1032079       12871317      0\n",
       "1032080       12883967      0"
      ]
     },
     "execution_count": 53,
     "metadata": {},
     "output_type": "execute_result"
    }
   ],
   "source": [
    "ct.tail()"
   ]
  },
  {
   "cell_type": "code",
   "execution_count": 54,
   "metadata": {},
   "outputs": [],
   "source": [
    "ct.to_csv('ct.csv', header = True)"
   ]
  },
  {
   "cell_type": "markdown",
   "metadata": {},
   "source": [
    "# TABELÃO"
   ]
  },
  {
   "cell_type": "code",
   "execution_count": 76,
   "metadata": {},
   "outputs": [],
   "source": [
    "cadastral_df=cadastral_df.alias('cadastral_df')\n",
    "classificadosTotal=classificadosTotal.alias('classificadosTotal')\n",
    "\n",
    "tabelao = cadastral_df.join(classificadosTotal, cadastral_df.CODIGO_CLIENTE == classificadosTotal.CODIGO_CLIENTE).select('cadastral_df.*','classificadosTotal.Class')"
   ]
  },
  {
   "cell_type": "code",
   "execution_count": 79,
   "metadata": {},
   "outputs": [],
   "source": [
    "tabelao_pd=tabelao.toPandas()"
   ]
  },
  {
   "cell_type": "code",
   "execution_count": 81,
   "metadata": {},
   "outputs": [
    {
     "data": {
      "text/html": [
       "<div>\n",
       "<style scoped>\n",
       "    .dataframe tbody tr th:only-of-type {\n",
       "        vertical-align: middle;\n",
       "    }\n",
       "\n",
       "    .dataframe tbody tr th {\n",
       "        vertical-align: top;\n",
       "    }\n",
       "\n",
       "    .dataframe thead th {\n",
       "        text-align: right;\n",
       "    }\n",
       "</style>\n",
       "<table border=\"1\" class=\"dataframe\">\n",
       "  <thead>\n",
       "    <tr style=\"text-align: right;\">\n",
       "      <th></th>\n",
       "      <th>CODIGO_CLIENTE</th>\n",
       "      <th>DATA_NASCIMENTO</th>\n",
       "      <th>SEXO</th>\n",
       "      <th>ESTADO_CIVIL</th>\n",
       "      <th>CIDADE</th>\n",
       "      <th>UF</th>\n",
       "      <th>BAIRRO</th>\n",
       "      <th>CEP</th>\n",
       "      <th>QTD_DEPENDENTES</th>\n",
       "      <th>DATA_CADASTRO</th>\n",
       "      <th>DATA_ADMISSAO</th>\n",
       "      <th>CATEGORIAL_PROFISSAO</th>\n",
       "      <th>TIPO_RESIDENCIA</th>\n",
       "      <th>RENDA_TITULAR</th>\n",
       "      <th>RENDA_CJ</th>\n",
       "      <th>OUTRAS_RENDAS</th>\n",
       "      <th>QTD_CARTOES_ADICIONAIS</th>\n",
       "      <th>FLAG_CONTA_BANCO</th>\n",
       "      <th>VALOR_HISTORICO_COMPRAS</th>\n",
       "      <th>Class</th>\n",
       "    </tr>\n",
       "  </thead>\n",
       "  <tbody>\n",
       "    <tr>\n",
       "      <th>1032076</th>\n",
       "      <td>9971734</td>\n",
       "      <td>1983/06/28 00:00:00.000000000</td>\n",
       "      <td>F</td>\n",
       "      <td>SO</td>\n",
       "      <td>TUPANCIRETA</td>\n",
       "      <td>RS</td>\n",
       "      <td>PEDREIRA I</td>\n",
       "      <td>98170000</td>\n",
       "      <td>1</td>\n",
       "      <td>2012/02/13 00:00:00.000000000</td>\n",
       "      <td>2007/02/01 00:00:00.000000000</td>\n",
       "      <td>ASSALARIADO</td>\n",
       "      <td>PR</td>\n",
       "      <td>3000</td>\n",
       "      <td></td>\n",
       "      <td></td>\n",
       "      <td>0</td>\n",
       "      <td></td>\n",
       "      <td>11843.08</td>\n",
       "      <td>0</td>\n",
       "    </tr>\n",
       "    <tr>\n",
       "      <th>1032077</th>\n",
       "      <td>9980270</td>\n",
       "      <td>1986/07/14 00:00:00.000000000</td>\n",
       "      <td>M</td>\n",
       "      <td>SO</td>\n",
       "      <td>HORIZONTINA</td>\n",
       "      <td>RS</td>\n",
       "      <td>CENTRO</td>\n",
       "      <td>98920000</td>\n",
       "      <td>0</td>\n",
       "      <td>2012/02/14 00:00:00.000000000</td>\n",
       "      <td>2011/08/01 00:00:00.000000000</td>\n",
       "      <td>ASSALARIADO</td>\n",
       "      <td>AL</td>\n",
       "      <td>1010,16</td>\n",
       "      <td></td>\n",
       "      <td></td>\n",
       "      <td>0</td>\n",
       "      <td></td>\n",
       "      <td>2901.25</td>\n",
       "      <td>0</td>\n",
       "    </tr>\n",
       "    <tr>\n",
       "      <th>1032078</th>\n",
       "      <td>99854</td>\n",
       "      <td>1975/07/19 00:00:00.000000000</td>\n",
       "      <td>F</td>\n",
       "      <td>CO</td>\n",
       "      <td>SANTO ANGELO</td>\n",
       "      <td>RS</td>\n",
       "      <td>MARIO PILAU</td>\n",
       "      <td>98807050</td>\n",
       "      <td>0</td>\n",
       "      <td>1998/12/24 00:00:00.000000000</td>\n",
       "      <td>1997/12/01 00:00:00.000000000</td>\n",
       "      <td>ASSALARIADO</td>\n",
       "      <td>PR</td>\n",
       "      <td>644</td>\n",
       "      <td></td>\n",
       "      <td></td>\n",
       "      <td>0</td>\n",
       "      <td></td>\n",
       "      <td>2402.35</td>\n",
       "      <td>0</td>\n",
       "    </tr>\n",
       "    <tr>\n",
       "      <th>1032079</th>\n",
       "      <td>998598</td>\n",
       "      <td>1970/09/17 00:00:00.000000000</td>\n",
       "      <td>F</td>\n",
       "      <td>SO</td>\n",
       "      <td>MONTENEGRO</td>\n",
       "      <td>RS</td>\n",
       "      <td>SANTA RITA</td>\n",
       "      <td>95780000</td>\n",
       "      <td>1</td>\n",
       "      <td>2003/09/04 00:00:00.000000000</td>\n",
       "      <td>2011/02/17 00:00:00.000000000</td>\n",
       "      <td>ASSALARIADO</td>\n",
       "      <td>PR</td>\n",
       "      <td>1121</td>\n",
       "      <td></td>\n",
       "      <td></td>\n",
       "      <td>0</td>\n",
       "      <td></td>\n",
       "      <td>5553.46</td>\n",
       "      <td>0</td>\n",
       "    </tr>\n",
       "    <tr>\n",
       "      <th>1032080</th>\n",
       "      <td>999507</td>\n",
       "      <td>1964/03/19 00:00:00.000000000</td>\n",
       "      <td>M</td>\n",
       "      <td>SO</td>\n",
       "      <td>SANTA MARIA</td>\n",
       "      <td>RS</td>\n",
       "      <td>PRESIDENTE JOAO GOULART</td>\n",
       "      <td>97090320</td>\n",
       "      <td>0</td>\n",
       "      <td>2003/09/06 00:00:00.000000000</td>\n",
       "      <td>1998/05/02 00:00:00.000000000</td>\n",
       "      <td>APOSENTADO</td>\n",
       "      <td>PR</td>\n",
       "      <td>2738</td>\n",
       "      <td></td>\n",
       "      <td></td>\n",
       "      <td>0</td>\n",
       "      <td>S</td>\n",
       "      <td>103577.96</td>\n",
       "      <td>0</td>\n",
       "    </tr>\n",
       "  </tbody>\n",
       "</table>\n",
       "</div>"
      ],
      "text/plain": [
       "        CODIGO_CLIENTE                DATA_NASCIMENTO SEXO ESTADO_CIVIL  \\\n",
       "1032076        9971734  1983/06/28 00:00:00.000000000    F           SO   \n",
       "1032077        9980270  1986/07/14 00:00:00.000000000    M           SO   \n",
       "1032078          99854  1975/07/19 00:00:00.000000000    F           CO   \n",
       "1032079         998598  1970/09/17 00:00:00.000000000    F           SO   \n",
       "1032080         999507  1964/03/19 00:00:00.000000000    M           SO   \n",
       "\n",
       "               CIDADE  UF                   BAIRRO       CEP QTD_DEPENDENTES  \\\n",
       "1032076   TUPANCIRETA  RS               PEDREIRA I  98170000               1   \n",
       "1032077   HORIZONTINA  RS                   CENTRO  98920000               0   \n",
       "1032078  SANTO ANGELO  RS              MARIO PILAU  98807050               0   \n",
       "1032079    MONTENEGRO  RS               SANTA RITA  95780000               1   \n",
       "1032080   SANTA MARIA  RS  PRESIDENTE JOAO GOULART  97090320               0   \n",
       "\n",
       "                         DATA_CADASTRO                  DATA_ADMISSAO  \\\n",
       "1032076  2012/02/13 00:00:00.000000000  2007/02/01 00:00:00.000000000   \n",
       "1032077  2012/02/14 00:00:00.000000000  2011/08/01 00:00:00.000000000   \n",
       "1032078  1998/12/24 00:00:00.000000000  1997/12/01 00:00:00.000000000   \n",
       "1032079  2003/09/04 00:00:00.000000000  2011/02/17 00:00:00.000000000   \n",
       "1032080  2003/09/06 00:00:00.000000000  1998/05/02 00:00:00.000000000   \n",
       "\n",
       "        CATEGORIAL_PROFISSAO TIPO_RESIDENCIA RENDA_TITULAR RENDA_CJ  \\\n",
       "1032076          ASSALARIADO              PR          3000            \n",
       "1032077          ASSALARIADO              AL       1010,16            \n",
       "1032078          ASSALARIADO              PR           644            \n",
       "1032079          ASSALARIADO              PR          1121            \n",
       "1032080           APOSENTADO              PR          2738            \n",
       "\n",
       "        OUTRAS_RENDAS QTD_CARTOES_ADICIONAIS FLAG_CONTA_BANCO  \\\n",
       "1032076                                    0                    \n",
       "1032077                                    0                    \n",
       "1032078                                    0                    \n",
       "1032079                                    0                    \n",
       "1032080                                    0                S   \n",
       "\n",
       "        VALOR_HISTORICO_COMPRAS  Class  \n",
       "1032076                11843.08      0  \n",
       "1032077                 2901.25      0  \n",
       "1032078                 2402.35      0  \n",
       "1032079                 5553.46      0  \n",
       "1032080               103577.96      0  "
      ]
     },
     "execution_count": 81,
     "metadata": {},
     "output_type": "execute_result"
    }
   ],
   "source": [
    "tabelao_pd.tail()"
   ]
  },
  {
   "cell_type": "code",
   "execution_count": 85,
   "metadata": {},
   "outputs": [
    {
     "data": {
      "text/html": [
       "<div>\n",
       "<style scoped>\n",
       "    .dataframe tbody tr th:only-of-type {\n",
       "        vertical-align: middle;\n",
       "    }\n",
       "\n",
       "    .dataframe tbody tr th {\n",
       "        vertical-align: top;\n",
       "    }\n",
       "\n",
       "    .dataframe thead th {\n",
       "        text-align: right;\n",
       "    }\n",
       "</style>\n",
       "<table border=\"1\" class=\"dataframe\">\n",
       "  <thead>\n",
       "    <tr style=\"text-align: right;\">\n",
       "      <th></th>\n",
       "      <th>CODIGO_CLIENTE</th>\n",
       "      <th>DATA_NASCIMENTO</th>\n",
       "      <th>SEXO</th>\n",
       "      <th>ESTADO_CIVIL</th>\n",
       "      <th>CIDADE</th>\n",
       "      <th>UF</th>\n",
       "      <th>BAIRRO</th>\n",
       "      <th>CEP</th>\n",
       "      <th>QTD_DEPENDENTES</th>\n",
       "      <th>DATA_CADASTRO</th>\n",
       "      <th>DATA_ADMISSAO</th>\n",
       "      <th>CATEGORIAL_PROFISSAO</th>\n",
       "      <th>TIPO_RESIDENCIA</th>\n",
       "      <th>RENDA_TITULAR</th>\n",
       "      <th>RENDA_CJ</th>\n",
       "      <th>OUTRAS_RENDAS</th>\n",
       "      <th>QTD_CARTOES_ADICIONAIS</th>\n",
       "      <th>FLAG_CONTA_BANCO</th>\n",
       "      <th>VALOR_HISTORICO_COMPRAS</th>\n",
       "      <th>Class</th>\n",
       "    </tr>\n",
       "  </thead>\n",
       "  <tbody>\n",
       "    <tr>\n",
       "      <th>1028</th>\n",
       "      <td>11661811</td>\n",
       "      <td>1977/08/08 00:00:00.000000000</td>\n",
       "      <td>F</td>\n",
       "      <td>CA</td>\n",
       "      <td>ITACURUBI</td>\n",
       "      <td>RS</td>\n",
       "      <td>INTERIOR</td>\n",
       "      <td>97685000</td>\n",
       "      <td>1</td>\n",
       "      <td>2014/03/14 00:00:00.000000000</td>\n",
       "      <td></td>\n",
       "      <td>AUT+NOMO</td>\n",
       "      <td>PR</td>\n",
       "      <td>500</td>\n",
       "      <td></td>\n",
       "      <td></td>\n",
       "      <td>0</td>\n",
       "      <td></td>\n",
       "      <td>5646.49</td>\n",
       "      <td>1</td>\n",
       "    </tr>\n",
       "  </tbody>\n",
       "</table>\n",
       "</div>"
      ],
      "text/plain": [
       "     CODIGO_CLIENTE                DATA_NASCIMENTO SEXO ESTADO_CIVIL  \\\n",
       "1028       11661811  1977/08/08 00:00:00.000000000    F           CA   \n",
       "\n",
       "         CIDADE  UF    BAIRRO       CEP QTD_DEPENDENTES  \\\n",
       "1028  ITACURUBI  RS  INTERIOR  97685000               1   \n",
       "\n",
       "                      DATA_CADASTRO DATA_ADMISSAO CATEGORIAL_PROFISSAO  \\\n",
       "1028  2014/03/14 00:00:00.000000000                           AUT+NOMO   \n",
       "\n",
       "     TIPO_RESIDENCIA RENDA_TITULAR RENDA_CJ OUTRAS_RENDAS  \\\n",
       "1028              PR           500                          \n",
       "\n",
       "     QTD_CARTOES_ADICIONAIS FLAG_CONTA_BANCO VALOR_HISTORICO_COMPRAS  Class  \n",
       "1028                      0                                  5646.49      1  "
      ]
     },
     "execution_count": 85,
     "metadata": {},
     "output_type": "execute_result"
    }
   ],
   "source": [
    "tabelao_pd.loc[tabelao_pd.CODIGO_CLIENTE == '11661811']"
   ]
  },
  {
   "cell_type": "code",
   "execution_count": 86,
   "metadata": {},
   "outputs": [],
   "source": [
    "tabelao_pd.to_csv('tabelao.csv', header=True)"
   ]
  },
  {
   "cell_type": "code",
   "execution_count": 88,
   "metadata": {},
   "outputs": [
    {
     "data": {
      "text/plain": [
       "126825"
      ]
     },
     "execution_count": 88,
     "metadata": {},
     "output_type": "execute_result"
    }
   ],
   "source": [
    "len(tabelao_pd.loc[tabelao_pd.Class == 1])"
   ]
  },
  {
   "cell_type": "code",
   "execution_count": 93,
   "metadata": {},
   "outputs": [
    {
     "data": {
      "text/plain": [
       "str"
      ]
     },
     "execution_count": 93,
     "metadata": {},
     "output_type": "execute_result"
    }
   ],
   "source": [
    "type(tabelao_pd.QTD_DEPENDENTES[0])"
   ]
  },
  {
   "cell_type": "code",
   "execution_count": 96,
   "metadata": {},
   "outputs": [
    {
     "ename": "ValueError",
     "evalue": "invalid literal for int() with base 10: '1899,43'",
     "output_type": "error",
     "traceback": [
      "\u001b[0;31m---------------------------------------------------------------------------\u001b[0m",
      "\u001b[0;31mValueError\u001b[0m                                Traceback (most recent call last)",
      "\u001b[0;32m<ipython-input-96-90953b666688>\u001b[0m in \u001b[0;36m<module>\u001b[0;34m\u001b[0m\n\u001b[0;32m----> 1\u001b[0;31m \u001b[0mtabelao_pd\u001b[0m\u001b[0;34m.\u001b[0m\u001b[0mRENDA_TITULAR\u001b[0m\u001b[0;34m.\u001b[0m\u001b[0mastype\u001b[0m\u001b[0;34m(\u001b[0m\u001b[0;34m'int32'\u001b[0m\u001b[0;34m)\u001b[0m\u001b[0;34m\u001b[0m\u001b[0;34m\u001b[0m\u001b[0m\n\u001b[0m",
      "\u001b[0;32m~/anaconda3/lib/python3.6/site-packages/pandas/util/_decorators.py\u001b[0m in \u001b[0;36mwrapper\u001b[0;34m(*args, **kwargs)\u001b[0m\n\u001b[1;32m    176\u001b[0m                 \u001b[0;32melse\u001b[0m\u001b[0;34m:\u001b[0m\u001b[0;34m\u001b[0m\u001b[0;34m\u001b[0m\u001b[0m\n\u001b[1;32m    177\u001b[0m                     \u001b[0mkwargs\u001b[0m\u001b[0;34m[\u001b[0m\u001b[0mnew_arg_name\u001b[0m\u001b[0;34m]\u001b[0m \u001b[0;34m=\u001b[0m \u001b[0mnew_arg_value\u001b[0m\u001b[0;34m\u001b[0m\u001b[0;34m\u001b[0m\u001b[0m\n\u001b[0;32m--> 178\u001b[0;31m             \u001b[0;32mreturn\u001b[0m \u001b[0mfunc\u001b[0m\u001b[0;34m(\u001b[0m\u001b[0;34m*\u001b[0m\u001b[0margs\u001b[0m\u001b[0;34m,\u001b[0m \u001b[0;34m**\u001b[0m\u001b[0mkwargs\u001b[0m\u001b[0;34m)\u001b[0m\u001b[0;34m\u001b[0m\u001b[0;34m\u001b[0m\u001b[0m\n\u001b[0m\u001b[1;32m    179\u001b[0m         \u001b[0;32mreturn\u001b[0m \u001b[0mwrapper\u001b[0m\u001b[0;34m\u001b[0m\u001b[0;34m\u001b[0m\u001b[0m\n\u001b[1;32m    180\u001b[0m     \u001b[0;32mreturn\u001b[0m \u001b[0m_deprecate_kwarg\u001b[0m\u001b[0;34m\u001b[0m\u001b[0;34m\u001b[0m\u001b[0m\n",
      "\u001b[0;32m~/anaconda3/lib/python3.6/site-packages/pandas/core/generic.py\u001b[0m in \u001b[0;36mastype\u001b[0;34m(self, dtype, copy, errors, **kwargs)\u001b[0m\n\u001b[1;32m   4999\u001b[0m             \u001b[0;31m# else, only a single dtype is given\u001b[0m\u001b[0;34m\u001b[0m\u001b[0;34m\u001b[0m\u001b[0;34m\u001b[0m\u001b[0m\n\u001b[1;32m   5000\u001b[0m             new_data = self._data.astype(dtype=dtype, copy=copy, errors=errors,\n\u001b[0;32m-> 5001\u001b[0;31m                                          **kwargs)\n\u001b[0m\u001b[1;32m   5002\u001b[0m             \u001b[0;32mreturn\u001b[0m \u001b[0mself\u001b[0m\u001b[0;34m.\u001b[0m\u001b[0m_constructor\u001b[0m\u001b[0;34m(\u001b[0m\u001b[0mnew_data\u001b[0m\u001b[0;34m)\u001b[0m\u001b[0;34m.\u001b[0m\u001b[0m__finalize__\u001b[0m\u001b[0;34m(\u001b[0m\u001b[0mself\u001b[0m\u001b[0;34m)\u001b[0m\u001b[0;34m\u001b[0m\u001b[0;34m\u001b[0m\u001b[0m\n\u001b[1;32m   5003\u001b[0m \u001b[0;34m\u001b[0m\u001b[0m\n",
      "\u001b[0;32m~/anaconda3/lib/python3.6/site-packages/pandas/core/internals.py\u001b[0m in \u001b[0;36mastype\u001b[0;34m(self, dtype, **kwargs)\u001b[0m\n\u001b[1;32m   3712\u001b[0m \u001b[0;34m\u001b[0m\u001b[0m\n\u001b[1;32m   3713\u001b[0m     \u001b[0;32mdef\u001b[0m \u001b[0mastype\u001b[0m\u001b[0;34m(\u001b[0m\u001b[0mself\u001b[0m\u001b[0;34m,\u001b[0m \u001b[0mdtype\u001b[0m\u001b[0;34m,\u001b[0m \u001b[0;34m**\u001b[0m\u001b[0mkwargs\u001b[0m\u001b[0;34m)\u001b[0m\u001b[0;34m:\u001b[0m\u001b[0;34m\u001b[0m\u001b[0;34m\u001b[0m\u001b[0m\n\u001b[0;32m-> 3714\u001b[0;31m         \u001b[0;32mreturn\u001b[0m \u001b[0mself\u001b[0m\u001b[0;34m.\u001b[0m\u001b[0mapply\u001b[0m\u001b[0;34m(\u001b[0m\u001b[0;34m'astype'\u001b[0m\u001b[0;34m,\u001b[0m \u001b[0mdtype\u001b[0m\u001b[0;34m=\u001b[0m\u001b[0mdtype\u001b[0m\u001b[0;34m,\u001b[0m \u001b[0;34m**\u001b[0m\u001b[0mkwargs\u001b[0m\u001b[0;34m)\u001b[0m\u001b[0;34m\u001b[0m\u001b[0;34m\u001b[0m\u001b[0m\n\u001b[0m\u001b[1;32m   3715\u001b[0m \u001b[0;34m\u001b[0m\u001b[0m\n\u001b[1;32m   3716\u001b[0m     \u001b[0;32mdef\u001b[0m \u001b[0mconvert\u001b[0m\u001b[0;34m(\u001b[0m\u001b[0mself\u001b[0m\u001b[0;34m,\u001b[0m \u001b[0;34m**\u001b[0m\u001b[0mkwargs\u001b[0m\u001b[0;34m)\u001b[0m\u001b[0;34m:\u001b[0m\u001b[0;34m\u001b[0m\u001b[0;34m\u001b[0m\u001b[0m\n",
      "\u001b[0;32m~/anaconda3/lib/python3.6/site-packages/pandas/core/internals.py\u001b[0m in \u001b[0;36mapply\u001b[0;34m(self, f, axes, filter, do_integrity_check, consolidate, **kwargs)\u001b[0m\n\u001b[1;32m   3579\u001b[0m \u001b[0;34m\u001b[0m\u001b[0m\n\u001b[1;32m   3580\u001b[0m             \u001b[0mkwargs\u001b[0m\u001b[0;34m[\u001b[0m\u001b[0;34m'mgr'\u001b[0m\u001b[0;34m]\u001b[0m \u001b[0;34m=\u001b[0m \u001b[0mself\u001b[0m\u001b[0;34m\u001b[0m\u001b[0;34m\u001b[0m\u001b[0m\n\u001b[0;32m-> 3581\u001b[0;31m             \u001b[0mapplied\u001b[0m \u001b[0;34m=\u001b[0m \u001b[0mgetattr\u001b[0m\u001b[0;34m(\u001b[0m\u001b[0mb\u001b[0m\u001b[0;34m,\u001b[0m \u001b[0mf\u001b[0m\u001b[0;34m)\u001b[0m\u001b[0;34m(\u001b[0m\u001b[0;34m**\u001b[0m\u001b[0mkwargs\u001b[0m\u001b[0;34m)\u001b[0m\u001b[0;34m\u001b[0m\u001b[0;34m\u001b[0m\u001b[0m\n\u001b[0m\u001b[1;32m   3582\u001b[0m             \u001b[0mresult_blocks\u001b[0m \u001b[0;34m=\u001b[0m \u001b[0m_extend_blocks\u001b[0m\u001b[0;34m(\u001b[0m\u001b[0mapplied\u001b[0m\u001b[0;34m,\u001b[0m \u001b[0mresult_blocks\u001b[0m\u001b[0;34m)\u001b[0m\u001b[0;34m\u001b[0m\u001b[0;34m\u001b[0m\u001b[0m\n\u001b[1;32m   3583\u001b[0m \u001b[0;34m\u001b[0m\u001b[0m\n",
      "\u001b[0;32m~/anaconda3/lib/python3.6/site-packages/pandas/core/internals.py\u001b[0m in \u001b[0;36mastype\u001b[0;34m(self, dtype, copy, errors, values, **kwargs)\u001b[0m\n\u001b[1;32m    573\u001b[0m     \u001b[0;32mdef\u001b[0m \u001b[0mastype\u001b[0m\u001b[0;34m(\u001b[0m\u001b[0mself\u001b[0m\u001b[0;34m,\u001b[0m \u001b[0mdtype\u001b[0m\u001b[0;34m,\u001b[0m \u001b[0mcopy\u001b[0m\u001b[0;34m=\u001b[0m\u001b[0;32mFalse\u001b[0m\u001b[0;34m,\u001b[0m \u001b[0merrors\u001b[0m\u001b[0;34m=\u001b[0m\u001b[0;34m'raise'\u001b[0m\u001b[0;34m,\u001b[0m \u001b[0mvalues\u001b[0m\u001b[0;34m=\u001b[0m\u001b[0;32mNone\u001b[0m\u001b[0;34m,\u001b[0m \u001b[0;34m**\u001b[0m\u001b[0mkwargs\u001b[0m\u001b[0;34m)\u001b[0m\u001b[0;34m:\u001b[0m\u001b[0;34m\u001b[0m\u001b[0;34m\u001b[0m\u001b[0m\n\u001b[1;32m    574\u001b[0m         return self._astype(dtype, copy=copy, errors=errors, values=values,\n\u001b[0;32m--> 575\u001b[0;31m                             **kwargs)\n\u001b[0m\u001b[1;32m    576\u001b[0m \u001b[0;34m\u001b[0m\u001b[0m\n\u001b[1;32m    577\u001b[0m     def _astype(self, dtype, copy=False, errors='raise', values=None,\n",
      "\u001b[0;32m~/anaconda3/lib/python3.6/site-packages/pandas/core/internals.py\u001b[0m in \u001b[0;36m_astype\u001b[0;34m(self, dtype, copy, errors, values, klass, mgr, **kwargs)\u001b[0m\n\u001b[1;32m    662\u001b[0m \u001b[0;34m\u001b[0m\u001b[0m\n\u001b[1;32m    663\u001b[0m                 \u001b[0;31m# _astype_nansafe works fine with 1-d only\u001b[0m\u001b[0;34m\u001b[0m\u001b[0;34m\u001b[0m\u001b[0;34m\u001b[0m\u001b[0m\n\u001b[0;32m--> 664\u001b[0;31m                 \u001b[0mvalues\u001b[0m \u001b[0;34m=\u001b[0m \u001b[0mastype_nansafe\u001b[0m\u001b[0;34m(\u001b[0m\u001b[0mvalues\u001b[0m\u001b[0;34m.\u001b[0m\u001b[0mravel\u001b[0m\u001b[0;34m(\u001b[0m\u001b[0;34m)\u001b[0m\u001b[0;34m,\u001b[0m \u001b[0mdtype\u001b[0m\u001b[0;34m,\u001b[0m \u001b[0mcopy\u001b[0m\u001b[0;34m=\u001b[0m\u001b[0;32mTrue\u001b[0m\u001b[0;34m)\u001b[0m\u001b[0;34m\u001b[0m\u001b[0;34m\u001b[0m\u001b[0m\n\u001b[0m\u001b[1;32m    665\u001b[0m                 \u001b[0mvalues\u001b[0m \u001b[0;34m=\u001b[0m \u001b[0mvalues\u001b[0m\u001b[0;34m.\u001b[0m\u001b[0mreshape\u001b[0m\u001b[0;34m(\u001b[0m\u001b[0mself\u001b[0m\u001b[0;34m.\u001b[0m\u001b[0mshape\u001b[0m\u001b[0;34m)\u001b[0m\u001b[0;34m\u001b[0m\u001b[0;34m\u001b[0m\u001b[0m\n\u001b[1;32m    666\u001b[0m \u001b[0;34m\u001b[0m\u001b[0m\n",
      "\u001b[0;32m~/anaconda3/lib/python3.6/site-packages/pandas/core/dtypes/cast.py\u001b[0m in \u001b[0;36mastype_nansafe\u001b[0;34m(arr, dtype, copy)\u001b[0m\n\u001b[1;32m    707\u001b[0m         \u001b[0;31m# work around NumPy brokenness, #1987\u001b[0m\u001b[0;34m\u001b[0m\u001b[0;34m\u001b[0m\u001b[0;34m\u001b[0m\u001b[0m\n\u001b[1;32m    708\u001b[0m         \u001b[0;32mif\u001b[0m \u001b[0mnp\u001b[0m\u001b[0;34m.\u001b[0m\u001b[0missubdtype\u001b[0m\u001b[0;34m(\u001b[0m\u001b[0mdtype\u001b[0m\u001b[0;34m.\u001b[0m\u001b[0mtype\u001b[0m\u001b[0;34m,\u001b[0m \u001b[0mnp\u001b[0m\u001b[0;34m.\u001b[0m\u001b[0minteger\u001b[0m\u001b[0;34m)\u001b[0m\u001b[0;34m:\u001b[0m\u001b[0;34m\u001b[0m\u001b[0;34m\u001b[0m\u001b[0m\n\u001b[0;32m--> 709\u001b[0;31m             \u001b[0;32mreturn\u001b[0m \u001b[0mlib\u001b[0m\u001b[0;34m.\u001b[0m\u001b[0mastype_intsafe\u001b[0m\u001b[0;34m(\u001b[0m\u001b[0marr\u001b[0m\u001b[0;34m.\u001b[0m\u001b[0mravel\u001b[0m\u001b[0;34m(\u001b[0m\u001b[0;34m)\u001b[0m\u001b[0;34m,\u001b[0m \u001b[0mdtype\u001b[0m\u001b[0;34m)\u001b[0m\u001b[0;34m.\u001b[0m\u001b[0mreshape\u001b[0m\u001b[0;34m(\u001b[0m\u001b[0marr\u001b[0m\u001b[0;34m.\u001b[0m\u001b[0mshape\u001b[0m\u001b[0;34m)\u001b[0m\u001b[0;34m\u001b[0m\u001b[0;34m\u001b[0m\u001b[0m\n\u001b[0m\u001b[1;32m    710\u001b[0m \u001b[0;34m\u001b[0m\u001b[0m\n\u001b[1;32m    711\u001b[0m         \u001b[0;31m# if we have a datetime/timedelta array of objects\u001b[0m\u001b[0;34m\u001b[0m\u001b[0;34m\u001b[0m\u001b[0;34m\u001b[0m\u001b[0m\n",
      "\u001b[0;32mpandas/_libs/lib.pyx\u001b[0m in \u001b[0;36mpandas._libs.lib.astype_intsafe\u001b[0;34m()\u001b[0m\n",
      "\u001b[0;32mpandas/_libs/src/util.pxd\u001b[0m in \u001b[0;36mutil.set_value_at_unsafe\u001b[0;34m()\u001b[0m\n",
      "\u001b[0;31mValueError\u001b[0m: invalid literal for int() with base 10: '1899,43'"
     ]
    }
   ],
   "source": [
    "tabelao_pd.RENDA_TITULAR.astype('int32')"
   ]
  },
  {
   "cell_type": "code",
   "execution_count": null,
   "metadata": {},
   "outputs": [],
   "source": []
  }
 ],
 "metadata": {
  "kernelspec": {
   "display_name": "Python 3",
   "language": "python",
   "name": "python3"
  },
  "language_info": {
   "codemirror_mode": {
    "name": "ipython",
    "version": 3
   },
   "file_extension": ".py",
   "mimetype": "text/x-python",
   "name": "python",
   "nbconvert_exporter": "python",
   "pygments_lexer": "ipython3",
   "version": "3.6.7"
  }
 },
 "nbformat": 4,
 "nbformat_minor": 2
}
