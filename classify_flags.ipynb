{
 "cells": [
  {
   "cell_type": "code",
   "execution_count": null,
   "metadata": {},
   "outputs": [],
   "source": [
    "from pyspark.sql.types import *\n",
    "from pyspark.sql.functions import to_timestamp\n",
    "from pyspark.sql.functions import *\n",
    "import datetime\n",
    "from dateutil.relativedelta import *\n",
    "import pandas as pd\n",
    "import numpy as np"
   ]
  },
  {
   "cell_type": "code",
   "execution_count": null,
   "metadata": {},
   "outputs": [],
   "source": [
    "sc"
   ]
  },
  {
   "cell_type": "markdown",
   "metadata": {},
   "source": [
    "# Cadastro"
   ]
  },
  {
   "cell_type": "code",
   "execution_count": null,
   "metadata": {},
   "outputs": [],
   "source": [
    "cadastral = sc.textFile('CADASTRAL.txt')"
   ]
  },
  {
   "cell_type": "code",
   "execution_count": null,
   "metadata": {},
   "outputs": [],
   "source": [
    "header1 = cadastral.first()\n",
    "cadastral = cadastral.filter(lambda line: line != header1)"
   ]
  },
  {
   "cell_type": "code",
   "execution_count": null,
   "metadata": {},
   "outputs": [],
   "source": [
    "cadastral_df = cadastral.map(lambda k: k.split(\"\\t\")).toDF(header1.split(\"\\t\"))\n",
    "cadastral_df = cadastral_df.withColumn(\"DATA_CADASTRO\", to_timestamp(\"DATA_CADASTRO\", \"yyyy/MM/dd HH:mm:ss\"))\n",
    "cadastral_df.show(5)"
   ]
  },
  {
   "cell_type": "markdown",
   "metadata": {},
   "source": [
    "## Regra 1) Cadastrados a partir de 2017"
   ]
  },
  {
   "cell_type": "code",
   "execution_count": null,
   "metadata": {},
   "outputs": [],
   "source": [
    "cadastral_df = cadastral_df.where(cadastral_df[\"DATA_CADASTRO\"] >= \"2017-01-01 00:00:00\")\n"
   ]
  },
  {
   "cell_type": "markdown",
   "metadata": {},
   "source": [
    "## Regra 2) Cadastrados até dezembro de 2017"
   ]
  },
  {
   "cell_type": "code",
   "execution_count": null,
   "metadata": {},
   "outputs": [],
   "source": [
    "cadastral_df = cadastral_df.where(cadastral_df[\"DATA_CADASTRO\"] < \"2018-01-01 00:00:00\")\n"
   ]
  },
  {
   "cell_type": "markdown",
   "metadata": {},
   "source": [
    "## Cartão / Carnê (Linhas são reutilizadas para as duas bases)"
   ]
  },
  {
   "cell_type": "markdown",
   "metadata": {},
   "source": [
    "Todas as linhas de código abaixo podem ser reaproveitadas paras as bases CARNE.TXT e CARTAO.TXT"
   ]
  },
  {
   "cell_type": "code",
   "execution_count": null,
   "metadata": {},
   "outputs": [],
   "source": [
    "cartao = sc.textFile('CARNE.txt')"
   ]
  },
  {
   "cell_type": "code",
   "execution_count": null,
   "metadata": {},
   "outputs": [],
   "source": [
    "header3 = cartao.first()\n",
    "cartao = cartao.filter(lambda line: line != header3)"
   ]
  },
  {
   "cell_type": "code",
   "execution_count": null,
   "metadata": {},
   "outputs": [],
   "source": [
    "cartao_df = cartao.map(lambda k: k.split(\"\\t\")).toDF(header3.split(\"\\t\"))\n",
    "cartao_df = cartao_df.withColumn(\"DATA_VENCIMENTO\", to_timestamp(\"DATA_VENCIMENTO\", \"yyyy/MM/dd HH:mm:ss\"))\n",
    "cartao_df = cartao_df.withColumn(\"DATA_PAGAMENTO\", to_timestamp(\"DATA_PAGAMENTO\", \"yyyy/MM/dd HH:mm:ss\"))\n",
    "cartao_df.show(5)"
   ]
  },
  {
   "cell_type": "markdown",
   "metadata": {},
   "source": [
    "## Inner Join - Cadastro+Cartão"
   ]
  },
  {
   "cell_type": "code",
   "execution_count": null,
   "metadata": {},
   "outputs": [],
   "source": [
    "cadaux = cadastral_df.select('CODIGO_CLIENTE', 'DATA_CADASTRO')"
   ]
  },
  {
   "cell_type": "code",
   "execution_count": null,
   "metadata": {},
   "outputs": [],
   "source": [
    "tcad = cadaux.alias('tcad')\n",
    "tcart = cartao_df.alias('tcart')\n",
    "cad_cart = tcad.join(tcart, tcad.CODIGO_CLIENTE == tcart.CODIGO_CLIENTE)\n",
    "cad_cart.show(5)"
   ]
  },
  {
   "cell_type": "markdown",
   "metadata": {},
   "source": [
    "Verifica se existe uma forma de rodar em PySpark."
   ]
  },
  {
   "cell_type": "code",
   "execution_count": null,
   "metadata": {},
   "outputs": [],
   "source": [
    "cad_cart = cad_cart.toPandas()"
   ]
  },
  {
   "cell_type": "markdown",
   "metadata": {},
   "source": [
    "Adiciona 6 meses à data de cadastro para o limite de elegibilidade."
   ]
  },
  {
   "cell_type": "code",
   "execution_count": null,
   "metadata": {},
   "outputs": [],
   "source": [
    "cad_cart['DATA_LIMITE'] = cad_cart['DATA_CADASTRO'].apply(lambda x: x + relativedelta(months=+6))"
   ]
  },
  {
   "cell_type": "markdown",
   "metadata": {},
   "source": [
    "Cria o flag que indica se a data de vencimento do contrato é anterior ao limite."
   ]
  },
  {
   "cell_type": "code",
   "execution_count": null,
   "metadata": {},
   "outputs": [],
   "source": [
    "cad_cart['FLAG_LIMITE'] = (cad_cart['DATA_VENCIMENTO'] <= cad_cart['DATA_LIMITE']).astype(int)"
   ]
  },
  {
   "cell_type": "markdown",
   "metadata": {},
   "source": [
    "Cria o flag que indica se o pagamento foi atrasado ou não foi realizado."
   ]
  },
  {
   "cell_type": "code",
   "execution_count": null,
   "metadata": {},
   "outputs": [],
   "source": [
    "cad_cart['FLAG_ATRASO'] = ((cad_cart['DATA_PAGAMENTO'] > cad_cart['DATA_VENCIMENTO']) | (cad_cart['DATA_PAGAMENTO'].isnull())).astype(int)\n"
   ]
  },
  {
   "cell_type": "markdown",
   "metadata": {},
   "source": [
    "Filtra os pagamentos elegíveis."
   ]
  },
  {
   "cell_type": "code",
   "execution_count": null,
   "metadata": {},
   "outputs": [],
   "source": [
    "cad_cart = cad_cart[cad_cart.FLAG_LIMITE > 0]"
   ]
  },
  {
   "cell_type": "code",
   "execution_count": null,
   "metadata": {},
   "outputs": [],
   "source": [
    "len(cad_cart)"
   ]
  },
  {
   "cell_type": "code",
   "execution_count": null,
   "metadata": {},
   "outputs": [],
   "source": [
    "cad_cart.head()"
   ]
  },
  {
   "cell_type": "code",
   "execution_count": null,
   "metadata": {},
   "outputs": [],
   "source": [
    "cad_cart = cad_cart.iloc[:,1:]"
   ]
  },
  {
   "cell_type": "markdown",
   "metadata": {},
   "source": [
    "Para cada cliente, verifica-se se o mesmo realizou todos os pagamentos em dia."
   ]
  },
  {
   "cell_type": "code",
   "execution_count": null,
   "metadata": {},
   "outputs": [],
   "source": [
    "selection = cad_cart.groupby('CODIGO_CLIENTE').FLAG_ATRASO.max()\n",
    "selection[:10]"
   ]
  },
  {
   "cell_type": "markdown",
   "metadata": {},
   "source": [
    "Separação entre \"bons\" e \"maus\" pagadores"
   ]
  },
  {
   "cell_type": "code",
   "execution_count": null,
   "metadata": {},
   "outputs": [],
   "source": [
    "good = selection.loc[selection<1].index\n",
    "bad = selection.loc[selection>0].index"
   ]
  },
  {
   "cell_type": "code",
   "execution_count": null,
   "metadata": {},
   "outputs": [],
   "source": [
    "# Dataframe dos bons pagadores\n",
    "good_df = pd.DataFrame()\n",
    "good_df['CODIGO_CLIENTE'] = good\n",
    "good_df['CLASS'] = np.zeros(len(good)).astype(int)\n",
    "\n",
    "# Dataframe dos maus pagadores\n",
    "bad_df = pd.DataFrame()\n",
    "bad_df['CODIGO_CLIENTE'] = bad\n",
    "bad_df['CLASS'] = np.ones(len(bad)).astype(int)"
   ]
  },
  {
   "cell_type": "code",
   "execution_count": null,
   "metadata": {},
   "outputs": [],
   "source": [
    "good_df.head()"
   ]
  },
  {
   "cell_type": "code",
   "execution_count": null,
   "metadata": {},
   "outputs": [],
   "source": [
    "bad_df.head()"
   ]
  },
  {
   "cell_type": "markdown",
   "metadata": {},
   "source": [
    "União dos dois dataframes criados acima. <b>P.S: Lembrar de mudar o nome para \"classificados_carne\" ou \"classificados_cartao\", dependendo da base escolhida.</b>"
   ]
  },
  {
   "cell_type": "code",
   "execution_count": null,
   "metadata": {},
   "outputs": [],
   "source": [
    "classificados_carne = good_df.append(bad_df)"
   ]
  },
  {
   "cell_type": "markdown",
   "metadata": {},
   "source": [
    "# Junção dos classificados"
   ]
  },
  {
   "cell_type": "code",
   "execution_count": null,
   "metadata": {},
   "outputs": [],
   "source": [
    "classificados_cartao.head()"
   ]
  },
  {
   "cell_type": "code",
   "execution_count": null,
   "metadata": {},
   "outputs": [],
   "source": [
    "classificados_carne.head()"
   ]
  },
  {
   "cell_type": "code",
   "execution_count": null,
   "metadata": {},
   "outputs": [],
   "source": [
    "classificados = classificados_carne.append(classificados_cartao)"
   ]
  },
  {
   "cell_type": "code",
   "execution_count": null,
   "metadata": {},
   "outputs": [],
   "source": [
    "final = classificados.groupby(\"CODIGO_CLIENTE\").CLASS.max()"
   ]
  },
  {
   "cell_type": "code",
   "execution_count": null,
   "metadata": {},
   "outputs": [],
   "source": [
    "tabelao = pd.DataFrame()"
   ]
  },
  {
   "cell_type": "code",
   "execution_count": null,
   "metadata": {},
   "outputs": [],
   "source": [
    "tabelao['CODIGO_CLIENTE'] = final.index\n",
    "tabelao['CLASS'] = final.values"
   ]
  },
  {
   "cell_type": "code",
   "execution_count": null,
   "metadata": {},
   "outputs": [],
   "source": [
    "tabelao.groupby(\"CLASS\").size()"
   ]
  },
  {
   "cell_type": "code",
   "execution_count": null,
   "metadata": {},
   "outputs": [],
   "source": [
    "tabelao.to_csv('classified.csv',index=False)"
   ]
  },
  {
   "cell_type": "markdown",
   "metadata": {},
   "source": [
    "# Join: Cadastral / Classificados"
   ]
  },
  {
   "cell_type": "code",
   "execution_count": null,
   "metadata": {},
   "outputs": [],
   "source": [
    "class_rdd = sc.textFile('classified.csv')"
   ]
  },
  {
   "cell_type": "code",
   "execution_count": null,
   "metadata": {},
   "outputs": [],
   "source": [
    "header_class = class_rdd.first()\n",
    "class_rdd = class_rdd.filter(lambda line: line!=header_class)\n",
    "class_df = class_rdd.map(lambda k: k.split(\",\")).toDF(header_class.split(\",\"))"
   ]
  },
  {
   "cell_type": "code",
   "execution_count": null,
   "metadata": {},
   "outputs": [],
   "source": [
    "class_df.count()"
   ]
  },
  {
   "cell_type": "code",
   "execution_count": null,
   "metadata": {},
   "outputs": [],
   "source": [
    "tcad = cadastral_df.alias('tcad')\n",
    "tclass = class_df.alias('tclass')\n",
    "final_cadastral = tcad.join(tclass, tcad.CODIGO_CLIENTE == tclass.CODIGO_CLIENTE, 'inner')\n",
    "final_cadastral.show(5)"
   ]
  },
  {
   "cell_type": "markdown",
   "metadata": {},
   "source": [
    "# -------------------------------------------\n",
    "# Tabelão\n",
    "# -------------------------------------------"
   ]
  },
  {
   "cell_type": "code",
   "execution_count": null,
   "metadata": {},
   "outputs": [],
   "source": [
    "FINAL = final_cadastral.toPandas()"
   ]
  },
  {
   "cell_type": "code",
   "execution_count": null,
   "metadata": {},
   "outputs": [],
   "source": [
    "FINAL.to_csv('tabelao.csv',index=False)"
   ]
  }
 ],
 "metadata": {
  "kernelspec": {
   "display_name": "Python 3",
   "language": "python",
   "name": "python3"
  },
  "language_info": {
   "codemirror_mode": {
    "name": "ipython",
    "version": 3
   },
   "file_extension": ".py",
   "mimetype": "text/x-python",
   "name": "python",
   "nbconvert_exporter": "python",
   "pygments_lexer": "ipython3",
   "version": "3.6.7"
  }
 },
 "nbformat": 4,
 "nbformat_minor": 2
}
